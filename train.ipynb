{
 "cells": [
  {
   "cell_type": "code",
   "execution_count": 1,
   "metadata": {},
   "outputs": [],
   "source": [
    "from __future__ import print_function\n",
    "\n",
    "import torch\n",
    "import torch.nn as nn\n",
    "import torch.nn.functional as F\n",
    "import torch.optim as optim\n",
    "\n",
    "from PIL import Image\n",
    "import matplotlib.pyplot as plt\n",
    "from matplotlib import cm\n",
    "\n",
    "import torchvision\n",
    "import torchvision.transforms as transforms\n",
    "import torchvision.datasets as datasets\n",
    "import torchvision.models as models\n",
    "\n",
    "import argparse\n",
    "import os\n",
    "from tqdm import tqdm\n",
    "import time\n",
    "import math\n",
    "\n",
    "from net.network import AttentionNet, Encoder, Decoder, SelfAttention\n",
    "%load_ext autoreload\n",
    "%autoreload 2"
   ]
  },
  {
   "cell_type": "code",
   "execution_count": 2,
   "metadata": {},
   "outputs": [],
   "source": [
    "parser = argparse.ArgumentParser()\n",
    "# Basic options\n",
    "parser.add_argument('--dataset_dir', type=str, default='./datasets/style_set/val2014',\n",
    "                    help='Directory path to a batch of content images')\n",
    "# parser.add_argument('--dataset_dir', type=str, default='./datasets/style_set/val2014',\n",
    "#                     help='Directory path to a batch of style images')\n",
    "# parser.add_argument('--dataset_dir', type=str, default='./datasets/content_style_mix_set/val2014',\n",
    "#                     help='Directory path to a batch of mixed images')\n",
    "\n",
    "\n",
    "# training options\n",
    "parser.add_argument('--save_dir', default='./models/style_wct',\n",
    "                    help='Directory to save the model')\n",
    "parser.add_argument('--log_dir', default='./logs',\n",
    "                    help='Directory to save the log')\n",
    "parser.add_argument('--lr', type=float, default=1e-4)\n",
    "parser.add_argument('--lr_decay', type=float, default=5e-5)\n",
    "parser.add_argument('--max_iter', type=int, default=80000)\n",
    "parser.add_argument('--batch_size', type=int, default=8)\n",
    "parser.add_argument('--n_threads', type=int, default=2)\n",
    "parser.add_argument('--save_model_interval', type=int, default=100)\n",
    "parser.add_argument('--start_iter', type=float, default=0)\n",
    "parser.add_argument('--seperate', type=bool, default=False)\n",
    "args = parser.parse_args('')"
   ]
  },
  {
   "cell_type": "code",
   "execution_count": 3,
   "metadata": {},
   "outputs": [],
   "source": [
    "device = torch.device(\"cuda\" if torch.cuda.is_available() else \"cpu\")\n",
    "device\n",
    "\n",
    "_R_MEAN = 123.68\n",
    "_G_MEAN = 116.78\n",
    "_B_MEAN = 103.94"
   ]
  },
  {
   "cell_type": "code",
   "execution_count": 4,
   "metadata": {},
   "outputs": [],
   "source": [
    "# transforms.Normalize((0, 0, 0), (1/255.0, 1/255.0, 1/255.0))\n",
    "data_transforms = {\n",
    "    'train': transforms.Compose([\n",
    "        transforms.Resize(size=(512, 512)),\n",
    "        transforms.RandomCrop(256),\n",
    "        transforms.ToTensor(),\n",
    "        transforms.Normalize((_R_MEAN/255.0, _G_MEAN/255.0, _B_MEAN/255.0), (0.5, 0.5, 0.5))\n",
    "    ]),\n",
    "    'test': transforms.Compose([\n",
    "        transforms.Resize(size=(512, 512)),\n",
    "        transforms.CenterCrop(256),\n",
    "        transforms.ToTensor(),\n",
    "        transforms.Normalize((_R_MEAN/255.0, _G_MEAN/255.0, _B_MEAN/255.0), (0.5, 0.5, 0.5))\n",
    "    ]),\n",
    "}\n",
    "\n",
    "class FlatFolderDataset(torch.utils.data.Dataset):\n",
    "    def __init__(self, root, transform):\n",
    "        super(FlatFolderDataset, self).__init__()\n",
    "        self.root = root\n",
    "        self.paths = os.listdir(self.root)\n",
    "        self.transform = transform\n",
    "\n",
    "    def __getitem__(self, index):\n",
    "        path = self.paths[index]\n",
    "        img = Image.open(os.path.join(self.root, path)).convert('RGB')\n",
    "        img = self.transform(img)\n",
    "        return img\n",
    "\n",
    "    def __len__(self):\n",
    "        return len(self.paths)\n",
    "\n",
    "    def name(self):\n",
    "        return 'FlatFolderDataset'\n",
    "\n",
    "train_set = FlatFolderDataset(args.dataset_dir, data_transforms['train'])\n",
    "train_loader = torch.utils.data.DataLoader(\n",
    "    train_set, batch_size=args.batch_size,\n",
    "    shuffle=True, num_workers=args.n_threads)\n",
    "train_iter = iter(train_loader)"
   ]
  },
  {
   "cell_type": "code",
   "execution_count": 5,
   "metadata": {},
   "outputs": [
    {
     "name": "stderr",
     "output_type": "stream",
     "text": [
      "Clipping input data to the valid range for imshow with RGB data ([0..1] for floats or [0..255] for integers).\n"
     ]
    },
    {
     "name": "stdout",
     "output_type": "stream",
     "text": [
      "torch.Size([3, 256, 256])\n"
     ]
    },
    {
     "data": {
      "image/png": "[encoded data removed]",
      "text/plain": [
       "<Figure size 432x288 with 1 Axes>"
      ]
     },
     "metadata": {
      "needs_background": "light"
     },
     "output_type": "display_data"
    }
   ],
   "source": [
    "\n",
    "import matplotlib.pyplot as plt\n",
    "import numpy as np\n",
    "\n",
    "# functions to show an image\n",
    "\n",
    "\n",
    "def imshow(img):\n",
    "    npimg = img.numpy()\n",
    "    plt.imshow(np.transpose(npimg, (1, 2, 0)))\n",
    "\n",
    "\n",
    "# get some random training images\n",
    "dataiter = iter(train_loader)\n",
    "images = dataiter.next()\n",
    "print(images[0].size())\n",
    "# show images\n",
    "imshow(torchvision.utils.make_grid(images))\n"
   ]
  },
  {
   "cell_type": "code",
   "execution_count": 6,
   "metadata": {},
   "outputs": [],
   "source": [
    "def get_optimizer(model, seperate):\n",
    "    for param in model.encode.parameters():\n",
    "        param.requires_grad = False\n",
    "    if seperate == True:\n",
    "        optimizer = torch.optim.Adam([\n",
    "            {'params': model.self_attn_content.parameters()},\n",
    "            {'params': model.self_attn_style.parameters()},\n",
    "            {'params': model.content_decode.parameters()},\n",
    "            {'params': model.style_decode.parameters()},\n",
    "        ], lr=args.lr)\n",
    "    else:\n",
    "        optimizer = torch.optim.Adam([\n",
    "            {'params': model.decode.parameters()},\n",
    "            {'params': model.self_attn.parameters()},\n",
    "        ], lr=args.lr)\n",
    "    return optimizer\n",
    "\n",
    "if(args.start_iter > 0):\n",
    "    decoder = Decoder()\n",
    "    decoder.load_state_dict(torch.load(args.save_dir + '/decoder_iter_' + str(args.start_iter) + '.pth'))\n",
    "    attn = SelfAttention()\n",
    "    attn.load_state_dict(torch.load(args.save_dir + '/attention_kernel_iter_' + str(args.start_iter) + '.pth'))\n",
    "    \n",
    "    state_dict = decoder.state_dict()\n",
    "    for key in state_dict.keys():\n",
    "        state_dict[key] = state_dict[key].to(device)\n",
    "    state_dict = attn.state_dict()\n",
    "    for key in state_dict.keys():\n",
    "        state_dict[key] = state_dict[key].to(device)\n",
    "    \n",
    "    model = AttentionNet(seperate=args.seperate, attn=attn, decoder = decoder)\n",
    "    optimizer = get_optimizer(model, args.seperate)\n",
    "    optimizer.load_state_dict(torch.load(args.save_dir + '/optimizer_iter_' + str(args.start_iter) + '.pth'))\n",
    "    for state in optimizer.state.values():\n",
    "        for k, v in state.items():\n",
    "            if isinstance(v, torch.Tensor):\n",
    "                state[k] = v.cuda()\n",
    "else:\n",
    "    model = AttentionNet(seperate=args.seperate)\n",
    "    optimizer = get_optimizer(model, args.seperate)\n",
    "\n",
    "model.to(device)   \n",
    "loss_seq = {'total': [], 'construct': [], 'percept': [], 'tv': [], 'attn': []}"
   ]
  },
  {
   "cell_type": "code",
   "execution_count": 7,
   "metadata": {},
   "outputs": [],
   "source": [
    "def lastest_arverage_value(values, length=100):\n",
    "    if len(values) < length:\n",
    "        length = len(values)\n",
    "    return sum(values[-length:])/length\n",
    "\n",
    "def adjust_learning_rate(optimizer, iteration_count):\n",
    "    \"\"\"Imitating the original implementation\"\"\"\n",
    "    lr = args.lr / (1.0 + args.lr_decay * iteration_count)\n",
    "    for param_group in optimizer.param_groups:\n",
    "        param_group['lr'] = lr"
   ]
  },
  {
   "cell_type": "code",
   "execution_count": 8,
   "metadata": {},
   "outputs": [
    {
     "name": "stderr",
     "output_type": "stream",
     "text": [
      "  0%|          | 99/80000 [01:11<15:29:25,  1.43it/s]"
     ]
    },
    {
     "name": "stdout",
     "output_type": "stream",
     "text": [
      "Tue Jul  7 02:32:22 2020: Iteration: [100/80000]\tRecon Loss: 4775.8323\tPercept Loss: 169360.3919\tTV Loss: 5.4580\tAttn Loss: 43836147.8000\tTotal: 263234060.8000\n"
     ]
    },
    {
     "name": "stderr",
     "output_type": "stream",
     "text": [
      "  0%|          | 199/80000 [02:21<15:27:20,  1.43it/s]"
     ]
    },
    {
     "name": "stdout",
     "output_type": "stream",
     "text": [
      "Tue Jul  7 02:33:32 2020: Iteration: [200/80000]\tRecon Loss: 4359.8766\tPercept Loss: 160249.7466\tTV Loss: 4.1397\tAttn Loss: 29778395.1600\tTotal: 178874260.6400\n"
     ]
    },
    {
     "name": "stderr",
     "output_type": "stream",
     "text": [
      "  0%|          | 299/80000 [03:31<15:30:59,  1.43it/s]"
     ]
    },
    {
     "name": "stdout",
     "output_type": "stream",
     "text": [
      "Tue Jul  7 02:34:42 2020: Iteration: [300/80000]\tRecon Loss: 4293.6469\tPercept Loss: 150146.2090\tTV Loss: 4.0939\tAttn Loss: 16837639.8500\tTotal: 101218962.7600\n"
     ]
    },
    {
     "name": "stderr",
     "output_type": "stream",
     "text": [
      "  0%|          | 399/80000 [04:41<15:28:51,  1.43it/s]"
     ]
    },
    {
     "name": "stdout",
     "output_type": "stream",
     "text": [
      "Tue Jul  7 02:35:52 2020: Iteration: [400/80000]\tRecon Loss: 3375.7878\tPercept Loss: 135825.6118\tTV Loss: 4.8049\tAttn Loss: 5411498.9988\tTotal: 32638625.3550\n"
     ]
    },
    {
     "name": "stderr",
     "output_type": "stream",
     "text": [
      "  1%|          | 499/80000 [05:52<15:32:20,  1.42it/s]"
     ]
    },
    {
     "name": "stdout",
     "output_type": "stream",
     "text": [
      "Tue Jul  7 02:37:02 2020: Iteration: [500/80000]\tRecon Loss: 2426.1146\tPercept Loss: 107578.5580\tTV Loss: 6.5813\tAttn Loss: 117168.6235\tTotal: 834917.2578\n"
     ]
    },
    {
     "name": "stderr",
     "output_type": "stream",
     "text": [
      "  1%|          | 599/80000 [07:02<15:32:47,  1.42it/s]"
     ]
    },
    {
     "name": "stdout",
     "output_type": "stream",
     "text": [
      "Tue Jul  7 02:38:13 2020: Iteration: [600/80000]\tRecon Loss: 2055.4008\tPercept Loss: 95483.9527\tTV Loss: 7.3922\tAttn Loss: 43243.0115\tTotal: 375569.9531\n"
     ]
    },
    {
     "name": "stderr",
     "output_type": "stream",
     "text": [
      "  1%|          | 699/80000 [08:12<15:27:26,  1.43it/s]"
     ]
    },
    {
     "name": "stdout",
     "output_type": "stream",
     "text": [
      "Tue Jul  7 02:39:23 2020: Iteration: [700/80000]\tRecon Loss: 1847.8357\tPercept Loss: 86544.0360\tTV Loss: 7.7761\tAttn Loss: 36751.8945\tTotal: 325611.5219\n"
     ]
    },
    {
     "name": "stderr",
     "output_type": "stream",
     "text": [
      "  1%|          | 799/80000 [09:23<15:30:18,  1.42it/s]"
     ]
    },
    {
     "name": "stdout",
     "output_type": "stream",
     "text": [
      "Tue Jul  7 02:40:33 2020: Iteration: [800/80000]\tRecon Loss: 1597.5969\tPercept Loss: 81292.6425\tTV Loss: 8.1048\tAttn Loss: 38547.8934\tTotal: 328637.0187\n"
     ]
    },
    {
     "name": "stderr",
     "output_type": "stream",
     "text": [
      "  1%|          | 899/80000 [10:33<15:38:26,  1.40it/s]"
     ]
    },
    {
     "name": "stdout",
     "output_type": "stream",
     "text": [
      "Tue Jul  7 02:41:44 2020: Iteration: [900/80000]\tRecon Loss: 1478.5423\tPercept Loss: 80026.2646\tTV Loss: 8.3540\tAttn Loss: 33387.3088\tTotal: 295219.0780\n"
     ]
    },
    {
     "name": "stderr",
     "output_type": "stream",
     "text": [
      "  1%|          | 999/80000 [11:44<15:26:27,  1.42it/s]"
     ]
    },
    {
     "name": "stdout",
     "output_type": "stream",
     "text": [
      "Tue Jul  7 02:42:54 2020: Iteration: [1000/80000]\tRecon Loss: 1427.2173\tPercept Loss: 76127.7720\tTV Loss: 8.5251\tAttn Loss: 33857.3139\tTotal: 293629.0784\n"
     ]
    },
    {
     "name": "stderr",
     "output_type": "stream",
     "text": [
      "  1%|▏         | 1099/80000 [12:54<15:36:50,  1.40it/s]"
     ]
    },
    {
     "name": "stdout",
     "output_type": "stream",
     "text": [
      "Tue Jul  7 02:44:05 2020: Iteration: [1100/80000]\tRecon Loss: 1346.1350\tPercept Loss: 78465.9808\tTV Loss: 8.8801\tAttn Loss: 32174.2936\tTotal: 285061.8947\n"
     ]
    },
    {
     "name": "stderr",
     "output_type": "stream",
     "text": [
      "  1%|▏         | 1199/80000 [14:05<15:24:46,  1.42it/s]"
     ]
    },
    {
     "name": "stdout",
     "output_type": "stream",
     "text": [
      "Tue Jul  7 02:45:15 2020: Iteration: [1200/80000]\tRecon Loss: 1206.0986\tPercept Loss: 73269.9897\tTV Loss: 8.8361\tAttn Loss: 32940.0825\tTotal: 283059.8295\n"
     ]
    },
    {
     "name": "stderr",
     "output_type": "stream",
     "text": [
      "  2%|▏         | 1299/80000 [15:15<15:23:41,  1.42it/s]"
     ]
    },
    {
     "name": "stdout",
     "output_type": "stream",
     "text": [
      "Tue Jul  7 02:46:25 2020: Iteration: [1300/80000]\tRecon Loss: 1160.7735\tPercept Loss: 73265.1763\tTV Loss: 9.0132\tAttn Loss: 33318.0969\tTotal: 284871.6236\n"
     ]
    },
    {
     "name": "stderr",
     "output_type": "stream",
     "text": [
      "  2%|▏         | 1399/80000 [16:25<15:21:58,  1.42it/s]"
     ]
    },
    {
     "name": "stdout",
     "output_type": "stream",
     "text": [
      "Tue Jul  7 02:47:36 2020: Iteration: [1400/80000]\tRecon Loss: 1078.8213\tPercept Loss: 68137.5466\tTV Loss: 9.0089\tAttn Loss: 31660.1847\tTotal: 268976.9555\n"
     ]
    },
    {
     "name": "stderr",
     "output_type": "stream",
     "text": [
      "  2%|▏         | 1499/80000 [17:36<15:25:30,  1.41it/s]"
     ]
    },
    {
     "name": "stdout",
     "output_type": "stream",
     "text": [
      "Tue Jul  7 02:48:46 2020: Iteration: [1500/80000]\tRecon Loss: 1055.8479\tPercept Loss: 69658.9862\tTV Loss: 9.1298\tAttn Loss: 31547.1117\tTotal: 269591.4330\n"
     ]
    },
    {
     "name": "stderr",
     "output_type": "stream",
     "text": [
      "  2%|▏         | 1599/80000 [18:46<15:21:48,  1.42it/s]"
     ]
    },
    {
     "name": "stdout",
     "output_type": "stream",
     "text": [
      "Tue Jul  7 02:49:57 2020: Iteration: [1600/80000]\tRecon Loss: 979.0384\tPercept Loss: 67290.5922\tTV Loss: 9.1918\tAttn Loss: 30735.5791\tTotal: 261586.3689\n"
     ]
    },
    {
     "name": "stderr",
     "output_type": "stream",
     "text": [
      "  2%|▏         | 1699/80000 [19:57<15:15:11,  1.43it/s]"
     ]
    },
    {
     "name": "stdout",
     "output_type": "stream",
     "text": [
      "Tue Jul  7 02:51:07 2020: Iteration: [1700/80000]\tRecon Loss: 940.6750\tPercept Loss: 66821.9744\tTV Loss: 9.4219\tAttn Loss: 31143.6450\tTotal: 263184.8131\n"
     ]
    },
    {
     "name": "stderr",
     "output_type": "stream",
     "text": [
      "  2%|▏         | 1799/80000 [21:07<15:18:35,  1.42it/s]"
     ]
    },
    {
     "name": "stdout",
     "output_type": "stream",
     "text": [
      "Tue Jul  7 02:52:18 2020: Iteration: [1800/80000]\tRecon Loss: 847.5606\tPercept Loss: 64774.2899\tTV Loss: 9.2821\tAttn Loss: 31037.6018\tTotal: 259568.3258\n"
     ]
    },
    {
     "name": "stderr",
     "output_type": "stream",
     "text": [
      "  2%|▏         | 1899/80000 [22:17<15:12:42,  1.43it/s]"
     ]
    },
    {
     "name": "stdout",
     "output_type": "stream",
     "text": [
      "Tue Jul  7 02:53:28 2020: Iteration: [1900/80000]\tRecon Loss: 904.9483\tPercept Loss: 68389.4604\tTV Loss: 9.6301\tAttn Loss: 30247.9400\tTotal: 259022.8834\n"
     ]
    },
    {
     "name": "stderr",
     "output_type": "stream",
     "text": [
      "  2%|▏         | 1999/80000 [23:28<15:13:46,  1.42it/s]"
     ]
    },
    {
     "name": "stdout",
     "output_type": "stream",
     "text": [
      "Tue Jul  7 02:54:38 2020: Iteration: [2000/80000]\tRecon Loss: 857.6357\tPercept Loss: 66113.3476\tTV Loss: 9.7061\tAttn Loss: 29329.7165\tTotal: 250765.0653\n"
     ]
    },
    {
     "name": "stderr",
     "output_type": "stream",
     "text": [
      "  3%|▎         | 2099/80000 [24:38<15:10:30,  1.43it/s]"
     ]
    },
    {
     "name": "stdout",
     "output_type": "stream",
     "text": [
      "Tue Jul  7 02:55:49 2020: Iteration: [2100/80000]\tRecon Loss: 795.8422\tPercept Loss: 61573.0460\tTV Loss: 9.4034\tAttn Loss: 32443.2178\tTotal: 264284.8102\n"
     ]
    },
    {
     "name": "stderr",
     "output_type": "stream",
     "text": [
      "  3%|▎         | 2199/80000 [25:49<15:05:22,  1.43it/s]"
     ]
    },
    {
     "name": "stdout",
     "output_type": "stream",
     "text": [
      "Tue Jul  7 02:56:59 2020: Iteration: [2200/80000]\tRecon Loss: 782.9818\tPercept Loss: 62639.6232\tTV Loss: 9.4749\tAttn Loss: 30288.8407\tTotal: 252297.2341\n"
     ]
    },
    {
     "name": "stderr",
     "output_type": "stream",
     "text": [
      "  3%|▎         | 2299/80000 [26:59<15:15:38,  1.41it/s]"
     ]
    },
    {
     "name": "stdout",
     "output_type": "stream",
     "text": [
      "Tue Jul  7 02:58:10 2020: Iteration: [2300/80000]\tRecon Loss: 782.0646\tPercept Loss: 65723.6733\tTV Loss: 9.8805\tAttn Loss: 29681.6965\tTotal: 251733.3030\n"
     ]
    },
    {
     "name": "stderr",
     "output_type": "stream",
     "text": [
      "  3%|▎         | 2399/80000 [28:09<15:07:20,  1.43it/s]"
     ]
    },
    {
     "name": "stdout",
     "output_type": "stream",
     "text": [
      "Tue Jul  7 02:59:20 2020: Iteration: [2400/80000]\tRecon Loss: 719.9864\tPercept Loss: 60281.2438\tTV Loss: 9.2977\tAttn Loss: 35805.6913\tTotal: 282408.2323\n"
     ]
    },
    {
     "name": "stderr",
     "output_type": "stream",
     "text": [
      "  3%|▎         | 2499/80000 [29:20<15:07:48,  1.42it/s]"
     ]
    },
    {
     "name": "stdout",
     "output_type": "stream",
     "text": [
      "Tue Jul  7 03:00:31 2020: Iteration: [2500/80000]\tRecon Loss: 710.4481\tPercept Loss: 60590.2861\tTV Loss: 9.6446\tAttn Loss: 32195.2854\tTotal: 260962.9250\n"
     ]
    },
    {
     "name": "stderr",
     "output_type": "stream",
     "text": [
      "  3%|▎         | 2599/80000 [30:30<15:14:59,  1.41it/s]"
     ]
    },
    {
     "name": "stdout",
     "output_type": "stream",
     "text": [
      "Tue Jul  7 03:01:41 2020: Iteration: [2600/80000]\tRecon Loss: 699.6008\tPercept Loss: 59315.9802\tTV Loss: 9.6101\tAttn Loss: 29567.9139\tTotal: 243815.5719\n"
     ]
    },
    {
     "name": "stderr",
     "output_type": "stream",
     "text": [
      "  3%|▎         | 2699/80000 [31:41<15:04:10,  1.42it/s]"
     ]
    },
    {
     "name": "stdout",
     "output_type": "stream",
     "text": [
      "Tue Jul  7 03:02:52 2020: Iteration: [2700/80000]\tRecon Loss: 683.8839\tPercept Loss: 58649.9785\tTV Loss: 9.4397\tAttn Loss: 30827.6675\tTotal: 250549.2195\n"
     ]
    },
    {
     "name": "stderr",
     "output_type": "stream",
     "text": [
      "  3%|▎         | 2799/80000 [32:51<15:07:05,  1.42it/s]"
     ]
    },
    {
     "name": "stdout",
     "output_type": "stream",
     "text": [
      "Tue Jul  7 03:04:02 2020: Iteration: [2800/80000]\tRecon Loss: 687.8047\tPercept Loss: 59588.8945\tTV Loss: 9.7859\tAttn Loss: 29716.6783\tTotal: 244864.8698\n"
     ]
    },
    {
     "name": "stderr",
     "output_type": "stream",
     "text": [
      "  4%|▎         | 2899/80000 [34:02<15:01:55,  1.42it/s]"
     ]
    },
    {
     "name": "stdout",
     "output_type": "stream",
     "text": [
      "Tue Jul  7 03:05:13 2020: Iteration: [2900/80000]\tRecon Loss: 685.2018\tPercept Loss: 58521.9095\tTV Loss: 9.7717\tAttn Loss: 30705.1115\tTotal: 249702.3128\n"
     ]
    },
    {
     "name": "stderr",
     "output_type": "stream",
     "text": [
      "  4%|▎         | 2999/80000 [35:12<15:03:35,  1.42it/s]"
     ]
    },
    {
     "name": "stdout",
     "output_type": "stream",
     "text": [
      "Tue Jul  7 03:06:23 2020: Iteration: [3000/80000]\tRecon Loss: 656.7828\tPercept Loss: 57996.7542\tTV Loss: 9.8188\tAttn Loss: 28734.2356\tTotal: 237068.1844\n"
     ]
    },
    {
     "name": "stderr",
     "output_type": "stream",
     "text": [
      "  4%|▍         | 3099/80000 [36:23<15:03:25,  1.42it/s]"
     ]
    },
    {
     "name": "stdout",
     "output_type": "stream",
     "text": [
      "Tue Jul  7 03:07:33 2020: Iteration: [3100/80000]\tRecon Loss: 661.9741\tPercept Loss: 57282.3589\tTV Loss: 9.7062\tAttn Loss: 28532.9691\tTotal: 235196.9770\n"
     ]
    },
    {
     "name": "stderr",
     "output_type": "stream",
     "text": [
      "  4%|▍         | 3199/80000 [37:33<14:59:15,  1.42it/s]"
     ]
    },
    {
     "name": "stdout",
     "output_type": "stream",
     "text": [
      "Tue Jul  7 03:08:44 2020: Iteration: [3200/80000]\tRecon Loss: 660.3204\tPercept Loss: 57931.8098\tTV Loss: 9.8139\tAttn Loss: 29574.6473\tTotal: 242081.0367\n"
     ]
    },
    {
     "name": "stderr",
     "output_type": "stream",
     "text": [
      "  4%|▍         | 3299/80000 [38:44<14:59:29,  1.42it/s]"
     ]
    },
    {
     "name": "stdout",
     "output_type": "stream",
     "text": [
      "Tue Jul  7 03:09:54 2020: Iteration: [3300/80000]\tRecon Loss: 656.5773\tPercept Loss: 58328.4116\tTV Loss: 9.9152\tAttn Loss: 28105.1378\tTotal: 233624.1623\n"
     ]
    },
    {
     "name": "stderr",
     "output_type": "stream",
     "text": [
      "  4%|▍         | 3399/80000 [39:54<14:59:29,  1.42it/s]"
     ]
    },
    {
     "name": "stdout",
     "output_type": "stream",
     "text": [
      "Tue Jul  7 03:11:05 2020: Iteration: [3400/80000]\tRecon Loss: 663.8911\tPercept Loss: 58282.6644\tTV Loss: 10.1606\tAttn Loss: 28214.6158\tTotal: 234310.8753\n"
     ]
    },
    {
     "name": "stderr",
     "output_type": "stream",
     "text": [
      "  4%|▍         | 3499/80000 [41:05<14:52:31,  1.43it/s]"
     ]
    },
    {
     "name": "stdout",
     "output_type": "stream",
     "text": [
      "Tue Jul  7 03:12:15 2020: Iteration: [3500/80000]\tRecon Loss: 655.0354\tPercept Loss: 58675.3391\tTV Loss: 10.1373\tAttn Loss: 31033.6971\tTotal: 251529.2484\n"
     ]
    },
    {
     "name": "stderr",
     "output_type": "stream",
     "text": [
      "  4%|▍         | 3599/80000 [42:15<14:57:36,  1.42it/s]"
     ]
    },
    {
     "name": "stdout",
     "output_type": "stream",
     "text": [
      "Tue Jul  7 03:13:26 2020: Iteration: [3600/80000]\tRecon Loss: 615.7092\tPercept Loss: 56150.0482\tTV Loss: 9.7794\tAttn Loss: 28044.3854\tTotal: 230671.2448\n"
     ]
    },
    {
     "name": "stderr",
     "output_type": "stream",
     "text": [
      "  5%|▍         | 3699/80000 [43:26<14:57:44,  1.42it/s]"
     ]
    },
    {
     "name": "stdout",
     "output_type": "stream",
     "text": [
      "Tue Jul  7 03:14:36 2020: Iteration: [3700/80000]\tRecon Loss: 632.2367\tPercept Loss: 55747.5157\tTV Loss: 9.7640\tAttn Loss: 28520.2358\tTotal: 233288.9383\n"
     ]
    },
    {
     "name": "stderr",
     "output_type": "stream",
     "text": [
      "  5%|▍         | 3799/80000 [44:36<14:52:16,  1.42it/s]"
     ]
    },
    {
     "name": "stdout",
     "output_type": "stream",
     "text": [
      "Tue Jul  7 03:15:47 2020: Iteration: [3800/80000]\tRecon Loss: 613.9041\tPercept Loss: 56975.8537\tTV Loss: 10.0192\tAttn Loss: 27651.3473\tTotal: 229123.1703\n"
     ]
    },
    {
     "name": "stderr",
     "output_type": "stream",
     "text": [
      "  5%|▍         | 3899/80000 [45:47<14:53:18,  1.42it/s]"
     ]
    },
    {
     "name": "stdout",
     "output_type": "stream",
     "text": [
      "Tue Jul  7 03:16:58 2020: Iteration: [3900/80000]\tRecon Loss: 623.7813\tPercept Loss: 55765.8003\tTV Loss: 9.9730\tAttn Loss: 28128.7257\tTotal: 230875.6977\n"
     ]
    },
    {
     "name": "stderr",
     "output_type": "stream",
     "text": [
      "  5%|▍         | 3999/80000 [46:58<15:00:54,  1.41it/s]"
     ]
    },
    {
     "name": "stdout",
     "output_type": "stream",
     "text": [
      "Tue Jul  7 03:18:08 2020: Iteration: [4000/80000]\tRecon Loss: 619.6498\tPercept Loss: 55983.3913\tTV Loss: 9.9331\tAttn Loss: 27953.7460\tTotal: 230001.6966\n"
     ]
    },
    {
     "name": "stderr",
     "output_type": "stream",
     "text": [
      "  5%|▌         | 4099/80000 [48:08<15:05:57,  1.40it/s]"
     ]
    },
    {
     "name": "stdout",
     "output_type": "stream",
     "text": [
      "Tue Jul  7 03:19:19 2020: Iteration: [4100/80000]\tRecon Loss: 611.6275\tPercept Loss: 55340.6429\tTV Loss: 9.8575\tAttn Loss: 30105.1656\tTotal: 242186.4858\n"
     ]
    },
    {
     "name": "stderr",
     "output_type": "stream",
     "text": [
      "  5%|▌         | 4199/80000 [49:19<14:50:38,  1.42it/s]"
     ]
    },
    {
     "name": "stdout",
     "output_type": "stream",
     "text": [
      "Tue Jul  7 03:20:30 2020: Iteration: [4200/80000]\tRecon Loss: 606.0245\tPercept Loss: 55449.5236\tTV Loss: 10.0957\tAttn Loss: 27290.7676\tTotal: 225355.3308\n"
     ]
    },
    {
     "name": "stderr",
     "output_type": "stream",
     "text": [
      "  5%|▌         | 4299/80000 [50:30<14:47:17,  1.42it/s]"
     ]
    },
    {
     "name": "stdout",
     "output_type": "stream",
     "text": [
      "Tue Jul  7 03:21:40 2020: Iteration: [4300/80000]\tRecon Loss: 598.7991\tPercept Loss: 54669.6555\tTV Loss: 9.8319\tAttn Loss: 28603.4350\tTotal: 232376.5752\n"
     ]
    },
    {
     "name": "stderr",
     "output_type": "stream",
     "text": [
      "  5%|▌         | 4399/80000 [51:40<14:46:07,  1.42it/s]"
     ]
    },
    {
     "name": "stdout",
     "output_type": "stream",
     "text": [
      "Tue Jul  7 03:22:51 2020: Iteration: [4400/80000]\tRecon Loss: 592.6997\tPercept Loss: 53280.0954\tTV Loss: 9.8535\tAttn Loss: 27261.9526\tTotal: 222877.3417\n"
     ]
    },
    {
     "name": "stderr",
     "output_type": "stream",
     "text": [
      "  6%|▌         | 4426/80000 [51:59<14:39:43,  1.43it/s]/home/dehezhang2/anaconda3/lib/python3.7/site-packages/PIL/Image.py:2766: DecompressionBombWarning: Image size (131790400 pixels) exceeds limit of 89478485 pixels, could be decompression bomb DOS attack.\n",
      "  DecompressionBombWarning,\n",
      "  6%|▌         | 4499/80000 [52:51<14:44:21,  1.42it/s]"
     ]
    },
    {
     "name": "stdout",
     "output_type": "stream",
     "text": [
      "Tue Jul  7 03:24:01 2020: Iteration: [4500/80000]\tRecon Loss: 581.3095\tPercept Loss: 53159.6782\tTV Loss: 9.8721\tAttn Loss: 29723.0819\tTotal: 237409.9862\n"
     ]
    },
    {
     "name": "stderr",
     "output_type": "stream",
     "text": [
      "  6%|▌         | 4599/80000 [54:01<14:43:55,  1.42it/s]"
     ]
    },
    {
     "name": "stdout",
     "output_type": "stream",
     "text": [
      "Tue Jul  7 03:25:12 2020: Iteration: [4600/80000]\tRecon Loss: 598.1705\tPercept Loss: 53984.9299\tTV Loss: 10.1087\tAttn Loss: 26651.2936\tTotal: 219975.4850\n"
     ]
    },
    {
     "name": "stderr",
     "output_type": "stream",
     "text": [
      "  6%|▌         | 4699/80000 [55:12<14:44:22,  1.42it/s]"
     ]
    },
    {
     "name": "stdout",
     "output_type": "stream",
     "text": [
      "Tue Jul  7 03:26:22 2020: Iteration: [4700/80000]\tRecon Loss: 611.1221\tPercept Loss: 54599.7642\tTV Loss: 10.1851\tAttn Loss: 26620.8997\tTotal: 220538.2338\n"
     ]
    },
    {
     "name": "stderr",
     "output_type": "stream",
     "text": [
      "  6%|▌         | 4744/80000 [55:44<14:48:05,  1.41it/s]/home/dehezhang2/anaconda3/lib/python3.7/site-packages/PIL/Image.py:2766: DecompressionBombWarning: Image size (94435468 pixels) exceeds limit of 89478485 pixels, could be decompression bomb DOS attack.\n",
      "  DecompressionBombWarning,\n",
      "  6%|▌         | 4799/80000 [56:23<14:41:29,  1.42it/s]"
     ]
    },
    {
     "name": "stdout",
     "output_type": "stream",
     "text": [
      "Tue Jul  7 03:27:33 2020: Iteration: [4800/80000]\tRecon Loss: 631.0184\tPercept Loss: 56072.4525\tTV Loss: 10.3832\tAttn Loss: 26784.0700\tTotal: 223190.8886\n"
     ]
    },
    {
     "name": "stderr",
     "output_type": "stream",
     "text": [
      "  6%|▌         | 4899/80000 [57:33<14:40:15,  1.42it/s]"
     ]
    },
    {
     "name": "stdout",
     "output_type": "stream",
     "text": [
      "Tue Jul  7 03:28:44 2020: Iteration: [4900/80000]\tRecon Loss: 579.3659\tPercept Loss: 52840.3804\tTV Loss: 9.9332\tAttn Loss: 29634.1100\tTotal: 236538.0328\n"
     ]
    },
    {
     "name": "stderr",
     "output_type": "stream",
     "text": [
      "  6%|▌         | 4999/80000 [58:44<14:46:36,  1.41it/s]"
     ]
    },
    {
     "name": "stdout",
     "output_type": "stream",
     "text": [
      "Tue Jul  7 03:29:54 2020: Iteration: [5000/80000]\tRecon Loss: 592.3839\tPercept Loss: 53956.1549\tTV Loss: 10.1375\tAttn Loss: 26185.6811\tTotal: 217095.4572\n"
     ]
    },
    {
     "name": "stderr",
     "output_type": "stream",
     "text": [
      "  6%|▋         | 5099/80000 [59:54<14:33:51,  1.43it/s]"
     ]
    },
    {
     "name": "stdout",
     "output_type": "stream",
     "text": [
      "Tue Jul  7 03:31:05 2020: Iteration: [5100/80000]\tRecon Loss: 556.4807\tPercept Loss: 52016.2613\tTV Loss: 10.0325\tAttn Loss: 26485.7904\tTotal: 216596.1353\n"
     ]
    },
    {
     "name": "stderr",
     "output_type": "stream",
     "text": [
      "  6%|▋         | 5199/80000 [1:01:05<14:35:28,  1.42it/s]"
     ]
    },
    {
     "name": "stdout",
     "output_type": "stream",
     "text": [
      "Tue Jul  7 03:32:16 2020: Iteration: [5200/80000]\tRecon Loss: 561.6291\tPercept Loss: 52780.2025\tTV Loss: 10.0558\tAttn Loss: 25975.9076\tTotal: 214352.4958\n"
     ]
    },
    {
     "name": "stderr",
     "output_type": "stream",
     "text": [
      "  7%|▋         | 5299/80000 [1:02:15<14:35:19,  1.42it/s]"
     ]
    },
    {
     "name": "stdout",
     "output_type": "stream",
     "text": [
      "Tue Jul  7 03:33:26 2020: Iteration: [5300/80000]\tRecon Loss: 570.3117\tPercept Loss: 52119.2715\tTV Loss: 9.9696\tAttn Loss: 26323.2859\tTotal: 215861.8009\n"
     ]
    },
    {
     "name": "stderr",
     "output_type": "stream",
     "text": [
      "  7%|▋         | 5399/80000 [1:03:26<14:35:37,  1.42it/s]"
     ]
    },
    {
     "name": "stdout",
     "output_type": "stream",
     "text": [
      "Tue Jul  7 03:34:36 2020: Iteration: [5400/80000]\tRecon Loss: 576.9406\tPercept Loss: 52287.9976\tTV Loss: 10.0500\tAttn Loss: 26267.6123\tTotal: 215763.5767\n"
     ]
    },
    {
     "name": "stderr",
     "output_type": "stream",
     "text": [
      "  7%|▋         | 5499/80000 [1:04:36<14:34:16,  1.42it/s]"
     ]
    },
    {
     "name": "stdout",
     "output_type": "stream",
     "text": [
      "Tue Jul  7 03:35:47 2020: Iteration: [5500/80000]\tRecon Loss: 572.5651\tPercept Loss: 52185.5263\tTV Loss: 10.0178\tAttn Loss: 25341.1369\tTotal: 210058.1772\n"
     ]
    },
    {
     "name": "stderr",
     "output_type": "stream",
     "text": [
      "  7%|▋         | 5599/80000 [1:05:47<14:32:20,  1.42it/s]"
     ]
    },
    {
     "name": "stdout",
     "output_type": "stream",
     "text": [
      "Tue Jul  7 03:36:58 2020: Iteration: [5600/80000]\tRecon Loss: 583.7276\tPercept Loss: 53353.5805\tTV Loss: 10.3114\tAttn Loss: 26019.3584\tTotal: 215410.1205\n"
     ]
    },
    {
     "name": "stderr",
     "output_type": "stream",
     "text": [
      "  7%|▋         | 5699/80000 [1:06:57<14:33:26,  1.42it/s]"
     ]
    },
    {
     "name": "stdout",
     "output_type": "stream",
     "text": [
      "Tue Jul  7 03:38:08 2020: Iteration: [5700/80000]\tRecon Loss: 573.5432\tPercept Loss: 52249.0423\tTV Loss: 9.9740\tAttn Loss: 25858.4682\tTotal: 213235.0245\n"
     ]
    },
    {
     "name": "stderr",
     "output_type": "stream",
     "text": [
      "  7%|▋         | 5799/80000 [1:08:08<14:30:17,  1.42it/s]"
     ]
    },
    {
     "name": "stdout",
     "output_type": "stream",
     "text": [
      "Tue Jul  7 03:39:19 2020: Iteration: [5800/80000]\tRecon Loss: 577.8678\tPercept Loss: 53375.8919\tTV Loss: 10.2178\tAttn Loss: 25898.3509\tTotal: 214646.8517\n"
     ]
    },
    {
     "name": "stderr",
     "output_type": "stream",
     "text": [
      "  7%|▋         | 5899/80000 [1:09:18<14:29:04,  1.42it/s]"
     ]
    },
    {
     "name": "stdout",
     "output_type": "stream",
     "text": [
      "Tue Jul  7 03:40:29 2020: Iteration: [5900/80000]\tRecon Loss: 550.7642\tPercept Loss: 50432.2573\tTV Loss: 9.9178\tAttn Loss: 25527.1244\tTotal: 209201.8231\n"
     ]
    },
    {
     "name": "stderr",
     "output_type": "stream",
     "text": [
      "  7%|▋         | 5999/80000 [1:10:29<14:25:03,  1.43it/s]"
     ]
    },
    {
     "name": "stdout",
     "output_type": "stream",
     "text": [
      "Tue Jul  7 03:41:40 2020: Iteration: [6000/80000]\tRecon Loss: 587.3339\tPercept Loss: 52581.9522\tTV Loss: 10.1981\tAttn Loss: 25418.7322\tTotal: 211069.6650\n"
     ]
    },
    {
     "name": "stderr",
     "output_type": "stream",
     "text": [
      "  8%|▊         | 6099/80000 [1:11:39<14:27:56,  1.42it/s]"
     ]
    },
    {
     "name": "stdout",
     "output_type": "stream",
     "text": [
      "Tue Jul  7 03:42:50 2020: Iteration: [6100/80000]\tRecon Loss: 552.0963\tPercept Loss: 50690.9908\tTV Loss: 10.0780\tAttn Loss: 24874.9540\tTotal: 205562.4566\n"
     ]
    },
    {
     "name": "stderr",
     "output_type": "stream",
     "text": [
      "  8%|▊         | 6199/80000 [1:12:50<14:26:36,  1.42it/s]"
     ]
    },
    {
     "name": "stdout",
     "output_type": "stream",
     "text": [
      "Tue Jul  7 03:44:00 2020: Iteration: [6200/80000]\tRecon Loss: 577.6474\tPercept Loss: 52364.3000\tTV Loss: 10.1546\tAttn Loss: 26095.5892\tTotal: 214815.8541\n"
     ]
    },
    {
     "name": "stderr",
     "output_type": "stream",
     "text": [
      "  8%|▊         | 6299/80000 [1:14:00<14:27:20,  1.42it/s]"
     ]
    },
    {
     "name": "stdout",
     "output_type": "stream",
     "text": [
      "Tue Jul  7 03:45:11 2020: Iteration: [6300/80000]\tRecon Loss: 592.5545\tPercept Loss: 52518.1943\tTV Loss: 10.4183\tAttn Loss: 27382.7540\tTotal: 222844.4470\n"
     ]
    },
    {
     "name": "stderr",
     "output_type": "stream",
     "text": [
      "  8%|▊         | 6399/80000 [1:15:11<14:26:21,  1.42it/s]"
     ]
    },
    {
     "name": "stdout",
     "output_type": "stream",
     "text": [
      "Tue Jul  7 03:46:22 2020: Iteration: [6400/80000]\tRecon Loss: 587.4966\tPercept Loss: 52572.9210\tTV Loss: 10.2172\tAttn Loss: 27734.4536\tTotal: 224956.7794\n"
     ]
    },
    {
     "name": "stderr",
     "output_type": "stream",
     "text": [
      "  8%|▊         | 6499/80000 [1:16:21<14:21:43,  1.42it/s]"
     ]
    },
    {
     "name": "stdout",
     "output_type": "stream",
     "text": [
      "Tue Jul  7 03:47:32 2020: Iteration: [6500/80000]\tRecon Loss: 563.9336\tPercept Loss: 50729.3673\tTV Loss: 10.1020\tAttn Loss: 24740.9381\tTotal: 204915.3522\n"
     ]
    },
    {
     "name": "stderr",
     "output_type": "stream",
     "text": [
      "  8%|▊         | 6599/80000 [1:17:32<14:20:06,  1.42it/s]"
     ]
    },
    {
     "name": "stdout",
     "output_type": "stream",
     "text": [
      "Tue Jul  7 03:48:43 2020: Iteration: [6600/80000]\tRecon Loss: 560.4660\tPercept Loss: 49752.0683\tTV Loss: 10.0203\tAttn Loss: 27047.5775\tTotal: 217742.3955\n"
     ]
    },
    {
     "name": "stderr",
     "output_type": "stream",
     "text": [
      "  8%|▊         | 6699/80000 [1:18:42<14:16:44,  1.43it/s]"
     ]
    },
    {
     "name": "stdout",
     "output_type": "stream",
     "text": [
      "Tue Jul  7 03:49:53 2020: Iteration: [6700/80000]\tRecon Loss: 576.7798\tPercept Loss: 52503.0930\tTV Loss: 10.3763\tAttn Loss: 28836.8755\tTotal: 231395.9072\n"
     ]
    },
    {
     "name": "stderr",
     "output_type": "stream",
     "text": [
      "  8%|▊         | 6730/80000 [1:19:04<14:15:33,  1.43it/s]/home/dehezhang2/anaconda3/lib/python3.7/site-packages/PIL/Image.py:2766: DecompressionBombWarning: Image size (107327830 pixels) exceeds limit of 89478485 pixels, could be decompression bomb DOS attack.\n",
      "  DecompressionBombWarning,\n",
      "  8%|▊         | 6799/80000 [1:19:53<14:24:23,  1.41it/s]"
     ]
    },
    {
     "name": "stdout",
     "output_type": "stream",
     "text": [
      "Tue Jul  7 03:51:03 2020: Iteration: [6800/80000]\tRecon Loss: 544.3344\tPercept Loss: 50560.6048\tTV Loss: 10.1825\tAttn Loss: 24529.8748\tTotal: 203285.0234\n"
     ]
    },
    {
     "name": "stderr",
     "output_type": "stream",
     "text": [
      "  9%|▊         | 6899/80000 [1:21:03<14:15:48,  1.42it/s]"
     ]
    },
    {
     "name": "stdout",
     "output_type": "stream",
     "text": [
      "Tue Jul  7 03:52:14 2020: Iteration: [6900/80000]\tRecon Loss: 551.3650\tPercept Loss: 49367.7758\tTV Loss: 10.0287\tAttn Loss: 24925.7532\tTotal: 204536.2303\n"
     ]
    },
    {
     "name": "stderr",
     "output_type": "stream",
     "text": [
      "  9%|▊         | 6999/80000 [1:22:14<14:12:04,  1.43it/s]"
     ]
    },
    {
     "name": "stdout",
     "output_type": "stream",
     "text": [
      "Tue Jul  7 03:53:24 2020: Iteration: [7000/80000]\tRecon Loss: 564.9577\tPercept Loss: 50276.6688\tTV Loss: 10.3077\tAttn Loss: 25785.8715\tTotal: 210744.5520\n"
     ]
    },
    {
     "name": "stderr",
     "output_type": "stream",
     "text": [
      "  9%|▉         | 7099/80000 [1:23:24<14:14:57,  1.42it/s]"
     ]
    },
    {
     "name": "stdout",
     "output_type": "stream",
     "text": [
      "Tue Jul  7 03:54:35 2020: Iteration: [7100/80000]\tRecon Loss: 555.7312\tPercept Loss: 50306.2259\tTV Loss: 10.1201\tAttn Loss: 24668.4078\tTotal: 203975.1845\n"
     ]
    },
    {
     "name": "stderr",
     "output_type": "stream",
     "text": [
      "  9%|▉         | 7199/80000 [1:24:35<14:08:15,  1.43it/s]"
     ]
    },
    {
     "name": "stdout",
     "output_type": "stream",
     "text": [
      "Tue Jul  7 03:55:46 2020: Iteration: [7200/80000]\tRecon Loss: 554.9396\tPercept Loss: 50645.9947\tTV Loss: 10.1981\tAttn Loss: 25381.7401\tTotal: 208587.8114\n"
     ]
    },
    {
     "name": "stderr",
     "output_type": "stream",
     "text": [
      "  9%|▉         | 7299/80000 [1:25:46<14:14:11,  1.42it/s]"
     ]
    },
    {
     "name": "stdout",
     "output_type": "stream",
     "text": [
      "Tue Jul  7 03:56:56 2020: Iteration: [7300/80000]\tRecon Loss: 537.5803\tPercept Loss: 49158.6644\tTV Loss: 10.0134\tAttn Loss: 25390.1520\tTotal: 206975.5138\n"
     ]
    },
    {
     "name": "stderr",
     "output_type": "stream",
     "text": [
      "  9%|▉         | 7324/80000 [1:26:03<14:07:44,  1.43it/s]/home/dehezhang2/anaconda3/lib/python3.7/site-packages/PIL/Image.py:2766: DecompressionBombWarning: Image size (129086580 pixels) exceeds limit of 89478485 pixels, could be decompression bomb DOS attack.\n",
      "  DecompressionBombWarning,\n",
      "  9%|▉         | 7399/80000 [1:26:56<14:13:07,  1.42it/s]"
     ]
    },
    {
     "name": "stdout",
     "output_type": "stream",
     "text": [
      "Tue Jul  7 03:58:07 2020: Iteration: [7400/80000]\tRecon Loss: 548.1371\tPercept Loss: 50473.4449\tTV Loss: 10.1742\tAttn Loss: 24124.6199\tTotal: 200804.2769\n"
     ]
    },
    {
     "name": "stderr",
     "output_type": "stream",
     "text": [
      "  9%|▉         | 7499/80000 [1:28:07<14:07:22,  1.43it/s]"
     ]
    },
    {
     "name": "stdout",
     "output_type": "stream",
     "text": [
      "Tue Jul  7 03:59:17 2020: Iteration: [7500/80000]\tRecon Loss: 543.1275\tPercept Loss: 50213.4471\tTV Loss: 10.1575\tAttn Loss: 25260.1740\tTotal: 207307.3425\n"
     ]
    },
    {
     "name": "stderr",
     "output_type": "stream",
     "text": [
      "  9%|▉         | 7599/80000 [1:29:17<14:12:00,  1.42it/s]"
     ]
    },
    {
     "name": "stdout",
     "output_type": "stream",
     "text": [
      "Tue Jul  7 04:00:28 2020: Iteration: [7600/80000]\tRecon Loss: 542.4472\tPercept Loss: 49531.8748\tTV Loss: 10.1271\tAttn Loss: 25660.0361\tTotal: 209017.8342\n"
     ]
    },
    {
     "name": "stderr",
     "output_type": "stream",
     "text": [
      " 10%|▉         | 7699/80000 [1:30:27<14:06:40,  1.42it/s]"
     ]
    },
    {
     "name": "stdout",
     "output_type": "stream",
     "text": [
      "Tue Jul  7 04:01:38 2020: Iteration: [7700/80000]\tRecon Loss: 551.8000\tPercept Loss: 50336.4198\tTV Loss: 10.4146\tAttn Loss: 23503.0517\tTotal: 196976.8783\n"
     ]
    },
    {
     "name": "stderr",
     "output_type": "stream",
     "text": [
      " 10%|▉         | 7799/80000 [1:31:38<14:02:36,  1.43it/s]"
     ]
    },
    {
     "name": "stdout",
     "output_type": "stream",
     "text": [
      "Tue Jul  7 04:02:49 2020: Iteration: [7800/80000]\tRecon Loss: 537.6787\tPercept Loss: 49225.9160\tTV Loss: 10.1517\tAttn Loss: 26112.5731\tTotal: 211379.6581\n"
     ]
    },
    {
     "name": "stderr",
     "output_type": "stream",
     "text": [
      " 10%|▉         | 7899/80000 [1:32:48<14:02:29,  1.43it/s]"
     ]
    },
    {
     "name": "stdout",
     "output_type": "stream",
     "text": [
      "Tue Jul  7 04:03:59 2020: Iteration: [7900/80000]\tRecon Loss: 541.3342\tPercept Loss: 48765.6358\tTV Loss: 9.9736\tAttn Loss: 28327.2218\tTotal: 224242.0434\n"
     ]
    },
    {
     "name": "stderr",
     "output_type": "stream",
     "text": [
      " 10%|▉         | 7999/80000 [1:33:59<14:05:19,  1.42it/s]"
     ]
    },
    {
     "name": "stdout",
     "output_type": "stream",
     "text": [
      "Tue Jul  7 04:05:10 2020: Iteration: [8000/80000]\tRecon Loss: 550.7402\tPercept Loss: 51132.6677\tTV Loss: 10.3209\tAttn Loss: 23009.2920\tTotal: 194799.0302\n"
     ]
    },
    {
     "name": "stderr",
     "output_type": "stream",
     "text": [
      " 10%|█         | 8099/80000 [1:35:09<14:00:29,  1.43it/s]"
     ]
    },
    {
     "name": "stdout",
     "output_type": "stream",
     "text": [
      "Tue Jul  7 04:06:20 2020: Iteration: [8100/80000]\tRecon Loss: 532.8236\tPercept Loss: 48374.5377\tTV Loss: 10.0749\tAttn Loss: 23865.1835\tTotal: 196994.6228\n"
     ]
    },
    {
     "name": "stderr",
     "output_type": "stream",
     "text": [
      " 10%|█         | 8199/80000 [1:36:20<14:00:33,  1.42it/s]"
     ]
    },
    {
     "name": "stdout",
     "output_type": "stream",
     "text": [
      "Tue Jul  7 04:07:30 2020: Iteration: [8200/80000]\tRecon Loss: 575.5313\tPercept Loss: 51050.7166\tTV Loss: 10.5111\tAttn Loss: 23756.6854\tTotal: 199451.2536\n"
     ]
    },
    {
     "name": "stderr",
     "output_type": "stream",
     "text": [
      " 10%|█         | 8299/80000 [1:37:30<13:57:59,  1.43it/s]"
     ]
    },
    {
     "name": "stdout",
     "output_type": "stream",
     "text": [
      "Tue Jul  7 04:08:41 2020: Iteration: [8300/80000]\tRecon Loss: 542.4647\tPercept Loss: 48063.9864\tTV Loss: 10.0988\tAttn Loss: 24045.7718\tTotal: 197864.2523\n"
     ]
    },
    {
     "name": "stderr",
     "output_type": "stream",
     "text": [
      " 10%|█         | 8399/80000 [1:38:41<14:01:35,  1.42it/s]"
     ]
    },
    {
     "name": "stdout",
     "output_type": "stream",
     "text": [
      "Tue Jul  7 04:09:51 2020: Iteration: [8400/80000]\tRecon Loss: 547.2878\tPercept Loss: 49392.7158\tTV Loss: 10.2810\tAttn Loss: 23410.0741\tTotal: 195428.8489\n"
     ]
    },
    {
     "name": "stderr",
     "output_type": "stream",
     "text": [
      " 11%|█         | 8499/80000 [1:39:51<14:00:36,  1.42it/s]"
     ]
    },
    {
     "name": "stdout",
     "output_type": "stream",
     "text": [
      "Tue Jul  7 04:11:02 2020: Iteration: [8500/80000]\tRecon Loss: 542.1950\tPercept Loss: 48975.7453\tTV Loss: 10.2078\tAttn Loss: 23880.2563\tTotal: 197781.3111\n"
     ]
    },
    {
     "name": "stderr",
     "output_type": "stream",
     "text": [
      " 11%|█         | 8599/80000 [1:41:02<14:00:39,  1.42it/s]"
     ]
    },
    {
     "name": "stdout",
     "output_type": "stream",
     "text": [
      "Tue Jul  7 04:12:12 2020: Iteration: [8600/80000]\tRecon Loss: 536.8141\tPercept Loss: 49631.2387\tTV Loss: 10.3256\tAttn Loss: 22674.1437\tTotal: 191147.4975\n"
     ]
    },
    {
     "name": "stderr",
     "output_type": "stream",
     "text": [
      " 11%|█         | 8699/80000 [1:42:12<14:03:58,  1.41it/s]"
     ]
    },
    {
     "name": "stdout",
     "output_type": "stream",
     "text": [
      "Tue Jul  7 04:13:23 2020: Iteration: [8700/80000]\tRecon Loss: 529.0290\tPercept Loss: 47470.1741\tTV Loss: 10.0587\tAttn Loss: 24045.2960\tTotal: 197132.8261\n"
     ]
    },
    {
     "name": "stderr",
     "output_type": "stream",
     "text": [
      " 11%|█         | 8799/80000 [1:43:23<13:52:24,  1.43it/s]"
     ]
    },
    {
     "name": "stdout",
     "output_type": "stream",
     "text": [
      "Tue Jul  7 04:14:33 2020: Iteration: [8800/80000]\tRecon Loss: 545.1506\tPercept Loss: 49655.4711\tTV Loss: 10.4001\tAttn Loss: 23437.7487\tTotal: 195837.4703\n"
     ]
    },
    {
     "name": "stderr",
     "output_type": "stream",
     "text": [
      " 11%|█         | 8899/80000 [1:44:33<13:56:22,  1.42it/s]"
     ]
    },
    {
     "name": "stdout",
     "output_type": "stream",
     "text": [
      "Tue Jul  7 04:15:44 2020: Iteration: [8900/80000]\tRecon Loss: 541.6061\tPercept Loss: 49052.7558\tTV Loss: 10.4696\tAttn Loss: 22752.6998\tTotal: 191089.7105\n"
     ]
    },
    {
     "name": "stderr",
     "output_type": "stream",
     "text": [
      " 11%|█         | 8999/80000 [1:45:44<14:08:23,  1.39it/s]"
     ]
    },
    {
     "name": "stdout",
     "output_type": "stream",
     "text": [
      "Tue Jul  7 04:16:54 2020: Iteration: [9000/80000]\tRecon Loss: 534.4458\tPercept Loss: 49452.8234\tTV Loss: 10.2437\tAttn Loss: 22633.5236\tTotal: 190700.8588\n"
     ]
    },
    {
     "name": "stderr",
     "output_type": "stream",
     "text": [
      " 11%|█▏        | 9099/80000 [1:46:54<13:46:44,  1.43it/s]"
     ]
    },
    {
     "name": "stdout",
     "output_type": "stream",
     "text": [
      "Tue Jul  7 04:18:05 2020: Iteration: [9100/80000]\tRecon Loss: 542.2033\tPercept Loss: 49454.9275\tTV Loss: 10.3864\tAttn Loss: 22641.8016\tTotal: 190831.6338\n"
     ]
    },
    {
     "name": "stderr",
     "output_type": "stream",
     "text": [
      " 11%|█▏        | 9199/80000 [1:48:05<13:52:32,  1.42it/s]"
     ]
    },
    {
     "name": "stdout",
     "output_type": "stream",
     "text": [
      "Tue Jul  7 04:19:15 2020: Iteration: [9200/80000]\tRecon Loss: 547.1839\tPercept Loss: 48750.8437\tTV Loss: 10.3689\tAttn Loss: 22114.0397\tTotal: 187010.6108\n"
     ]
    },
    {
     "name": "stderr",
     "output_type": "stream",
     "text": [
      " 12%|█▏        | 9299/80000 [1:49:15<13:40:33,  1.44it/s]"
     ]
    },
    {
     "name": "stdout",
     "output_type": "stream",
     "text": [
      "Tue Jul  7 04:20:26 2020: Iteration: [9300/80000]\tRecon Loss: 537.9530\tPercept Loss: 47950.4459\tTV Loss: 10.2923\tAttn Loss: 22302.2876\tTotal: 187246.6241\n"
     ]
    },
    {
     "name": "stderr",
     "output_type": "stream",
     "text": [
      " 12%|█▏        | 9399/80000 [1:50:26<13:45:22,  1.43it/s]"
     ]
    },
    {
     "name": "stdout",
     "output_type": "stream",
     "text": [
      "Tue Jul  7 04:21:36 2020: Iteration: [9400/80000]\tRecon Loss: 559.1548\tPercept Loss: 49516.0668\tTV Loss: 10.5828\tAttn Loss: 26113.0092\tTotal: 211891.4987\n"
     ]
    },
    {
     "name": "stderr",
     "output_type": "stream",
     "text": [
      " 12%|█▏        | 9463/80000 [1:51:11<13:49:32,  1.42it/s]/home/dehezhang2/anaconda3/lib/python3.7/site-packages/PIL/Image.py:2766: DecompressionBombWarning: Image size (145486286 pixels) exceeds limit of 89478485 pixels, could be decompression bomb DOS attack.\n",
      "  DecompressionBombWarning,\n",
      " 12%|█▏        | 9499/80000 [1:51:36<13:55:41,  1.41it/s]"
     ]
    },
    {
     "name": "stdout",
     "output_type": "stream",
     "text": [
      "Tue Jul  7 04:22:47 2020: Iteration: [9500/80000]\tRecon Loss: 530.1783\tPercept Loss: 47729.0542\tTV Loss: 10.2976\tAttn Loss: 22741.3338\tTotal: 189581.8145\n"
     ]
    },
    {
     "name": "stderr",
     "output_type": "stream",
     "text": [
      " 12%|█▏        | 9599/80000 [1:52:47<13:53:53,  1.41it/s]"
     ]
    },
    {
     "name": "stdout",
     "output_type": "stream",
     "text": [
      "Tue Jul  7 04:23:57 2020: Iteration: [9600/80000]\tRecon Loss: 545.5873\tPercept Loss: 49369.1226\tTV Loss: 10.4824\tAttn Loss: 21695.1381\tTotal: 185100.6475\n"
     ]
    },
    {
     "name": "stderr",
     "output_type": "stream",
     "text": [
      " 12%|█▏        | 9699/80000 [1:53:57<13:46:37,  1.42it/s]"
     ]
    },
    {
     "name": "stdout",
     "output_type": "stream",
     "text": [
      "Tue Jul  7 04:25:08 2020: Iteration: [9700/80000]\tRecon Loss: 515.4646\tPercept Loss: 47938.3234\tTV Loss: 10.3484\tAttn Loss: 21934.4833\tTotal: 184803.3538\n"
     ]
    },
    {
     "name": "stderr",
     "output_type": "stream",
     "text": [
      " 12%|█▏        | 9799/80000 [1:55:08<13:43:06,  1.42it/s]"
     ]
    },
    {
     "name": "stdout",
     "output_type": "stream",
     "text": [
      "Tue Jul  7 04:26:18 2020: Iteration: [9800/80000]\tRecon Loss: 536.4534\tPercept Loss: 48128.3665\tTV Loss: 10.5476\tAttn Loss: 22129.8109\tTotal: 186377.2419\n"
     ]
    },
    {
     "name": "stderr",
     "output_type": "stream",
     "text": [
      " 12%|█▏        | 9899/80000 [1:56:18<13:42:32,  1.42it/s]"
     ]
    },
    {
     "name": "stdout",
     "output_type": "stream",
     "text": [
      "Tue Jul  7 04:27:29 2020: Iteration: [9900/80000]\tRecon Loss: 523.3360\tPercept Loss: 46341.4232\tTV Loss: 10.1688\tAttn Loss: 22388.0097\tTotal: 186004.5292\n"
     ]
    },
    {
     "name": "stderr",
     "output_type": "stream",
     "text": [
      " 12%|█▏        | 9926/80000 [1:56:38<13:41:11,  1.42it/s]/home/dehezhang2/anaconda3/lib/python3.7/site-packages/PIL/Image.py:2766: DecompressionBombWarning: Image size (145486286 pixels) exceeds limit of 89478485 pixels, could be decompression bomb DOS attack.\n",
      "  DecompressionBombWarning,\n",
      " 12%|█▏        | 9999/80000 [1:57:29<13:42:33,  1.42it/s]"
     ]
    },
    {
     "name": "stdout",
     "output_type": "stream",
     "text": [
      "Tue Jul  7 04:28:40 2020: Iteration: [10000/80000]\tRecon Loss: 519.0057\tPercept Loss: 46885.5193\tTV Loss: 10.1422\tAttn Loss: 23226.5932\tTotal: 191536.5573\n"
     ]
    },
    {
     "name": "stderr",
     "output_type": "stream",
     "text": [
      " 13%|█▎        | 10099/80000 [1:58:40<13:39:05,  1.42it/s]"
     ]
    },
    {
     "name": "stdout",
     "output_type": "stream",
     "text": [
      "Tue Jul  7 04:29:50 2020: Iteration: [10100/80000]\tRecon Loss: 517.6124\tPercept Loss: 47190.3722\tTV Loss: 10.1834\tAttn Loss: 22486.3126\tTotal: 187386.2064\n"
     ]
    },
    {
     "name": "stderr",
     "output_type": "stream",
     "text": [
      " 13%|█▎        | 10199/80000 [1:59:50<13:38:17,  1.42it/s]"
     ]
    },
    {
     "name": "stdout",
     "output_type": "stream",
     "text": [
      "Tue Jul  7 04:31:01 2020: Iteration: [10200/80000]\tRecon Loss: 520.2488\tPercept Loss: 47274.2862\tTV Loss: 10.3293\tAttn Loss: 21737.0346\tTotal: 183002.2734\n"
     ]
    },
    {
     "name": "stderr",
     "output_type": "stream",
     "text": [
      " 13%|█▎        | 10299/80000 [2:01:01<13:35:06,  1.43it/s]"
     ]
    },
    {
     "name": "stdout",
     "output_type": "stream",
     "text": [
      "Tue Jul  7 04:32:12 2020: Iteration: [10300/80000]\tRecon Loss: 539.3107\tPercept Loss: 47955.5092\tTV Loss: 10.4806\tAttn Loss: 23273.6249\tTotal: 193095.1725\n"
     ]
    },
    {
     "name": "stderr",
     "output_type": "stream",
     "text": [
      " 13%|█▎        | 10399/80000 [2:02:12<13:39:42,  1.42it/s]"
     ]
    },
    {
     "name": "stdout",
     "output_type": "stream",
     "text": [
      "Tue Jul  7 04:33:22 2020: Iteration: [10400/80000]\tRecon Loss: 512.0969\tPercept Loss: 45870.6679\tTV Loss: 10.1725\tAttn Loss: 22296.4611\tTotal: 184872.1286\n"
     ]
    },
    {
     "name": "stderr",
     "output_type": "stream",
     "text": [
      " 13%|█▎        | 10499/80000 [2:03:22<13:36:23,  1.42it/s]"
     ]
    },
    {
     "name": "stdout",
     "output_type": "stream",
     "text": [
      "Tue Jul  7 04:34:33 2020: Iteration: [10500/80000]\tRecon Loss: 526.6657\tPercept Loss: 47448.1687\tTV Loss: 10.5806\tAttn Loss: 21885.0171\tTotal: 184130.7347\n"
     ]
    },
    {
     "name": "stderr",
     "output_type": "stream",
     "text": [
      " 13%|█▎        | 10599/80000 [2:04:33<13:36:39,  1.42it/s]"
     ]
    },
    {
     "name": "stdout",
     "output_type": "stream",
     "text": [
      "Tue Jul  7 04:35:44 2020: Iteration: [10600/80000]\tRecon Loss: 524.3826\tPercept Loss: 46413.5905\tTV Loss: 10.2895\tAttn Loss: 21978.9400\tTotal: 183633.9522\n"
     ]
    },
    {
     "name": "stderr",
     "output_type": "stream",
     "text": [
      " 13%|█▎        | 10699/80000 [2:05:43<13:31:58,  1.42it/s]"
     ]
    },
    {
     "name": "stdout",
     "output_type": "stream",
     "text": [
      "Tue Jul  7 04:36:54 2020: Iteration: [10700/80000]\tRecon Loss: 539.9880\tPercept Loss: 47830.0880\tTV Loss: 10.5721\tAttn Loss: 25071.9877\tTotal: 203767.6150\n"
     ]
    },
    {
     "name": "stderr",
     "output_type": "stream",
     "text": [
      " 13%|█▎        | 10799/80000 [2:06:54<13:31:24,  1.42it/s]"
     ]
    },
    {
     "name": "stdout",
     "output_type": "stream",
     "text": [
      "Tue Jul  7 04:38:04 2020: Iteration: [10800/80000]\tRecon Loss: 522.5084\tPercept Loss: 47384.1358\tTV Loss: 10.5412\tAttn Loss: 21119.3850\tTotal: 179430.9414\n"
     ]
    },
    {
     "name": "stderr",
     "output_type": "stream",
     "text": [
      " 14%|█▎        | 10899/80000 [2:08:04<13:29:26,  1.42it/s]"
     ]
    },
    {
     "name": "stdout",
     "output_type": "stream",
     "text": [
      "Tue Jul  7 04:39:15 2020: Iteration: [10900/80000]\tRecon Loss: 523.6453\tPercept Loss: 47773.3407\tTV Loss: 10.5007\tAttn Loss: 22719.5133\tTotal: 189431.8806\n"
     ]
    },
    {
     "name": "stderr",
     "output_type": "stream",
     "text": [
      " 14%|█▎        | 10999/80000 [2:09:15<13:33:43,  1.41it/s]"
     ]
    },
    {
     "name": "stdout",
     "output_type": "stream",
     "text": [
      "Tue Jul  7 04:40:26 2020: Iteration: [11000/80000]\tRecon Loss: 536.7821\tPercept Loss: 48827.6769\tTV Loss: 10.6977\tAttn Loss: 21899.9362\tTotal: 185702.0919\n"
     ]
    },
    {
     "name": "stderr",
     "output_type": "stream",
     "text": [
      " 14%|█▍        | 11099/80000 [2:10:26<13:30:58,  1.42it/s]"
     ]
    },
    {
     "name": "stdout",
     "output_type": "stream",
     "text": [
      "Tue Jul  7 04:41:36 2020: Iteration: [11100/80000]\tRecon Loss: 545.3584\tPercept Loss: 48884.9532\tTV Loss: 10.8682\tAttn Loss: 20546.4367\tTotal: 177725.8383\n"
     ]
    },
    {
     "name": "stderr",
     "output_type": "stream",
     "text": [
      " 14%|█▍        | 11199/80000 [2:11:36<13:28:20,  1.42it/s]"
     ]
    },
    {
     "name": "stdout",
     "output_type": "stream",
     "text": [
      "Tue Jul  7 04:42:47 2020: Iteration: [11200/80000]\tRecon Loss: 515.1024\tPercept Loss: 47012.8637\tTV Loss: 10.4283\tAttn Loss: 22040.1789\tTotal: 184509.2430\n"
     ]
    },
    {
     "name": "stderr",
     "output_type": "stream",
     "text": [
      " 14%|█▍        | 11299/80000 [2:12:47<13:26:27,  1.42it/s]"
     ]
    },
    {
     "name": "stdout",
     "output_type": "stream",
     "text": [
      "Tue Jul  7 04:43:57 2020: Iteration: [11300/80000]\tRecon Loss: 508.1276\tPercept Loss: 45659.0905\tTV Loss: 10.3922\tAttn Loss: 20844.3673\tTotal: 175910.4925\n"
     ]
    },
    {
     "name": "stderr",
     "output_type": "stream",
     "text": [
      " 14%|█▍        | 11399/80000 [2:13:57<13:31:29,  1.41it/s]"
     ]
    },
    {
     "name": "stdout",
     "output_type": "stream",
     "text": [
      "Tue Jul  7 04:45:08 2020: Iteration: [11400/80000]\tRecon Loss: 533.2661\tPercept Loss: 47038.6310\tTV Loss: 10.5126\tAttn Loss: 21134.0234\tTotal: 179280.5577\n"
     ]
    },
    {
     "name": "stderr",
     "output_type": "stream",
     "text": [
      " 14%|█▍        | 11464/80000 [2:14:43<13:16:47,  1.43it/s]/home/dehezhang2/anaconda3/lib/python3.7/site-packages/PIL/Image.py:2766: DecompressionBombWarning: Image size (107327830 pixels) exceeds limit of 89478485 pixels, could be decompression bomb DOS attack.\n",
      "  DecompressionBombWarning,\n",
      " 14%|█▍        | 11499/80000 [2:15:08<13:29:46,  1.41it/s]"
     ]
    },
    {
     "name": "stdout",
     "output_type": "stream",
     "text": [
      "Tue Jul  7 04:46:18 2020: Iteration: [11500/80000]\tRecon Loss: 544.3756\tPercept Loss: 47885.2295\tTV Loss: 10.6235\tAttn Loss: 21017.1509\tTotal: 179538.1266\n"
     ]
    },
    {
     "name": "stderr",
     "output_type": "stream",
     "text": [
      " 14%|█▍        | 11575/80000 [2:16:01<13:22:01,  1.42it/s]/home/dehezhang2/anaconda3/lib/python3.7/site-packages/PIL/Image.py:2766: DecompressionBombWarning: Image size (129086580 pixels) exceeds limit of 89478485 pixels, could be decompression bomb DOS attack.\n",
      "  DecompressionBombWarning,\n",
      " 14%|█▍        | 11599/80000 [2:16:18<13:28:06,  1.41it/s]"
     ]
    },
    {
     "name": "stdout",
     "output_type": "stream",
     "text": [
      "Tue Jul  7 04:47:29 2020: Iteration: [11600/80000]\tRecon Loss: 521.6070\tPercept Loss: 46122.9730\tTV Loss: 10.3223\tAttn Loss: 20956.6604\tTotal: 177182.2291\n"
     ]
    },
    {
     "name": "stderr",
     "output_type": "stream",
     "text": [
      " 15%|█▍        | 11699/80000 [2:17:29<13:19:18,  1.42it/s]"
     ]
    },
    {
     "name": "stdout",
     "output_type": "stream",
     "text": [
      "Tue Jul  7 04:48:39 2020: Iteration: [11700/80000]\tRecon Loss: 543.4101\tPercept Loss: 48466.4504\tTV Loss: 10.7401\tAttn Loss: 20499.9945\tTotal: 177007.9202\n"
     ]
    },
    {
     "name": "stderr",
     "output_type": "stream",
     "text": [
      " 15%|█▍        | 11799/80000 [2:18:39<13:17:25,  1.43it/s]"
     ]
    },
    {
     "name": "stdout",
     "output_type": "stream",
     "text": [
      "Tue Jul  7 04:49:50 2020: Iteration: [11800/80000]\tRecon Loss: 553.5828\tPercept Loss: 49247.3561\tTV Loss: 10.7623\tAttn Loss: 20593.8826\tTotal: 178454.1013\n"
     ]
    },
    {
     "name": "stderr",
     "output_type": "stream",
     "text": [
      " 15%|█▍        | 11899/80000 [2:19:50<13:23:56,  1.41it/s]"
     ]
    },
    {
     "name": "stdout",
     "output_type": "stream",
     "text": [
      "Tue Jul  7 04:51:00 2020: Iteration: [11900/80000]\tRecon Loss: 531.0154\tPercept Loss: 47343.1423\tTV Loss: 10.6808\tAttn Loss: 21138.0594\tTotal: 179588.4597\n"
     ]
    },
    {
     "name": "stderr",
     "output_type": "stream",
     "text": [
      " 15%|█▍        | 11999/80000 [2:21:00<13:18:18,  1.42it/s]"
     ]
    },
    {
     "name": "stdout",
     "output_type": "stream",
     "text": [
      "Tue Jul  7 04:52:11 2020: Iteration: [12000/80000]\tRecon Loss: 510.1267\tPercept Loss: 45392.2544\tTV Loss: 10.2831\tAttn Loss: 21019.8453\tTotal: 176715.4252\n"
     ]
    },
    {
     "name": "stderr",
     "output_type": "stream",
     "text": [
      " 15%|█▌        | 12099/80000 [2:22:11<13:14:08,  1.43it/s]"
     ]
    },
    {
     "name": "stdout",
     "output_type": "stream",
     "text": [
      "Tue Jul  7 04:53:22 2020: Iteration: [12100/80000]\tRecon Loss: 538.3702\tPercept Loss: 47990.2268\tTV Loss: 10.7121\tAttn Loss: 20818.0608\tTotal: 178389.4139\n"
     ]
    },
    {
     "name": "stderr",
     "output_type": "stream",
     "text": [
      " 15%|█▌        | 12199/80000 [2:23:21<13:17:11,  1.42it/s]"
     ]
    },
    {
     "name": "stdout",
     "output_type": "stream",
     "text": [
      "Tue Jul  7 04:54:32 2020: Iteration: [12200/80000]\tRecon Loss: 543.0386\tPercept Loss: 48710.5980\tTV Loss: 10.8587\tAttn Loss: 21550.7032\tTotal: 183553.7903\n"
     ]
    },
    {
     "name": "stderr",
     "output_type": "stream",
     "text": [
      " 15%|█▌        | 12299/80000 [2:24:32<13:17:02,  1.42it/s]"
     ]
    },
    {
     "name": "stdout",
     "output_type": "stream",
     "text": [
      "Tue Jul  7 04:55:43 2020: Iteration: [12300/80000]\tRecon Loss: 534.3164\tPercept Loss: 47056.4174\tTV Loss: 10.7245\tAttn Loss: 20779.9303\tTotal: 177186.4075\n"
     ]
    },
    {
     "name": "stderr",
     "output_type": "stream",
     "text": [
      " 15%|█▌        | 12399/80000 [2:25:43<13:08:55,  1.43it/s]"
     ]
    },
    {
     "name": "stdout",
     "output_type": "stream",
     "text": [
      "Tue Jul  7 04:56:53 2020: Iteration: [12400/80000]\tRecon Loss: 526.3748\tPercept Loss: 46464.0372\tTV Loss: 10.6035\tAttn Loss: 21552.0817\tTotal: 181146.3102\n"
     ]
    },
    {
     "name": "stderr",
     "output_type": "stream",
     "text": [
      " 16%|█▌        | 12499/80000 [2:26:53<13:12:20,  1.42it/s]"
     ]
    },
    {
     "name": "stdout",
     "output_type": "stream",
     "text": [
      "Tue Jul  7 04:58:04 2020: Iteration: [12500/80000]\tRecon Loss: 503.3371\tPercept Loss: 46109.2240\tTV Loss: 10.4465\tAttn Loss: 20642.7817\tTotal: 175103.7497\n"
     ]
    },
    {
     "name": "stderr",
     "output_type": "stream",
     "text": [
      " 16%|█▌        | 12599/80000 [2:28:04<13:13:18,  1.42it/s]"
     ]
    },
    {
     "name": "stdout",
     "output_type": "stream",
     "text": [
      "Tue Jul  7 04:59:14 2020: Iteration: [12600/80000]\tRecon Loss: 518.8514\tPercept Loss: 45987.7399\tTV Loss: 10.5504\tAttn Loss: 20204.8898\tTotal: 172511.0964\n"
     ]
    },
    {
     "name": "stderr",
     "output_type": "stream",
     "text": [
      " 16%|█▌        | 12699/80000 [2:29:14<13:12:20,  1.42it/s]"
     ]
    },
    {
     "name": "stdout",
     "output_type": "stream",
     "text": [
      "Tue Jul  7 05:00:25 2020: Iteration: [12700/80000]\tRecon Loss: 552.9737\tPercept Loss: 48899.1326\tTV Loss: 10.9875\tAttn Loss: 20183.8124\tTotal: 175641.6191\n"
     ]
    },
    {
     "name": "stderr",
     "output_type": "stream",
     "text": [
      " 16%|█▌        | 12799/80000 [2:30:25<13:11:38,  1.41it/s]"
     ]
    },
    {
     "name": "stdout",
     "output_type": "stream",
     "text": [
      "Tue Jul  7 05:01:35 2020: Iteration: [12800/80000]\tRecon Loss: 520.9724\tPercept Loss: 46812.1619\tTV Loss: 10.4798\tAttn Loss: 20604.3016\tTotal: 175752.4930\n"
     ]
    },
    {
     "name": "stderr",
     "output_type": "stream",
     "text": [
      " 16%|█▌        | 12899/80000 [2:31:35<13:04:33,  1.43it/s]"
     ]
    },
    {
     "name": "stdout",
     "output_type": "stream",
     "text": [
      "Tue Jul  7 05:02:46 2020: Iteration: [12900/80000]\tRecon Loss: 532.7875\tPercept Loss: 46676.7332\tTV Loss: 10.6938\tAttn Loss: 20364.6111\tTotal: 174299.2141\n"
     ]
    },
    {
     "name": "stderr",
     "output_type": "stream",
     "text": [
      " 16%|█▌        | 12999/80000 [2:32:46<13:07:28,  1.42it/s]"
     ]
    },
    {
     "name": "stdout",
     "output_type": "stream",
     "text": [
      "Tue Jul  7 05:03:56 2020: Iteration: [13000/80000]\tRecon Loss: 509.6361\tPercept Loss: 45171.6796\tTV Loss: 10.3072\tAttn Loss: 21486.4019\tTotal: 179289.5247\n"
     ]
    },
    {
     "name": "stderr",
     "output_type": "stream",
     "text": [
      " 16%|█▋        | 13099/80000 [2:33:56<13:04:15,  1.42it/s]"
     ]
    },
    {
     "name": "stdout",
     "output_type": "stream",
     "text": [
      "Tue Jul  7 05:05:07 2020: Iteration: [13100/80000]\tRecon Loss: 526.3318\tPercept Loss: 47212.2235\tTV Loss: 10.7349\tAttn Loss: 19997.4929\tTotal: 172567.8473\n"
     ]
    },
    {
     "name": "stderr",
     "output_type": "stream",
     "text": [
      " 16%|█▋        | 13199/80000 [2:35:07<13:10:29,  1.41it/s]"
     ]
    },
    {
     "name": "stdout",
     "output_type": "stream",
     "text": [
      "Tue Jul  7 05:06:17 2020: Iteration: [13200/80000]\tRecon Loss: 537.5055\tPercept Loss: 48151.0006\tTV Loss: 11.0286\tAttn Loss: 19848.6025\tTotal: 172727.9555\n"
     ]
    },
    {
     "name": "stderr",
     "output_type": "stream",
     "text": [
      " 17%|█▋        | 13299/80000 [2:36:17<13:03:10,  1.42it/s]"
     ]
    },
    {
     "name": "stdout",
     "output_type": "stream",
     "text": [
      "Tue Jul  7 05:07:28 2020: Iteration: [13300/80000]\tRecon Loss: 497.4346\tPercept Loss: 44289.2657\tTV Loss: 10.3087\tAttn Loss: 19607.0239\tTotal: 167008.8423\n"
     ]
    },
    {
     "name": "stderr",
     "output_type": "stream",
     "text": [
      " 17%|█▋        | 13399/80000 [2:37:28<13:01:18,  1.42it/s]"
     ]
    },
    {
     "name": "stdout",
     "output_type": "stream",
     "text": [
      "Tue Jul  7 05:08:38 2020: Iteration: [13400/80000]\tRecon Loss: 513.2891\tPercept Loss: 45249.6548\tTV Loss: 10.5893\tAttn Loss: 21148.2879\tTotal: 177378.1666\n"
     ]
    },
    {
     "name": "stderr",
     "output_type": "stream",
     "text": [
      " 17%|█▋        | 13499/80000 [2:38:38<12:59:01,  1.42it/s]"
     ]
    },
    {
     "name": "stdout",
     "output_type": "stream",
     "text": [
      "Tue Jul  7 05:09:49 2020: Iteration: [13500/80000]\tRecon Loss: 506.3999\tPercept Loss: 44814.1266\tTV Loss: 10.4903\tAttn Loss: 19211.4905\tTotal: 165251.9713\n"
     ]
    },
    {
     "name": "stderr",
     "output_type": "stream",
     "text": [
      " 17%|█▋        | 13599/80000 [2:39:49<13:03:55,  1.41it/s]"
     ]
    },
    {
     "name": "stdout",
     "output_type": "stream",
     "text": [
      "Tue Jul  7 05:10:59 2020: Iteration: [13600/80000]\tRecon Loss: 510.2913\tPercept Loss: 45071.6826\tTV Loss: 10.5821\tAttn Loss: 21840.8119\tTotal: 181325.2872\n"
     ]
    },
    {
     "name": "stderr",
     "output_type": "stream",
     "text": [
      " 17%|█▋        | 13699/80000 [2:40:59<12:57:51,  1.42it/s]"
     ]
    },
    {
     "name": "stdout",
     "output_type": "stream",
     "text": [
      "Tue Jul  7 05:12:10 2020: Iteration: [13700/80000]\tRecon Loss: 498.8809\tPercept Loss: 46092.9715\tTV Loss: 10.5844\tAttn Loss: 19045.1778\tTotal: 165458.6911\n"
     ]
    },
    {
     "name": "stderr",
     "output_type": "stream",
     "text": [
      " 17%|█▋        | 13799/80000 [2:42:10<12:56:24,  1.42it/s]"
     ]
    },
    {
     "name": "stdout",
     "output_type": "stream",
     "text": [
      "Tue Jul  7 05:13:20 2020: Iteration: [13800/80000]\tRecon Loss: 500.4672\tPercept Loss: 45398.8295\tTV Loss: 10.4309\tAttn Loss: 19350.7357\tTotal: 166612.2247\n"
     ]
    },
    {
     "name": "stderr",
     "output_type": "stream",
     "text": [
      " 17%|█▋        | 13899/80000 [2:43:20<12:59:51,  1.41it/s]"
     ]
    },
    {
     "name": "stdout",
     "output_type": "stream",
     "text": [
      "Tue Jul  7 05:14:31 2020: Iteration: [13900/80000]\tRecon Loss: 543.4908\tPercept Loss: 47293.9166\tTV Loss: 10.9399\tAttn Loss: 19031.9100\tTotal: 167029.6834\n"
     ]
    },
    {
     "name": "stderr",
     "output_type": "stream",
     "text": [
      " 17%|█▋        | 13999/80000 [2:44:31<12:49:41,  1.43it/s]"
     ]
    },
    {
     "name": "stdout",
     "output_type": "stream",
     "text": [
      "Tue Jul  7 05:15:41 2020: Iteration: [14000/80000]\tRecon Loss: 512.5458\tPercept Loss: 45677.9945\tTV Loss: 10.7128\tAttn Loss: 20794.0499\tTotal: 175674.8794\n"
     ]
    },
    {
     "name": "stderr",
     "output_type": "stream",
     "text": [
      " 18%|█▊        | 14099/80000 [2:45:41<12:49:52,  1.43it/s]"
     ]
    },
    {
     "name": "stdout",
     "output_type": "stream",
     "text": [
      "Tue Jul  7 05:16:52 2020: Iteration: [14100/80000]\tRecon Loss: 492.3655\tPercept Loss: 44268.5401\tTV Loss: 10.5514\tAttn Loss: 19179.0349\tTotal: 164371.9175\n"
     ]
    },
    {
     "name": "stderr",
     "output_type": "stream",
     "text": [
      " 18%|█▊        | 14199/80000 [2:46:52<12:46:57,  1.43it/s]"
     ]
    },
    {
     "name": "stdout",
     "output_type": "stream",
     "text": [
      "Tue Jul  7 05:18:02 2020: Iteration: [14200/80000]\tRecon Loss: 515.5326\tPercept Loss: 45533.9730\tTV Loss: 10.5840\tAttn Loss: 20556.9180\tTotal: 174136.6473\n"
     ]
    },
    {
     "name": "stderr",
     "output_type": "stream",
     "text": [
      " 18%|█▊        | 14299/80000 [2:48:02<12:47:49,  1.43it/s]"
     ]
    },
    {
     "name": "stdout",
     "output_type": "stream",
     "text": [
      "Tue Jul  7 05:19:13 2020: Iteration: [14300/80000]\tRecon Loss: 509.8059\tPercept Loss: 44458.9336\tTV Loss: 10.5307\tAttn Loss: 19471.3613\tTotal: 166490.4691\n"
     ]
    },
    {
     "name": "stderr",
     "output_type": "stream",
     "text": [
      " 18%|█▊        | 14399/80000 [2:49:13<12:48:27,  1.42it/s]"
     ]
    },
    {
     "name": "stdout",
     "output_type": "stream",
     "text": [
      "Tue Jul  7 05:20:23 2020: Iteration: [14400/80000]\tRecon Loss: 512.7049\tPercept Loss: 45125.9683\tTV Loss: 10.6207\tAttn Loss: 18475.7700\tTotal: 161213.8445\n"
     ]
    },
    {
     "name": "stderr",
     "output_type": "stream",
     "text": [
      " 18%|█▊        | 14499/80000 [2:50:23<12:49:35,  1.42it/s]"
     ]
    },
    {
     "name": "stdout",
     "output_type": "stream",
     "text": [
      "Tue Jul  7 05:21:34 2020: Iteration: [14500/80000]\tRecon Loss: 510.8432\tPercept Loss: 44622.9749\tTV Loss: 10.5234\tAttn Loss: 19332.6887\tTotal: 165832.7720\n"
     ]
    },
    {
     "name": "stderr",
     "output_type": "stream",
     "text": [
      " 18%|█▊        | 14599/80000 [2:51:34<12:46:55,  1.42it/s]"
     ]
    },
    {
     "name": "stdout",
     "output_type": "stream",
     "text": [
      "Tue Jul  7 05:22:44 2020: Iteration: [14600/80000]\tRecon Loss: 506.7029\tPercept Loss: 46132.8482\tTV Loss: 10.7099\tAttn Loss: 18516.0793\tTotal: 162403.4520\n"
     ]
    },
    {
     "name": "stderr",
     "output_type": "stream",
     "text": [
      " 18%|█▊        | 14699/80000 [2:52:44<12:49:48,  1.41it/s]"
     ]
    },
    {
     "name": "stdout",
     "output_type": "stream",
     "text": [
      "Tue Jul  7 05:23:55 2020: Iteration: [14700/80000]\tRecon Loss: 510.1459\tPercept Loss: 45452.2261\tTV Loss: 10.7200\tAttn Loss: 18724.1639\tTotal: 163005.8689\n"
     ]
    },
    {
     "name": "stderr",
     "output_type": "stream",
     "text": [
      " 18%|█▊        | 14799/80000 [2:53:55<12:46:48,  1.42it/s]"
     ]
    },
    {
     "name": "stdout",
     "output_type": "stream",
     "text": [
      "Tue Jul  7 05:25:05 2020: Iteration: [14800/80000]\tRecon Loss: 475.7343\tPercept Loss: 43932.8756\tTV Loss: 10.3814\tAttn Loss: 20017.3720\tTotal: 168898.2642\n"
     ]
    },
    {
     "name": "stderr",
     "output_type": "stream",
     "text": [
      " 19%|█▊        | 14899/80000 [2:55:05<12:44:05,  1.42it/s]"
     ]
    },
    {
     "name": "stdout",
     "output_type": "stream",
     "text": [
      "Tue Jul  7 05:26:16 2020: Iteration: [14900/80000]\tRecon Loss: 512.2476\tPercept Loss: 45026.7847\tTV Loss: 10.5213\tAttn Loss: 19178.8418\tTotal: 165327.5248\n"
     ]
    },
    {
     "name": "stderr",
     "output_type": "stream",
     "text": [
      " 19%|█▊        | 14999/80000 [2:56:16<12:42:33,  1.42it/s]"
     ]
    },
    {
     "name": "stdout",
     "output_type": "stream",
     "text": [
      "Tue Jul  7 05:27:26 2020: Iteration: [15000/80000]\tRecon Loss: 500.8070\tPercept Loss: 44667.6616\tTV Loss: 10.6937\tAttn Loss: 18891.8121\tTotal: 163133.5411\n"
     ]
    },
    {
     "name": "stderr",
     "output_type": "stream",
     "text": [
      " 19%|█▉        | 15099/80000 [2:57:27<12:45:42,  1.41it/s]"
     ]
    },
    {
     "name": "stdout",
     "output_type": "stream",
     "text": [
      "Tue Jul  7 05:28:37 2020: Iteration: [15100/80000]\tRecon Loss: 512.2413\tPercept Loss: 45783.1868\tTV Loss: 10.6109\tAttn Loss: 18461.4762\tTotal: 161780.5655\n"
     ]
    },
    {
     "name": "stderr",
     "output_type": "stream",
     "text": [
      " 19%|█▉        | 15199/80000 [2:58:37<12:41:25,  1.42it/s]"
     ]
    },
    {
     "name": "stdout",
     "output_type": "stream",
     "text": [
      "Tue Jul  7 05:29:48 2020: Iteration: [15200/80000]\tRecon Loss: 515.8544\tPercept Loss: 46353.3300\tTV Loss: 10.9839\tAttn Loss: 18258.8986\tTotal: 161175.1048\n"
     ]
    },
    {
     "name": "stderr",
     "output_type": "stream",
     "text": [
      " 19%|█▉        | 15299/80000 [2:59:48<12:36:35,  1.43it/s]"
     ]
    },
    {
     "name": "stdout",
     "output_type": "stream",
     "text": [
      "Tue Jul  7 05:30:58 2020: Iteration: [15300/80000]\tRecon Loss: 524.6083\tPercept Loss: 45760.9920\tTV Loss: 10.7916\tAttn Loss: 18615.5959\tTotal: 162808.5670\n"
     ]
    },
    {
     "name": "stderr",
     "output_type": "stream",
     "text": [
      " 19%|█▉        | 15399/80000 [3:00:58<12:40:13,  1.42it/s]"
     ]
    },
    {
     "name": "stdout",
     "output_type": "stream",
     "text": [
      "Tue Jul  7 05:32:09 2020: Iteration: [15400/80000]\tRecon Loss: 494.7958\tPercept Loss: 43523.2533\tTV Loss: 10.4694\tAttn Loss: 18714.2492\tTotal: 160861.4008\n"
     ]
    },
    {
     "name": "stderr",
     "output_type": "stream",
     "text": [
      " 19%|█▉        | 15499/80000 [3:02:09<12:37:12,  1.42it/s]"
     ]
    },
    {
     "name": "stdout",
     "output_type": "stream",
     "text": [
      "Tue Jul  7 05:33:19 2020: Iteration: [15500/80000]\tRecon Loss: 492.6771\tPercept Loss: 44060.9171\tTV Loss: 10.4921\tAttn Loss: 18236.4055\tTotal: 158511.0428\n"
     ]
    },
    {
     "name": "stderr",
     "output_type": "stream",
     "text": [
      " 19%|█▉        | 15599/80000 [3:03:19<12:33:51,  1.42it/s]"
     ]
    },
    {
     "name": "stdout",
     "output_type": "stream",
     "text": [
      "Tue Jul  7 05:34:30 2020: Iteration: [15600/80000]\tRecon Loss: 522.8728\tPercept Loss: 45189.9994\tTV Loss: 10.6372\tAttn Loss: 19630.4572\tTotal: 168307.8420\n"
     ]
    },
    {
     "name": "stderr",
     "output_type": "stream",
     "text": [
      " 20%|█▉        | 15699/80000 [3:04:30<12:35:03,  1.42it/s]"
     ]
    },
    {
     "name": "stdout",
     "output_type": "stream",
     "text": [
      "Tue Jul  7 05:35:40 2020: Iteration: [15700/80000]\tRecon Loss: 501.5027\tPercept Loss: 44105.3524\tTV Loss: 10.6588\tAttn Loss: 18151.8409\tTotal: 158138.0119\n"
     ]
    },
    {
     "name": "stderr",
     "output_type": "stream",
     "text": [
      " 20%|█▉        | 15799/80000 [3:05:40<12:32:38,  1.42it/s]"
     ]
    },
    {
     "name": "stdout",
     "output_type": "stream",
     "text": [
      "Tue Jul  7 05:36:51 2020: Iteration: [15800/80000]\tRecon Loss: 507.3980\tPercept Loss: 46230.2173\tTV Loss: 10.7985\tAttn Loss: 17581.5751\tTotal: 156901.6339\n"
     ]
    },
    {
     "name": "stderr",
     "output_type": "stream",
     "text": [
      " 20%|█▉        | 15899/80000 [3:06:51<12:34:22,  1.42it/s]"
     ]
    },
    {
     "name": "stdout",
     "output_type": "stream",
     "text": [
      "Tue Jul  7 05:38:01 2020: Iteration: [15900/80000]\tRecon Loss: 517.5506\tPercept Loss: 45841.3379\tTV Loss: 10.9134\tAttn Loss: 17663.2630\tTotal: 157105.5566\n"
     ]
    },
    {
     "name": "stderr",
     "output_type": "stream",
     "text": [
      " 20%|█▉        | 15999/80000 [3:08:01<12:34:07,  1.41it/s]"
     ]
    },
    {
     "name": "stdout",
     "output_type": "stream",
     "text": [
      "Tue Jul  7 05:39:12 2020: Iteration: [16000/80000]\tRecon Loss: 522.1629\tPercept Loss: 45128.5509\tTV Loss: 10.6696\tAttn Loss: 18215.5691\tTotal: 159750.2903\n"
     ]
    },
    {
     "name": "stderr",
     "output_type": "stream",
     "text": [
      " 20%|██        | 16099/80000 [3:09:12<12:31:03,  1.42it/s]"
     ]
    },
    {
     "name": "stdout",
     "output_type": "stream",
     "text": [
      "Tue Jul  7 05:40:22 2020: Iteration: [16100/80000]\tRecon Loss: 498.6258\tPercept Loss: 43949.0606\tTV Loss: 10.4537\tAttn Loss: 18245.9853\tTotal: 158515.7678\n"
     ]
    },
    {
     "name": "stderr",
     "output_type": "stream",
     "text": [
      " 20%|██        | 16199/80000 [3:10:22<12:26:44,  1.42it/s]"
     ]
    },
    {
     "name": "stdout",
     "output_type": "stream",
     "text": [
      "Tue Jul  7 05:41:33 2020: Iteration: [16200/80000]\tRecon Loss: 499.2119\tPercept Loss: 44536.0972\tTV Loss: 10.5971\tAttn Loss: 17727.0867\tTotal: 155996.7077\n"
     ]
    },
    {
     "name": "stderr",
     "output_type": "stream",
     "text": [
      " 20%|██        | 16299/80000 [3:11:33<12:26:22,  1.42it/s]"
     ]
    },
    {
     "name": "stdout",
     "output_type": "stream",
     "text": [
      "Tue Jul  7 05:42:43 2020: Iteration: [16300/80000]\tRecon Loss: 506.4973\tPercept Loss: 44878.6925\tTV Loss: 10.7429\tAttn Loss: 17802.6507\tTotal: 156867.0002\n"
     ]
    },
    {
     "name": "stderr",
     "output_type": "stream",
     "text": [
      " 20%|██        | 16399/80000 [3:12:43<12:32:06,  1.41it/s]"
     ]
    },
    {
     "name": "stdout",
     "output_type": "stream",
     "text": [
      "Tue Jul  7 05:43:54 2020: Iteration: [16400/80000]\tRecon Loss: 497.9889\tPercept Loss: 44316.5352\tTV Loss: 10.6091\tAttn Loss: 17597.6468\tTotal: 154988.3955\n"
     ]
    },
    {
     "name": "stderr",
     "output_type": "stream",
     "text": [
      " 21%|██        | 16499/80000 [3:13:54<12:24:51,  1.42it/s]"
     ]
    },
    {
     "name": "stdout",
     "output_type": "stream",
     "text": [
      "Tue Jul  7 05:45:04 2020: Iteration: [16500/80000]\tRecon Loss: 515.4005\tPercept Loss: 43589.2565\tTV Loss: 10.5594\tAttn Loss: 18629.5987\tTotal: 160626.4475\n"
     ]
    },
    {
     "name": "stderr",
     "output_type": "stream",
     "text": [
      " 21%|██        | 16599/80000 [3:15:04<12:23:39,  1.42it/s]"
     ]
    },
    {
     "name": "stdout",
     "output_type": "stream",
     "text": [
      "Tue Jul  7 05:46:15 2020: Iteration: [16600/80000]\tRecon Loss: 487.6384\tPercept Loss: 42746.3359\tTV Loss: 10.5382\tAttn Loss: 17572.5643\tTotal: 153163.4887\n"
     ]
    },
    {
     "name": "stderr",
     "output_type": "stream",
     "text": [
      " 21%|██        | 16639/80000 [3:15:32<12:21:38,  1.42it/s]/home/dehezhang2/anaconda3/lib/python3.7/site-packages/PIL/Image.py:2766: DecompressionBombWarning: Image size (94435468 pixels) exceeds limit of 89478485 pixels, could be decompression bomb DOS attack.\n",
      "  DecompressionBombWarning,\n",
      " 21%|██        | 16699/80000 [3:16:15<12:21:54,  1.42it/s]"
     ]
    },
    {
     "name": "stdout",
     "output_type": "stream",
     "text": [
      "Tue Jul  7 05:47:25 2020: Iteration: [16700/80000]\tRecon Loss: 514.1415\tPercept Loss: 46520.2478\tTV Loss: 10.9600\tAttn Loss: 17855.8047\tTotal: 158906.0908\n"
     ]
    },
    {
     "name": "stderr",
     "output_type": "stream",
     "text": [
      " 21%|██        | 16799/80000 [3:17:25<12:22:42,  1.42it/s]"
     ]
    },
    {
     "name": "stdout",
     "output_type": "stream",
     "text": [
      "Tue Jul  7 05:48:36 2020: Iteration: [16800/80000]\tRecon Loss: 485.0405\tPercept Loss: 43184.4107\tTV Loss: 10.4695\tAttn Loss: 19761.0477\tTotal: 166705.7964\n"
     ]
    },
    {
     "name": "stderr",
     "output_type": "stream",
     "text": [
      " 21%|██        | 16899/80000 [3:18:36<12:23:49,  1.41it/s]"
     ]
    },
    {
     "name": "stdout",
     "output_type": "stream",
     "text": [
      "Tue Jul  7 05:49:46 2020: Iteration: [16900/80000]\tRecon Loss: 501.6638\tPercept Loss: 43925.0044\tTV Loss: 10.6358\tAttn Loss: 18081.0432\tTotal: 157534.2583\n"
     ]
    },
    {
     "name": "stderr",
     "output_type": "stream",
     "text": [
      " 21%|██        | 16999/80000 [3:19:46<12:17:23,  1.42it/s]"
     ]
    },
    {
     "name": "stdout",
     "output_type": "stream",
     "text": [
      "Tue Jul  7 05:50:57 2020: Iteration: [17000/80000]\tRecon Loss: 492.8053\tPercept Loss: 44347.4968\tTV Loss: 10.6920\tAttn Loss: 19129.2662\tTotal: 164158.0683\n"
     ]
    },
    {
     "name": "stderr",
     "output_type": "stream",
     "text": [
      " 21%|██▏       | 17099/80000 [3:20:57<12:17:45,  1.42it/s]"
     ]
    },
    {
     "name": "stdout",
     "output_type": "stream",
     "text": [
      "Tue Jul  7 05:52:07 2020: Iteration: [17100/80000]\tRecon Loss: 489.5790\tPercept Loss: 44407.7135\tTV Loss: 10.6057\tAttn Loss: 17427.9357\tTotal: 153977.1752\n"
     ]
    },
    {
     "name": "stderr",
     "output_type": "stream",
     "text": [
      " 21%|██▏       | 17199/80000 [3:22:07<12:22:47,  1.41it/s]"
     ]
    },
    {
     "name": "stdout",
     "output_type": "stream",
     "text": [
      "Tue Jul  7 05:53:18 2020: Iteration: [17200/80000]\tRecon Loss: 496.1548\tPercept Loss: 45003.0674\tTV Loss: 10.9201\tAttn Loss: 16957.2128\tTotal: 151817.0941\n"
     ]
    },
    {
     "name": "stderr",
     "output_type": "stream",
     "text": [
      " 22%|██▏       | 17299/80000 [3:23:18<12:11:23,  1.43it/s]"
     ]
    },
    {
     "name": "stdout",
     "output_type": "stream",
     "text": [
      "Tue Jul  7 05:54:28 2020: Iteration: [17300/80000]\tRecon Loss: 525.2692\tPercept Loss: 45662.0753\tTV Loss: 10.9604\tAttn Loss: 16834.0126\tTotal: 152028.4473\n"
     ]
    },
    {
     "name": "stderr",
     "output_type": "stream",
     "text": [
      " 22%|██▏       | 17399/80000 [3:24:28<12:14:20,  1.42it/s]"
     ]
    },
    {
     "name": "stdout",
     "output_type": "stream",
     "text": [
      "Tue Jul  7 05:55:39 2020: Iteration: [17400/80000]\tRecon Loss: 515.1545\tPercept Loss: 45038.6540\tTV Loss: 10.7950\tAttn Loss: 17052.7658\tTotal: 152614.7442\n"
     ]
    },
    {
     "name": "stderr",
     "output_type": "stream",
     "text": [
      " 22%|██▏       | 17499/80000 [3:25:39<12:14:19,  1.42it/s]"
     ]
    },
    {
     "name": "stdout",
     "output_type": "stream",
     "text": [
      "Tue Jul  7 05:56:49 2020: Iteration: [17500/80000]\tRecon Loss: 466.0463\tPercept Loss: 41693.3669\tTV Loss: 10.4118\tAttn Loss: 16924.4189\tTotal: 148004.4620\n"
     ]
    },
    {
     "name": "stderr",
     "output_type": "stream",
     "text": [
      " 22%|██▏       | 17599/80000 [3:26:49<12:13:22,  1.42it/s]"
     ]
    },
    {
     "name": "stdout",
     "output_type": "stream",
     "text": [
      "Tue Jul  7 05:58:00 2020: Iteration: [17600/80000]\tRecon Loss: 503.7811\tPercept Loss: 44132.6178\tTV Loss: 10.6525\tAttn Loss: 19155.5133\tTotal: 164210.0341\n"
     ]
    },
    {
     "name": "stderr",
     "output_type": "stream",
     "text": [
      " 22%|██▏       | 17699/80000 [3:28:00<12:11:52,  1.42it/s]"
     ]
    },
    {
     "name": "stdout",
     "output_type": "stream",
     "text": [
      "Tue Jul  7 05:59:10 2020: Iteration: [17700/80000]\tRecon Loss: 510.8242\tPercept Loss: 44962.5413\tTV Loss: 10.7892\tAttn Loss: 16587.7938\tTotal: 149705.4382\n"
     ]
    },
    {
     "name": "stderr",
     "output_type": "stream",
     "text": [
      " 22%|██▏       | 17799/80000 [3:29:10<12:06:02,  1.43it/s]"
     ]
    },
    {
     "name": "stdout",
     "output_type": "stream",
     "text": [
      "Tue Jul  7 06:00:21 2020: Iteration: [17800/80000]\tRecon Loss: 494.9060\tPercept Loss: 43444.1358\tTV Loss: 10.6576\tAttn Loss: 17305.1615\tTotal: 152330.7412\n"
     ]
    },
    {
     "name": "stderr",
     "output_type": "stream",
     "text": [
      " 22%|██▏       | 17899/80000 [3:30:21<12:09:32,  1.42it/s]"
     ]
    },
    {
     "name": "stdout",
     "output_type": "stream",
     "text": [
      "Tue Jul  7 06:01:32 2020: Iteration: [17900/80000]\tRecon Loss: 480.6930\tPercept Loss: 43332.2204\tTV Loss: 10.5203\tAttn Loss: 17410.4569\tTotal: 152707.0963\n"
     ]
    },
    {
     "name": "stderr",
     "output_type": "stream",
     "text": [
      " 22%|██▏       | 17999/80000 [3:31:32<12:06:52,  1.42it/s]"
     ]
    },
    {
     "name": "stdout",
     "output_type": "stream",
     "text": [
      "Tue Jul  7 06:02:42 2020: Iteration: [18000/80000]\tRecon Loss: 491.3563\tPercept Loss: 43944.2564\tTV Loss: 10.6946\tAttn Loss: 18176.1065\tTotal: 158021.4052\n"
     ]
    },
    {
     "name": "stderr",
     "output_type": "stream",
     "text": [
      " 23%|██▎       | 18099/80000 [3:32:42<12:03:57,  1.43it/s]"
     ]
    },
    {
     "name": "stdout",
     "output_type": "stream",
     "text": [
      "Tue Jul  7 06:03:53 2020: Iteration: [18100/80000]\tRecon Loss: 504.3617\tPercept Loss: 44041.7845\tTV Loss: 10.7082\tAttn Loss: 16964.2780\tTotal: 150978.1507\n"
     ]
    },
    {
     "name": "stderr",
     "output_type": "stream",
     "text": [
      " 23%|██▎       | 18199/80000 [3:33:53<12:04:43,  1.42it/s]"
     ]
    },
    {
     "name": "stdout",
     "output_type": "stream",
     "text": [
      "Tue Jul  7 06:05:03 2020: Iteration: [18200/80000]\tRecon Loss: 497.4981\tPercept Loss: 44446.8117\tTV Loss: 10.7903\tAttn Loss: 17730.2476\tTotal: 155911.1823\n"
     ]
    },
    {
     "name": "stderr",
     "output_type": "stream",
     "text": [
      " 23%|██▎       | 18299/80000 [3:35:03<12:03:31,  1.42it/s]"
     ]
    },
    {
     "name": "stdout",
     "output_type": "stream",
     "text": [
      "Tue Jul  7 06:06:14 2020: Iteration: [18300/80000]\tRecon Loss: 483.6823\tPercept Loss: 42618.4536\tTV Loss: 10.4204\tAttn Loss: 16983.4758\tTotal: 149460.3355\n"
     ]
    },
    {
     "name": "stderr",
     "output_type": "stream",
     "text": [
      " 23%|██▎       | 18399/80000 [3:36:14<12:04:21,  1.42it/s]"
     ]
    },
    {
     "name": "stdout",
     "output_type": "stream",
     "text": [
      "Tue Jul  7 06:07:24 2020: Iteration: [18400/80000]\tRecon Loss: 479.7894\tPercept Loss: 43318.7894\tTV Loss: 10.5739\tAttn Loss: 16895.2324\tTotal: 149593.8178\n"
     ]
    },
    {
     "name": "stderr",
     "output_type": "stream",
     "text": [
      " 23%|██▎       | 18472/80000 [3:37:05<12:00:19,  1.42it/s]/home/dehezhang2/anaconda3/lib/python3.7/site-packages/PIL/Image.py:2766: DecompressionBombWarning: Image size (131790400 pixels) exceeds limit of 89478485 pixels, could be decompression bomb DOS attack.\n",
      "  DecompressionBombWarning,\n",
      " 23%|██▎       | 18499/80000 [3:37:24<12:04:20,  1.42it/s]"
     ]
    },
    {
     "name": "stdout",
     "output_type": "stream",
     "text": [
      "Tue Jul  7 06:08:35 2020: Iteration: [18500/80000]\tRecon Loss: 496.3292\tPercept Loss: 44246.4541\tTV Loss: 10.7415\tAttn Loss: 16880.5593\tTotal: 150600.5172\n"
     ]
    },
    {
     "name": "stderr",
     "output_type": "stream",
     "text": [
      " 23%|██▎       | 18599/80000 [3:38:34<11:56:32,  1.43it/s]"
     ]
    },
    {
     "name": "stdout",
     "output_type": "stream",
     "text": [
      "Tue Jul  7 06:09:45 2020: Iteration: [18600/80000]\tRecon Loss: 502.9889\tPercept Loss: 44269.8068\tTV Loss: 10.7368\tAttn Loss: 16181.6834\tTotal: 146497.1636\n"
     ]
    },
    {
     "name": "stderr",
     "output_type": "stream",
     "text": [
      " 23%|██▎       | 18699/80000 [3:39:45<11:58:17,  1.42it/s]"
     ]
    },
    {
     "name": "stdout",
     "output_type": "stream",
     "text": [
      "Tue Jul  7 06:10:56 2020: Iteration: [18700/80000]\tRecon Loss: 502.7211\tPercept Loss: 44864.8811\tTV Loss: 10.8375\tAttn Loss: 16196.2783\tTotal: 147178.1374\n"
     ]
    },
    {
     "name": "stderr",
     "output_type": "stream",
     "text": [
      " 23%|██▎       | 18799/80000 [3:40:55<11:56:07,  1.42it/s]"
     ]
    },
    {
     "name": "stdout",
     "output_type": "stream",
     "text": [
      "Tue Jul  7 06:12:06 2020: Iteration: [18800/80000]\tRecon Loss: 488.3725\tPercept Loss: 43204.3163\tTV Loss: 10.6096\tAttn Loss: 16686.1726\tTotal: 148311.1722\n"
     ]
    },
    {
     "name": "stderr",
     "output_type": "stream",
     "text": [
      " 24%|██▎       | 18899/80000 [3:42:06<11:55:24,  1.42it/s]"
     ]
    },
    {
     "name": "stdout",
     "output_type": "stream",
     "text": [
      "Tue Jul  7 06:13:17 2020: Iteration: [18900/80000]\tRecon Loss: 485.8450\tPercept Loss: 43503.3869\tTV Loss: 10.6880\tAttn Loss: 16912.9304\tTotal: 149946.2995\n"
     ]
    },
    {
     "name": "stderr",
     "output_type": "stream",
     "text": [
      " 24%|██▎       | 18999/80000 [3:43:16<11:54:59,  1.42it/s]"
     ]
    },
    {
     "name": "stdout",
     "output_type": "stream",
     "text": [
      "Tue Jul  7 06:14:27 2020: Iteration: [19000/80000]\tRecon Loss: 469.5407\tPercept Loss: 42409.8267\tTV Loss: 10.3050\tAttn Loss: 16349.0997\tTotal: 145302.8823\n"
     ]
    },
    {
     "name": "stderr",
     "output_type": "stream",
     "text": [
      " 24%|██▍       | 19099/80000 [3:44:27<11:59:15,  1.41it/s]"
     ]
    },
    {
     "name": "stdout",
     "output_type": "stream",
     "text": [
      "Tue Jul  7 06:15:38 2020: Iteration: [19100/80000]\tRecon Loss: 506.4058\tPercept Loss: 45643.5592\tTV Loss: 10.9855\tAttn Loss: 16561.2946\tTotal: 150185.2409\n"
     ]
    },
    {
     "name": "stderr",
     "output_type": "stream",
     "text": [
      " 24%|██▍       | 19199/80000 [3:45:37<11:54:45,  1.42it/s]"
     ]
    },
    {
     "name": "stdout",
     "output_type": "stream",
     "text": [
      "Tue Jul  7 06:16:48 2020: Iteration: [19200/80000]\tRecon Loss: 493.3372\tPercept Loss: 44129.6407\tTV Loss: 10.6970\tAttn Loss: 19681.7642\tTotal: 167260.5680\n"
     ]
    },
    {
     "name": "stderr",
     "output_type": "stream",
     "text": [
      " 24%|██▍       | 19299/80000 [3:46:48<11:51:56,  1.42it/s]"
     ]
    },
    {
     "name": "stdout",
     "output_type": "stream",
     "text": [
      "Tue Jul  7 06:17:58 2020: Iteration: [19300/80000]\tRecon Loss: 484.1964\tPercept Loss: 43771.2219\tTV Loss: 10.5811\tAttn Loss: 16094.1165\tTotal: 145283.6959\n"
     ]
    },
    {
     "name": "stderr",
     "output_type": "stream",
     "text": [
      " 24%|██▍       | 19399/80000 [3:47:58<11:55:18,  1.41it/s]"
     ]
    },
    {
     "name": "stdout",
     "output_type": "stream",
     "text": [
      "Tue Jul  7 06:19:09 2020: Iteration: [19400/80000]\tRecon Loss: 489.5561\tPercept Loss: 44330.8936\tTV Loss: 10.7666\tAttn Loss: 16330.5471\tTotal: 147317.4031\n"
     ]
    },
    {
     "name": "stderr",
     "output_type": "stream",
     "text": [
      " 24%|██▍       | 19499/80000 [3:49:09<11:50:31,  1.42it/s]"
     ]
    },
    {
     "name": "stdout",
     "output_type": "stream",
     "text": [
      "Tue Jul  7 06:20:20 2020: Iteration: [19500/80000]\tRecon Loss: 495.9490\tPercept Loss: 42689.8209\tTV Loss: 10.7001\tAttn Loss: 16744.5625\tTotal: 148223.6866\n"
     ]
    },
    {
     "name": "stderr",
     "output_type": "stream",
     "text": [
      " 24%|██▍       | 19599/80000 [3:50:19<11:49:27,  1.42it/s]"
     ]
    },
    {
     "name": "stdout",
     "output_type": "stream",
     "text": [
      "Tue Jul  7 06:21:30 2020: Iteration: [19600/80000]\tRecon Loss: 481.7352\tPercept Loss: 42996.4611\tTV Loss: 10.6995\tAttn Loss: 17835.1963\tTotal: 154931.9867\n"
     ]
    },
    {
     "name": "stderr",
     "output_type": "stream",
     "text": [
      " 25%|██▍       | 19699/80000 [3:51:30<11:46:40,  1.42it/s]"
     ]
    },
    {
     "name": "stdout",
     "output_type": "stream",
     "text": [
      "Tue Jul  7 06:22:41 2020: Iteration: [19700/80000]\tRecon Loss: 486.7514\tPercept Loss: 43568.3834\tTV Loss: 10.6010\tAttn Loss: 17352.3052\tTotal: 152655.7396\n"
     ]
    },
    {
     "name": "stderr",
     "output_type": "stream",
     "text": [
      " 25%|██▍       | 19799/80000 [3:52:40<11:45:50,  1.42it/s]"
     ]
    },
    {
     "name": "stdout",
     "output_type": "stream",
     "text": [
      "Tue Jul  7 06:23:51 2020: Iteration: [19800/80000]\tRecon Loss: 496.6790\tPercept Loss: 44377.6128\tTV Loss: 11.0337\tAttn Loss: 15989.6293\tTotal: 145392.5151\n"
     ]
    },
    {
     "name": "stderr",
     "output_type": "stream",
     "text": [
      " 25%|██▍       | 19899/80000 [3:53:51<11:45:32,  1.42it/s]"
     ]
    },
    {
     "name": "stdout",
     "output_type": "stream",
     "text": [
      "Tue Jul  7 06:25:01 2020: Iteration: [19900/80000]\tRecon Loss: 476.7516\tPercept Loss: 42640.3328\tTV Loss: 10.5961\tAttn Loss: 16042.7800\tTotal: 143770.4904\n"
     ]
    },
    {
     "name": "stderr",
     "output_type": "stream",
     "text": [
      " 25%|██▍       | 19999/80000 [3:55:01<11:47:51,  1.41it/s]"
     ]
    },
    {
     "name": "stdout",
     "output_type": "stream",
     "text": [
      "Tue Jul  7 06:26:12 2020: Iteration: [20000/80000]\tRecon Loss: 501.4362\tPercept Loss: 44789.2471\tTV Loss: 11.0098\tAttn Loss: 16532.0370\tTotal: 149105.9304\n"
     ]
    },
    {
     "name": "stderr",
     "output_type": "stream",
     "text": [
      " 25%|██▌       | 20099/80000 [3:56:12<11:40:05,  1.43it/s]"
     ]
    },
    {
     "name": "stdout",
     "output_type": "stream",
     "text": [
      "Tue Jul  7 06:27:22 2020: Iteration: [20100/80000]\tRecon Loss: 482.6807\tPercept Loss: 42658.0395\tTV Loss: 10.6558\tAttn Loss: 15991.6325\tTotal: 143541.1993\n"
     ]
    },
    {
     "name": "stderr",
     "output_type": "stream",
     "text": [
      " 25%|██▌       | 20199/80000 [3:57:22<11:43:56,  1.42it/s]"
     ]
    },
    {
     "name": "stdout",
     "output_type": "stream",
     "text": [
      "Tue Jul  7 06:28:33 2020: Iteration: [20200/80000]\tRecon Loss: 520.2089\tPercept Loss: 44470.0724\tTV Loss: 10.9929\tAttn Loss: 17212.6378\tTotal: 153057.9180\n"
     ]
    },
    {
     "name": "stderr",
     "output_type": "stream",
     "text": [
      " 25%|██▌       | 20299/80000 [3:58:33<11:41:21,  1.42it/s]"
     ]
    },
    {
     "name": "stdout",
     "output_type": "stream",
     "text": [
      "Tue Jul  7 06:29:43 2020: Iteration: [20300/80000]\tRecon Loss: 493.0991\tPercept Loss: 42929.1058\tTV Loss: 10.7186\tAttn Loss: 16004.0181\tTotal: 143991.3912\n"
     ]
    },
    {
     "name": "stderr",
     "output_type": "stream",
     "text": [
      " 25%|██▌       | 20399/80000 [3:59:43<11:41:15,  1.42it/s]"
     ]
    },
    {
     "name": "stdout",
     "output_type": "stream",
     "text": [
      "Tue Jul  7 06:30:54 2020: Iteration: [20400/80000]\tRecon Loss: 490.2682\tPercept Loss: 42735.4159\tTV Loss: 10.5047\tAttn Loss: 16095.2846\tTotal: 144314.8519\n"
     ]
    },
    {
     "name": "stderr",
     "output_type": "stream",
     "text": [
      " 26%|██▌       | 20455/80000 [4:00:23<11:46:41,  1.40it/s]/home/dehezhang2/anaconda3/lib/python3.7/site-packages/PIL/Image.py:2766: DecompressionBombWarning: Image size (107327830 pixels) exceeds limit of 89478485 pixels, could be decompression bomb DOS attack.\n",
      "  DecompressionBombWarning,\n",
      " 26%|██▌       | 20499/80000 [4:00:54<11:40:02,  1.42it/s]"
     ]
    },
    {
     "name": "stdout",
     "output_type": "stream",
     "text": [
      "Tue Jul  7 06:32:04 2020: Iteration: [20500/80000]\tRecon Loss: 510.8510\tPercept Loss: 44057.6610\tTV Loss: 10.7883\tAttn Loss: 15827.8565\tTotal: 144241.1918\n"
     ]
    },
    {
     "name": "stderr",
     "output_type": "stream",
     "text": [
      " 26%|██▌       | 20599/80000 [4:02:04<11:33:33,  1.43it/s]"
     ]
    },
    {
     "name": "stdout",
     "output_type": "stream",
     "text": [
      "Tue Jul  7 06:33:15 2020: Iteration: [20600/80000]\tRecon Loss: 514.8618\tPercept Loss: 45319.0899\tTV Loss: 10.9437\tAttn Loss: 17081.1538\tTotal: 153064.0681\n"
     ]
    },
    {
     "name": "stderr",
     "output_type": "stream",
     "text": [
      " 26%|██▌       | 20699/80000 [4:03:15<11:36:23,  1.42it/s]"
     ]
    },
    {
     "name": "stdout",
     "output_type": "stream",
     "text": [
      "Tue Jul  7 06:34:25 2020: Iteration: [20700/80000]\tRecon Loss: 494.6220\tPercept Loss: 43578.9193\tTV Loss: 10.7992\tAttn Loss: 15580.3502\tTotal: 142115.2307\n"
     ]
    },
    {
     "name": "stderr",
     "output_type": "stream",
     "text": [
      " 26%|██▌       | 20799/80000 [4:04:25<11:35:35,  1.42it/s]"
     ]
    },
    {
     "name": "stdout",
     "output_type": "stream",
     "text": [
      "Tue Jul  7 06:35:36 2020: Iteration: [20800/80000]\tRecon Loss: 492.8377\tPercept Loss: 43478.1025\tTV Loss: 10.8268\tAttn Loss: 15438.5499\tTotal: 141146.0473\n"
     ]
    },
    {
     "name": "stderr",
     "output_type": "stream",
     "text": [
      " 26%|██▌       | 20899/80000 [4:05:35<11:31:40,  1.42it/s]"
     ]
    },
    {
     "name": "stdout",
     "output_type": "stream",
     "text": [
      "Tue Jul  7 06:36:46 2020: Iteration: [20900/80000]\tRecon Loss: 490.8139\tPercept Loss: 42612.3039\tTV Loss: 10.7218\tAttn Loss: 17370.1392\tTotal: 151848.4952\n"
     ]
    },
    {
     "name": "stderr",
     "output_type": "stream",
     "text": [
      " 26%|██▌       | 20999/80000 [4:06:46<11:32:25,  1.42it/s]"
     ]
    },
    {
     "name": "stdout",
     "output_type": "stream",
     "text": [
      "Tue Jul  7 06:37:57 2020: Iteration: [21000/80000]\tRecon Loss: 474.1240\tPercept Loss: 42675.2168\tTV Loss: 10.5985\tAttn Loss: 15611.9140\tTotal: 141193.9251\n"
     ]
    },
    {
     "name": "stderr",
     "output_type": "stream",
     "text": [
      " 26%|██▋       | 21099/80000 [4:07:56<11:36:05,  1.41it/s]"
     ]
    },
    {
     "name": "stdout",
     "output_type": "stream",
     "text": [
      "Tue Jul  7 06:39:07 2020: Iteration: [21100/80000]\tRecon Loss: 515.6280\tPercept Loss: 45618.0697\tTV Loss: 11.1667\tAttn Loss: 16581.3245\tTotal: 150373.9637\n"
     ]
    },
    {
     "name": "stderr",
     "output_type": "stream",
     "text": [
      " 26%|██▋       | 21199/80000 [4:09:07<11:33:50,  1.41it/s]"
     ]
    },
    {
     "name": "stdout",
     "output_type": "stream",
     "text": [
      "Tue Jul  7 06:40:18 2020: Iteration: [21200/80000]\tRecon Loss: 489.5975\tPercept Loss: 44065.2256\tTV Loss: 10.7242\tAttn Loss: 15137.8104\tTotal: 139895.3048\n"
     ]
    },
    {
     "name": "stderr",
     "output_type": "stream",
     "text": [
      " 27%|██▋       | 21299/80000 [4:10:17<11:28:39,  1.42it/s]"
     ]
    },
    {
     "name": "stdout",
     "output_type": "stream",
     "text": [
      "Tue Jul  7 06:41:28 2020: Iteration: [21300/80000]\tRecon Loss: 477.7636\tPercept Loss: 43077.8115\tTV Loss: 10.7276\tAttn Loss: 15656.0596\tTotal: 141899.0816\n"
     ]
    },
    {
     "name": "stderr",
     "output_type": "stream",
     "text": [
      " 27%|██▋       | 21399/80000 [4:11:28<11:34:29,  1.41it/s]"
     ]
    },
    {
     "name": "stdout",
     "output_type": "stream",
     "text": [
      "Tue Jul  7 06:42:39 2020: Iteration: [21400/80000]\tRecon Loss: 485.3789\tPercept Loss: 42588.3249\tTV Loss: 10.8064\tAttn Loss: 15164.9221\tTotal: 138539.7108\n"
     ]
    },
    {
     "name": "stderr",
     "output_type": "stream",
     "text": [
      " 27%|██▋       | 21499/80000 [4:12:38<11:30:03,  1.41it/s]"
     ]
    },
    {
     "name": "stdout",
     "output_type": "stream",
     "text": [
      "Tue Jul  7 06:43:49 2020: Iteration: [21500/80000]\tRecon Loss: 471.5449\tPercept Loss: 43337.3874\tTV Loss: 10.6753\tAttn Loss: 15050.8258\tTotal: 138464.5452\n"
     ]
    },
    {
     "name": "stderr",
     "output_type": "stream",
     "text": [
      " 27%|██▋       | 21599/80000 [4:13:49<11:30:05,  1.41it/s]"
     ]
    },
    {
     "name": "stdout",
     "output_type": "stream",
     "text": [
      "Tue Jul  7 06:45:00 2020: Iteration: [21600/80000]\tRecon Loss: 464.9922\tPercept Loss: 41993.4406\tTV Loss: 10.6066\tAttn Loss: 14828.0340\tTotal: 135717.6323\n"
     ]
    },
    {
     "name": "stderr",
     "output_type": "stream",
     "text": [
      " 27%|██▋       | 21699/80000 [4:14:59<11:23:47,  1.42it/s]"
     ]
    },
    {
     "name": "stdout",
     "output_type": "stream",
     "text": [
      "Tue Jul  7 06:46:10 2020: Iteration: [21700/80000]\tRecon Loss: 473.7580\tPercept Loss: 42143.0245\tTV Loss: 10.5512\tAttn Loss: 15477.5449\tTotal: 139851.3852\n"
     ]
    },
    {
     "name": "stderr",
     "output_type": "stream",
     "text": [
      " 27%|██▋       | 21799/80000 [4:16:10<11:20:30,  1.43it/s]"
     ]
    },
    {
     "name": "stdout",
     "output_type": "stream",
     "text": [
      "Tue Jul  7 06:47:21 2020: Iteration: [21800/80000]\tRecon Loss: 466.3004\tPercept Loss: 41312.2338\tTV Loss: 10.5395\tAttn Loss: 15014.3282\tTotal: 136166.6015\n"
     ]
    },
    {
     "name": "stderr",
     "output_type": "stream",
     "text": [
      " 27%|██▋       | 21899/80000 [4:17:20<11:21:31,  1.42it/s]"
     ]
    },
    {
     "name": "stdout",
     "output_type": "stream",
     "text": [
      "Tue Jul  7 06:48:31 2020: Iteration: [21900/80000]\tRecon Loss: 471.5157\tPercept Loss: 41946.8370\tTV Loss: 10.6511\tAttn Loss: 15524.5760\tTotal: 139915.9611\n"
     ]
    },
    {
     "name": "stderr",
     "output_type": "stream",
     "text": [
      " 27%|██▋       | 21999/80000 [4:18:31<11:21:49,  1.42it/s]"
     ]
    },
    {
     "name": "stdout",
     "output_type": "stream",
     "text": [
      "Tue Jul  7 06:49:42 2020: Iteration: [22000/80000]\tRecon Loss: 472.0027\tPercept Loss: 42024.2815\tTV Loss: 10.6228\tAttn Loss: 14938.6581\tTotal: 136482.4854\n"
     ]
    },
    {
     "name": "stderr",
     "output_type": "stream",
     "text": [
      " 28%|██▊       | 22099/80000 [4:19:41<11:22:06,  1.41it/s]"
     ]
    },
    {
     "name": "stdout",
     "output_type": "stream",
     "text": [
      "Tue Jul  7 06:50:52 2020: Iteration: [22100/80000]\tRecon Loss: 485.5316\tPercept Loss: 43087.6845\tTV Loss: 10.6316\tAttn Loss: 15678.2301\tTotal: 142118.6965\n"
     ]
    },
    {
     "name": "stderr",
     "output_type": "stream",
     "text": [
      " 28%|██▊       | 22199/80000 [4:20:52<11:17:11,  1.42it/s]"
     ]
    },
    {
     "name": "stdout",
     "output_type": "stream",
     "text": [
      "Tue Jul  7 06:52:03 2020: Iteration: [22200/80000]\tRecon Loss: 477.9392\tPercept Loss: 42920.1609\tTV Loss: 10.7406\tAttn Loss: 15457.7732\tTotal: 140553.5980\n"
     ]
    },
    {
     "name": "stderr",
     "output_type": "stream",
     "text": [
      " 28%|██▊       | 22299/80000 [4:22:02<11:18:56,  1.42it/s]"
     ]
    },
    {
     "name": "stdout",
     "output_type": "stream",
     "text": [
      "Tue Jul  7 06:53:13 2020: Iteration: [22300/80000]\tRecon Loss: 481.2018\tPercept Loss: 43698.5940\tTV Loss: 10.7088\tAttn Loss: 14980.0191\tTotal: 138497.8145\n"
     ]
    },
    {
     "name": "stderr",
     "output_type": "stream",
     "text": [
      " 28%|██▊       | 22399/80000 [4:23:13<11:15:39,  1.42it/s]"
     ]
    },
    {
     "name": "stdout",
     "output_type": "stream",
     "text": [
      "Tue Jul  7 06:54:24 2020: Iteration: [22400/80000]\tRecon Loss: 508.2516\tPercept Loss: 44591.8239\tTV Loss: 10.7791\tAttn Loss: 14933.3602\tTotal: 139382.2906\n"
     ]
    },
    {
     "name": "stderr",
     "output_type": "stream",
     "text": [
      " 28%|██▊       | 22499/80000 [4:24:24<11:11:34,  1.43it/s]"
     ]
    },
    {
     "name": "stdout",
     "output_type": "stream",
     "text": [
      "Tue Jul  7 06:55:34 2020: Iteration: [22500/80000]\tRecon Loss: 483.9257\tPercept Loss: 42013.0811\tTV Loss: 10.5602\tAttn Loss: 15323.4181\tTotal: 138898.4491\n"
     ]
    },
    {
     "name": "stderr",
     "output_type": "stream",
     "text": [
      " 28%|██▊       | 22599/80000 [4:25:34<11:14:04,  1.42it/s]"
     ]
    },
    {
     "name": "stdout",
     "output_type": "stream",
     "text": [
      "Tue Jul  7 06:56:45 2020: Iteration: [22600/80000]\tRecon Loss: 480.0996\tPercept Loss: 43608.2748\tTV Loss: 10.7410\tAttn Loss: 15007.5238\tTotal: 138561.8245\n"
     ]
    },
    {
     "name": "stderr",
     "output_type": "stream",
     "text": [
      " 28%|██▊       | 22699/80000 [4:26:45<11:13:59,  1.42it/s]"
     ]
    },
    {
     "name": "stdout",
     "output_type": "stream",
     "text": [
      "Tue Jul  7 06:57:55 2020: Iteration: [22700/80000]\tRecon Loss: 474.6038\tPercept Loss: 41211.6493\tTV Loss: 10.4612\tAttn Loss: 15935.5397\tTotal: 141675.5371\n"
     ]
    },
    {
     "name": "stderr",
     "output_type": "stream",
     "text": [
      " 28%|██▊       | 22799/80000 [4:27:55<11:09:17,  1.42it/s]"
     ]
    },
    {
     "name": "stdout",
     "output_type": "stream",
     "text": [
      "Tue Jul  7 06:59:06 2020: Iteration: [22800/80000]\tRecon Loss: 459.5315\tPercept Loss: 41382.2429\tTV Loss: 10.4584\tAttn Loss: 15097.3699\tTotal: 136666.3625\n"
     ]
    },
    {
     "name": "stderr",
     "output_type": "stream",
     "text": [
      " 29%|██▊       | 22899/80000 [4:29:06<11:11:41,  1.42it/s]"
     ]
    },
    {
     "name": "stdout",
     "output_type": "stream",
     "text": [
      "Tue Jul  7 07:00:16 2020: Iteration: [22900/80000]\tRecon Loss: 493.6531\tPercept Loss: 43506.9543\tTV Loss: 10.8372\tAttn Loss: 15165.8611\tTotal: 139547.0227\n"
     ]
    },
    {
     "name": "stderr",
     "output_type": "stream",
     "text": [
      " 29%|██▊       | 22999/80000 [4:30:16<11:07:45,  1.42it/s]"
     ]
    },
    {
     "name": "stdout",
     "output_type": "stream",
     "text": [
      "Tue Jul  7 07:01:27 2020: Iteration: [23000/80000]\tRecon Loss: 494.4569\tPercept Loss: 43522.0241\tTV Loss: 10.8743\tAttn Loss: 14797.6395\tTotal: 137361.1730\n"
     ]
    },
    {
     "name": "stderr",
     "output_type": "stream",
     "text": [
      " 29%|██▉       | 23099/80000 [4:31:26<11:10:41,  1.41it/s]"
     ]
    },
    {
     "name": "stdout",
     "output_type": "stream",
     "text": [
      "Tue Jul  7 07:02:37 2020: Iteration: [23100/80000]\tRecon Loss: 490.6166\tPercept Loss: 42856.1832\tTV Loss: 10.8802\tAttn Loss: 16277.2998\tTotal: 145534.9489\n"
     ]
    },
    {
     "name": "stderr",
     "output_type": "stream",
     "text": [
      " 29%|██▉       | 23199/80000 [4:32:37<11:05:31,  1.42it/s]"
     ]
    },
    {
     "name": "stdout",
     "output_type": "stream",
     "text": [
      "Tue Jul  7 07:03:47 2020: Iteration: [23200/80000]\tRecon Loss: 494.5811\tPercept Loss: 43063.9976\tTV Loss: 10.9594\tAttn Loss: 16583.6814\tTotal: 147621.4914\n"
     ]
    },
    {
     "name": "stderr",
     "output_type": "stream",
     "text": [
      " 29%|██▉       | 23299/80000 [4:33:47<11:07:37,  1.42it/s]"
     ]
    },
    {
     "name": "stdout",
     "output_type": "stream",
     "text": [
      "Tue Jul  7 07:04:58 2020: Iteration: [23300/80000]\tRecon Loss: 476.0576\tPercept Loss: 41386.2947\tTV Loss: 10.4178\tAttn Loss: 14613.3100\tTotal: 133930.9099\n"
     ]
    },
    {
     "name": "stderr",
     "output_type": "stream",
     "text": [
      " 29%|██▉       | 23399/80000 [4:34:57<11:04:54,  1.42it/s]"
     ]
    },
    {
     "name": "stdout",
     "output_type": "stream",
     "text": [
      "Tue Jul  7 07:06:08 2020: Iteration: [23400/80000]\tRecon Loss: 497.1942\tPercept Loss: 43754.1713\tTV Loss: 10.9321\tAttn Loss: 15088.9644\tTotal: 139369.2199\n"
     ]
    },
    {
     "name": "stderr",
     "output_type": "stream",
     "text": [
      " 29%|██▉       | 23499/80000 [4:36:08<11:01:38,  1.42it/s]"
     ]
    },
    {
     "name": "stdout",
     "output_type": "stream",
     "text": [
      "Tue Jul  7 07:07:19 2020: Iteration: [23500/80000]\tRecon Loss: 484.3583\tPercept Loss: 43074.9621\tTV Loss: 10.7690\tAttn Loss: 14489.9001\tTotal: 134965.6353\n"
     ]
    },
    {
     "name": "stderr",
     "output_type": "stream",
     "text": [
      " 29%|██▉       | 23599/80000 [4:37:18<11:02:35,  1.42it/s]"
     ]
    },
    {
     "name": "stdout",
     "output_type": "stream",
     "text": [
      "Tue Jul  7 07:08:29 2020: Iteration: [23600/80000]\tRecon Loss: 479.2414\tPercept Loss: 43057.2360\tTV Loss: 10.8559\tAttn Loss: 14316.9322\tTotal: 133859.8030\n"
     ]
    },
    {
     "name": "stderr",
     "output_type": "stream",
     "text": [
      " 30%|██▉       | 23699/80000 [4:38:29<10:58:56,  1.42it/s]"
     ]
    },
    {
     "name": "stdout",
     "output_type": "stream",
     "text": [
      "Tue Jul  7 07:09:40 2020: Iteration: [23700/80000]\tRecon Loss: 475.7268\tPercept Loss: 42331.7457\tTV Loss: 10.7728\tAttn Loss: 14359.3990\tTotal: 133353.1361\n"
     ]
    },
    {
     "name": "stderr",
     "output_type": "stream",
     "text": [
      " 30%|██▉       | 23799/80000 [4:39:39<11:05:03,  1.41it/s]"
     ]
    },
    {
     "name": "stdout",
     "output_type": "stream",
     "text": [
      "Tue Jul  7 07:10:50 2020: Iteration: [23800/80000]\tRecon Loss: 494.6750\tPercept Loss: 43266.6974\tTV Loss: 10.8444\tAttn Loss: 14155.0674\tTotal: 133252.2948\n"
     ]
    },
    {
     "name": "stderr",
     "output_type": "stream",
     "text": [
      " 30%|██▉       | 23899/80000 [4:40:50<10:59:20,  1.42it/s]"
     ]
    },
    {
     "name": "stdout",
     "output_type": "stream",
     "text": [
      "Tue Jul  7 07:12:00 2020: Iteration: [23900/80000]\tRecon Loss: 476.7125\tPercept Loss: 43039.2654\tTV Loss: 10.7980\tAttn Loss: 14672.4731\tTotal: 135949.2089\n"
     ]
    },
    {
     "name": "stderr",
     "output_type": "stream",
     "text": [
      " 30%|██▉       | 23999/80000 [4:42:00<10:58:09,  1.42it/s]"
     ]
    },
    {
     "name": "stdout",
     "output_type": "stream",
     "text": [
      "Tue Jul  7 07:13:11 2020: Iteration: [24000/80000]\tRecon Loss: 489.7229\tPercept Loss: 43230.4326\tTV Loss: 10.7245\tAttn Loss: 14450.5171\tTotal: 134938.0091\n"
     ]
    },
    {
     "name": "stderr",
     "output_type": "stream",
     "text": [
      " 30%|███       | 24099/80000 [4:43:11<10:52:45,  1.43it/s]"
     ]
    },
    {
     "name": "stdout",
     "output_type": "stream",
     "text": [
      "Tue Jul  7 07:14:21 2020: Iteration: [24100/80000]\tRecon Loss: 465.0090\tPercept Loss: 40486.5857\tTV Loss: 10.4045\tAttn Loss: 14240.4123\tTotal: 130683.1950\n"
     ]
    },
    {
     "name": "stderr",
     "output_type": "stream",
     "text": [
      " 30%|███       | 24199/80000 [4:44:21<10:59:23,  1.41it/s]"
     ]
    },
    {
     "name": "stdout",
     "output_type": "stream",
     "text": [
      "Tue Jul  7 07:15:32 2020: Iteration: [24200/80000]\tRecon Loss: 460.4332\tPercept Loss: 40948.9771\tTV Loss: 10.3788\tAttn Loss: 14098.4775\tTotal: 130247.9622\n"
     ]
    },
    {
     "name": "stderr",
     "output_type": "stream",
     "text": [
      " 30%|███       | 24299/80000 [4:45:32<10:50:24,  1.43it/s]"
     ]
    },
    {
     "name": "stdout",
     "output_type": "stream",
     "text": [
      "Tue Jul  7 07:16:42 2020: Iteration: [24300/80000]\tRecon Loss: 488.2044\tPercept Loss: 42412.2591\tTV Loss: 10.6331\tAttn Loss: 14191.9148\tTotal: 132552.1227\n"
     ]
    },
    {
     "name": "stderr",
     "output_type": "stream",
     "text": [
      " 30%|███       | 24399/80000 [4:46:42<10:52:03,  1.42it/s]"
     ]
    },
    {
     "name": "stdout",
     "output_type": "stream",
     "text": [
      "Tue Jul  7 07:17:53 2020: Iteration: [24400/80000]\tRecon Loss: 477.5594\tPercept Loss: 41870.6877\tTV Loss: 10.6734\tAttn Loss: 14244.6926\tTotal: 132221.1716\n"
     ]
    },
    {
     "name": "stderr",
     "output_type": "stream",
     "text": [
      " 31%|███       | 24499/80000 [4:47:52<10:50:36,  1.42it/s]"
     ]
    },
    {
     "name": "stdout",
     "output_type": "stream",
     "text": [
      "Tue Jul  7 07:19:03 2020: Iteration: [24500/80000]\tRecon Loss: 493.6413\tPercept Loss: 44006.7776\tTV Loss: 10.9656\tAttn Loss: 14626.5698\tTotal: 136812.2665\n"
     ]
    },
    {
     "name": "stderr",
     "output_type": "stream",
     "text": [
      " 31%|███       | 24599/80000 [4:49:03<10:49:02,  1.42it/s]"
     ]
    },
    {
     "name": "stdout",
     "output_type": "stream",
     "text": [
      "Tue Jul  7 07:20:14 2020: Iteration: [24600/80000]\tRecon Loss: 500.6472\tPercept Loss: 44068.1891\tTV Loss: 11.0039\tAttn Loss: 14541.6465\tTotal: 136434.5795\n"
     ]
    },
    {
     "name": "stderr",
     "output_type": "stream",
     "text": [
      " 31%|███       | 24699/80000 [4:50:13<10:47:32,  1.42it/s]"
     ]
    },
    {
     "name": "stdout",
     "output_type": "stream",
     "text": [
      "Tue Jul  7 07:21:24 2020: Iteration: [24700/80000]\tRecon Loss: 494.3741\tPercept Loss: 43120.5237\tTV Loss: 10.9292\tAttn Loss: 14074.5682\tTotal: 132620.9661\n"
     ]
    },
    {
     "name": "stderr",
     "output_type": "stream",
     "text": [
      " 31%|███       | 24799/80000 [4:51:24<10:45:58,  1.42it/s]"
     ]
    },
    {
     "name": "stdout",
     "output_type": "stream",
     "text": [
      "Tue Jul  7 07:22:35 2020: Iteration: [24800/80000]\tRecon Loss: 489.0296\tPercept Loss: 42815.3109\tTV Loss: 10.8873\tAttn Loss: 13977.0103\tTotal: 131676.5413\n"
     ]
    },
    {
     "name": "stderr",
     "output_type": "stream",
     "text": [
      " 31%|███       | 24899/80000 [4:52:34<10:46:24,  1.42it/s]"
     ]
    },
    {
     "name": "stdout",
     "output_type": "stream",
     "text": [
      "Tue Jul  7 07:23:45 2020: Iteration: [24900/80000]\tRecon Loss: 480.6383\tPercept Loss: 42792.7097\tTV Loss: 10.7034\tAttn Loss: 14598.0192\tTotal: 135294.2423\n"
     ]
    },
    {
     "name": "stderr",
     "output_type": "stream",
     "text": [
      " 31%|███       | 24999/80000 [4:53:45<10:43:37,  1.42it/s]"
     ]
    },
    {
     "name": "stdout",
     "output_type": "stream",
     "text": [
      "Tue Jul  7 07:24:55 2020: Iteration: [25000/80000]\tRecon Loss: 466.6963\tPercept Loss: 42024.8446\tTV Loss: 10.6289\tAttn Loss: 14284.0131\tTotal: 132502.1752\n"
     ]
    },
    {
     "name": "stderr",
     "output_type": "stream",
     "text": [
      " 31%|███▏      | 25099/80000 [4:54:55<10:46:22,  1.42it/s]"
     ]
    },
    {
     "name": "stdout",
     "output_type": "stream",
     "text": [
      "Tue Jul  7 07:26:06 2020: Iteration: [25100/80000]\tRecon Loss: 471.5767\tPercept Loss: 42732.7687\tTV Loss: 10.6543\tAttn Loss: 14220.7915\tTotal: 132879.8283\n"
     ]
    },
    {
     "name": "stderr",
     "output_type": "stream",
     "text": [
      " 31%|███▏      | 25199/80000 [4:56:06<10:43:33,  1.42it/s]"
     ]
    },
    {
     "name": "stdout",
     "output_type": "stream",
     "text": [
      "Tue Jul  7 07:27:16 2020: Iteration: [25200/80000]\tRecon Loss: 469.9493\tPercept Loss: 42682.1188\tTV Loss: 10.5637\tAttn Loss: 14128.0270\tTotal: 132255.4105\n"
     ]
    },
    {
     "name": "stderr",
     "output_type": "stream",
     "text": [
      " 32%|███▏      | 25299/80000 [4:57:16<10:40:59,  1.42it/s]"
     ]
    },
    {
     "name": "stdout",
     "output_type": "stream",
     "text": [
      "Tue Jul  7 07:28:27 2020: Iteration: [25300/80000]\tRecon Loss: 508.2259\tPercept Loss: 43476.7778\tTV Loss: 10.8910\tAttn Loss: 13841.5324\tTotal: 131717.1404\n"
     ]
    },
    {
     "name": "stderr",
     "output_type": "stream",
     "text": [
      " 32%|███▏      | 25399/80000 [4:58:27<10:40:38,  1.42it/s]"
     ]
    },
    {
     "name": "stdout",
     "output_type": "stream",
     "text": [
      "Tue Jul  7 07:29:37 2020: Iteration: [25400/80000]\tRecon Loss: 461.1109\tPercept Loss: 40735.7499\tTV Loss: 10.3263\tAttn Loss: 13898.6998\tTotal: 128842.3195\n"
     ]
    },
    {
     "name": "stderr",
     "output_type": "stream",
     "text": [
      " 32%|███▏      | 25499/80000 [4:59:37<10:38:01,  1.42it/s]"
     ]
    },
    {
     "name": "stdout",
     "output_type": "stream",
     "text": [
      "Tue Jul  7 07:30:48 2020: Iteration: [25500/80000]\tRecon Loss: 458.7078\tPercept Loss: 41056.1878\tTV Loss: 10.4591\tAttn Loss: 14137.1480\tTotal: 130570.7445\n"
     ]
    },
    {
     "name": "stderr",
     "output_type": "stream",
     "text": [
      " 32%|███▏      | 25517/80000 [4:59:50<10:40:24,  1.42it/s]/home/dehezhang2/anaconda3/lib/python3.7/site-packages/PIL/Image.py:2766: DecompressionBombWarning: Image size (94435468 pixels) exceeds limit of 89478485 pixels, could be decompression bomb DOS attack.\n",
      "  DecompressionBombWarning,\n",
      " 32%|███▏      | 25599/80000 [5:00:48<10:43:34,  1.41it/s]"
     ]
    },
    {
     "name": "stdout",
     "output_type": "stream",
     "text": [
      "Tue Jul  7 07:31:58 2020: Iteration: [25600/80000]\tRecon Loss: 489.7789\tPercept Loss: 43247.6204\tTV Loss: 10.9628\tAttn Loss: 13241.2134\tTotal: 127702.3181\n"
     ]
    },
    {
     "name": "stderr",
     "output_type": "stream",
     "text": [
      " 32%|███▏      | 25699/80000 [5:01:58<10:33:10,  1.43it/s]"
     ]
    },
    {
     "name": "stdout",
     "output_type": "stream",
     "text": [
      "Tue Jul  7 07:33:09 2020: Iteration: [25700/80000]\tRecon Loss: 474.5665\tPercept Loss: 42096.5606\tTV Loss: 10.7273\tAttn Loss: 13795.1584\tTotal: 129720.4495\n"
     ]
    },
    {
     "name": "stderr",
     "output_type": "stream",
     "text": [
      " 32%|███▏      | 25799/80000 [5:03:08<10:33:46,  1.43it/s]"
     ]
    },
    {
     "name": "stdout",
     "output_type": "stream",
     "text": [
      "Tue Jul  7 07:34:19 2020: Iteration: [25800/80000]\tRecon Loss: 470.7152\tPercept Loss: 41994.0719\tTV Loss: 10.7387\tAttn Loss: 13316.3552\tTotal: 126706.7416\n"
     ]
    },
    {
     "name": "stderr",
     "output_type": "stream",
     "text": [
      " 32%|███▏      | 25899/80000 [5:04:19<10:39:03,  1.41it/s]"
     ]
    },
    {
     "name": "stdout",
     "output_type": "stream",
     "text": [
      "Tue Jul  7 07:35:30 2020: Iteration: [25900/80000]\tRecon Loss: 480.3955\tPercept Loss: 43206.6827\tTV Loss: 10.9959\tAttn Loss: 13630.5676\tTotal: 129904.0040\n"
     ]
    },
    {
     "name": "stderr",
     "output_type": "stream",
     "text": [
      " 32%|███▏      | 25999/80000 [5:05:29<10:34:43,  1.42it/s]"
     ]
    },
    {
     "name": "stdout",
     "output_type": "stream",
     "text": [
      "Tue Jul  7 07:36:40 2020: Iteration: [26000/80000]\tRecon Loss: 503.0660\tPercept Loss: 43997.7759\tTV Loss: 11.1065\tAttn Loss: 14958.0223\tTotal: 138887.6352\n"
     ]
    },
    {
     "name": "stderr",
     "output_type": "stream",
     "text": [
      " 33%|███▎      | 26099/80000 [5:06:40<10:35:43,  1.41it/s]"
     ]
    },
    {
     "name": "stdout",
     "output_type": "stream",
     "text": [
      "Tue Jul  7 07:37:50 2020: Iteration: [26100/80000]\tRecon Loss: 509.3860\tPercept Loss: 44176.0491\tTV Loss: 11.1589\tAttn Loss: 14086.2454\tTotal: 133898.9709\n"
     ]
    },
    {
     "name": "stderr",
     "output_type": "stream",
     "text": [
      " 33%|███▎      | 26199/80000 [5:07:50<10:33:41,  1.42it/s]"
     ]
    },
    {
     "name": "stdout",
     "output_type": "stream",
     "text": [
      "Tue Jul  7 07:39:01 2020: Iteration: [26200/80000]\tRecon Loss: 490.4640\tPercept Loss: 43169.1219\tTV Loss: 10.9438\tAttn Loss: 13258.6578\tTotal: 127735.1465\n"
     ]
    },
    {
     "name": "stderr",
     "output_type": "stream",
     "text": [
      " 33%|███▎      | 26299/80000 [5:09:01<10:27:02,  1.43it/s]"
     ]
    },
    {
     "name": "stdout",
     "output_type": "stream",
     "text": [
      "Tue Jul  7 07:40:11 2020: Iteration: [26300/80000]\tRecon Loss: 484.2775\tPercept Loss: 43201.4094\tTV Loss: 10.9239\tAttn Loss: 13787.8660\tTotal: 130880.6195\n"
     ]
    },
    {
     "name": "stderr",
     "output_type": "stream",
     "text": [
      " 33%|███▎      | 26399/80000 [5:10:11<10:28:51,  1.42it/s]"
     ]
    },
    {
     "name": "stdout",
     "output_type": "stream",
     "text": [
      "Tue Jul  7 07:41:22 2020: Iteration: [26400/80000]\tRecon Loss: 470.0140\tPercept Loss: 41891.3753\tTV Loss: 10.5956\tAttn Loss: 13162.6197\tTotal: 125673.1892\n"
     ]
    },
    {
     "name": "stderr",
     "output_type": "stream",
     "text": [
      " 33%|███▎      | 26499/80000 [5:11:22<10:26:13,  1.42it/s]"
     ]
    },
    {
     "name": "stdout",
     "output_type": "stream",
     "text": [
      "Tue Jul  7 07:42:32 2020: Iteration: [26500/80000]\tRecon Loss: 486.7401\tPercept Loss: 43832.5422\tTV Loss: 11.0575\tAttn Loss: 13449.1479\tTotal: 129505.4055\n"
     ]
    },
    {
     "name": "stderr",
     "output_type": "stream",
     "text": [
      " 33%|███▎      | 26599/80000 [5:12:32<10:27:24,  1.42it/s]"
     ]
    },
    {
     "name": "stdout",
     "output_type": "stream",
     "text": [
      "Tue Jul  7 07:43:43 2020: Iteration: [26600/80000]\tRecon Loss: 468.4188\tPercept Loss: 42218.4600\tTV Loss: 10.6950\tAttn Loss: 14178.2583\tTotal: 132079.1477\n"
     ]
    },
    {
     "name": "stderr",
     "output_type": "stream",
     "text": [
      " 33%|███▎      | 26699/80000 [5:13:43<10:25:28,  1.42it/s]"
     ]
    },
    {
     "name": "stdout",
     "output_type": "stream",
     "text": [
      "Tue Jul  7 07:44:53 2020: Iteration: [26700/80000]\tRecon Loss: 475.3612\tPercept Loss: 41393.2450\tTV Loss: 10.6661\tAttn Loss: 13250.7768\tTotal: 125758.1791\n"
     ]
    },
    {
     "name": "stderr",
     "output_type": "stream",
     "text": [
      " 33%|███▎      | 26799/80000 [5:14:53<10:22:28,  1.42it/s]"
     ]
    },
    {
     "name": "stdout",
     "output_type": "stream",
     "text": [
      "Tue Jul  7 07:46:04 2020: Iteration: [26800/80000]\tRecon Loss: 495.8205\tPercept Loss: 43614.1677\tTV Loss: 10.9547\tAttn Loss: 13306.1900\tTotal: 128519.0605\n"
     ]
    },
    {
     "name": "stderr",
     "output_type": "stream",
     "text": [
      " 34%|███▎      | 26899/80000 [5:16:03<10:30:37,  1.40it/s]"
     ]
    },
    {
     "name": "stdout",
     "output_type": "stream",
     "text": [
      "Tue Jul  7 07:47:14 2020: Iteration: [26900/80000]\tRecon Loss: 467.4792\tPercept Loss: 41827.9495\tTV Loss: 10.5983\tAttn Loss: 15729.3081\tTotal: 140984.5738\n"
     ]
    },
    {
     "name": "stderr",
     "output_type": "stream",
     "text": [
      " 34%|███▎      | 26999/80000 [5:17:14<10:20:46,  1.42it/s]"
     ]
    },
    {
     "name": "stdout",
     "output_type": "stream",
     "text": [
      "Tue Jul  7 07:48:24 2020: Iteration: [27000/80000]\tRecon Loss: 478.7272\tPercept Loss: 42151.1426\tTV Loss: 10.6807\tAttn Loss: 13421.2926\tTotal: 127572.9763\n"
     ]
    },
    {
     "name": "stderr",
     "output_type": "stream",
     "text": [
      " 34%|███▍      | 27099/80000 [5:18:24<10:18:33,  1.43it/s]"
     ]
    },
    {
     "name": "stdout",
     "output_type": "stream",
     "text": [
      "Tue Jul  7 07:49:35 2020: Iteration: [27100/80000]\tRecon Loss: 493.8560\tPercept Loss: 43790.4667\tTV Loss: 11.0754\tAttn Loss: 12840.3386\tTotal: 125881.8123\n"
     ]
    },
    {
     "name": "stderr",
     "output_type": "stream",
     "text": [
      " 34%|███▍      | 27199/80000 [5:19:35<10:19:53,  1.42it/s]"
     ]
    },
    {
     "name": "stdout",
     "output_type": "stream",
     "text": [
      "Tue Jul  7 07:50:45 2020: Iteration: [27200/80000]\tRecon Loss: 478.3986\tPercept Loss: 41809.5731\tTV Loss: 10.6530\tAttn Loss: 13151.0919\tTotal: 125606.6400\n"
     ]
    },
    {
     "name": "stderr",
     "output_type": "stream",
     "text": [
      " 34%|███▍      | 27299/80000 [5:20:45<10:14:21,  1.43it/s]"
     ]
    },
    {
     "name": "stdout",
     "output_type": "stream",
     "text": [
      "Tue Jul  7 07:51:56 2020: Iteration: [27300/80000]\tRecon Loss: 499.6957\tPercept Loss: 44859.6213\tTV Loss: 11.1255\tAttn Loss: 14670.0682\tTotal: 137988.2431\n"
     ]
    },
    {
     "name": "stderr",
     "output_type": "stream",
     "text": [
      " 34%|███▍      | 27399/80000 [5:21:56<10:17:14,  1.42it/s]"
     ]
    },
    {
     "name": "stdout",
     "output_type": "stream",
     "text": [
      "Tue Jul  7 07:53:06 2020: Iteration: [27400/80000]\tRecon Loss: 476.8944\tPercept Loss: 42864.4151\tTV Loss: 10.8557\tAttn Loss: 13155.8510\tTotal: 126677.0215\n"
     ]
    },
    {
     "name": "stderr",
     "output_type": "stream",
     "text": [
      " 34%|███▍      | 27499/80000 [5:23:06<10:17:23,  1.42it/s]"
     ]
    },
    {
     "name": "stdout",
     "output_type": "stream",
     "text": [
      "Tue Jul  7 07:54:17 2020: Iteration: [27500/80000]\tRecon Loss: 460.4868\tPercept Loss: 39679.5341\tTV Loss: 10.5356\tAttn Loss: 13343.6824\tTotal: 124451.8529\n"
     ]
    },
    {
     "name": "stderr",
     "output_type": "stream",
     "text": [
      " 34%|███▍      | 27599/80000 [5:24:16<10:12:24,  1.43it/s]"
     ]
    },
    {
     "name": "stdout",
     "output_type": "stream",
     "text": [
      "Tue Jul  7 07:55:27 2020: Iteration: [27600/80000]\tRecon Loss: 490.3108\tPercept Loss: 42381.0903\tTV Loss: 10.6691\tAttn Loss: 13614.5293\tTotal: 129078.0646\n"
     ]
    },
    {
     "name": "stderr",
     "output_type": "stream",
     "text": [
      " 35%|███▍      | 27699/80000 [5:25:27<10:17:31,  1.41it/s]"
     ]
    },
    {
     "name": "stdout",
     "output_type": "stream",
     "text": [
      "Tue Jul  7 07:56:38 2020: Iteration: [27700/80000]\tRecon Loss: 490.8991\tPercept Loss: 43654.5092\tTV Loss: 11.0956\tAttn Loss: 12884.6403\tTotal: 125982.2983\n"
     ]
    },
    {
     "name": "stderr",
     "output_type": "stream",
     "text": [
      " 35%|███▍      | 27799/80000 [5:26:37<10:12:05,  1.42it/s]"
     ]
    },
    {
     "name": "stdout",
     "output_type": "stream",
     "text": [
      "Tue Jul  7 07:57:48 2020: Iteration: [27800/80000]\tRecon Loss: 482.3385\tPercept Loss: 42912.0396\tTV Loss: 11.0249\tAttn Loss: 12784.4943\tTotal: 124552.6396\n"
     ]
    },
    {
     "name": "stderr",
     "output_type": "stream",
     "text": [
      " 35%|███▍      | 27899/80000 [5:27:48<10:10:08,  1.42it/s]"
     ]
    },
    {
     "name": "stdout",
     "output_type": "stream",
     "text": [
      "Tue Jul  7 07:58:59 2020: Iteration: [27900/80000]\tRecon Loss: 478.7183\tPercept Loss: 41939.8413\tTV Loss: 10.7233\tAttn Loss: 14093.9064\tTotal: 131397.6958\n"
     ]
    },
    {
     "name": "stderr",
     "output_type": "stream",
     "text": [
      " 35%|███▍      | 27999/80000 [5:28:58<10:09:39,  1.42it/s]"
     ]
    },
    {
     "name": "stdout",
     "output_type": "stream",
     "text": [
      "Tue Jul  7 08:00:09 2020: Iteration: [28000/80000]\tRecon Loss: 472.2551\tPercept Loss: 42008.0078\tTV Loss: 10.7575\tAttn Loss: 15095.9804\tTotal: 137414.0160\n"
     ]
    },
    {
     "name": "stderr",
     "output_type": "stream",
     "text": [
      " 35%|███▌      | 28099/80000 [5:30:09<10:09:04,  1.42it/s]"
     ]
    },
    {
     "name": "stdout",
     "output_type": "stream",
     "text": [
      "Tue Jul  7 08:01:19 2020: Iteration: [28100/80000]\tRecon Loss: 482.4803\tPercept Loss: 42108.9999\tTV Loss: 10.6998\tAttn Loss: 13112.6908\tTotal: 125716.9461\n"
     ]
    },
    {
     "name": "stderr",
     "output_type": "stream",
     "text": [
      " 35%|███▌      | 28150/80000 [5:30:45<10:11:08,  1.41it/s]/home/dehezhang2/anaconda3/lib/python3.7/site-packages/PIL/Image.py:2766: DecompressionBombWarning: Image size (145486286 pixels) exceeds limit of 89478485 pixels, could be decompression bomb DOS attack.\n",
      "  DecompressionBombWarning,\n",
      " 35%|███▌      | 28199/80000 [5:31:19<10:05:31,  1.43it/s]"
     ]
    },
    {
     "name": "stdout",
     "output_type": "stream",
     "text": [
      "Tue Jul  7 08:02:30 2020: Iteration: [28200/80000]\tRecon Loss: 475.8986\tPercept Loss: 42992.8249\tTV Loss: 10.8170\tAttn Loss: 13632.7262\tTotal: 129656.3366\n"
     ]
    },
    {
     "name": "stderr",
     "output_type": "stream",
     "text": [
      " 35%|███▌      | 28299/80000 [5:32:30<10:06:55,  1.42it/s]"
     ]
    },
    {
     "name": "stdout",
     "output_type": "stream",
     "text": [
      "Tue Jul  7 08:03:40 2020: Iteration: [28300/80000]\tRecon Loss: 466.5786\tPercept Loss: 41623.2733\tTV Loss: 10.7011\tAttn Loss: 12839.4842\tTotal: 123432.9757\n"
     ]
    },
    {
     "name": "stderr",
     "output_type": "stream",
     "text": [
      " 35%|███▌      | 28332/80000 [5:32:53<10:07:58,  1.42it/s]/home/dehezhang2/anaconda3/lib/python3.7/site-packages/PIL/Image.py:2766: DecompressionBombWarning: Image size (131790400 pixels) exceeds limit of 89478485 pixels, could be decompression bomb DOS attack.\n",
      "  DecompressionBombWarning,\n",
      " 35%|███▌      | 28399/80000 [5:33:40<10:05:24,  1.42it/s]"
     ]
    },
    {
     "name": "stdout",
     "output_type": "stream",
     "text": [
      "Tue Jul  7 08:04:51 2020: Iteration: [28400/80000]\tRecon Loss: 488.6485\tPercept Loss: 42643.9222\tTV Loss: 10.9518\tAttn Loss: 13951.1001\tTotal: 131346.5258\n"
     ]
    },
    {
     "name": "stderr",
     "output_type": "stream",
     "text": [
      " 36%|███▌      | 28499/80000 [5:34:51<10:03:29,  1.42it/s]"
     ]
    },
    {
     "name": "stdout",
     "output_type": "stream",
     "text": [
      "Tue Jul  7 08:06:01 2020: Iteration: [28500/80000]\tRecon Loss: 505.9881\tPercept Loss: 43453.1381\tTV Loss: 11.0425\tAttn Loss: 14985.3252\tTotal: 138535.3953\n"
     ]
    },
    {
     "name": "stderr",
     "output_type": "stream",
     "text": [
      " 36%|███▌      | 28599/80000 [5:36:01<10:02:26,  1.42it/s]"
     ]
    },
    {
     "name": "stdout",
     "output_type": "stream",
     "text": [
      "Tue Jul  7 08:07:12 2020: Iteration: [28600/80000]\tRecon Loss: 498.5283\tPercept Loss: 44601.3023\tTV Loss: 11.0233\tAttn Loss: 12688.9568\tTotal: 125830.5599\n"
     ]
    },
    {
     "name": "stderr",
     "output_type": "stream",
     "text": [
      " 36%|███▌      | 28699/80000 [5:37:12<10:01:18,  1.42it/s]"
     ]
    },
    {
     "name": "stdout",
     "output_type": "stream",
     "text": [
      "Tue Jul  7 08:08:22 2020: Iteration: [28700/80000]\tRecon Loss: 480.7554\tPercept Loss: 41938.6756\tTV Loss: 10.7855\tAttn Loss: 13058.9482\tTotal: 125207.7732\n"
     ]
    },
    {
     "name": "stderr",
     "output_type": "stream",
     "text": [
      " 36%|███▌      | 28799/80000 [5:38:22<10:02:32,  1.42it/s]"
     ]
    },
    {
     "name": "stdout",
     "output_type": "stream",
     "text": [
      "Tue Jul  7 08:09:33 2020: Iteration: [28800/80000]\tRecon Loss: 499.7670\tPercept Loss: 42782.6648\tTV Loss: 10.8491\tAttn Loss: 13129.3295\tTotal: 126664.8022\n"
     ]
    },
    {
     "name": "stderr",
     "output_type": "stream",
     "text": [
      " 36%|███▌      | 28899/80000 [5:39:33<9:55:19,  1.43it/s] "
     ]
    },
    {
     "name": "stdout",
     "output_type": "stream",
     "text": [
      "Tue Jul  7 08:10:43 2020: Iteration: [28900/80000]\tRecon Loss: 494.1900\tPercept Loss: 43209.6380\tTV Loss: 11.0778\tAttn Loss: 13197.5115\tTotal: 127447.3844\n"
     ]
    },
    {
     "name": "stderr",
     "output_type": "stream",
     "text": [
      " 36%|███▌      | 28962/80000 [5:40:17<9:55:21,  1.43it/s] /home/dehezhang2/anaconda3/lib/python3.7/site-packages/PIL/Image.py:2766: DecompressionBombWarning: Image size (129086580 pixels) exceeds limit of 89478485 pixels, could be decompression bomb DOS attack.\n",
      "  DecompressionBombWarning,\n",
      " 36%|███▌      | 28999/80000 [5:40:43<10:01:24,  1.41it/s]"
     ]
    },
    {
     "name": "stdout",
     "output_type": "stream",
     "text": [
      "Tue Jul  7 08:11:54 2020: Iteration: [29000/80000]\tRecon Loss: 481.0952\tPercept Loss: 41761.4054\tTV Loss: 10.6295\tAttn Loss: 13236.4953\tTotal: 126097.6242\n"
     ]
    },
    {
     "name": "stderr",
     "output_type": "stream",
     "text": [
      " 36%|███▋      | 29099/80000 [5:41:53<9:56:38,  1.42it/s] "
     ]
    },
    {
     "name": "stdout",
     "output_type": "stream",
     "text": [
      "Tue Jul  7 08:13:04 2020: Iteration: [29100/80000]\tRecon Loss: 490.9151\tPercept Loss: 43406.3829\tTV Loss: 11.1660\tAttn Loss: 13719.8009\tTotal: 130745.9989\n"
     ]
    },
    {
     "name": "stderr",
     "output_type": "stream",
     "text": [
      " 36%|███▋      | 29199/80000 [5:43:04<9:54:16,  1.42it/s] "
     ]
    },
    {
     "name": "stdout",
     "output_type": "stream",
     "text": [
      "Tue Jul  7 08:14:14 2020: Iteration: [29200/80000]\tRecon Loss: 472.6179\tPercept Loss: 41466.5745\tTV Loss: 10.7818\tAttn Loss: 12970.5866\tTotal: 124124.0909\n"
     ]
    },
    {
     "name": "stderr",
     "output_type": "stream",
     "text": [
      " 37%|███▋      | 29299/80000 [5:44:14<9:55:19,  1.42it/s] "
     ]
    },
    {
     "name": "stdout",
     "output_type": "stream",
     "text": [
      "Tue Jul  7 08:15:25 2020: Iteration: [29300/80000]\tRecon Loss: 475.1475\tPercept Loss: 41920.1157\tTV Loss: 10.6830\tAttn Loss: 13141.5224\tTotal: 125627.5551\n"
     ]
    },
    {
     "name": "stderr",
     "output_type": "stream",
     "text": [
      " 37%|███▋      | 29399/80000 [5:45:25<9:51:19,  1.43it/s] "
     ]
    },
    {
     "name": "stdout",
     "output_type": "stream",
     "text": [
      "Tue Jul  7 08:16:35 2020: Iteration: [29400/80000]\tRecon Loss: 462.8673\tPercept Loss: 41604.9515\tTV Loss: 10.8776\tAttn Loss: 12831.8093\tTotal: 123333.2563\n"
     ]
    },
    {
     "name": "stderr",
     "output_type": "stream",
     "text": [
      " 37%|███▋      | 29499/80000 [5:46:35<9:50:37,  1.43it/s] "
     ]
    },
    {
     "name": "stdout",
     "output_type": "stream",
     "text": [
      "Tue Jul  7 08:17:46 2020: Iteration: [29500/80000]\tRecon Loss: 459.0311\tPercept Loss: 41441.0470\tTV Loss: 10.6351\tAttn Loss: 12887.6171\tTotal: 123463.4111\n"
     ]
    },
    {
     "name": "stderr",
     "output_type": "stream",
     "text": [
      " 37%|███▋      | 29599/80000 [5:47:46<9:55:34,  1.41it/s] "
     ]
    },
    {
     "name": "stdout",
     "output_type": "stream",
     "text": [
      "Tue Jul  7 08:18:56 2020: Iteration: [29600/80000]\tRecon Loss: 494.5385\tPercept Loss: 43893.0424\tTV Loss: 11.1749\tAttn Loss: 12445.3522\tTotal: 123622.2901\n"
     ]
    },
    {
     "name": "stderr",
     "output_type": "stream",
     "text": [
      " 37%|███▋      | 29699/80000 [5:48:56<9:49:21,  1.42it/s] "
     ]
    },
    {
     "name": "stdout",
     "output_type": "stream",
     "text": [
      "Tue Jul  7 08:20:07 2020: Iteration: [29700/80000]\tRecon Loss: 473.2421\tPercept Loss: 42557.2513\tTV Loss: 10.8577\tAttn Loss: 12307.3319\tTotal: 121242.2410\n"
     ]
    },
    {
     "name": "stderr",
     "output_type": "stream",
     "text": [
      " 37%|███▋      | 29799/80000 [5:50:06<9:47:34,  1.42it/s] "
     ]
    },
    {
     "name": "stdout",
     "output_type": "stream",
     "text": [
      "Tue Jul  7 08:21:17 2020: Iteration: [29800/80000]\tRecon Loss: 482.3443\tPercept Loss: 43364.7464\tTV Loss: 10.9123\tAttn Loss: 12841.5131\tTotal: 125346.3910\n"
     ]
    },
    {
     "name": "stderr",
     "output_type": "stream",
     "text": [
      " 37%|███▋      | 29899/80000 [5:51:17<9:48:17,  1.42it/s] "
     ]
    },
    {
     "name": "stdout",
     "output_type": "stream",
     "text": [
      "Tue Jul  7 08:22:27 2020: Iteration: [29900/80000]\tRecon Loss: 476.1649\tPercept Loss: 42152.4842\tTV Loss: 10.7662\tAttn Loss: 14416.6424\tTotal: 133521.6501\n"
     ]
    },
    {
     "name": "stderr",
     "output_type": "stream",
     "text": [
      " 37%|███▋      | 29999/80000 [5:52:27<9:43:26,  1.43it/s] "
     ]
    },
    {
     "name": "stdout",
     "output_type": "stream",
     "text": [
      "Tue Jul  7 08:23:38 2020: Iteration: [30000/80000]\tRecon Loss: 477.6477\tPercept Loss: 41385.1333\tTV Loss: 10.9383\tAttn Loss: 12825.4535\tTotal: 123223.7154\n"
     ]
    },
    {
     "name": "stderr",
     "output_type": "stream",
     "text": [
      " 38%|███▊      | 30099/80000 [5:53:38<9:45:53,  1.42it/s] "
     ]
    },
    {
     "name": "stdout",
     "output_type": "stream",
     "text": [
      "Tue Jul  7 08:24:48 2020: Iteration: [30100/80000]\tRecon Loss: 472.0998\tPercept Loss: 41907.6284\tTV Loss: 10.8418\tAttn Loss: 12399.3184\tTotal: 121132.9547\n"
     ]
    },
    {
     "name": "stderr",
     "output_type": "stream",
     "text": [
      " 38%|███▊      | 30199/80000 [5:54:48<9:44:56,  1.42it/s] "
     ]
    },
    {
     "name": "stdout",
     "output_type": "stream",
     "text": [
      "Tue Jul  7 08:25:59 2020: Iteration: [30200/80000]\tRecon Loss: 460.3874\tPercept Loss: 40496.3953\tTV Loss: 10.6001\tAttn Loss: 13913.0072\tTotal: 128684.3150\n"
     ]
    },
    {
     "name": "stderr",
     "output_type": "stream",
     "text": [
      " 38%|███▊      | 30299/80000 [5:55:59<9:42:43,  1.42it/s] "
     ]
    },
    {
     "name": "stdout",
     "output_type": "stream",
     "text": [
      "Tue Jul  7 08:27:09 2020: Iteration: [30300/80000]\tRecon Loss: 472.4508\tPercept Loss: 40985.7784\tTV Loss: 10.6426\tAttn Loss: 12738.7664\tTotal: 122249.3096\n"
     ]
    },
    {
     "name": "stderr",
     "output_type": "stream",
     "text": [
      " 38%|███▊      | 30399/80000 [5:57:09<9:43:36,  1.42it/s] "
     ]
    },
    {
     "name": "stdout",
     "output_type": "stream",
     "text": [
      "Tue Jul  7 08:28:20 2020: Iteration: [30400/80000]\tRecon Loss: 487.0932\tPercept Loss: 42505.1323\tTV Loss: 10.8780\tAttn Loss: 12280.8430\tTotal: 121169.9019\n"
     ]
    },
    {
     "name": "stderr",
     "output_type": "stream",
     "text": [
      " 38%|███▊      | 30499/80000 [5:58:19<9:39:08,  1.42it/s] "
     ]
    },
    {
     "name": "stdout",
     "output_type": "stream",
     "text": [
      "Tue Jul  7 08:29:30 2020: Iteration: [30500/80000]\tRecon Loss: 469.3027\tPercept Loss: 41474.8199\tTV Loss: 10.8857\tAttn Loss: 12190.2918\tTotal: 119418.4560\n"
     ]
    },
    {
     "name": "stderr",
     "output_type": "stream",
     "text": [
      " 38%|███▊      | 30599/80000 [5:59:30<9:39:56,  1.42it/s] "
     ]
    },
    {
     "name": "stdout",
     "output_type": "stream",
     "text": [
      "Tue Jul  7 08:30:41 2020: Iteration: [30600/80000]\tRecon Loss: 484.3806\tPercept Loss: 42345.7257\tTV Loss: 10.8778\tAttn Loss: 12866.0847\tTotal: 124494.8170\n"
     ]
    },
    {
     "name": "stderr",
     "output_type": "stream",
     "text": [
      " 38%|███▊      | 30699/80000 [6:00:40<9:38:09,  1.42it/s] "
     ]
    },
    {
     "name": "stdout",
     "output_type": "stream",
     "text": [
      "Tue Jul  7 08:31:51 2020: Iteration: [30700/80000]\tRecon Loss: 465.4213\tPercept Loss: 40852.5861\tTV Loss: 10.6275\tAttn Loss: 12544.8939\tTotal: 120882.4380\n"
     ]
    },
    {
     "name": "stderr",
     "output_type": "stream",
     "text": [
      " 38%|███▊      | 30799/80000 [6:01:51<9:35:35,  1.42it/s] "
     ]
    },
    {
     "name": "stdout",
     "output_type": "stream",
     "text": [
      "Tue Jul  7 08:33:01 2020: Iteration: [30800/80000]\tRecon Loss: 445.2313\tPercept Loss: 40434.6595\tTV Loss: 10.5730\tAttn Loss: 13029.3581\tTotal: 123168.8520\n"
     ]
    },
    {
     "name": "stderr",
     "output_type": "stream",
     "text": [
      " 39%|███▊      | 30899/80000 [6:03:01<9:34:43,  1.42it/s] "
     ]
    },
    {
     "name": "stdout",
     "output_type": "stream",
     "text": [
      "Tue Jul  7 08:34:12 2020: Iteration: [30900/80000]\tRecon Loss: 468.7644\tPercept Loss: 41622.2888\tTV Loss: 10.8969\tAttn Loss: 12112.3562\tTotal: 119093.0385\n"
     ]
    },
    {
     "name": "stderr",
     "output_type": "stream",
     "text": [
      " 39%|███▊      | 30999/80000 [6:04:11<9:35:45,  1.42it/s] "
     ]
    },
    {
     "name": "stdout",
     "output_type": "stream",
     "text": [
      "Tue Jul  7 08:35:22 2020: Iteration: [31000/80000]\tRecon Loss: 461.4215\tPercept Loss: 41384.1090\tTV Loss: 10.7391\tAttn Loss: 11937.7429\tTotal: 117732.1716\n"
     ]
    },
    {
     "name": "stderr",
     "output_type": "stream",
     "text": [
      " 39%|███▉      | 31099/80000 [6:05:22<9:35:08,  1.42it/s] "
     ]
    },
    {
     "name": "stdout",
     "output_type": "stream",
     "text": [
      "Tue Jul  7 08:36:32 2020: Iteration: [31100/80000]\tRecon Loss: 493.8991\tPercept Loss: 43507.9384\tTV Loss: 10.9424\tAttn Loss: 12476.9248\tTotal: 123417.9034\n"
     ]
    },
    {
     "name": "stderr",
     "output_type": "stream",
     "text": [
      " 39%|███▉      | 31199/80000 [6:06:32<9:33:56,  1.42it/s] "
     ]
    },
    {
     "name": "stdout",
     "output_type": "stream",
     "text": [
      "Tue Jul  7 08:37:43 2020: Iteration: [31200/80000]\tRecon Loss: 466.1625\tPercept Loss: 41444.4889\tTV Loss: 10.8338\tAttn Loss: 12690.7585\tTotal: 122359.0030\n"
     ]
    },
    {
     "name": "stderr",
     "output_type": "stream",
     "text": [
      " 39%|███▉      | 31299/80000 [6:07:43<9:29:46,  1.42it/s] "
     ]
    },
    {
     "name": "stdout",
     "output_type": "stream",
     "text": [
      "Tue Jul  7 08:38:53 2020: Iteration: [31300/80000]\tRecon Loss: 463.9503\tPercept Loss: 41009.2274\tTV Loss: 10.7886\tAttn Loss: 12614.1256\tTotal: 121441.3711\n"
     ]
    },
    {
     "name": "stderr",
     "output_type": "stream",
     "text": [
      " 39%|███▉      | 31399/80000 [6:08:53<9:29:46,  1.42it/s] "
     ]
    },
    {
     "name": "stdout",
     "output_type": "stream",
     "text": [
      "Tue Jul  7 08:40:04 2020: Iteration: [31400/80000]\tRecon Loss: 489.6805\tPercept Loss: 43254.7872\tTV Loss: 10.8965\tAttn Loss: 12224.4388\tTotal: 121607.1901\n"
     ]
    },
    {
     "name": "stderr",
     "output_type": "stream",
     "text": [
      " 39%|███▉      | 31499/80000 [6:10:04<9:28:09,  1.42it/s] "
     ]
    },
    {
     "name": "stdout",
     "output_type": "stream",
     "text": [
      "Tue Jul  7 08:41:14 2020: Iteration: [31500/80000]\tRecon Loss: 468.1782\tPercept Loss: 41220.4160\tTV Loss: 10.7348\tAttn Loss: 12067.6454\tTotal: 118415.4184\n"
     ]
    },
    {
     "name": "stderr",
     "output_type": "stream",
     "text": [
      " 39%|███▉      | 31599/80000 [6:11:14<9:27:11,  1.42it/s] "
     ]
    },
    {
     "name": "stdout",
     "output_type": "stream",
     "text": [
      "Tue Jul  7 08:42:25 2020: Iteration: [31600/80000]\tRecon Loss: 479.0650\tPercept Loss: 41910.9573\tTV Loss: 10.9959\tAttn Loss: 12639.7500\tTotal: 122650.0659\n"
     ]
    },
    {
     "name": "stderr",
     "output_type": "stream",
     "text": [
      " 40%|███▉      | 31699/80000 [6:12:24<9:24:04,  1.43it/s] "
     ]
    },
    {
     "name": "stdout",
     "output_type": "stream",
     "text": [
      "Tue Jul  7 08:43:35 2020: Iteration: [31700/80000]\tRecon Loss: 474.1093\tPercept Loss: 41875.7655\tTV Loss: 10.9149\tAttn Loss: 12124.9231\tTotal: 119475.5452\n"
     ]
    },
    {
     "name": "stderr",
     "output_type": "stream",
     "text": [
      " 40%|███▉      | 31799/80000 [6:13:35<9:23:57,  1.42it/s] "
     ]
    },
    {
     "name": "stdout",
     "output_type": "stream",
     "text": [
      "Tue Jul  7 08:44:46 2020: Iteration: [31800/80000]\tRecon Loss: 478.2288\tPercept Loss: 41121.8734\tTV Loss: 10.7880\tAttn Loss: 12304.9262\tTotal: 119841.5971\n"
     ]
    },
    {
     "name": "stderr",
     "output_type": "stream",
     "text": [
      " 40%|███▉      | 31899/80000 [6:14:45<9:26:52,  1.41it/s] "
     ]
    },
    {
     "name": "stdout",
     "output_type": "stream",
     "text": [
      "Tue Jul  7 08:45:56 2020: Iteration: [31900/80000]\tRecon Loss: 461.7666\tPercept Loss: 41816.0338\tTV Loss: 10.8465\tAttn Loss: 12303.9167\tTotal: 120365.6641\n"
     ]
    },
    {
     "name": "stderr",
     "output_type": "stream",
     "text": [
      " 40%|███▉      | 31999/80000 [6:15:56<9:22:48,  1.42it/s] "
     ]
    },
    {
     "name": "stdout",
     "output_type": "stream",
     "text": [
      "Tue Jul  7 08:47:07 2020: Iteration: [32000/80000]\tRecon Loss: 481.8331\tPercept Loss: 41933.8058\tTV Loss: 10.9015\tAttn Loss: 12224.5100\tTotal: 120208.2114\n"
     ]
    },
    {
     "name": "stderr",
     "output_type": "stream",
     "text": [
      " 40%|████      | 32099/80000 [6:17:06<9:22:14,  1.42it/s] "
     ]
    },
    {
     "name": "stdout",
     "output_type": "stream",
     "text": [
      "Tue Jul  7 08:48:17 2020: Iteration: [32100/80000]\tRecon Loss: 454.1001\tPercept Loss: 40415.2587\tTV Loss: 10.6452\tAttn Loss: 12624.6664\tTotal: 120810.7101\n"
     ]
    },
    {
     "name": "stderr",
     "output_type": "stream",
     "text": [
      " 40%|████      | 32199/80000 [6:18:17<9:24:12,  1.41it/s] "
     ]
    },
    {
     "name": "stdout",
     "output_type": "stream",
     "text": [
      "Tue Jul  7 08:49:28 2020: Iteration: [32200/80000]\tRecon Loss: 473.8700\tPercept Loss: 41157.4559\tTV Loss: 10.8384\tAttn Loss: 12104.8773\tTotal: 118633.8045\n"
     ]
    },
    {
     "name": "stderr",
     "output_type": "stream",
     "text": [
      " 40%|████      | 32209/80000 [6:18:24<9:20:03,  1.42it/s] /home/dehezhang2/anaconda3/lib/python3.7/site-packages/PIL/Image.py:2766: DecompressionBombWarning: Image size (129086580 pixels) exceeds limit of 89478485 pixels, could be decompression bomb DOS attack.\n",
      "  DecompressionBombWarning,\n",
      " 40%|████      | 32299/80000 [6:19:27<9:22:29,  1.41it/s]"
     ]
    },
    {
     "name": "stdout",
     "output_type": "stream",
     "text": [
      "Tue Jul  7 08:50:38 2020: Iteration: [32300/80000]\tRecon Loss: 482.2198\tPercept Loss: 42511.4689\tTV Loss: 10.8890\tAttn Loss: 11994.2217\tTotal: 119407.8889\n"
     ]
    },
    {
     "name": "stderr",
     "output_type": "stream",
     "text": [
      " 40%|████      | 32399/80000 [6:20:38<9:15:10,  1.43it/s] "
     ]
    },
    {
     "name": "stdout",
     "output_type": "stream",
     "text": [
      "Tue Jul  7 08:51:48 2020: Iteration: [32400/80000]\tRecon Loss: 476.7689\tPercept Loss: 41877.4097\tTV Loss: 10.9270\tAttn Loss: 11762.1520\tTotal: 117327.2807\n"
     ]
    },
    {
     "name": "stderr",
     "output_type": "stream",
     "text": [
      " 41%|████      | 32499/80000 [6:21:48<9:18:29,  1.42it/s] "
     ]
    },
    {
     "name": "stdout",
     "output_type": "stream",
     "text": [
      "Tue Jul  7 08:52:59 2020: Iteration: [32500/80000]\tRecon Loss: 476.1380\tPercept Loss: 41569.1108\tTV Loss: 10.8577\tAttn Loss: 11836.7708\tTotal: 117459.6923\n"
     ]
    },
    {
     "name": "stderr",
     "output_type": "stream",
     "text": [
      " 41%|████      | 32599/80000 [6:22:59<9:14:04,  1.43it/s] "
     ]
    },
    {
     "name": "stdout",
     "output_type": "stream",
     "text": [
      "Tue Jul  7 08:54:09 2020: Iteration: [32600/80000]\tRecon Loss: 465.6477\tPercept Loss: 41639.5673\tTV Loss: 10.8707\tAttn Loss: 11948.7253\tTotal: 118097.1042\n"
     ]
    },
    {
     "name": "stderr",
     "output_type": "stream",
     "text": [
      " 41%|████      | 32699/80000 [6:24:09<9:15:05,  1.42it/s] "
     ]
    },
    {
     "name": "stdout",
     "output_type": "stream",
     "text": [
      "Tue Jul  7 08:55:20 2020: Iteration: [32700/80000]\tRecon Loss: 464.9812\tPercept Loss: 40865.5357\tTV Loss: 10.6132\tAttn Loss: 12122.7994\tTotal: 118358.2767\n"
     ]
    },
    {
     "name": "stderr",
     "output_type": "stream",
     "text": [
      " 41%|████      | 32799/80000 [6:25:19<9:10:48,  1.43it/s] "
     ]
    },
    {
     "name": "stdout",
     "output_type": "stream",
     "text": [
      "Tue Jul  7 08:56:30 2020: Iteration: [32800/80000]\tRecon Loss: 490.2392\tPercept Loss: 41940.7113\tTV Loss: 10.9961\tAttn Loss: 11608.1705\tTotal: 116602.0864\n"
     ]
    },
    {
     "name": "stderr",
     "output_type": "stream",
     "text": [
      " 41%|████      | 32899/80000 [6:26:30<9:09:50,  1.43it/s] "
     ]
    },
    {
     "name": "stdout",
     "output_type": "stream",
     "text": [
      "Tue Jul  7 08:57:40 2020: Iteration: [32900/80000]\tRecon Loss: 474.3801\tPercept Loss: 41493.9793\tTV Loss: 10.8738\tAttn Loss: 12398.8298\tTotal: 120739.4959\n"
     ]
    },
    {
     "name": "stderr",
     "output_type": "stream",
     "text": [
      " 41%|████      | 32999/80000 [6:27:40<9:09:22,  1.43it/s] "
     ]
    },
    {
     "name": "stdout",
     "output_type": "stream",
     "text": [
      "Tue Jul  7 08:58:51 2020: Iteration: [33000/80000]\tRecon Loss: 482.5588\tPercept Loss: 42503.0207\tTV Loss: 10.8930\tAttn Loss: 11745.9470\tTotal: 117913.2215\n"
     ]
    },
    {
     "name": "stderr",
     "output_type": "stream",
     "text": [
      " 41%|████▏     | 33099/80000 [6:28:51<9:10:40,  1.42it/s] "
     ]
    },
    {
     "name": "stdout",
     "output_type": "stream",
     "text": [
      "Tue Jul  7 09:00:01 2020: Iteration: [33100/80000]\tRecon Loss: 462.2601\tPercept Loss: 40532.3983\tTV Loss: 10.6524\tAttn Loss: 11724.4773\tTotal: 115608.3866\n"
     ]
    },
    {
     "name": "stderr",
     "output_type": "stream",
     "text": [
      " 41%|████▏     | 33199/80000 [6:30:01<9:09:43,  1.42it/s] "
     ]
    },
    {
     "name": "stdout",
     "output_type": "stream",
     "text": [
      "Tue Jul  7 09:01:12 2020: Iteration: [33200/80000]\tRecon Loss: 460.9902\tPercept Loss: 41579.0936\tTV Loss: 10.8028\tAttn Loss: 11611.7789\tTotal: 115967.6974\n"
     ]
    },
    {
     "name": "stderr",
     "output_type": "stream",
     "text": [
      " 42%|████▏     | 33299/80000 [6:31:11<9:08:56,  1.42it/s] "
     ]
    },
    {
     "name": "stdout",
     "output_type": "stream",
     "text": [
      "Tue Jul  7 09:02:22 2020: Iteration: [33300/80000]\tRecon Loss: 463.7168\tPercept Loss: 41303.6614\tTV Loss: 10.8105\tAttn Loss: 11793.8431\tTotal: 116811.9929\n"
     ]
    },
    {
     "name": "stderr",
     "output_type": "stream",
     "text": [
      " 42%|████▏     | 33399/80000 [6:32:22<9:06:09,  1.42it/s] "
     ]
    },
    {
     "name": "stdout",
     "output_type": "stream",
     "text": [
      "Tue Jul  7 09:03:32 2020: Iteration: [33400/80000]\tRecon Loss: 478.3380\tPercept Loss: 42126.0765\tTV Loss: 10.9155\tAttn Loss: 11555.3691\tTotal: 116350.8251\n"
     ]
    },
    {
     "name": "stderr",
     "output_type": "stream",
     "text": [
      " 42%|████▏     | 33499/80000 [6:33:32<9:06:43,  1.42it/s] "
     ]
    },
    {
     "name": "stdout",
     "output_type": "stream",
     "text": [
      "Tue Jul  7 09:04:43 2020: Iteration: [33500/80000]\tRecon Loss: 479.2923\tPercept Loss: 42078.6789\tTV Loss: 11.1020\tAttn Loss: 11467.9523\tTotal: 115790.3359\n"
     ]
    },
    {
     "name": "stderr",
     "output_type": "stream",
     "text": [
      " 42%|████▏     | 33599/80000 [6:34:43<9:04:53,  1.42it/s] "
     ]
    },
    {
     "name": "stdout",
     "output_type": "stream",
     "text": [
      "Tue Jul  7 09:05:53 2020: Iteration: [33600/80000]\tRecon Loss: 467.9843\tPercept Loss: 41635.9635\tTV Loss: 10.9039\tAttn Loss: 11230.0408\tTotal: 113805.0904\n"
     ]
    },
    {
     "name": "stderr",
     "output_type": "stream",
     "text": [
      " 42%|████▏     | 33699/80000 [6:35:53<8:59:45,  1.43it/s] "
     ]
    },
    {
     "name": "stdout",
     "output_type": "stream",
     "text": [
      "Tue Jul  7 09:07:04 2020: Iteration: [33700/80000]\tRecon Loss: 474.7346\tPercept Loss: 41679.7197\tTV Loss: 10.8638\tAttn Loss: 11860.2331\tTotal: 117697.1010\n"
     ]
    },
    {
     "name": "stderr",
     "output_type": "stream",
     "text": [
      " 42%|████▏     | 33799/80000 [6:37:04<9:01:44,  1.42it/s] "
     ]
    },
    {
     "name": "stdout",
     "output_type": "stream",
     "text": [
      "Tue Jul  7 09:08:14 2020: Iteration: [33800/80000]\tRecon Loss: 480.6763\tPercept Loss: 42991.4825\tTV Loss: 11.0615\tAttn Loss: 11468.6181\tTotal: 116720.5695\n"
     ]
    },
    {
     "name": "stderr",
     "output_type": "stream",
     "text": [
      " 42%|████▏     | 33899/80000 [6:38:14<9:02:37,  1.42it/s] "
     ]
    },
    {
     "name": "stdout",
     "output_type": "stream",
     "text": [
      "Tue Jul  7 09:09:25 2020: Iteration: [33900/80000]\tRecon Loss: 467.6253\tPercept Loss: 41516.2785\tTV Loss: 10.6887\tAttn Loss: 12079.9080\tTotal: 118778.8665\n"
     ]
    },
    {
     "name": "stderr",
     "output_type": "stream",
     "text": [
      " 42%|████▏     | 33999/80000 [6:39:24<8:58:39,  1.42it/s] "
     ]
    },
    {
     "name": "stdout",
     "output_type": "stream",
     "text": [
      "Tue Jul  7 09:10:35 2020: Iteration: [34000/80000]\tRecon Loss: 470.6715\tPercept Loss: 42875.4800\tTV Loss: 11.1071\tAttn Loss: 12831.1707\tTotal: 124680.2904\n"
     ]
    },
    {
     "name": "stderr",
     "output_type": "stream",
     "text": [
      " 43%|████▎     | 34099/80000 [6:40:35<8:57:08,  1.42it/s] "
     ]
    },
    {
     "name": "stdout",
     "output_type": "stream",
     "text": [
      "Tue Jul  7 09:11:45 2020: Iteration: [34100/80000]\tRecon Loss: 465.1655\tPercept Loss: 40791.6621\tTV Loss: 10.6989\tAttn Loss: 11372.4794\tTotal: 113785.1826\n"
     ]
    },
    {
     "name": "stderr",
     "output_type": "stream",
     "text": [
      " 43%|████▎     | 34199/80000 [6:41:45<8:55:19,  1.43it/s] "
     ]
    },
    {
     "name": "stdout",
     "output_type": "stream",
     "text": [
      "Tue Jul  7 09:12:56 2020: Iteration: [34200/80000]\tRecon Loss: 458.6560\tPercept Loss: 41153.5152\tTV Loss: 10.7471\tAttn Loss: 11368.0550\tTotal: 114055.8763\n"
     ]
    },
    {
     "name": "stderr",
     "output_type": "stream",
     "text": [
      " 43%|████▎     | 34299/80000 [6:42:56<8:55:02,  1.42it/s] "
     ]
    },
    {
     "name": "stdout",
     "output_type": "stream",
     "text": [
      "Tue Jul  7 09:14:06 2020: Iteration: [34300/80000]\tRecon Loss: 459.1979\tPercept Loss: 40555.3961\tTV Loss: 10.6833\tAttn Loss: 11945.5656\tTotal: 116927.6013\n"
     ]
    },
    {
     "name": "stderr",
     "output_type": "stream",
     "text": [
      " 43%|████▎     | 34399/80000 [6:44:06<8:56:29,  1.42it/s]"
     ]
    },
    {
     "name": "stdout",
     "output_type": "stream",
     "text": [
      "Tue Jul  7 09:15:17 2020: Iteration: [34400/80000]\tRecon Loss: 486.3992\tPercept Loss: 42467.8405\tTV Loss: 11.0000\tAttn Loss: 11278.6671\tTotal: 115113.8348\n"
     ]
    },
    {
     "name": "stderr",
     "output_type": "stream",
     "text": [
      " 43%|████▎     | 34499/80000 [6:45:16<8:52:04,  1.43it/s]"
     ]
    },
    {
     "name": "stdout",
     "output_type": "stream",
     "text": [
      "Tue Jul  7 09:16:27 2020: Iteration: [34500/80000]\tRecon Loss: 475.9238\tPercept Loss: 42385.3946\tTV Loss: 10.9968\tAttn Loss: 11350.2381\tTotal: 115356.0289\n"
     ]
    },
    {
     "name": "stderr",
     "output_type": "stream",
     "text": [
      " 43%|████▎     | 34599/80000 [6:46:27<8:53:13,  1.42it/s]"
     ]
    },
    {
     "name": "stdout",
     "output_type": "stream",
     "text": [
      "Tue Jul  7 09:17:37 2020: Iteration: [34600/80000]\tRecon Loss: 467.9472\tPercept Loss: 41315.2441\tTV Loss: 10.7975\tAttn Loss: 11599.5823\tTotal: 115700.1845\n"
     ]
    },
    {
     "name": "stderr",
     "output_type": "stream",
     "text": [
      " 43%|████▎     | 34687/80000 [6:47:29<8:48:29,  1.43it/s]/home/dehezhang2/anaconda3/lib/python3.7/site-packages/PIL/Image.py:2766: DecompressionBombWarning: Image size (107327830 pixels) exceeds limit of 89478485 pixels, could be decompression bomb DOS attack.\n",
      "  DecompressionBombWarning,\n",
      " 43%|████▎     | 34699/80000 [6:47:37<8:50:11,  1.42it/s]"
     ]
    },
    {
     "name": "stdout",
     "output_type": "stream",
     "text": [
      "Tue Jul  7 09:18:48 2020: Iteration: [34700/80000]\tRecon Loss: 473.0041\tPercept Loss: 42347.6220\tTV Loss: 10.9932\tAttn Loss: 11543.2870\tTotal: 116447.3159\n"
     ]
    },
    {
     "name": "stderr",
     "output_type": "stream",
     "text": [
      " 43%|████▎     | 34792/80000 [6:48:43<8:47:13,  1.43it/s]/home/dehezhang2/anaconda3/lib/python3.7/site-packages/PIL/Image.py:2766: DecompressionBombWarning: Image size (131790400 pixels) exceeds limit of 89478485 pixels, could be decompression bomb DOS attack.\n",
      "  DecompressionBombWarning,\n",
      " 43%|████▎     | 34799/80000 [6:48:48<8:54:36,  1.41it/s]"
     ]
    },
    {
     "name": "stdout",
     "output_type": "stream",
     "text": [
      "Tue Jul  7 09:19:58 2020: Iteration: [34800/80000]\tRecon Loss: 459.1648\tPercept Loss: 40910.7179\tTV Loss: 10.7446\tAttn Loss: 11445.3771\tTotal: 114282.0746\n"
     ]
    },
    {
     "name": "stderr",
     "output_type": "stream",
     "text": [
      " 44%|████▎     | 34899/80000 [6:49:58<8:46:39,  1.43it/s]"
     ]
    },
    {
     "name": "stdout",
     "output_type": "stream",
     "text": [
      "Tue Jul  7 09:21:09 2020: Iteration: [34900/80000]\tRecon Loss: 473.5497\tPercept Loss: 41689.9918\tTV Loss: 10.9076\tAttn Loss: 11254.3340\tTotal: 114060.5689\n"
     ]
    },
    {
     "name": "stderr",
     "output_type": "stream",
     "text": [
      " 44%|████▎     | 34999/80000 [6:51:08<8:46:07,  1.43it/s]"
     ]
    },
    {
     "name": "stdout",
     "output_type": "stream",
     "text": [
      "Tue Jul  7 09:22:19 2020: Iteration: [35000/80000]\tRecon Loss: 494.4360\tPercept Loss: 42707.5250\tTV Loss: 11.1771\tAttn Loss: 11017.2405\tTotal: 113867.0986\n"
     ]
    },
    {
     "name": "stderr",
     "output_type": "stream",
     "text": [
      " 44%|████▍     | 35099/80000 [6:52:19<8:47:13,  1.42it/s]"
     ]
    },
    {
     "name": "stdout",
     "output_type": "stream",
     "text": [
      "Tue Jul  7 09:23:29 2020: Iteration: [35100/80000]\tRecon Loss: 442.4719\tPercept Loss: 39812.2410\tTV Loss: 10.4475\tAttn Loss: 11291.4021\tTotal: 112089.8479\n"
     ]
    },
    {
     "name": "stderr",
     "output_type": "stream",
     "text": [
      " 44%|████▍     | 35199/80000 [6:53:29<8:44:03,  1.42it/s]"
     ]
    },
    {
     "name": "stdout",
     "output_type": "stream",
     "text": [
      "Tue Jul  7 09:24:40 2020: Iteration: [35200/80000]\tRecon Loss: 468.0445\tPercept Loss: 41168.1892\tTV Loss: 10.7321\tAttn Loss: 11304.1831\tTotal: 113781.0539\n"
     ]
    },
    {
     "name": "stderr",
     "output_type": "stream",
     "text": [
      " 44%|████▍     | 35299/80000 [6:54:40<8:47:51,  1.41it/s]"
     ]
    },
    {
     "name": "stdout",
     "output_type": "stream",
     "text": [
      "Tue Jul  7 09:25:50 2020: Iteration: [35300/80000]\tRecon Loss: 484.6286\tPercept Loss: 43270.1775\tTV Loss: 11.2311\tAttn Loss: 11095.2023\tTotal: 114799.9882\n"
     ]
    },
    {
     "name": "stderr",
     "output_type": "stream",
     "text": [
      " 44%|████▍     | 35399/80000 [6:55:50<8:45:33,  1.41it/s]"
     ]
    },
    {
     "name": "stdout",
     "output_type": "stream",
     "text": [
      "Tue Jul  7 09:27:01 2020: Iteration: [35400/80000]\tRecon Loss: 463.8468\tPercept Loss: 41084.9915\tTV Loss: 10.8359\tAttn Loss: 11252.6750\tTotal: 113347.8685\n"
     ]
    },
    {
     "name": "stderr",
     "output_type": "stream",
     "text": [
      " 44%|████▍     | 35499/80000 [6:57:00<8:43:06,  1.42it/s]"
     ]
    },
    {
     "name": "stdout",
     "output_type": "stream",
     "text": [
      "Tue Jul  7 09:28:11 2020: Iteration: [35500/80000]\tRecon Loss: 465.2165\tPercept Loss: 41042.2483\tTV Loss: 10.7549\tAttn Loss: 11233.0379\tTotal: 113200.1906\n"
     ]
    },
    {
     "name": "stderr",
     "output_type": "stream",
     "text": [
      " 44%|████▍     | 35599/80000 [6:58:11<8:41:24,  1.42it/s]"
     ]
    },
    {
     "name": "stdout",
     "output_type": "stream",
     "text": [
      "Tue Jul  7 09:29:21 2020: Iteration: [35600/80000]\tRecon Loss: 484.2365\tPercept Loss: 42604.4387\tTV Loss: 11.1705\tAttn Loss: 10806.3210\tTotal: 112396.4347\n"
     ]
    },
    {
     "name": "stderr",
     "output_type": "stream",
     "text": [
      " 45%|████▍     | 35699/80000 [6:59:21<8:39:57,  1.42it/s]"
     ]
    },
    {
     "name": "stdout",
     "output_type": "stream",
     "text": [
      "Tue Jul  7 09:30:32 2020: Iteration: [35700/80000]\tRecon Loss: 460.9454\tPercept Loss: 40894.2052\tTV Loss: 10.7047\tAttn Loss: 12171.6299\tTotal: 118640.4860\n"
     ]
    },
    {
     "name": "stderr",
     "output_type": "stream",
     "text": [
      " 45%|████▍     | 35799/80000 [7:00:32<8:39:15,  1.42it/s]"
     ]
    },
    {
     "name": "stdout",
     "output_type": "stream",
     "text": [
      "Tue Jul  7 09:31:42 2020: Iteration: [35800/80000]\tRecon Loss: 488.2511\tPercept Loss: 41914.7919\tTV Loss: 10.9821\tAttn Loss: 11070.4171\tTotal: 113329.6270\n"
     ]
    },
    {
     "name": "stderr",
     "output_type": "stream",
     "text": [
      " 45%|████▍     | 35899/80000 [7:01:42<8:36:11,  1.42it/s]"
     ]
    },
    {
     "name": "stdout",
     "output_type": "stream",
     "text": [
      "Tue Jul  7 09:32:53 2020: Iteration: [35900/80000]\tRecon Loss: 464.3503\tPercept Loss: 40904.1341\tTV Loss: 10.7717\tAttn Loss: 11163.9795\tTotal: 112639.2313\n"
     ]
    },
    {
     "name": "stderr",
     "output_type": "stream",
     "text": [
      " 45%|████▍     | 35999/80000 [7:02:52<8:37:15,  1.42it/s]"
     ]
    },
    {
     "name": "stdout",
     "output_type": "stream",
     "text": [
      "Tue Jul  7 09:34:03 2020: Iteration: [36000/80000]\tRecon Loss: 484.1352\tPercept Loss: 43199.8454\tTV Loss: 11.0959\tAttn Loss: 11015.6570\tTotal: 114246.0982\n"
     ]
    },
    {
     "name": "stderr",
     "output_type": "stream",
     "text": [
      " 45%|████▌     | 36099/80000 [7:04:03<8:35:21,  1.42it/s]"
     ]
    },
    {
     "name": "stdout",
     "output_type": "stream",
     "text": [
      "Tue Jul  7 09:35:14 2020: Iteration: [36100/80000]\tRecon Loss: 467.7829\tPercept Loss: 41005.5325\tTV Loss: 10.9825\tAttn Loss: 11489.4182\tTotal: 114729.6956\n"
     ]
    },
    {
     "name": "stderr",
     "output_type": "stream",
     "text": [
      " 45%|████▌     | 36199/80000 [7:05:13<8:37:10,  1.41it/s]"
     ]
    },
    {
     "name": "stdout",
     "output_type": "stream",
     "text": [
      "Tue Jul  7 09:36:24 2020: Iteration: [36200/80000]\tRecon Loss: 474.8837\tPercept Loss: 41744.8122\tTV Loss: 10.9417\tAttn Loss: 11186.8133\tTotal: 113723.9460\n"
     ]
    },
    {
     "name": "stderr",
     "output_type": "stream",
     "text": [
      " 45%|████▌     | 36299/80000 [7:06:24<8:33:20,  1.42it/s]"
     ]
    },
    {
     "name": "stdout",
     "output_type": "stream",
     "text": [
      "Tue Jul  7 09:37:34 2020: Iteration: [36300/80000]\tRecon Loss: 486.4333\tPercept Loss: 41794.8793\tTV Loss: 10.9856\tAttn Loss: 12313.4220\tTotal: 120649.6005\n"
     ]
    },
    {
     "name": "stderr",
     "output_type": "stream",
     "text": [
      " 45%|████▌     | 36399/80000 [7:07:34<8:36:51,  1.41it/s]"
     ]
    },
    {
     "name": "stdout",
     "output_type": "stream",
     "text": [
      "Tue Jul  7 09:38:45 2020: Iteration: [36400/80000]\tRecon Loss: 471.9182\tPercept Loss: 41588.8993\tTV Loss: 10.9534\tAttn Loss: 11429.8953\tTotal: 114996.9871\n"
     ]
    },
    {
     "name": "stderr",
     "output_type": "stream",
     "text": [
      " 46%|████▌     | 36499/80000 [7:08:45<8:32:42,  1.41it/s]"
     ]
    },
    {
     "name": "stdout",
     "output_type": "stream",
     "text": [
      "Tue Jul  7 09:39:55 2020: Iteration: [36500/80000]\tRecon Loss: 491.8668\tPercept Loss: 43299.6617\tTV Loss: 11.2631\tAttn Loss: 10898.5504\tTotal: 113722.2631\n"
     ]
    },
    {
     "name": "stderr",
     "output_type": "stream",
     "text": [
      " 46%|████▌     | 36599/80000 [7:09:55<8:27:43,  1.42it/s]"
     ]
    },
    {
     "name": "stdout",
     "output_type": "stream",
     "text": [
      "Tue Jul  7 09:41:06 2020: Iteration: [36600/80000]\tRecon Loss: 466.4690\tPercept Loss: 41173.6239\tTV Loss: 10.7865\tAttn Loss: 11404.9304\tTotal: 114375.7611\n"
     ]
    },
    {
     "name": "stderr",
     "output_type": "stream",
     "text": [
      " 46%|████▌     | 36699/80000 [7:11:05<8:25:13,  1.43it/s]"
     ]
    },
    {
     "name": "stdout",
     "output_type": "stream",
     "text": [
      "Tue Jul  7 09:42:16 2020: Iteration: [36700/80000]\tRecon Loss: 471.6830\tPercept Loss: 40687.6409\tTV Loss: 10.7808\tAttn Loss: 11102.6002\tTotal: 112127.8802\n"
     ]
    },
    {
     "name": "stderr",
     "output_type": "stream",
     "text": [
      " 46%|████▌     | 36799/80000 [7:12:16<8:25:22,  1.42it/s]"
     ]
    },
    {
     "name": "stdout",
     "output_type": "stream",
     "text": [
      "Tue Jul  7 09:43:26 2020: Iteration: [36800/80000]\tRecon Loss: 456.6235\tPercept Loss: 40396.0013\tTV Loss: 10.6904\tAttn Loss: 11053.1561\tTotal: 111388.0766\n"
     ]
    },
    {
     "name": "stderr",
     "output_type": "stream",
     "text": [
      " 46%|████▌     | 36899/80000 [7:13:26<8:26:13,  1.42it/s]"
     ]
    },
    {
     "name": "stdout",
     "output_type": "stream",
     "text": [
      "Tue Jul  7 09:44:37 2020: Iteration: [36900/80000]\tRecon Loss: 452.9693\tPercept Loss: 39989.8792\tTV Loss: 10.6941\tAttn Loss: 11018.4163\tTotal: 110737.0123\n"
     ]
    },
    {
     "name": "stderr",
     "output_type": "stream",
     "text": [
      " 46%|████▌     | 36999/80000 [7:14:37<8:24:42,  1.42it/s]"
     ]
    },
    {
     "name": "stdout",
     "output_type": "stream",
     "text": [
      "Tue Jul  7 09:45:47 2020: Iteration: [37000/80000]\tRecon Loss: 463.1081\tPercept Loss: 41340.7006\tTV Loss: 10.8819\tAttn Loss: 10736.4905\tTotal: 110499.5441\n"
     ]
    },
    {
     "name": "stderr",
     "output_type": "stream",
     "text": [
      " 46%|████▋     | 37099/80000 [7:15:47<8:23:58,  1.42it/s]"
     ]
    },
    {
     "name": "stdout",
     "output_type": "stream",
     "text": [
      "Tue Jul  7 09:46:58 2020: Iteration: [37100/80000]\tRecon Loss: 457.9988\tPercept Loss: 41166.4412\tTV Loss: 10.8287\tAttn Loss: 10998.8546\tTotal: 111847.8429\n"
     ]
    },
    {
     "name": "stderr",
     "output_type": "stream",
     "text": [
      " 46%|████▋     | 37105/80000 [7:15:51<8:21:59,  1.42it/s]/home/dehezhang2/anaconda3/lib/python3.7/site-packages/PIL/Image.py:2766: DecompressionBombWarning: Image size (94435468 pixels) exceeds limit of 89478485 pixels, could be decompression bomb DOS attack.\n",
      "  DecompressionBombWarning,\n",
      " 46%|████▋     | 37199/80000 [7:16:57<8:22:44,  1.42it/s]"
     ]
    },
    {
     "name": "stdout",
     "output_type": "stream",
     "text": [
      "Tue Jul  7 09:48:08 2020: Iteration: [37200/80000]\tRecon Loss: 470.0882\tPercept Loss: 40897.8453\tTV Loss: 10.7675\tAttn Loss: 10955.1422\tTotal: 111437.2550\n"
     ]
    },
    {
     "name": "stderr",
     "output_type": "stream",
     "text": [
      " 47%|████▋     | 37299/80000 [7:18:08<8:19:57,  1.42it/s]"
     ]
    },
    {
     "name": "stdout",
     "output_type": "stream",
     "text": [
      "Tue Jul  7 09:49:18 2020: Iteration: [37300/80000]\tRecon Loss: 471.9774\tPercept Loss: 42036.9047\tTV Loss: 10.9604\tAttn Loss: 11716.9755\tTotal: 117168.1345\n"
     ]
    },
    {
     "name": "stderr",
     "output_type": "stream",
     "text": [
      " 47%|████▋     | 37399/80000 [7:19:18<8:21:41,  1.42it/s]"
     ]
    },
    {
     "name": "stdout",
     "output_type": "stream",
     "text": [
      "Tue Jul  7 09:50:29 2020: Iteration: [37400/80000]\tRecon Loss: 491.9906\tPercept Loss: 43335.7704\tTV Loss: 11.2823\tAttn Loss: 10571.7507\tTotal: 111799.0030\n"
     ]
    },
    {
     "name": "stderr",
     "output_type": "stream",
     "text": [
      " 47%|████▋     | 37499/80000 [7:20:29<8:18:51,  1.42it/s]"
     ]
    },
    {
     "name": "stdout",
     "output_type": "stream",
     "text": [
      "Tue Jul  7 09:51:39 2020: Iteration: [37500/80000]\tRecon Loss: 462.1401\tPercept Loss: 41241.8959\tTV Loss: 10.8399\tAttn Loss: 11209.7707\tTotal: 113230.3201\n"
     ]
    },
    {
     "name": "stderr",
     "output_type": "stream",
     "text": [
      " 47%|████▋     | 37565/80000 [7:21:15<8:18:24,  1.42it/s]/home/dehezhang2/anaconda3/lib/python3.7/site-packages/PIL/Image.py:2766: DecompressionBombWarning: Image size (145486286 pixels) exceeds limit of 89478485 pixels, could be decompression bomb DOS attack.\n",
      "  DecompressionBombWarning,\n",
      " 47%|████▋     | 37599/80000 [7:21:39<8:16:43,  1.42it/s]"
     ]
    },
    {
     "name": "stdout",
     "output_type": "stream",
     "text": [
      "Tue Jul  7 09:52:50 2020: Iteration: [37600/80000]\tRecon Loss: 443.3372\tPercept Loss: 40109.6204\tTV Loss: 10.6980\tAttn Loss: 10701.9860\tTotal: 108861.8879\n"
     ]
    },
    {
     "name": "stderr",
     "output_type": "stream",
     "text": [
      " 47%|████▋     | 37699/80000 [7:22:50<8:16:58,  1.42it/s]"
     ]
    },
    {
     "name": "stdout",
     "output_type": "stream",
     "text": [
      "Tue Jul  7 09:54:00 2020: Iteration: [37700/80000]\tRecon Loss: 482.0332\tPercept Loss: 42324.9514\tTV Loss: 11.0090\tAttn Loss: 10669.6970\tTotal: 111273.5559\n"
     ]
    },
    {
     "name": "stderr",
     "output_type": "stream",
     "text": [
      " 47%|████▋     | 37799/80000 [7:24:00<8:15:20,  1.42it/s]"
     ]
    },
    {
     "name": "stdout",
     "output_type": "stream",
     "text": [
      "Tue Jul  7 09:55:11 2020: Iteration: [37800/80000]\tRecon Loss: 479.7149\tPercept Loss: 42009.3365\tTV Loss: 11.1167\tAttn Loss: 10632.4097\tTotal: 110712.1103\n"
     ]
    },
    {
     "name": "stderr",
     "output_type": "stream",
     "text": [
      " 47%|████▋     | 37899/80000 [7:25:10<8:16:18,  1.41it/s]"
     ]
    },
    {
     "name": "stdout",
     "output_type": "stream",
     "text": [
      "Tue Jul  7 09:56:21 2020: Iteration: [37900/80000]\tRecon Loss: 474.6939\tPercept Loss: 41947.6649\tTV Loss: 11.0333\tAttn Loss: 10838.1405\tTotal: 111833.7806\n"
     ]
    },
    {
     "name": "stderr",
     "output_type": "stream",
     "text": [
      " 47%|████▋     | 37999/80000 [7:26:21<8:11:33,  1.42it/s]"
     ]
    },
    {
     "name": "stdout",
     "output_type": "stream",
     "text": [
      "Tue Jul  7 09:57:31 2020: Iteration: [38000/80000]\tRecon Loss: 467.2174\tPercept Loss: 40913.5576\tTV Loss: 11.0094\tAttn Loss: 10398.2135\tTotal: 108085.1062\n"
     ]
    },
    {
     "name": "stderr",
     "output_type": "stream",
     "text": [
      " 48%|████▊     | 38099/80000 [7:27:31<8:15:06,  1.41it/s]"
     ]
    },
    {
     "name": "stdout",
     "output_type": "stream",
     "text": [
      "Tue Jul  7 09:58:42 2020: Iteration: [38100/80000]\tRecon Loss: 483.0963\tPercept Loss: 42823.7293\tTV Loss: 11.1176\tAttn Loss: 10601.5093\tTotal: 111374.9239\n"
     ]
    },
    {
     "name": "stderr",
     "output_type": "stream",
     "text": [
      " 48%|████▊     | 38199/80000 [7:28:42<8:12:03,  1.42it/s]"
     ]
    },
    {
     "name": "stdout",
     "output_type": "stream",
     "text": [
      "Tue Jul  7 09:59:52 2020: Iteration: [38200/80000]\tRecon Loss: 457.0823\tPercept Loss: 40531.0992\tTV Loss: 10.7978\tAttn Loss: 10833.6682\tTotal: 110211.9088\n"
     ]
    },
    {
     "name": "stderr",
     "output_type": "stream",
     "text": [
      " 48%|████▊     | 38299/80000 [7:29:52<8:10:06,  1.42it/s]"
     ]
    },
    {
     "name": "stdout",
     "output_type": "stream",
     "text": [
      "Tue Jul  7 10:01:03 2020: Iteration: [38300/80000]\tRecon Loss: 469.1850\tPercept Loss: 41661.0072\tTV Loss: 10.9374\tAttn Loss: 10321.0426\tTotal: 108388.4873\n"
     ]
    },
    {
     "name": "stderr",
     "output_type": "stream",
     "text": [
      " 48%|████▊     | 38399/80000 [7:31:03<8:08:42,  1.42it/s]"
     ]
    },
    {
     "name": "stdout",
     "output_type": "stream",
     "text": [
      "Tue Jul  7 10:02:13 2020: Iteration: [38400/80000]\tRecon Loss: 465.1476\tPercept Loss: 41411.0350\tTV Loss: 10.7713\tAttn Loss: 10458.1664\tTotal: 108919.2220\n"
     ]
    },
    {
     "name": "stderr",
     "output_type": "stream",
     "text": [
      " 48%|████▊     | 38499/80000 [7:32:13<8:05:35,  1.42it/s]"
     ]
    },
    {
     "name": "stdout",
     "output_type": "stream",
     "text": [
      "Tue Jul  7 10:03:24 2020: Iteration: [38500/80000]\tRecon Loss: 466.0312\tPercept Loss: 40424.3276\tTV Loss: 10.7150\tAttn Loss: 11230.7960\tTotal: 112576.5664\n"
     ]
    },
    {
     "name": "stderr",
     "output_type": "stream",
     "text": [
      " 48%|████▊     | 38599/80000 [7:33:23<8:05:05,  1.42it/s]"
     ]
    },
    {
     "name": "stdout",
     "output_type": "stream",
     "text": [
      "Tue Jul  7 10:04:34 2020: Iteration: [38600/80000]\tRecon Loss: 483.3776\tPercept Loss: 41761.6421\tTV Loss: 10.9567\tAttn Loss: 11422.0358\tTotal: 115237.1985\n"
     ]
    },
    {
     "name": "stderr",
     "output_type": "stream",
     "text": [
      " 48%|████▊     | 38699/80000 [7:34:34<8:03:15,  1.42it/s]"
     ]
    },
    {
     "name": "stdout",
     "output_type": "stream",
     "text": [
      "Tue Jul  7 10:05:44 2020: Iteration: [38700/80000]\tRecon Loss: 485.0046\tPercept Loss: 42665.4716\tTV Loss: 11.0268\tAttn Loss: 11926.7953\tTotal: 119186.5583\n"
     ]
    },
    {
     "name": "stderr",
     "output_type": "stream",
     "text": [
      " 48%|████▊     | 38799/80000 [7:35:44<8:04:04,  1.42it/s]"
     ]
    },
    {
     "name": "stdout",
     "output_type": "stream",
     "text": [
      "Tue Jul  7 10:06:55 2020: Iteration: [38800/80000]\tRecon Loss: 460.8478\tPercept Loss: 41247.6688\tTV Loss: 10.8970\tAttn Loss: 11379.7982\tTotal: 114243.9059\n"
     ]
    },
    {
     "name": "stderr",
     "output_type": "stream",
     "text": [
      " 49%|████▊     | 38899/80000 [7:36:54<8:00:16,  1.43it/s]"
     ]
    },
    {
     "name": "stdout",
     "output_type": "stream",
     "text": [
      "Tue Jul  7 10:08:05 2020: Iteration: [38900/80000]\tRecon Loss: 470.4901\tPercept Loss: 41451.2996\tTV Loss: 10.9248\tAttn Loss: 10406.5069\tTotal: 108704.4895\n"
     ]
    },
    {
     "name": "stderr",
     "output_type": "stream",
     "text": [
      " 49%|████▊     | 38999/80000 [7:38:05<8:00:32,  1.42it/s]"
     ]
    },
    {
     "name": "stdout",
     "output_type": "stream",
     "text": [
      "Tue Jul  7 10:09:16 2020: Iteration: [39000/80000]\tRecon Loss: 451.3394\tPercept Loss: 40067.8753\tTV Loss: 10.7042\tAttn Loss: 10585.8654\tTotal: 108203.5039\n"
     ]
    },
    {
     "name": "stderr",
     "output_type": "stream",
     "text": [
      " 49%|████▉     | 39099/80000 [7:39:15<7:59:22,  1.42it/s]"
     ]
    },
    {
     "name": "stdout",
     "output_type": "stream",
     "text": [
      "Tue Jul  7 10:10:26 2020: Iteration: [39100/80000]\tRecon Loss: 466.7470\tPercept Loss: 41508.2581\tTV Loss: 11.0219\tAttn Loss: 10385.3820\tTotal: 108598.2386\n"
     ]
    },
    {
     "name": "stderr",
     "output_type": "stream",
     "text": [
      " 49%|████▉     | 39199/80000 [7:40:26<7:58:44,  1.42it/s]"
     ]
    },
    {
     "name": "stdout",
     "output_type": "stream",
     "text": [
      "Tue Jul  7 10:11:37 2020: Iteration: [39200/80000]\tRecon Loss: 444.1563\tPercept Loss: 40038.3441\tTV Loss: 10.5833\tAttn Loss: 10378.5008\tTotal: 106856.7438\n"
     ]
    },
    {
     "name": "stderr",
     "output_type": "stream",
     "text": [
      " 49%|████▉     | 39299/80000 [7:41:36<7:57:47,  1.42it/s]"
     ]
    },
    {
     "name": "stdout",
     "output_type": "stream",
     "text": [
      "Tue Jul  7 10:12:47 2020: Iteration: [39300/80000]\tRecon Loss: 480.8409\tPercept Loss: 41584.3183\tTV Loss: 10.9706\tAttn Loss: 10784.5071\tTotal: 111209.4756\n"
     ]
    },
    {
     "name": "stderr",
     "output_type": "stream",
     "text": [
      " 49%|████▉     | 39399/80000 [7:42:47<7:55:01,  1.42it/s]"
     ]
    },
    {
     "name": "stdout",
     "output_type": "stream",
     "text": [
      "Tue Jul  7 10:13:57 2020: Iteration: [39400/80000]\tRecon Loss: 479.6779\tPercept Loss: 42017.1553\tTV Loss: 11.1052\tAttn Loss: 10720.0633\tTotal: 111245.3662\n"
     ]
    },
    {
     "name": "stderr",
     "output_type": "stream",
     "text": [
      " 49%|████▉     | 39499/80000 [7:43:57<7:53:15,  1.43it/s]"
     ]
    },
    {
     "name": "stdout",
     "output_type": "stream",
     "text": [
      "Tue Jul  7 10:15:08 2020: Iteration: [39500/80000]\tRecon Loss: 462.1414\tPercept Loss: 41031.2792\tTV Loss: 10.8200\tAttn Loss: 10423.1715\tTotal: 108299.9223\n"
     ]
    },
    {
     "name": "stderr",
     "output_type": "stream",
     "text": [
      " 49%|████▉     | 39599/80000 [7:45:08<7:54:10,  1.42it/s]"
     ]
    },
    {
     "name": "stdout",
     "output_type": "stream",
     "text": [
      "Tue Jul  7 10:16:18 2020: Iteration: [39600/80000]\tRecon Loss: 462.7964\tPercept Loss: 41111.9527\tTV Loss: 10.8704\tAttn Loss: 10425.4314\tTotal: 108401.2092\n"
     ]
    },
    {
     "name": "stderr",
     "output_type": "stream",
     "text": [
      " 50%|████▉     | 39699/80000 [7:46:18<7:52:49,  1.42it/s]"
     ]
    },
    {
     "name": "stdout",
     "output_type": "stream",
     "text": [
      "Tue Jul  7 10:17:29 2020: Iteration: [39700/80000]\tRecon Loss: 454.6050\tPercept Loss: 40478.4767\tTV Loss: 10.6819\tAttn Loss: 10197.2154\tTotal: 106314.6377\n"
     ]
    },
    {
     "name": "stderr",
     "output_type": "stream",
     "text": [
      " 50%|████▉     | 39799/80000 [7:47:29<7:53:39,  1.41it/s]"
     ]
    },
    {
     "name": "stdout",
     "output_type": "stream",
     "text": [
      "Tue Jul  7 10:18:39 2020: Iteration: [39800/80000]\tRecon Loss: 474.3658\tPercept Loss: 41660.1368\tTV Loss: 10.9994\tAttn Loss: 11256.7394\tTotal: 114054.2258\n"
     ]
    },
    {
     "name": "stderr",
     "output_type": "stream",
     "text": [
      " 50%|████▉     | 39899/80000 [7:48:39<7:52:51,  1.41it/s]"
     ]
    },
    {
     "name": "stdout",
     "output_type": "stream",
     "text": [
      "Tue Jul  7 10:19:50 2020: Iteration: [39900/80000]\tRecon Loss: 477.5802\tPercept Loss: 42325.0331\tTV Loss: 11.0370\tAttn Loss: 10894.0004\tTotal: 112575.2080\n"
     ]
    },
    {
     "name": "stderr",
     "output_type": "stream",
     "text": [
      " 50%|████▉     | 39999/80000 [7:49:50<7:48:02,  1.42it/s]"
     ]
    },
    {
     "name": "stdout",
     "output_type": "stream",
     "text": [
      "Tue Jul  7 10:21:00 2020: Iteration: [40000/80000]\tRecon Loss: 470.0840\tPercept Loss: 41931.2174\tTV Loss: 11.1182\tAttn Loss: 10147.9447\tTotal: 107630.9080\n"
     ]
    },
    {
     "name": "stderr",
     "output_type": "stream",
     "text": [
      " 50%|█████     | 40099/80000 [7:51:00<7:53:16,  1.41it/s]"
     ]
    },
    {
     "name": "stdout",
     "output_type": "stream",
     "text": [
      "Tue Jul  7 10:22:11 2020: Iteration: [40100/80000]\tRecon Loss: 480.8226\tPercept Loss: 42041.4813\tTV Loss: 11.0951\tAttn Loss: 10155.4296\tTotal: 107893.2358\n"
     ]
    },
    {
     "name": "stderr",
     "output_type": "stream",
     "text": [
      " 50%|█████     | 40199/80000 [7:52:11<7:45:54,  1.42it/s]"
     ]
    },
    {
     "name": "stdout",
     "output_type": "stream",
     "text": [
      "Tue Jul  7 10:23:21 2020: Iteration: [40200/80000]\tRecon Loss: 470.3545\tPercept Loss: 41670.1459\tTV Loss: 10.9133\tAttn Loss: 10105.6957\tTotal: 107116.9976\n"
     ]
    },
    {
     "name": "stderr",
     "output_type": "stream",
     "text": [
      " 50%|█████     | 40299/80000 [7:53:21<7:45:00,  1.42it/s]"
     ]
    },
    {
     "name": "stdout",
     "output_type": "stream",
     "text": [
      "Tue Jul  7 10:24:32 2020: Iteration: [40300/80000]\tRecon Loss: 466.5289\tPercept Loss: 40712.2422\tTV Loss: 10.9025\tAttn Loss: 10830.3202\tTotal: 110468.4788\n"
     ]
    },
    {
     "name": "stderr",
     "output_type": "stream",
     "text": [
      " 50%|█████     | 40399/80000 [7:54:32<7:44:44,  1.42it/s]"
     ]
    },
    {
     "name": "stdout",
     "output_type": "stream",
     "text": [
      "Tue Jul  7 10:25:43 2020: Iteration: [40400/80000]\tRecon Loss: 431.2413\tPercept Loss: 39250.1411\tTV Loss: 10.5325\tAttn Loss: 10382.1151\tTotal: 105960.5687\n"
     ]
    },
    {
     "name": "stderr",
     "output_type": "stream",
     "text": [
      " 51%|█████     | 40499/80000 [7:55:42<7:44:22,  1.42it/s]"
     ]
    },
    {
     "name": "stdout",
     "output_type": "stream",
     "text": [
      "Tue Jul  7 10:26:53 2020: Iteration: [40500/80000]\tRecon Loss: 488.9447\tPercept Loss: 43181.2414\tTV Loss: 11.3174\tAttn Loss: 10638.7767\tTotal: 112016.5228\n"
     ]
    },
    {
     "name": "stderr",
     "output_type": "stream",
     "text": [
      " 51%|█████     | 40599/80000 [7:56:53<7:42:47,  1.42it/s]"
     ]
    },
    {
     "name": "stdout",
     "output_type": "stream",
     "text": [
      "Tue Jul  7 10:28:03 2020: Iteration: [40600/80000]\tRecon Loss: 466.1621\tPercept Loss: 40741.5888\tTV Loss: 10.8987\tAttn Loss: 10471.7448\tTotal: 108342.6659\n"
     ]
    },
    {
     "name": "stderr",
     "output_type": "stream",
     "text": [
      " 51%|█████     | 40699/80000 [7:58:03<7:42:27,  1.42it/s]"
     ]
    },
    {
     "name": "stdout",
     "output_type": "stream",
     "text": [
      "Tue Jul  7 10:29:14 2020: Iteration: [40700/80000]\tRecon Loss: 494.6633\tPercept Loss: 42846.0294\tTV Loss: 11.2245\tAttn Loss: 9928.7627\tTotal: 107477.4838\n"
     ]
    },
    {
     "name": "stderr",
     "output_type": "stream",
     "text": [
      " 51%|█████     | 40799/80000 [7:59:14<7:40:16,  1.42it/s]"
     ]
    },
    {
     "name": "stdout",
     "output_type": "stream",
     "text": [
      "Tue Jul  7 10:30:24 2020: Iteration: [40800/80000]\tRecon Loss: 457.2584\tPercept Loss: 39615.5293\tTV Loss: 10.6578\tAttn Loss: 10085.4971\tTotal: 104807.6747\n"
     ]
    },
    {
     "name": "stderr",
     "output_type": "stream",
     "text": [
      " 51%|█████     | 40899/80000 [8:00:24<7:43:21,  1.41it/s]"
     ]
    },
    {
     "name": "stdout",
     "output_type": "stream",
     "text": [
      "Tue Jul  7 10:31:35 2020: Iteration: [40900/80000]\tRecon Loss: 456.4854\tPercept Loss: 40255.5787\tTV Loss: 10.8133\tAttn Loss: 10176.8112\tTotal: 105989.4323\n"
     ]
    },
    {
     "name": "stderr",
     "output_type": "stream",
     "text": [
      " 51%|█████     | 40999/80000 [8:01:35<7:40:57,  1.41it/s]"
     ]
    },
    {
     "name": "stdout",
     "output_type": "stream",
     "text": [
      "Tue Jul  7 10:32:45 2020: Iteration: [41000/80000]\tRecon Loss: 481.9078\tPercept Loss: 42554.5820\tTV Loss: 11.1497\tAttn Loss: 10549.0823\tTotal: 110779.6503\n"
     ]
    },
    {
     "name": "stderr",
     "output_type": "stream",
     "text": [
      " 51%|█████▏    | 41099/80000 [8:02:45<7:38:34,  1.41it/s]"
     ]
    },
    {
     "name": "stdout",
     "output_type": "stream",
     "text": [
      "Tue Jul  7 10:33:56 2020: Iteration: [41100/80000]\tRecon Loss: 453.5853\tPercept Loss: 39538.8383\tTV Loss: 10.6384\tAttn Loss: 10600.3134\tTotal: 107782.9546\n"
     ]
    },
    {
     "name": "stderr",
     "output_type": "stream",
     "text": [
      " 51%|█████▏    | 41199/80000 [8:03:56<7:34:34,  1.42it/s]"
     ]
    },
    {
     "name": "stdout",
     "output_type": "stream",
     "text": [
      "Tue Jul  7 10:35:06 2020: Iteration: [41200/80000]\tRecon Loss: 452.8592\tPercept Loss: 39990.0593\tTV Loss: 10.8533\tAttn Loss: 10060.6794\tTotal: 104991.2591\n"
     ]
    },
    {
     "name": "stderr",
     "output_type": "stream",
     "text": [
      " 52%|█████▏    | 41299/80000 [8:05:06<7:34:54,  1.42it/s]"
     ]
    },
    {
     "name": "stdout",
     "output_type": "stream",
     "text": [
      "Tue Jul  7 10:36:17 2020: Iteration: [41300/80000]\tRecon Loss: 475.3332\tPercept Loss: 41669.1244\tTV Loss: 10.9173\tAttn Loss: 9906.0111\tTotal: 105967.6955\n"
     ]
    },
    {
     "name": "stderr",
     "output_type": "stream",
     "text": [
      " 52%|█████▏    | 41399/80000 [8:06:17<7:34:02,  1.42it/s]"
     ]
    },
    {
     "name": "stdout",
     "output_type": "stream",
     "text": [
      "Tue Jul  7 10:37:27 2020: Iteration: [41400/80000]\tRecon Loss: 448.1131\tPercept Loss: 40021.1381\tTV Loss: 10.8395\tAttn Loss: 10006.0814\tTotal: 104647.1525\n"
     ]
    },
    {
     "name": "stderr",
     "output_type": "stream",
     "text": [
      " 52%|█████▏    | 41499/80000 [8:07:27<7:31:40,  1.42it/s]"
     ]
    },
    {
     "name": "stdout",
     "output_type": "stream",
     "text": [
      "Tue Jul  7 10:38:38 2020: Iteration: [41500/80000]\tRecon Loss: 448.5792\tPercept Loss: 39482.3333\tTV Loss: 10.5772\tAttn Loss: 10315.9393\tTotal: 105969.5330\n"
     ]
    },
    {
     "name": "stderr",
     "output_type": "stream",
     "text": [
      " 52%|█████▏    | 41599/80000 [8:08:38<7:28:38,  1.43it/s]"
     ]
    },
    {
     "name": "stdout",
     "output_type": "stream",
     "text": [
      "Tue Jul  7 10:39:48 2020: Iteration: [41600/80000]\tRecon Loss: 469.4028\tPercept Loss: 41085.9762\tTV Loss: 11.0463\tAttn Loss: 9731.2483\tTotal: 104277.9568\n"
     ]
    },
    {
     "name": "stderr",
     "output_type": "stream",
     "text": [
      " 52%|█████▏    | 41699/80000 [8:09:48<7:27:55,  1.43it/s]"
     ]
    },
    {
     "name": "stdout",
     "output_type": "stream",
     "text": [
      "Tue Jul  7 10:40:59 2020: Iteration: [41700/80000]\tRecon Loss: 450.5376\tPercept Loss: 41094.9336\tTV Loss: 10.7813\tAttn Loss: 10766.4374\tTotal: 110306.7462\n"
     ]
    },
    {
     "name": "stderr",
     "output_type": "stream",
     "text": [
      " 52%|█████▏    | 41799/80000 [8:10:58<7:28:05,  1.42it/s]"
     ]
    },
    {
     "name": "stdout",
     "output_type": "stream",
     "text": [
      "Tue Jul  7 10:42:09 2020: Iteration: [41800/80000]\tRecon Loss: 447.5144\tPercept Loss: 40277.0658\tTV Loss: 10.7386\tAttn Loss: 10597.2614\tTotal: 108443.1645\n"
     ]
    },
    {
     "name": "stderr",
     "output_type": "stream",
     "text": [
      " 52%|█████▏    | 41827/80000 [8:11:18<7:28:17,  1.42it/s]/home/dehezhang2/anaconda3/lib/python3.7/site-packages/PIL/Image.py:2766: DecompressionBombWarning: Image size (129086580 pixels) exceeds limit of 89478485 pixels, could be decompression bomb DOS attack.\n",
      "  DecompressionBombWarning,\n",
      " 52%|█████▏    | 41899/80000 [8:12:09<7:25:35,  1.43it/s]"
     ]
    },
    {
     "name": "stdout",
     "output_type": "stream",
     "text": [
      "Tue Jul  7 10:43:20 2020: Iteration: [41900/80000]\tRecon Loss: 452.7922\tPercept Loss: 40801.2369\tTV Loss: 10.7878\tAttn Loss: 10141.4382\tTotal: 106285.6656\n"
     ]
    },
    {
     "name": "stderr",
     "output_type": "stream",
     "text": [
      " 52%|█████▏    | 41999/80000 [8:13:19<7:27:15,  1.42it/s]"
     ]
    },
    {
     "name": "stdout",
     "output_type": "stream",
     "text": [
      "Tue Jul  7 10:44:30 2020: Iteration: [42000/80000]\tRecon Loss: 479.1362\tPercept Loss: 42379.3534\tTV Loss: 11.1271\tAttn Loss: 9725.1520\tTotal: 105632.8990\n"
     ]
    },
    {
     "name": "stderr",
     "output_type": "stream",
     "text": [
      " 53%|█████▎    | 42099/80000 [8:14:30<7:25:27,  1.42it/s]"
     ]
    },
    {
     "name": "stdout",
     "output_type": "stream",
     "text": [
      "Tue Jul  7 10:45:41 2020: Iteration: [42100/80000]\tRecon Loss: 463.1372\tPercept Loss: 40870.6292\tTV Loss: 10.9472\tAttn Loss: 9964.8222\tTotal: 105400.4066\n"
     ]
    },
    {
     "name": "stderr",
     "output_type": "stream",
     "text": [
      " 53%|█████▎    | 42199/80000 [8:15:40<7:23:22,  1.42it/s]"
     ]
    },
    {
     "name": "stdout",
     "output_type": "stream",
     "text": [
      "Tue Jul  7 10:46:51 2020: Iteration: [42200/80000]\tRecon Loss: 465.2091\tPercept Loss: 39677.1923\tTV Loss: 10.8223\tAttn Loss: 9901.0865\tTotal: 103844.0261\n"
     ]
    },
    {
     "name": "stderr",
     "output_type": "stream",
     "text": [
      " 53%|█████▎    | 42299/80000 [8:16:51<7:21:13,  1.42it/s]"
     ]
    },
    {
     "name": "stdout",
     "output_type": "stream",
     "text": [
      "Tue Jul  7 10:48:02 2020: Iteration: [42300/80000]\tRecon Loss: 463.3445\tPercept Loss: 41692.4066\tTV Loss: 11.0685\tAttn Loss: 9952.2469\tTotal: 106150.0169\n"
     ]
    },
    {
     "name": "stderr",
     "output_type": "stream",
     "text": [
      " 53%|█████▎    | 42399/80000 [8:18:01<7:22:55,  1.41it/s]"
     ]
    },
    {
     "name": "stdout",
     "output_type": "stream",
     "text": [
      "Tue Jul  7 10:49:12 2020: Iteration: [42400/80000]\tRecon Loss: 449.8826\tPercept Loss: 40003.0135\tTV Loss: 10.7119\tAttn Loss: 9889.1217\tTotal: 103943.6885\n"
     ]
    },
    {
     "name": "stderr",
     "output_type": "stream",
     "text": [
      " 53%|█████▎    | 42499/80000 [8:19:12<7:18:41,  1.42it/s]"
     ]
    },
    {
     "name": "stdout",
     "output_type": "stream",
     "text": [
      "Tue Jul  7 10:50:22 2020: Iteration: [42500/80000]\tRecon Loss: 465.8186\tPercept Loss: 41469.2990\tTV Loss: 11.1207\tAttn Loss: 9694.8669\tTotal: 104407.8929\n"
     ]
    },
    {
     "name": "stderr",
     "output_type": "stream",
     "text": [
      " 53%|█████▎    | 42599/80000 [8:20:22<7:19:45,  1.42it/s]"
     ]
    },
    {
     "name": "stdout",
     "output_type": "stream",
     "text": [
      "Tue Jul  7 10:51:33 2020: Iteration: [42600/80000]\tRecon Loss: 465.7720\tPercept Loss: 41279.8771\tTV Loss: 10.9135\tAttn Loss: 9704.5874\tTotal: 104274.2569\n"
     ]
    },
    {
     "name": "stderr",
     "output_type": "stream",
     "text": [
      " 53%|█████▎    | 42699/80000 [8:21:33<7:15:18,  1.43it/s]"
     ]
    },
    {
     "name": "stdout",
     "output_type": "stream",
     "text": [
      "Tue Jul  7 10:52:43 2020: Iteration: [42700/80000]\tRecon Loss: 461.0380\tPercept Loss: 40229.8763\tTV Loss: 10.8957\tAttn Loss: 10035.9458\tTotal: 105164.8880\n"
     ]
    },
    {
     "name": "stderr",
     "output_type": "stream",
     "text": [
      " 53%|█████▎    | 42799/80000 [8:22:43<7:16:01,  1.42it/s]"
     ]
    },
    {
     "name": "stdout",
     "output_type": "stream",
     "text": [
      "Tue Jul  7 10:53:54 2020: Iteration: [42800/80000]\tRecon Loss: 460.5276\tPercept Loss: 40335.9549\tTV Loss: 10.8063\tAttn Loss: 10204.2607\tTotal: 106274.8577\n"
     ]
    },
    {
     "name": "stderr",
     "output_type": "stream",
     "text": [
      " 54%|█████▎    | 42899/80000 [8:23:54<7:13:47,  1.43it/s]"
     ]
    },
    {
     "name": "stdout",
     "output_type": "stream",
     "text": [
      "Tue Jul  7 10:55:04 2020: Iteration: [42900/80000]\tRecon Loss: 450.8855\tPercept Loss: 41262.0833\tTV Loss: 10.9551\tAttn Loss: 10296.2045\tTotal: 107657.7157\n"
     ]
    },
    {
     "name": "stderr",
     "output_type": "stream",
     "text": [
      " 54%|█████▎    | 42999/80000 [8:25:04<7:14:52,  1.42it/s]"
     ]
    },
    {
     "name": "stdout",
     "output_type": "stream",
     "text": [
      "Tue Jul  7 10:56:15 2020: Iteration: [43000/80000]\tRecon Loss: 466.2030\tPercept Loss: 40852.3620\tTV Loss: 10.9598\tAttn Loss: 10381.2297\tTotal: 107911.3684\n"
     ]
    },
    {
     "name": "stderr",
     "output_type": "stream",
     "text": [
      " 54%|█████▍    | 43099/80000 [8:26:15<7:11:39,  1.42it/s]"
     ]
    },
    {
     "name": "stdout",
     "output_type": "stream",
     "text": [
      "Tue Jul  7 10:57:25 2020: Iteration: [43100/80000]\tRecon Loss: 474.1097\tPercept Loss: 41669.9446\tTV Loss: 11.0381\tAttn Loss: 10053.8545\tTotal: 106844.5495\n"
     ]
    },
    {
     "name": "stderr",
     "output_type": "stream",
     "text": [
      " 54%|█████▍    | 43199/80000 [8:27:25<7:12:12,  1.42it/s]"
     ]
    },
    {
     "name": "stdout",
     "output_type": "stream",
     "text": [
      "Tue Jul  7 10:58:36 2020: Iteration: [43200/80000]\tRecon Loss: 459.4949\tPercept Loss: 40911.1752\tTV Loss: 11.0345\tAttn Loss: 10617.2077\tTotal: 109319.7161\n"
     ]
    },
    {
     "name": "stderr",
     "output_type": "stream",
     "text": [
      " 54%|█████▍    | 43299/80000 [8:28:35<7:12:33,  1.41it/s]"
     ]
    },
    {
     "name": "stdout",
     "output_type": "stream",
     "text": [
      "Tue Jul  7 10:59:46 2020: Iteration: [43300/80000]\tRecon Loss: 490.7580\tPercept Loss: 41247.8706\tTV Loss: 11.1227\tAttn Loss: 11372.9184\tTotal: 114504.1886\n"
     ]
    },
    {
     "name": "stderr",
     "output_type": "stream",
     "text": [
      " 54%|█████▍    | 43399/80000 [8:29:46<7:07:35,  1.43it/s]"
     ]
    },
    {
     "name": "stdout",
     "output_type": "stream",
     "text": [
      "Tue Jul  7 11:00:57 2020: Iteration: [43400/80000]\tRecon Loss: 476.0396\tPercept Loss: 41768.4043\tTV Loss: 11.1507\tAttn Loss: 9845.1043\tTotal: 105710.9326\n"
     ]
    },
    {
     "name": "stderr",
     "output_type": "stream",
     "text": [
      " 54%|█████▍    | 43499/80000 [8:30:56<7:09:32,  1.42it/s]"
     ]
    },
    {
     "name": "stdout",
     "output_type": "stream",
     "text": [
      "Tue Jul  7 11:02:07 2020: Iteration: [43500/80000]\tRecon Loss: 454.4951\tPercept Loss: 40302.4250\tTV Loss: 10.8195\tAttn Loss: 10015.9825\tTotal: 105051.4655\n"
     ]
    },
    {
     "name": "stderr",
     "output_type": "stream",
     "text": [
      " 54%|█████▍    | 43599/80000 [8:32:07<7:05:22,  1.43it/s]"
     ]
    },
    {
     "name": "stdout",
     "output_type": "stream",
     "text": [
      "Tue Jul  7 11:03:18 2020: Iteration: [43600/80000]\tRecon Loss: 470.9869\tPercept Loss: 41235.9191\tTV Loss: 11.0014\tAttn Loss: 9889.3929\tTotal: 105392.1589\n"
     ]
    },
    {
     "name": "stderr",
     "output_type": "stream",
     "text": [
      " 55%|█████▍    | 43699/80000 [8:33:17<7:04:00,  1.43it/s]"
     ]
    },
    {
     "name": "stdout",
     "output_type": "stream",
     "text": [
      "Tue Jul  7 11:04:28 2020: Iteration: [43700/80000]\tRecon Loss: 466.6686\tPercept Loss: 40246.6424\tTV Loss: 10.8349\tAttn Loss: 9776.4576\tTotal: 103680.4228\n"
     ]
    },
    {
     "name": "stderr",
     "output_type": "stream",
     "text": [
      " 55%|█████▍    | 43799/80000 [8:34:28<7:04:07,  1.42it/s]"
     ]
    },
    {
     "name": "stdout",
     "output_type": "stream",
     "text": [
      "Tue Jul  7 11:05:38 2020: Iteration: [43800/80000]\tRecon Loss: 466.8999\tPercept Loss: 41115.9987\tTV Loss: 10.9686\tAttn Loss: 9646.3108\tTotal: 103772.5484\n"
     ]
    },
    {
     "name": "stderr",
     "output_type": "stream",
     "text": [
      " 55%|█████▍    | 43899/80000 [8:35:38<7:05:18,  1.41it/s]"
     ]
    },
    {
     "name": "stdout",
     "output_type": "stream",
     "text": [
      "Tue Jul  7 11:06:49 2020: Iteration: [43900/80000]\tRecon Loss: 472.5537\tPercept Loss: 42161.5572\tTV Loss: 11.1143\tAttn Loss: 9805.8295\tTotal: 105833.2144\n"
     ]
    },
    {
     "name": "stderr",
     "output_type": "stream",
     "text": [
      " 55%|█████▍    | 43999/80000 [8:36:49<7:00:38,  1.43it/s]"
     ]
    },
    {
     "name": "stdout",
     "output_type": "stream",
     "text": [
      "Tue Jul  7 11:07:59 2020: Iteration: [44000/80000]\tRecon Loss: 487.5826\tPercept Loss: 43678.2486\tTV Loss: 11.5470\tAttn Loss: 9151.6057\tTotal: 103579.1788\n"
     ]
    },
    {
     "name": "stderr",
     "output_type": "stream",
     "text": [
      " 55%|█████▌    | 44099/80000 [8:37:59<7:02:53,  1.41it/s]"
     ]
    },
    {
     "name": "stdout",
     "output_type": "stream",
     "text": [
      "Tue Jul  7 11:09:10 2020: Iteration: [44100/80000]\tRecon Loss: 451.8156\tPercept Loss: 40832.4898\tTV Loss: 10.9298\tAttn Loss: 10530.4258\tTotal: 108642.4981\n"
     ]
    },
    {
     "name": "stderr",
     "output_type": "stream",
     "text": [
      " 55%|█████▌    | 44199/80000 [8:39:10<7:02:25,  1.41it/s]"
     ]
    },
    {
     "name": "stdout",
     "output_type": "stream",
     "text": [
      "Tue Jul  7 11:10:20 2020: Iteration: [44200/80000]\tRecon Loss: 459.0742\tPercept Loss: 40192.6853\tTV Loss: 10.7660\tAttn Loss: 11755.4824\tTotal: 115423.9813\n"
     ]
    },
    {
     "name": "stderr",
     "output_type": "stream",
     "text": [
      " 55%|█████▌    | 44299/80000 [8:40:20<6:57:20,  1.43it/s]"
     ]
    },
    {
     "name": "stdout",
     "output_type": "stream",
     "text": [
      "Tue Jul  7 11:11:31 2020: Iteration: [44300/80000]\tRecon Loss: 481.8207\tPercept Loss: 41947.1774\tTV Loss: 11.2559\tAttn Loss: 10817.0256\tTotal: 111780.0973\n"
     ]
    },
    {
     "name": "stderr",
     "output_type": "stream",
     "text": [
      " 55%|█████▌    | 44399/80000 [8:41:30<6:55:58,  1.43it/s]"
     ]
    },
    {
     "name": "stdout",
     "output_type": "stream",
     "text": [
      "Tue Jul  7 11:12:41 2020: Iteration: [44400/80000]\tRecon Loss: 458.2207\tPercept Loss: 40157.2705\tTV Loss: 10.8267\tAttn Loss: 9813.5277\tTotal: 103728.9116\n"
     ]
    },
    {
     "name": "stderr",
     "output_type": "stream",
     "text": [
      " 56%|█████▌    | 44499/80000 [8:42:41<6:58:37,  1.41it/s]"
     ]
    },
    {
     "name": "stdout",
     "output_type": "stream",
     "text": [
      "Tue Jul  7 11:13:52 2020: Iteration: [44500/80000]\tRecon Loss: 475.7867\tPercept Loss: 41520.2384\tTV Loss: 11.1003\tAttn Loss: 9564.4408\tTotal: 103775.7533\n"
     ]
    },
    {
     "name": "stderr",
     "output_type": "stream",
     "text": [
      " 56%|█████▌    | 44599/80000 [8:43:51<6:58:58,  1.41it/s]"
     ]
    },
    {
     "name": "stdout",
     "output_type": "stream",
     "text": [
      "Tue Jul  7 11:15:02 2020: Iteration: [44600/80000]\tRecon Loss: 440.7604\tPercept Loss: 39743.9969\tTV Loss: 10.6120\tAttn Loss: 10021.2517\tTotal: 104385.2305\n"
     ]
    },
    {
     "name": "stderr",
     "output_type": "stream",
     "text": [
      " 56%|█████▌    | 44699/80000 [8:45:02<6:52:48,  1.43it/s]"
     ]
    },
    {
     "name": "stdout",
     "output_type": "stream",
     "text": [
      "Tue Jul  7 11:16:13 2020: Iteration: [44700/80000]\tRecon Loss: 450.8171\tPercept Loss: 39942.5691\tTV Loss: 10.8001\tAttn Loss: 11203.3974\tTotal: 111779.1249\n"
     ]
    },
    {
     "name": "stderr",
     "output_type": "stream",
     "text": [
      " 56%|█████▌    | 44799/80000 [8:46:12<6:53:24,  1.42it/s]"
     ]
    },
    {
     "name": "stdout",
     "output_type": "stream",
     "text": [
      "Tue Jul  7 11:17:23 2020: Iteration: [44800/80000]\tRecon Loss: 464.5991\tPercept Loss: 41117.0905\tTV Loss: 10.9742\tAttn Loss: 9769.0255\tTotal: 104486.9763\n"
     ]
    },
    {
     "name": "stderr",
     "output_type": "stream",
     "text": [
      " 56%|█████▌    | 44899/80000 [8:47:23<6:49:04,  1.43it/s]"
     ]
    },
    {
     "name": "stdout",
     "output_type": "stream",
     "text": [
      "Tue Jul  7 11:18:33 2020: Iteration: [44900/80000]\tRecon Loss: 465.9225\tPercept Loss: 41802.1103\tTV Loss: 10.9208\tAttn Loss: 9211.5881\tTotal: 101840.0718\n"
     ]
    },
    {
     "name": "stderr",
     "output_type": "stream",
     "text": [
      " 56%|█████▌    | 44999/80000 [8:48:33<6:50:18,  1.42it/s]"
     ]
    },
    {
     "name": "stdout",
     "output_type": "stream",
     "text": [
      "Tue Jul  7 11:19:44 2020: Iteration: [45000/80000]\tRecon Loss: 461.2296\tPercept Loss: 40485.9095\tTV Loss: 10.8677\tAttn Loss: 10616.5405\tTotal: 108906.1257\n"
     ]
    },
    {
     "name": "stderr",
     "output_type": "stream",
     "text": [
      " 56%|█████▋    | 45099/80000 [8:49:44<6:49:57,  1.42it/s]"
     ]
    },
    {
     "name": "stdout",
     "output_type": "stream",
     "text": [
      "Tue Jul  7 11:20:55 2020: Iteration: [45100/80000]\tRecon Loss: 480.8794\tPercept Loss: 42189.2104\tTV Loss: 11.2156\tAttn Loss: 9036.6215\tTotal: 101329.8891\n"
     ]
    },
    {
     "name": "stderr",
     "output_type": "stream",
     "text": [
      " 56%|█████▋    | 45199/80000 [8:50:54<6:48:15,  1.42it/s]"
     ]
    },
    {
     "name": "stdout",
     "output_type": "stream",
     "text": [
      "Tue Jul  7 11:22:05 2020: Iteration: [45200/80000]\tRecon Loss: 466.5389\tPercept Loss: 40460.2112\tTV Loss: 10.9156\tAttn Loss: 9165.2169\tTotal: 100226.0581\n"
     ]
    },
    {
     "name": "stderr",
     "output_type": "stream",
     "text": [
      " 57%|█████▋    | 45299/80000 [8:52:05<6:48:03,  1.42it/s]"
     ]
    },
    {
     "name": "stdout",
     "output_type": "stream",
     "text": [
      "Tue Jul  7 11:23:16 2020: Iteration: [45300/80000]\tRecon Loss: 466.5568\tPercept Loss: 41922.0643\tTV Loss: 11.2074\tAttn Loss: 9115.5029\tTotal: 101392.7233\n"
     ]
    },
    {
     "name": "stderr",
     "output_type": "stream",
     "text": [
      " 57%|█████▋    | 45399/80000 [8:53:15<6:45:34,  1.42it/s]"
     ]
    },
    {
     "name": "stdout",
     "output_type": "stream",
     "text": [
      "Tue Jul  7 11:24:26 2020: Iteration: [45400/80000]\tRecon Loss: 467.9097\tPercept Loss: 40537.0835\tTV Loss: 10.9768\tAttn Loss: 9205.0553\tTotal: 100556.2810\n"
     ]
    },
    {
     "name": "stderr",
     "output_type": "stream",
     "text": [
      " 57%|█████▋    | 45499/80000 [8:54:26<6:45:06,  1.42it/s]"
     ]
    },
    {
     "name": "stdout",
     "output_type": "stream",
     "text": [
      "Tue Jul  7 11:25:37 2020: Iteration: [45500/80000]\tRecon Loss: 449.0479\tPercept Loss: 40519.4223\tTV Loss: 10.8840\tAttn Loss: 9207.7034\tTotal: 100364.9613\n"
     ]
    },
    {
     "name": "stderr",
     "output_type": "stream",
     "text": [
      " 57%|█████▋    | 45599/80000 [8:55:36<6:44:20,  1.42it/s]"
     ]
    },
    {
     "name": "stdout",
     "output_type": "stream",
     "text": [
      "Tue Jul  7 11:26:47 2020: Iteration: [45600/80000]\tRecon Loss: 448.0576\tPercept Loss: 38646.2879\tTV Loss: 10.5002\tAttn Loss: 9537.6115\tTotal: 100457.5355\n"
     ]
    },
    {
     "name": "stderr",
     "output_type": "stream",
     "text": [
      " 57%|█████▋    | 45699/80000 [8:56:47<6:39:50,  1.43it/s]"
     ]
    },
    {
     "name": "stdout",
     "output_type": "stream",
     "text": [
      "Tue Jul  7 11:27:57 2020: Iteration: [45700/80000]\tRecon Loss: 475.6203\tPercept Loss: 40794.9437\tTV Loss: 10.8470\tAttn Loss: 9180.3502\tTotal: 100741.7176\n"
     ]
    },
    {
     "name": "stderr",
     "output_type": "stream",
     "text": [
      " 57%|█████▋    | 45799/80000 [8:57:57<6:41:04,  1.42it/s]"
     ]
    },
    {
     "name": "stdout",
     "output_type": "stream",
     "text": [
      "Tue Jul  7 11:29:08 2020: Iteration: [45800/80000]\tRecon Loss: 447.5589\tPercept Loss: 40583.1848\tTV Loss: 10.8646\tAttn Loss: 9457.4835\tTotal: 101912.3206\n"
     ]
    },
    {
     "name": "stderr",
     "output_type": "stream",
     "text": [
      " 57%|█████▋    | 45899/80000 [8:59:08<6:40:54,  1.42it/s]"
     ]
    },
    {
     "name": "stdout",
     "output_type": "stream",
     "text": [
      "Tue Jul  7 11:30:19 2020: Iteration: [45900/80000]\tRecon Loss: 469.3264\tPercept Loss: 41114.0214\tTV Loss: 11.1043\tAttn Loss: 9177.4274\tTotal: 100982.8920\n"
     ]
    },
    {
     "name": "stderr",
     "output_type": "stream",
     "text": [
      " 57%|█████▋    | 45999/80000 [9:00:18<6:38:25,  1.42it/s]"
     ]
    },
    {
     "name": "stdout",
     "output_type": "stream",
     "text": [
      "Tue Jul  7 11:31:29 2020: Iteration: [46000/80000]\tRecon Loss: 461.2317\tPercept Loss: 41151.9685\tTV Loss: 10.9274\tAttn Loss: 9082.9382\tTotal: 100371.1887\n"
     ]
    },
    {
     "name": "stderr",
     "output_type": "stream",
     "text": [
      " 58%|█████▊    | 46099/80000 [9:01:29<6:38:24,  1.42it/s]"
     ]
    },
    {
     "name": "stdout",
     "output_type": "stream",
     "text": [
      "Tue Jul  7 11:32:40 2020: Iteration: [46100/80000]\tRecon Loss: 449.8079\tPercept Loss: 40271.9281\tTV Loss: 10.9431\tAttn Loss: 10041.0131\tTotal: 105125.5166\n"
     ]
    },
    {
     "name": "stderr",
     "output_type": "stream",
     "text": [
      " 58%|█████▊    | 46199/80000 [9:02:39<6:36:03,  1.42it/s]"
     ]
    },
    {
     "name": "stdout",
     "output_type": "stream",
     "text": [
      "Tue Jul  7 11:33:50 2020: Iteration: [46200/80000]\tRecon Loss: 460.7951\tPercept Loss: 40460.5727\tTV Loss: 10.8551\tAttn Loss: 9781.6410\tTotal: 103866.9213\n"
     ]
    },
    {
     "name": "stderr",
     "output_type": "stream",
     "text": [
      " 58%|█████▊    | 46299/80000 [9:03:50<6:39:27,  1.41it/s]"
     ]
    },
    {
     "name": "stdout",
     "output_type": "stream",
     "text": [
      "Tue Jul  7 11:35:00 2020: Iteration: [46300/80000]\tRecon Loss: 459.0449\tPercept Loss: 41172.9001\tTV Loss: 10.9780\tAttn Loss: 9587.6740\tTotal: 103399.1730\n"
     ]
    },
    {
     "name": "stderr",
     "output_type": "stream",
     "text": [
      " 58%|█████▊    | 46399/80000 [9:05:00<6:34:55,  1.42it/s]"
     ]
    },
    {
     "name": "stdout",
     "output_type": "stream",
     "text": [
      "Tue Jul  7 11:36:11 2020: Iteration: [46400/80000]\tRecon Loss: 455.8592\tPercept Loss: 39582.8786\tTV Loss: 10.6941\tAttn Loss: 9511.2952\tTotal: 101316.1831\n"
     ]
    },
    {
     "name": "stderr",
     "output_type": "stream",
     "text": [
      " 58%|█████▊    | 46499/80000 [9:06:11<6:35:14,  1.41it/s]"
     ]
    },
    {
     "name": "stdout",
     "output_type": "stream",
     "text": [
      "Tue Jul  7 11:37:21 2020: Iteration: [46500/80000]\tRecon Loss: 450.1249\tPercept Loss: 39771.0183\tTV Loss: 10.9243\tAttn Loss: 8963.0727\tTotal: 98159.9458\n"
     ]
    },
    {
     "name": "stderr",
     "output_type": "stream",
     "text": [
      " 58%|█████▊    | 46599/80000 [9:07:21<6:32:05,  1.42it/s]"
     ]
    },
    {
     "name": "stdout",
     "output_type": "stream",
     "text": [
      "Tue Jul  7 11:38:32 2020: Iteration: [46600/80000]\tRecon Loss: 455.7154\tPercept Loss: 41319.6013\tTV Loss: 11.0483\tAttn Loss: 9020.0361\tTotal: 100107.4545\n"
     ]
    },
    {
     "name": "stderr",
     "output_type": "stream",
     "text": [
      " 58%|█████▊    | 46699/80000 [9:08:32<6:31:03,  1.42it/s]"
     ]
    },
    {
     "name": "stdout",
     "output_type": "stream",
     "text": [
      "Tue Jul  7 11:39:42 2020: Iteration: [46700/80000]\tRecon Loss: 465.5166\tPercept Loss: 41129.4175\tTV Loss: 10.8904\tAttn Loss: 9013.0476\tTotal: 99971.7729\n"
     ]
    },
    {
     "name": "stderr",
     "output_type": "stream",
     "text": [
      " 58%|█████▊    | 46799/80000 [9:09:42<6:30:46,  1.42it/s]"
     ]
    },
    {
     "name": "stdout",
     "output_type": "stream",
     "text": [
      "Tue Jul  7 11:40:53 2020: Iteration: [46800/80000]\tRecon Loss: 456.5244\tPercept Loss: 40142.9708\tTV Loss: 10.7431\tAttn Loss: 9854.0815\tTotal: 103940.1342\n"
     ]
    },
    {
     "name": "stderr",
     "output_type": "stream",
     "text": [
      " 59%|█████▊    | 46899/80000 [9:10:53<6:26:53,  1.43it/s]"
     ]
    },
    {
     "name": "stdout",
     "output_type": "stream",
     "text": [
      "Tue Jul  7 11:42:03 2020: Iteration: [46900/80000]\tRecon Loss: 441.7057\tPercept Loss: 39255.2132\tTV Loss: 10.5263\tAttn Loss: 9956.2923\tTotal: 103515.2877\n"
     ]
    },
    {
     "name": "stderr",
     "output_type": "stream",
     "text": [
      " 59%|█████▊    | 46999/80000 [9:12:03<6:29:38,  1.41it/s]"
     ]
    },
    {
     "name": "stdout",
     "output_type": "stream",
     "text": [
      "Tue Jul  7 11:43:14 2020: Iteration: [47000/80000]\tRecon Loss: 460.0774\tPercept Loss: 40877.7808\tTV Loss: 10.9972\tAttn Loss: 9305.7842\tTotal: 101423.2322\n"
     ]
    },
    {
     "name": "stderr",
     "output_type": "stream",
     "text": [
      " 59%|█████▉    | 47099/80000 [9:13:13<6:24:41,  1.43it/s]"
     ]
    },
    {
     "name": "stdout",
     "output_type": "stream",
     "text": [
      "Tue Jul  7 11:44:24 2020: Iteration: [47100/80000]\tRecon Loss: 448.2060\tPercept Loss: 40136.7944\tTV Loss: 10.6990\tAttn Loss: 9390.4908\tTotal: 101068.7877\n"
     ]
    },
    {
     "name": "stderr",
     "output_type": "stream",
     "text": [
      " 59%|█████▉    | 47199/80000 [9:14:24<6:27:55,  1.41it/s]"
     ]
    },
    {
     "name": "stdout",
     "output_type": "stream",
     "text": [
      "Tue Jul  7 11:45:35 2020: Iteration: [47200/80000]\tRecon Loss: 453.2702\tPercept Loss: 40219.0201\tTV Loss: 10.8917\tAttn Loss: 9241.5117\tTotal: 100309.7084\n"
     ]
    },
    {
     "name": "stderr",
     "output_type": "stream",
     "text": [
      " 59%|█████▉    | 47299/80000 [9:15:34<6:25:02,  1.42it/s]"
     ]
    },
    {
     "name": "stdout",
     "output_type": "stream",
     "text": [
      "Tue Jul  7 11:46:45 2020: Iteration: [47300/80000]\tRecon Loss: 451.4116\tPercept Loss: 40208.5491\tTV Loss: 10.8768\tAttn Loss: 8821.2309\tTotal: 97758.8192\n"
     ]
    },
    {
     "name": "stderr",
     "output_type": "stream",
     "text": [
      " 59%|█████▉    | 47399/80000 [9:16:45<6:23:42,  1.42it/s]"
     ]
    },
    {
     "name": "stdout",
     "output_type": "stream",
     "text": [
      "Tue Jul  7 11:47:55 2020: Iteration: [47400/80000]\tRecon Loss: 449.0470\tPercept Loss: 40490.4775\tTV Loss: 10.8401\tAttn Loss: 9793.2313\tTotal: 103848.7362\n"
     ]
    },
    {
     "name": "stderr",
     "output_type": "stream",
     "text": [
      " 59%|█████▉    | 47499/80000 [9:17:55<6:23:18,  1.41it/s]"
     ]
    },
    {
     "name": "stdout",
     "output_type": "stream",
     "text": [
      "Tue Jul  7 11:49:06 2020: Iteration: [47500/80000]\tRecon Loss: 468.8275\tPercept Loss: 41153.9889\tTV Loss: 11.2089\tAttn Loss: 9168.7645\tTotal: 100966.9401\n"
     ]
    },
    {
     "name": "stderr",
     "output_type": "stream",
     "text": [
      " 59%|█████▉    | 47581/80000 [9:18:53<6:18:55,  1.43it/s]/home/dehezhang2/anaconda3/lib/python3.7/site-packages/PIL/Image.py:2766: DecompressionBombWarning: Image size (94435468 pixels) exceeds limit of 89478485 pixels, could be decompression bomb DOS attack.\n",
      "  DecompressionBombWarning,\n",
      " 59%|█████▉    | 47599/80000 [9:19:06<6:22:11,  1.41it/s]"
     ]
    },
    {
     "name": "stdout",
     "output_type": "stream",
     "text": [
      "Tue Jul  7 11:50:16 2020: Iteration: [47600/80000]\tRecon Loss: 464.5352\tPercept Loss: 41055.2916\tTV Loss: 11.0332\tAttn Loss: 9197.0333\tTotal: 100993.1758\n"
     ]
    },
    {
     "name": "stderr",
     "output_type": "stream",
     "text": [
      " 60%|█████▉    | 47699/80000 [9:20:17<6:18:48,  1.42it/s]"
     ]
    },
    {
     "name": "stdout",
     "output_type": "stream",
     "text": [
      "Tue Jul  7 11:51:27 2020: Iteration: [47700/80000]\tRecon Loss: 453.5906\tPercept Loss: 39964.1011\tTV Loss: 10.8985\tAttn Loss: 9000.5121\tTotal: 98612.0649\n"
     ]
    },
    {
     "name": "stderr",
     "output_type": "stream",
     "text": [
      " 60%|█████▉    | 47757/80000 [9:20:57<6:19:21,  1.42it/s]/home/dehezhang2/anaconda3/lib/python3.7/site-packages/PIL/Image.py:2766: DecompressionBombWarning: Image size (145486286 pixels) exceeds limit of 89478485 pixels, could be decompression bomb DOS attack.\n",
      "  DecompressionBombWarning,\n",
      " 60%|█████▉    | 47799/80000 [9:21:27<6:16:25,  1.43it/s]"
     ]
    },
    {
     "name": "stdout",
     "output_type": "stream",
     "text": [
      "Tue Jul  7 11:52:38 2020: Iteration: [47800/80000]\tRecon Loss: 455.8204\tPercept Loss: 41113.8460\tTV Loss: 10.9605\tAttn Loss: 9286.7320\tTotal: 101502.0469\n"
     ]
    },
    {
     "name": "stderr",
     "output_type": "stream",
     "text": [
      " 60%|█████▉    | 47899/80000 [9:22:38<6:19:32,  1.41it/s]"
     ]
    },
    {
     "name": "stdout",
     "output_type": "stream",
     "text": [
      "Tue Jul  7 11:53:48 2020: Iteration: [47900/80000]\tRecon Loss: 478.4704\tPercept Loss: 41059.5018\tTV Loss: 10.9592\tAttn Loss: 9392.3956\tTotal: 102308.1712\n"
     ]
    },
    {
     "name": "stderr",
     "output_type": "stream",
     "text": [
      " 60%|█████▉    | 47999/80000 [9:23:48<6:17:45,  1.41it/s]"
     ]
    },
    {
     "name": "stdout",
     "output_type": "stream",
     "text": [
      "Tue Jul  7 11:54:59 2020: Iteration: [48000/80000]\tRecon Loss: 483.6629\tPercept Loss: 41551.1930\tTV Loss: 11.0112\tAttn Loss: 8945.5516\tTotal: 100171.2437\n"
     ]
    },
    {
     "name": "stderr",
     "output_type": "stream",
     "text": [
      " 60%|██████    | 48099/80000 [9:24:58<6:12:56,  1.43it/s]"
     ]
    },
    {
     "name": "stdout",
     "output_type": "stream",
     "text": [
      "Tue Jul  7 11:56:09 2020: Iteration: [48100/80000]\tRecon Loss: 466.3919\tPercept Loss: 40696.7501\tTV Loss: 10.9846\tAttn Loss: 9049.5947\tTotal: 99768.0838\n"
     ]
    },
    {
     "name": "stderr",
     "output_type": "stream",
     "text": [
      " 60%|██████    | 48199/80000 [9:26:09<6:12:07,  1.42it/s]"
     ]
    },
    {
     "name": "stdout",
     "output_type": "stream",
     "text": [
      "Tue Jul  7 11:57:19 2020: Iteration: [48200/80000]\tRecon Loss: 459.2941\tPercept Loss: 40651.3556\tTV Loss: 10.9705\tAttn Loss: 10551.9696\tTotal: 108665.8188\n"
     ]
    },
    {
     "name": "stderr",
     "output_type": "stream",
     "text": [
      " 60%|██████    | 48299/80000 [9:27:19<6:11:08,  1.42it/s]"
     ]
    },
    {
     "name": "stdout",
     "output_type": "stream",
     "text": [
      "Tue Jul  7 11:58:30 2020: Iteration: [48300/80000]\tRecon Loss: 461.7461\tPercept Loss: 39918.4822\tTV Loss: 10.9229\tAttn Loss: 8950.4290\tTotal: 98347.7448\n"
     ]
    },
    {
     "name": "stderr",
     "output_type": "stream",
     "text": [
      " 60%|██████    | 48354/80000 [9:27:58<6:12:23,  1.42it/s]/home/dehezhang2/anaconda3/lib/python3.7/site-packages/PIL/Image.py:2766: DecompressionBombWarning: Image size (107327830 pixels) exceeds limit of 89478485 pixels, could be decompression bomb DOS attack.\n",
      "  DecompressionBombWarning,\n",
      " 60%|██████    | 48399/80000 [9:28:30<6:10:46,  1.42it/s]"
     ]
    },
    {
     "name": "stdout",
     "output_type": "stream",
     "text": [
      "Tue Jul  7 11:59:41 2020: Iteration: [48400/80000]\tRecon Loss: 455.3906\tPercept Loss: 41542.8027\tTV Loss: 11.1774\tAttn Loss: 8733.8854\tTotal: 98611.7950\n"
     ]
    },
    {
     "name": "stderr",
     "output_type": "stream",
     "text": [
      " 61%|██████    | 48499/80000 [9:29:40<6:12:21,  1.41it/s]"
     ]
    },
    {
     "name": "stdout",
     "output_type": "stream",
     "text": [
      "Tue Jul  7 12:00:51 2020: Iteration: [48500/80000]\tRecon Loss: 460.2924\tPercept Loss: 40184.9729\tTV Loss: 10.9593\tAttn Loss: 8803.7898\tTotal: 97720.2286\n"
     ]
    },
    {
     "name": "stderr",
     "output_type": "stream",
     "text": [
      " 61%|██████    | 48556/80000 [9:30:21<6:10:20,  1.42it/s]/home/dehezhang2/anaconda3/lib/python3.7/site-packages/PIL/Image.py:2766: DecompressionBombWarning: Image size (131790400 pixels) exceeds limit of 89478485 pixels, could be decompression bomb DOS attack.\n",
      "  DecompressionBombWarning,\n",
      " 61%|██████    | 48599/80000 [9:30:51<6:07:52,  1.42it/s]"
     ]
    },
    {
     "name": "stdout",
     "output_type": "stream",
     "text": [
      "Tue Jul  7 12:02:01 2020: Iteration: [48600/80000]\tRecon Loss: 446.9933\tPercept Loss: 40044.8282\tTV Loss: 10.9169\tAttn Loss: 9410.8760\tTotal: 101089.1861\n"
     ]
    },
    {
     "name": "stderr",
     "output_type": "stream",
     "text": [
      " 61%|██████    | 48699/80000 [9:32:01<6:08:37,  1.42it/s]"
     ]
    },
    {
     "name": "stdout",
     "output_type": "stream",
     "text": [
      "Tue Jul  7 12:03:12 2020: Iteration: [48700/80000]\tRecon Loss: 456.5344\tPercept Loss: 40535.2872\tTV Loss: 10.8199\tAttn Loss: 9540.0190\tTotal: 102448.9437\n"
     ]
    },
    {
     "name": "stderr",
     "output_type": "stream",
     "text": [
      " 61%|██████    | 48799/80000 [9:33:12<6:07:05,  1.42it/s]"
     ]
    },
    {
     "name": "stdout",
     "output_type": "stream",
     "text": [
      "Tue Jul  7 12:04:22 2020: Iteration: [48800/80000]\tRecon Loss: 465.1599\tPercept Loss: 41068.2713\tTV Loss: 10.9205\tAttn Loss: 9257.7304\tTotal: 101375.4570\n"
     ]
    },
    {
     "name": "stderr",
     "output_type": "stream",
     "text": [
      " 61%|██████    | 48899/80000 [9:34:22<6:05:47,  1.42it/s]"
     ]
    },
    {
     "name": "stdout",
     "output_type": "stream",
     "text": [
      "Tue Jul  7 12:05:33 2020: Iteration: [48900/80000]\tRecon Loss: 478.0341\tPercept Loss: 41416.2539\tTV Loss: 11.1533\tAttn Loss: 8628.6629\tTotal: 98080.1053\n"
     ]
    },
    {
     "name": "stderr",
     "output_type": "stream",
     "text": [
      " 61%|██████    | 48999/80000 [9:35:33<6:04:11,  1.42it/s]"
     ]
    },
    {
     "name": "stdout",
     "output_type": "stream",
     "text": [
      "Tue Jul  7 12:06:43 2020: Iteration: [49000/80000]\tRecon Loss: 456.0939\tPercept Loss: 39848.9810\tTV Loss: 10.8237\tAttn Loss: 8573.4855\tTotal: 95959.0702\n"
     ]
    },
    {
     "name": "stderr",
     "output_type": "stream",
     "text": [
      " 61%|██████▏   | 49076/80000 [9:36:27<6:04:33,  1.41it/s]/home/dehezhang2/anaconda3/lib/python3.7/site-packages/PIL/Image.py:2766: DecompressionBombWarning: Image size (131790400 pixels) exceeds limit of 89478485 pixels, could be decompression bomb DOS attack.\n",
      "  DecompressionBombWarning,\n",
      " 61%|██████▏   | 49099/80000 [9:36:43<6:00:28,  1.43it/s]"
     ]
    },
    {
     "name": "stdout",
     "output_type": "stream",
     "text": [
      "Tue Jul  7 12:07:54 2020: Iteration: [49100/80000]\tRecon Loss: 442.8075\tPercept Loss: 38258.7553\tTV Loss: 10.4242\tAttn Loss: 9176.1967\tTotal: 97848.2517\n"
     ]
    },
    {
     "name": "stderr",
     "output_type": "stream",
     "text": [
      " 61%|██████▏   | 49199/80000 [9:37:54<6:00:35,  1.42it/s]"
     ]
    },
    {
     "name": "stdout",
     "output_type": "stream",
     "text": [
      "Tue Jul  7 12:09:05 2020: Iteration: [49200/80000]\tRecon Loss: 453.2354\tPercept Loss: 40923.0646\tTV Loss: 10.9255\tAttn Loss: 8722.5169\tTotal: 97899.7748\n"
     ]
    },
    {
     "name": "stderr",
     "output_type": "stream",
     "text": [
      " 62%|██████▏   | 49299/80000 [9:39:04<5:59:09,  1.42it/s]"
     ]
    },
    {
     "name": "stdout",
     "output_type": "stream",
     "text": [
      "Tue Jul  7 12:10:15 2020: Iteration: [49300/80000]\tRecon Loss: 469.4790\tPercept Loss: 41142.0699\tTV Loss: 11.1008\tAttn Loss: 8590.9537\tTotal: 97493.5906\n"
     ]
    },
    {
     "name": "stderr",
     "output_type": "stream",
     "text": [
      " 62%|██████▏   | 49399/80000 [9:40:15<5:57:18,  1.43it/s]"
     ]
    },
    {
     "name": "stdout",
     "output_type": "stream",
     "text": [
      "Tue Jul  7 12:11:25 2020: Iteration: [49400/80000]\tRecon Loss: 444.4262\tPercept Loss: 40460.8307\tTV Loss: 10.9082\tAttn Loss: 8889.2005\tTotal: 98349.3772\n"
     ]
    },
    {
     "name": "stderr",
     "output_type": "stream",
     "text": [
      " 62%|██████▏   | 49499/80000 [9:41:25<5:59:01,  1.42it/s]"
     ]
    },
    {
     "name": "stdout",
     "output_type": "stream",
     "text": [
      "Tue Jul  7 12:12:36 2020: Iteration: [49500/80000]\tRecon Loss: 479.1164\tPercept Loss: 40721.6391\tTV Loss: 10.9464\tAttn Loss: 8822.4957\tTotal: 98557.2412\n"
     ]
    },
    {
     "name": "stderr",
     "output_type": "stream",
     "text": [
      " 62%|██████▏   | 49599/80000 [9:42:36<5:57:10,  1.42it/s]"
     ]
    },
    {
     "name": "stdout",
     "output_type": "stream",
     "text": [
      "Tue Jul  7 12:13:46 2020: Iteration: [49600/80000]\tRecon Loss: 452.8183\tPercept Loss: 39947.9341\tTV Loss: 10.8593\tAttn Loss: 10099.1188\tTotal: 105179.4232\n"
     ]
    },
    {
     "name": "stderr",
     "output_type": "stream",
     "text": [
      " 62%|██████▏   | 49699/80000 [9:43:46<5:54:35,  1.42it/s]"
     ]
    },
    {
     "name": "stdout",
     "output_type": "stream",
     "text": [
      "Tue Jul  7 12:14:57 2020: Iteration: [49700/80000]\tRecon Loss: 465.5907\tPercept Loss: 40896.5088\tTV Loss: 10.7900\tAttn Loss: 8950.1834\tTotal: 99361.4165\n"
     ]
    },
    {
     "name": "stderr",
     "output_type": "stream",
     "text": [
      " 62%|██████▏   | 49799/80000 [9:44:56<5:51:58,  1.43it/s]"
     ]
    },
    {
     "name": "stdout",
     "output_type": "stream",
     "text": [
      "Tue Jul  7 12:16:07 2020: Iteration: [49800/80000]\tRecon Loss: 438.6346\tPercept Loss: 39279.5589\tTV Loss: 10.7353\tAttn Loss: 8986.6815\tTotal: 97693.3483\n"
     ]
    },
    {
     "name": "stderr",
     "output_type": "stream",
     "text": [
      " 62%|██████▏   | 49899/80000 [9:46:07<5:52:36,  1.42it/s]"
     ]
    },
    {
     "name": "stdout",
     "output_type": "stream",
     "text": [
      "Tue Jul  7 12:17:18 2020: Iteration: [49900/80000]\tRecon Loss: 456.6780\tPercept Loss: 40117.5810\tTV Loss: 10.9939\tAttn Loss: 8894.5287\tTotal: 98161.4727\n"
     ]
    },
    {
     "name": "stderr",
     "output_type": "stream",
     "text": [
      " 62%|██████▏   | 49999/80000 [9:47:17<5:51:46,  1.42it/s]"
     ]
    },
    {
     "name": "stdout",
     "output_type": "stream",
     "text": [
      "Tue Jul  7 12:18:28 2020: Iteration: [50000/80000]\tRecon Loss: 453.9744\tPercept Loss: 40419.6946\tTV Loss: 11.0068\tAttn Loss: 8657.9391\tTotal: 97017.1417\n"
     ]
    },
    {
     "name": "stderr",
     "output_type": "stream",
     "text": [
      " 63%|██████▎   | 50099/80000 [9:48:28<5:51:44,  1.42it/s]"
     ]
    },
    {
     "name": "stdout",
     "output_type": "stream",
     "text": [
      "Tue Jul  7 12:19:38 2020: Iteration: [50100/80000]\tRecon Loss: 462.6238\tPercept Loss: 40225.9005\tTV Loss: 11.0685\tAttn Loss: 8621.3604\tTotal: 96690.9853\n"
     ]
    },
    {
     "name": "stderr",
     "output_type": "stream",
     "text": [
      " 63%|██████▎   | 50199/80000 [9:49:38<5:48:44,  1.42it/s]"
     ]
    },
    {
     "name": "stdout",
     "output_type": "stream",
     "text": [
      "Tue Jul  7 12:20:49 2020: Iteration: [50200/80000]\tRecon Loss: 463.8557\tPercept Loss: 41049.0676\tTV Loss: 11.0170\tAttn Loss: 9805.4325\tTotal: 104630.3905\n"
     ]
    },
    {
     "name": "stderr",
     "output_type": "stream",
     "text": [
      " 63%|██████▎   | 50299/80000 [9:50:49<5:47:53,  1.42it/s]"
     ]
    },
    {
     "name": "stdout",
     "output_type": "stream",
     "text": [
      "Tue Jul  7 12:21:59 2020: Iteration: [50300/80000]\tRecon Loss: 469.0626\tPercept Loss: 42226.4360\tTV Loss: 11.2581\tAttn Loss: 8517.2813\tTotal: 98133.3300\n"
     ]
    },
    {
     "name": "stderr",
     "output_type": "stream",
     "text": [
      " 63%|██████▎   | 50399/80000 [9:51:59<5:47:02,  1.42it/s]"
     ]
    },
    {
     "name": "stdout",
     "output_type": "stream",
     "text": [
      "Tue Jul  7 12:23:10 2020: Iteration: [50400/80000]\tRecon Loss: 446.1086\tPercept Loss: 40076.9818\tTV Loss: 10.8657\tAttn Loss: 8985.2191\tTotal: 98558.0385\n"
     ]
    },
    {
     "name": "stderr",
     "output_type": "stream",
     "text": [
      " 63%|██████▎   | 50499/80000 [9:53:10<5:45:10,  1.42it/s]"
     ]
    },
    {
     "name": "stdout",
     "output_type": "stream",
     "text": [
      "Tue Jul  7 12:24:20 2020: Iteration: [50500/80000]\tRecon Loss: 468.6143\tPercept Loss: 41550.2807\tTV Loss: 11.0514\tAttn Loss: 8512.4022\tTotal: 97421.3510\n"
     ]
    },
    {
     "name": "stderr",
     "output_type": "stream",
     "text": [
      " 63%|██████▎   | 50599/80000 [9:54:20<5:47:10,  1.41it/s]"
     ]
    },
    {
     "name": "stdout",
     "output_type": "stream",
     "text": [
      "Tue Jul  7 12:25:31 2020: Iteration: [50600/80000]\tRecon Loss: 447.1244\tPercept Loss: 40270.9621\tTV Loss: 10.8101\tAttn Loss: 8548.3385\tTotal: 96140.3363\n"
     ]
    },
    {
     "name": "stderr",
     "output_type": "stream",
     "text": [
      " 63%|██████▎   | 50699/80000 [9:55:31<5:45:01,  1.42it/s]"
     ]
    },
    {
     "name": "stdout",
     "output_type": "stream",
     "text": [
      "Tue Jul  7 12:26:41 2020: Iteration: [50700/80000]\tRecon Loss: 483.6577\tPercept Loss: 42317.5339\tTV Loss: 11.3395\tAttn Loss: 8537.8284\tTotal: 98494.4755\n"
     ]
    },
    {
     "name": "stderr",
     "output_type": "stream",
     "text": [
      " 63%|██████▎   | 50799/80000 [9:56:41<5:41:56,  1.42it/s]"
     ]
    },
    {
     "name": "stdout",
     "output_type": "stream",
     "text": [
      "Tue Jul  7 12:27:52 2020: Iteration: [50800/80000]\tRecon Loss: 469.3957\tPercept Loss: 41547.8063\tTV Loss: 11.1547\tAttn Loss: 8832.8968\tTotal: 99350.6920\n"
     ]
    },
    {
     "name": "stderr",
     "output_type": "stream",
     "text": [
      " 64%|██████▎   | 50899/80000 [9:57:52<5:43:45,  1.41it/s]"
     ]
    },
    {
     "name": "stdout",
     "output_type": "stream",
     "text": [
      "Tue Jul  7 12:29:02 2020: Iteration: [50900/80000]\tRecon Loss: 450.5068\tPercept Loss: 40070.9186\tTV Loss: 10.7982\tAttn Loss: 8825.5377\tTotal: 97637.1945\n"
     ]
    },
    {
     "name": "stderr",
     "output_type": "stream",
     "text": [
      " 64%|██████▎   | 50999/80000 [9:59:02<5:39:42,  1.42it/s]"
     ]
    },
    {
     "name": "stdout",
     "output_type": "stream",
     "text": [
      "Tue Jul  7 12:30:13 2020: Iteration: [51000/80000]\tRecon Loss: 456.5603\tPercept Loss: 40135.3670\tTV Loss: 10.8468\tAttn Loss: 9218.6863\tTotal: 100121.5551\n"
     ]
    },
    {
     "name": "stderr",
     "output_type": "stream",
     "text": [
      " 64%|██████▍   | 51099/80000 [10:00:13<5:39:04,  1.42it/s]"
     ]
    },
    {
     "name": "stdout",
     "output_type": "stream",
     "text": [
      "Tue Jul  7 12:31:23 2020: Iteration: [51100/80000]\tRecon Loss: 451.8978\tPercept Loss: 40119.9078\tTV Loss: 10.9312\tAttn Loss: 8689.2330\tTotal: 96883.5966\n"
     ]
    },
    {
     "name": "stderr",
     "output_type": "stream",
     "text": [
      " 64%|██████▍   | 51199/80000 [10:01:23<5:40:29,  1.41it/s]"
     ]
    },
    {
     "name": "stdout",
     "output_type": "stream",
     "text": [
      "Tue Jul  7 12:32:34 2020: Iteration: [51200/80000]\tRecon Loss: 448.8110\tPercept Loss: 39205.9322\tTV Loss: 10.6785\tAttn Loss: 8773.8883\tTotal: 96444.1570\n"
     ]
    },
    {
     "name": "stderr",
     "output_type": "stream",
     "text": [
      " 64%|██████▍   | 51299/80000 [10:02:34<5:35:53,  1.42it/s]"
     ]
    },
    {
     "name": "stdout",
     "output_type": "stream",
     "text": [
      "Tue Jul  7 12:33:44 2020: Iteration: [51300/80000]\tRecon Loss: 448.1019\tPercept Loss: 39612.3608\tTV Loss: 10.8018\tAttn Loss: 8491.8570\tTotal: 95152.5397\n"
     ]
    },
    {
     "name": "stderr",
     "output_type": "stream",
     "text": [
      " 64%|██████▍   | 51399/80000 [10:03:44<5:34:13,  1.43it/s]"
     ]
    },
    {
     "name": "stdout",
     "output_type": "stream",
     "text": [
      "Tue Jul  7 12:34:55 2020: Iteration: [51400/80000]\tRecon Loss: 461.1412\tPercept Loss: 40223.6482\tTV Loss: 10.9934\tAttn Loss: 8972.6476\tTotal: 98780.8800\n"
     ]
    },
    {
     "name": "stderr",
     "output_type": "stream",
     "text": [
      " 64%|██████▍   | 51499/80000 [10:04:54<5:35:01,  1.42it/s]"
     ]
    },
    {
     "name": "stdout",
     "output_type": "stream",
     "text": [
      "Tue Jul  7 12:36:05 2020: Iteration: [51500/80000]\tRecon Loss: 452.4657\tPercept Loss: 39922.2920\tTV Loss: 10.9836\tAttn Loss: 8356.0071\tTotal: 94692.8270\n"
     ]
    },
    {
     "name": "stderr",
     "output_type": "stream",
     "text": [
      " 64%|██████▍   | 51599/80000 [10:06:05<5:34:38,  1.41it/s]"
     ]
    },
    {
     "name": "stdout",
     "output_type": "stream",
     "text": [
      "Tue Jul  7 12:37:16 2020: Iteration: [51600/80000]\tRecon Loss: 445.3180\tPercept Loss: 40532.8765\tTV Loss: 10.9040\tAttn Loss: 8760.2215\tTotal: 97656.4249\n"
     ]
    },
    {
     "name": "stderr",
     "output_type": "stream",
     "text": [
      " 65%|██████▍   | 51699/80000 [10:07:15<5:32:03,  1.42it/s]"
     ]
    },
    {
     "name": "stdout",
     "output_type": "stream",
     "text": [
      "Tue Jul  7 12:38:26 2020: Iteration: [51700/80000]\tRecon Loss: 457.4446\tPercept Loss: 39875.7846\tTV Loss: 10.7936\tAttn Loss: 9126.8705\tTotal: 99319.3895\n"
     ]
    },
    {
     "name": "stderr",
     "output_type": "stream",
     "text": [
      " 65%|██████▍   | 51799/80000 [10:08:26<5:30:39,  1.42it/s]"
     ]
    },
    {
     "name": "stdout",
     "output_type": "stream",
     "text": [
      "Tue Jul  7 12:39:36 2020: Iteration: [51800/80000]\tRecon Loss: 450.8992\tPercept Loss: 39496.9894\tTV Loss: 10.7136\tAttn Loss: 9134.9698\tTotal: 98922.9359\n"
     ]
    },
    {
     "name": "stderr",
     "output_type": "stream",
     "text": [
      " 65%|██████▍   | 51899/80000 [10:09:36<5:31:06,  1.41it/s]"
     ]
    },
    {
     "name": "stdout",
     "output_type": "stream",
     "text": [
      "Tue Jul  7 12:40:47 2020: Iteration: [51900/80000]\tRecon Loss: 452.7176\tPercept Loss: 40771.7925\tTV Loss: 10.9768\tAttn Loss: 8596.5758\tTotal: 96988.1910\n"
     ]
    },
    {
     "name": "stderr",
     "output_type": "stream",
     "text": [
      " 65%|██████▍   | 51999/80000 [10:10:47<5:28:55,  1.42it/s]"
     ]
    },
    {
     "name": "stdout",
     "output_type": "stream",
     "text": [
      "Tue Jul  7 12:41:57 2020: Iteration: [52000/80000]\tRecon Loss: 439.2107\tPercept Loss: 39040.9471\tTV Loss: 10.8797\tAttn Loss: 8444.1350\tTotal: 94206.6612\n"
     ]
    },
    {
     "name": "stderr",
     "output_type": "stream",
     "text": [
      " 65%|██████▌   | 52080/80000 [10:11:44<5:27:58,  1.42it/s]/home/dehezhang2/anaconda3/lib/python3.7/site-packages/PIL/Image.py:2766: DecompressionBombWarning: Image size (145486286 pixels) exceeds limit of 89478485 pixels, could be decompression bomb DOS attack.\n",
      "  DecompressionBombWarning,\n",
      " 65%|██████▌   | 52099/80000 [10:11:58<5:29:02,  1.41it/s]"
     ]
    },
    {
     "name": "stdout",
     "output_type": "stream",
     "text": [
      "Tue Jul  7 12:43:08 2020: Iteration: [52100/80000]\tRecon Loss: 445.7903\tPercept Loss: 38776.2120\tTV Loss: 10.7143\tAttn Loss: 8412.6132\tTotal: 93816.9382\n"
     ]
    },
    {
     "name": "stderr",
     "output_type": "stream",
     "text": [
      " 65%|██████▌   | 52199/80000 [10:13:08<5:26:18,  1.42it/s]"
     ]
    },
    {
     "name": "stdout",
     "output_type": "stream",
     "text": [
      "Tue Jul  7 12:44:19 2020: Iteration: [52200/80000]\tRecon Loss: 456.5616\tPercept Loss: 39667.5921\tTV Loss: 10.8251\tAttn Loss: 9453.2184\tTotal: 101060.7699\n"
     ]
    },
    {
     "name": "stderr",
     "output_type": "stream",
     "text": [
      " 65%|██████▌   | 52299/80000 [10:14:19<5:24:46,  1.42it/s]"
     ]
    },
    {
     "name": "stdout",
     "output_type": "stream",
     "text": [
      "Tue Jul  7 12:45:29 2020: Iteration: [52300/80000]\tRecon Loss: 473.4057\tPercept Loss: 41842.4115\tTV Loss: 11.2243\tAttn Loss: 8412.5579\tTotal: 97164.0584\n"
     ]
    },
    {
     "name": "stderr",
     "output_type": "stream",
     "text": [
      " 65%|██████▌   | 52399/80000 [10:15:29<5:22:50,  1.42it/s]"
     ]
    },
    {
     "name": "stdout",
     "output_type": "stream",
     "text": [
      "Tue Jul  7 12:46:40 2020: Iteration: [52400/80000]\tRecon Loss: 444.8263\tPercept Loss: 39166.1818\tTV Loss: 10.8549\tAttn Loss: 9841.6527\tTotal: 102772.9103\n"
     ]
    },
    {
     "name": "stderr",
     "output_type": "stream",
     "text": [
      " 66%|██████▌   | 52479/80000 [10:16:25<5:23:31,  1.42it/s]/home/dehezhang2/anaconda3/lib/python3.7/site-packages/PIL/Image.py:2766: DecompressionBombWarning: Image size (129086580 pixels) exceeds limit of 89478485 pixels, could be decompression bomb DOS attack.\n",
      "  DecompressionBombWarning,\n",
      " 66%|██████▌   | 52499/80000 [10:16:39<5:21:20,  1.43it/s]"
     ]
    },
    {
     "name": "stdout",
     "output_type": "stream",
     "text": [
      "Tue Jul  7 12:47:50 2020: Iteration: [52500/80000]\tRecon Loss: 451.8085\tPercept Loss: 39543.7893\tTV Loss: 10.7873\tAttn Loss: 8539.5643\tTotal: 95407.1327\n"
     ]
    },
    {
     "name": "stderr",
     "output_type": "stream",
     "text": [
      " 66%|██████▌   | 52599/80000 [10:17:50<5:23:00,  1.41it/s]"
     ]
    },
    {
     "name": "stdout",
     "output_type": "stream",
     "text": [
      "Tue Jul  7 12:49:01 2020: Iteration: [52600/80000]\tRecon Loss: 465.2981\tPercept Loss: 40604.9879\tTV Loss: 11.0488\tAttn Loss: 8417.8703\tTotal: 95875.6788\n"
     ]
    },
    {
     "name": "stderr",
     "output_type": "stream",
     "text": [
      " 66%|██████▌   | 52601/80000 [10:17:51<5:13:52,  1.45it/s]/home/dehezhang2/anaconda3/lib/python3.7/site-packages/PIL/Image.py:2766: DecompressionBombWarning: Image size (107327830 pixels) exceeds limit of 89478485 pixels, could be decompression bomb DOS attack.\n",
      "  DecompressionBombWarning,\n",
      " 66%|██████▌   | 52699/80000 [10:19:00<5:19:24,  1.42it/s]"
     ]
    },
    {
     "name": "stdout",
     "output_type": "stream",
     "text": [
      "Tue Jul  7 12:50:11 2020: Iteration: [52700/80000]\tRecon Loss: 440.4620\tPercept Loss: 38959.2226\tTV Loss: 10.6006\tAttn Loss: 8663.4532\tTotal: 95450.5674\n"
     ]
    },
    {
     "name": "stderr",
     "output_type": "stream",
     "text": [
      " 66%|██████▌   | 52799/80000 [10:20:11<5:18:33,  1.42it/s]"
     ]
    },
    {
     "name": "stdout",
     "output_type": "stream",
     "text": [
      "Tue Jul  7 12:51:21 2020: Iteration: [52800/80000]\tRecon Loss: 456.7213\tPercept Loss: 40309.1458\tTV Loss: 11.1242\tAttn Loss: 9174.9337\tTotal: 100037.2031\n"
     ]
    },
    {
     "name": "stderr",
     "output_type": "stream",
     "text": [
      " 66%|██████▌   | 52899/80000 [10:21:21<5:16:53,  1.43it/s]"
     ]
    },
    {
     "name": "stdout",
     "output_type": "stream",
     "text": [
      "Tue Jul  7 12:52:32 2020: Iteration: [52900/80000]\tRecon Loss: 455.1334\tPercept Loss: 40509.7463\tTV Loss: 10.8433\tAttn Loss: 8160.5777\tTotal: 94132.9798\n"
     ]
    },
    {
     "name": "stderr",
     "output_type": "stream",
     "text": [
      " 66%|██████▌   | 52999/80000 [10:22:32<5:17:36,  1.42it/s]"
     ]
    },
    {
     "name": "stdout",
     "output_type": "stream",
     "text": [
      "Tue Jul  7 12:53:43 2020: Iteration: [53000/80000]\tRecon Loss: 447.4431\tPercept Loss: 40138.0938\tTV Loss: 10.9627\tAttn Loss: 8210.6676\tTotal: 93986.1580\n"
     ]
    },
    {
     "name": "stderr",
     "output_type": "stream",
     "text": [
      " 66%|██████▋   | 53099/80000 [10:23:43<5:15:45,  1.42it/s]"
     ]
    },
    {
     "name": "stdout",
     "output_type": "stream",
     "text": [
      "Tue Jul  7 12:54:53 2020: Iteration: [53100/80000]\tRecon Loss: 484.1105\tPercept Loss: 41679.2659\tTV Loss: 11.3054\tAttn Loss: 8234.4174\tTotal: 96039.9291\n"
     ]
    },
    {
     "name": "stderr",
     "output_type": "stream",
     "text": [
      " 66%|██████▋   | 53199/80000 [10:24:53<5:16:25,  1.41it/s]"
     ]
    },
    {
     "name": "stdout",
     "output_type": "stream",
     "text": [
      "Tue Jul  7 12:56:04 2020: Iteration: [53200/80000]\tRecon Loss: 451.0321\tPercept Loss: 40481.1156\tTV Loss: 11.0528\tAttn Loss: 8553.4358\tTotal: 96422.5791\n"
     ]
    },
    {
     "name": "stderr",
     "output_type": "stream",
     "text": [
      " 67%|██████▋   | 53299/80000 [10:26:03<5:12:50,  1.42it/s]"
     ]
    },
    {
     "name": "stdout",
     "output_type": "stream",
     "text": [
      "Tue Jul  7 12:57:14 2020: Iteration: [53300/80000]\tRecon Loss: 463.8056\tPercept Loss: 40698.8432\tTV Loss: 11.0484\tAttn Loss: 8503.4562\tTotal: 96468.1206\n"
     ]
    },
    {
     "name": "stderr",
     "output_type": "stream",
     "text": [
      " 67%|██████▋   | 53399/80000 [10:27:14<5:13:54,  1.41it/s]"
     ]
    },
    {
     "name": "stdout",
     "output_type": "stream",
     "text": [
      "Tue Jul  7 12:58:25 2020: Iteration: [53400/80000]\tRecon Loss: 466.1874\tPercept Loss: 41135.2689\tTV Loss: 11.2500\tAttn Loss: 8070.8793\tTotal: 94334.9183\n"
     ]
    },
    {
     "name": "stderr",
     "output_type": "stream",
     "text": [
      " 67%|██████▋   | 53499/80000 [10:28:24<5:11:00,  1.42it/s]"
     ]
    },
    {
     "name": "stdout",
     "output_type": "stream",
     "text": [
      "Tue Jul  7 12:59:35 2020: Iteration: [53500/80000]\tRecon Loss: 435.9702\tPercept Loss: 39118.5583\tTV Loss: 10.6086\tAttn Loss: 8574.4898\tTotal: 95031.2857\n"
     ]
    },
    {
     "name": "stderr",
     "output_type": "stream",
     "text": [
      " 67%|██████▋   | 53599/80000 [10:29:35<5:09:08,  1.42it/s]"
     ]
    },
    {
     "name": "stdout",
     "output_type": "stream",
     "text": [
      "Tue Jul  7 13:00:45 2020: Iteration: [53600/80000]\tRecon Loss: 480.2143\tPercept Loss: 41750.6679\tTV Loss: 11.1915\tAttn Loss: 8380.1918\tTotal: 96945.8763\n"
     ]
    },
    {
     "name": "stderr",
     "output_type": "stream",
     "text": [
      " 67%|██████▋   | 53699/80000 [10:30:45<5:07:30,  1.43it/s]"
     ]
    },
    {
     "name": "stdout",
     "output_type": "stream",
     "text": [
      "Tue Jul  7 13:01:56 2020: Iteration: [53700/80000]\tRecon Loss: 504.7909\tPercept Loss: 42590.6442\tTV Loss: 11.3419\tAttn Loss: 8209.1565\tTotal: 97006.9107\n"
     ]
    },
    {
     "name": "stderr",
     "output_type": "stream",
     "text": [
      " 67%|██████▋   | 53799/80000 [10:31:56<5:07:26,  1.42it/s]"
     ]
    },
    {
     "name": "stdout",
     "output_type": "stream",
     "text": [
      "Tue Jul  7 13:03:06 2020: Iteration: [53800/80000]\tRecon Loss: 454.4975\tPercept Loss: 40210.5436\tTV Loss: 10.9978\tAttn Loss: 8652.2106\tTotal: 96778.7612\n"
     ]
    },
    {
     "name": "stderr",
     "output_type": "stream",
     "text": [
      " 67%|██████▋   | 53899/80000 [10:33:06<5:07:36,  1.41it/s]"
     ]
    },
    {
     "name": "stdout",
     "output_type": "stream",
     "text": [
      "Tue Jul  7 13:04:17 2020: Iteration: [53900/80000]\tRecon Loss: 470.9662\tPercept Loss: 40904.2953\tTV Loss: 11.0716\tAttn Loss: 8302.6614\tTotal: 95540.6413\n"
     ]
    },
    {
     "name": "stderr",
     "output_type": "stream",
     "text": [
      " 67%|██████▋   | 53999/80000 [10:34:17<5:04:47,  1.42it/s]"
     ]
    },
    {
     "name": "stdout",
     "output_type": "stream",
     "text": [
      "Tue Jul  7 13:05:27 2020: Iteration: [54000/80000]\tRecon Loss: 445.6660\tPercept Loss: 39962.3394\tTV Loss: 10.9337\tAttn Loss: 9432.5053\tTotal: 101123.3673\n"
     ]
    },
    {
     "name": "stderr",
     "output_type": "stream",
     "text": [
      " 68%|██████▊   | 54048/80000 [10:34:51<5:05:03,  1.42it/s]/home/dehezhang2/anaconda3/lib/python3.7/site-packages/PIL/Image.py:2766: DecompressionBombWarning: Image size (94435468 pixels) exceeds limit of 89478485 pixels, could be decompression bomb DOS attack.\n",
      "  DecompressionBombWarning,\n",
      " 68%|██████▊   | 54099/80000 [10:35:27<5:04:45,  1.42it/s]"
     ]
    },
    {
     "name": "stdout",
     "output_type": "stream",
     "text": [
      "Tue Jul  7 13:06:38 2020: Iteration: [54100/80000]\tRecon Loss: 454.8397\tPercept Loss: 40478.0843\tTV Loss: 10.9220\tAttn Loss: 8176.3876\tTotal: 94194.0273\n"
     ]
    },
    {
     "name": "stderr",
     "output_type": "stream",
     "text": [
      " 68%|██████▊   | 54199/80000 [10:36:38<5:02:39,  1.42it/s]"
     ]
    },
    {
     "name": "stdout",
     "output_type": "stream",
     "text": [
      "Tue Jul  7 13:07:48 2020: Iteration: [54200/80000]\tRecon Loss: 452.8758\tPercept Loss: 39729.2693\tTV Loss: 10.8419\tAttn Loss: 8363.3543\tTotal: 94546.5726\n"
     ]
    },
    {
     "name": "stderr",
     "output_type": "stream",
     "text": [
      " 68%|██████▊   | 54299/80000 [10:37:48<5:01:56,  1.42it/s]"
     ]
    },
    {
     "name": "stdout",
     "output_type": "stream",
     "text": [
      "Tue Jul  7 13:08:59 2020: Iteration: [54300/80000]\tRecon Loss: 438.5021\tPercept Loss: 39039.3429\tTV Loss: 10.6517\tAttn Loss: 8298.6571\tTotal: 93322.8226\n"
     ]
    },
    {
     "name": "stderr",
     "output_type": "stream",
     "text": [
      " 68%|██████▊   | 54399/80000 [10:38:58<5:00:20,  1.42it/s]"
     ]
    },
    {
     "name": "stdout",
     "output_type": "stream",
     "text": [
      "Tue Jul  7 13:10:09 2020: Iteration: [54400/80000]\tRecon Loss: 444.0531\tPercept Loss: 39263.4647\tTV Loss: 10.8221\tAttn Loss: 8827.4565\tTotal: 96776.9565\n"
     ]
    },
    {
     "name": "stderr",
     "output_type": "stream",
     "text": [
      " 68%|██████▊   | 54499/80000 [10:40:09<5:00:15,  1.42it/s]"
     ]
    },
    {
     "name": "stdout",
     "output_type": "stream",
     "text": [
      "Tue Jul  7 13:11:20 2020: Iteration: [54500/80000]\tRecon Loss: 478.4777\tPercept Loss: 41017.4709\tTV Loss: 11.3131\tAttn Loss: 8497.1988\tTotal: 96898.5718\n"
     ]
    },
    {
     "name": "stderr",
     "output_type": "stream",
     "text": [
      " 68%|██████▊   | 54599/80000 [10:41:19<4:58:48,  1.42it/s]"
     ]
    },
    {
     "name": "stdout",
     "output_type": "stream",
     "text": [
      "Tue Jul  7 13:12:30 2020: Iteration: [54600/80000]\tRecon Loss: 442.6103\tPercept Loss: 39630.0696\tTV Loss: 10.8480\tAttn Loss: 8026.7373\tTotal: 92325.0765\n"
     ]
    },
    {
     "name": "stderr",
     "output_type": "stream",
     "text": [
      " 68%|██████▊   | 54699/80000 [10:42:30<4:58:14,  1.41it/s]"
     ]
    },
    {
     "name": "stdout",
     "output_type": "stream",
     "text": [
      "Tue Jul  7 13:13:41 2020: Iteration: [54700/80000]\tRecon Loss: 470.7809\tPercept Loss: 41090.5664\tTV Loss: 11.0937\tAttn Loss: 8270.8363\tTotal: 95534.3298\n"
     ]
    },
    {
     "name": "stderr",
     "output_type": "stream",
     "text": [
      " 68%|██████▊   | 54799/80000 [10:43:40<4:56:04,  1.42it/s]"
     ]
    },
    {
     "name": "stdout",
     "output_type": "stream",
     "text": [
      "Tue Jul  7 13:14:51 2020: Iteration: [54800/80000]\tRecon Loss: 465.6141\tPercept Loss: 40427.0710\tTV Loss: 11.0332\tAttn Loss: 8099.7245\tTotal: 93791.8909\n"
     ]
    },
    {
     "name": "stderr",
     "output_type": "stream",
     "text": [
      " 69%|██████▊   | 54899/80000 [10:44:51<4:55:41,  1.41it/s]"
     ]
    },
    {
     "name": "stdout",
     "output_type": "stream",
     "text": [
      "Tue Jul  7 13:16:01 2020: Iteration: [54900/80000]\tRecon Loss: 452.8948\tPercept Loss: 40558.9164\tTV Loss: 10.7061\tAttn Loss: 8486.7486\tTotal: 96115.4173\n"
     ]
    },
    {
     "name": "stderr",
     "output_type": "stream",
     "text": [
      " 69%|██████▊   | 54999/80000 [10:46:01<4:52:50,  1.42it/s]"
     ]
    },
    {
     "name": "stdout",
     "output_type": "stream",
     "text": [
      "Tue Jul  7 13:17:12 2020: Iteration: [55000/80000]\tRecon Loss: 464.8451\tPercept Loss: 40493.7429\tTV Loss: 11.0305\tAttn Loss: 8435.5179\tTotal: 95865.6063\n"
     ]
    },
    {
     "name": "stderr",
     "output_type": "stream",
     "text": [
      " 69%|██████▉   | 55099/80000 [10:47:12<4:52:30,  1.42it/s]"
     ]
    },
    {
     "name": "stdout",
     "output_type": "stream",
     "text": [
      "Tue Jul  7 13:18:23 2020: Iteration: [55100/80000]\tRecon Loss: 433.2441\tPercept Loss: 39603.6197\tTV Loss: 10.8191\tAttn Loss: 8086.2770\tTotal: 92561.9134\n"
     ]
    },
    {
     "name": "stderr",
     "output_type": "stream",
     "text": [
      " 69%|██████▉   | 55199/80000 [10:48:22<4:49:27,  1.43it/s]"
     ]
    },
    {
     "name": "stdout",
     "output_type": "stream",
     "text": [
      "Tue Jul  7 13:19:33 2020: Iteration: [55200/80000]\tRecon Loss: 465.5917\tPercept Loss: 40666.7942\tTV Loss: 11.0512\tAttn Loss: 8163.6409\tTotal: 94415.0680\n"
     ]
    },
    {
     "name": "stderr",
     "output_type": "stream",
     "text": [
      " 69%|██████▉   | 55299/80000 [10:49:33<4:50:36,  1.42it/s]"
     ]
    },
    {
     "name": "stdout",
     "output_type": "stream",
     "text": [
      "Tue Jul  7 13:20:43 2020: Iteration: [55300/80000]\tRecon Loss: 447.1834\tPercept Loss: 39602.2595\tTV Loss: 10.8792\tAttn Loss: 8104.4840\tTotal: 92809.7897\n"
     ]
    },
    {
     "name": "stderr",
     "output_type": "stream",
     "text": [
      " 69%|██████▉   | 55399/80000 [10:50:43<4:50:10,  1.41it/s]"
     ]
    },
    {
     "name": "stdout",
     "output_type": "stream",
     "text": [
      "Tue Jul  7 13:21:54 2020: Iteration: [55400/80000]\tRecon Loss: 446.9049\tPercept Loss: 40049.3582\tTV Loss: 10.9564\tAttn Loss: 8214.4938\tTotal: 93914.9333\n"
     ]
    },
    {
     "name": "stderr",
     "output_type": "stream",
     "text": [
      " 69%|██████▉   | 55499/80000 [10:51:54<4:49:24,  1.41it/s]"
     ]
    },
    {
     "name": "stdout",
     "output_type": "stream",
     "text": [
      "Tue Jul  7 13:23:04 2020: Iteration: [55500/80000]\tRecon Loss: 466.6574\tPercept Loss: 40847.1928\tTV Loss: 11.1568\tAttn Loss: 8250.4228\tTotal: 95127.8722\n"
     ]
    },
    {
     "name": "stderr",
     "output_type": "stream",
     "text": [
      " 69%|██████▉   | 55599/80000 [10:53:04<4:47:07,  1.42it/s]"
     ]
    },
    {
     "name": "stdout",
     "output_type": "stream",
     "text": [
      "Tue Jul  7 13:24:15 2020: Iteration: [55600/80000]\tRecon Loss: 454.8911\tPercept Loss: 39688.2645\tTV Loss: 10.9664\tAttn Loss: 8083.7450\tTotal: 92849.3089\n"
     ]
    },
    {
     "name": "stderr",
     "output_type": "stream",
     "text": [
      " 70%|██████▉   | 55699/80000 [10:54:15<4:44:21,  1.42it/s]"
     ]
    },
    {
     "name": "stdout",
     "output_type": "stream",
     "text": [
      "Tue Jul  7 13:25:25 2020: Iteration: [55700/80000]\tRecon Loss: 464.5736\tPercept Loss: 40490.7847\tTV Loss: 11.2973\tAttn Loss: 9231.7634\tTotal: 100640.0745\n"
     ]
    },
    {
     "name": "stderr",
     "output_type": "stream",
     "text": [
      " 70%|██████▉   | 55799/80000 [10:55:25<4:43:56,  1.42it/s]"
     ]
    },
    {
     "name": "stdout",
     "output_type": "stream",
     "text": [
      "Tue Jul  7 13:26:36 2020: Iteration: [55800/80000]\tRecon Loss: 453.7362\tPercept Loss: 40010.0168\tTV Loss: 10.8091\tAttn Loss: 7875.9807\tTotal: 91911.3535\n"
     ]
    },
    {
     "name": "stderr",
     "output_type": "stream",
     "text": [
      " 70%|██████▉   | 55899/80000 [10:56:36<4:43:09,  1.42it/s]"
     ]
    },
    {
     "name": "stdout",
     "output_type": "stream",
     "text": [
      "Tue Jul  7 13:27:47 2020: Iteration: [55900/80000]\tRecon Loss: 475.2705\tPercept Loss: 40808.1907\tTV Loss: 11.3960\tAttn Loss: 7871.6115\tTotal: 92904.5238\n"
     ]
    },
    {
     "name": "stderr",
     "output_type": "stream",
     "text": [
      " 70%|██████▉   | 55999/80000 [10:57:46<4:42:43,  1.41it/s]"
     ]
    },
    {
     "name": "stdout",
     "output_type": "stream",
     "text": [
      "Tue Jul  7 13:28:57 2020: Iteration: [56000/80000]\tRecon Loss: 445.6564\tPercept Loss: 39170.4056\tTV Loss: 10.6724\tAttn Loss: 7931.7562\tTotal: 91324.2315\n"
     ]
    },
    {
     "name": "stderr",
     "output_type": "stream",
     "text": [
      " 70%|███████   | 56099/80000 [10:58:57<4:40:48,  1.42it/s]"
     ]
    },
    {
     "name": "stdout",
     "output_type": "stream",
     "text": [
      "Tue Jul  7 13:30:08 2020: Iteration: [56100/80000]\tRecon Loss: 451.0142\tPercept Loss: 40283.1504\tTV Loss: 10.9336\tAttn Loss: 7830.6554\tTotal: 91886.5611\n"
     ]
    },
    {
     "name": "stderr",
     "output_type": "stream",
     "text": [
      " 70%|███████   | 56199/80000 [11:00:07<4:38:09,  1.43it/s]"
     ]
    },
    {
     "name": "stdout",
     "output_type": "stream",
     "text": [
      "Tue Jul  7 13:31:18 2020: Iteration: [56200/80000]\tRecon Loss: 462.9679\tPercept Loss: 40564.4587\tTV Loss: 11.0152\tAttn Loss: 9125.7818\tTotal: 100058.9819\n"
     ]
    },
    {
     "name": "stderr",
     "output_type": "stream",
     "text": [
      " 70%|███████   | 56299/80000 [11:01:18<4:37:56,  1.42it/s]"
     ]
    },
    {
     "name": "stdout",
     "output_type": "stream",
     "text": [
      "Tue Jul  7 13:32:28 2020: Iteration: [56300/80000]\tRecon Loss: 432.0298\tPercept Loss: 38745.1698\tTV Loss: 10.7881\tAttn Loss: 7893.4227\tTotal: 90533.8852\n"
     ]
    },
    {
     "name": "stderr",
     "output_type": "stream",
     "text": [
      " 70%|███████   | 56399/80000 [11:02:28<4:38:02,  1.41it/s]"
     ]
    },
    {
     "name": "stdout",
     "output_type": "stream",
     "text": [
      "Tue Jul  7 13:33:39 2020: Iteration: [56400/80000]\tRecon Loss: 453.8265\tPercept Loss: 39884.3088\tTV Loss: 10.9553\tAttn Loss: 7755.4825\tTotal: 91065.0224\n"
     ]
    },
    {
     "name": "stderr",
     "output_type": "stream",
     "text": [
      " 71%|███████   | 56499/80000 [11:03:39<4:36:02,  1.42it/s]"
     ]
    },
    {
     "name": "stdout",
     "output_type": "stream",
     "text": [
      "Tue Jul  7 13:34:49 2020: Iteration: [56500/80000]\tRecon Loss: 453.2299\tPercept Loss: 39653.1982\tTV Loss: 10.8141\tAttn Loss: 8585.9921\tTotal: 95809.5900\n"
     ]
    },
    {
     "name": "stderr",
     "output_type": "stream",
     "text": [
      " 71%|███████   | 56599/80000 [11:04:49<4:36:07,  1.41it/s]"
     ]
    },
    {
     "name": "stdout",
     "output_type": "stream",
     "text": [
      "Tue Jul  7 13:36:00 2020: Iteration: [56600/80000]\tRecon Loss: 465.3725\tPercept Loss: 41556.8508\tTV Loss: 11.2336\tAttn Loss: 7867.1520\tTotal: 93525.8237\n"
     ]
    },
    {
     "name": "stderr",
     "output_type": "stream",
     "text": [
      " 71%|███████   | 56699/80000 [11:06:00<4:32:36,  1.42it/s]"
     ]
    },
    {
     "name": "stdout",
     "output_type": "stream",
     "text": [
      "Tue Jul  7 13:37:10 2020: Iteration: [56700/80000]\tRecon Loss: 461.6326\tPercept Loss: 39833.4766\tTV Loss: 11.0702\tAttn Loss: 8178.9691\tTotal: 93634.3188\n"
     ]
    },
    {
     "name": "stderr",
     "output_type": "stream",
     "text": [
      " 71%|███████   | 56799/80000 [11:07:10<4:32:45,  1.42it/s]"
     ]
    },
    {
     "name": "stdout",
     "output_type": "stream",
     "text": [
      "Tue Jul  7 13:38:21 2020: Iteration: [56800/80000]\tRecon Loss: 449.1895\tPercept Loss: 39715.7461\tTV Loss: 10.9641\tAttn Loss: 8066.0692\tTotal: 92713.6976\n"
     ]
    },
    {
     "name": "stderr",
     "output_type": "stream",
     "text": [
      " 71%|███████   | 56899/80000 [11:08:21<4:29:53,  1.43it/s]"
     ]
    },
    {
     "name": "stdout",
     "output_type": "stream",
     "text": [
      "Tue Jul  7 13:39:31 2020: Iteration: [56900/80000]\tRecon Loss: 446.6220\tPercept Loss: 39521.3993\tTV Loss: 10.7978\tAttn Loss: 8343.4662\tTotal: 94156.3938\n"
     ]
    },
    {
     "name": "stderr",
     "output_type": "stream",
     "text": [
      " 71%|███████   | 56999/80000 [11:09:31<4:30:00,  1.42it/s]"
     ]
    },
    {
     "name": "stdout",
     "output_type": "stream",
     "text": [
      "Tue Jul  7 13:40:42 2020: Iteration: [57000/80000]\tRecon Loss: 445.5472\tPercept Loss: 39885.6952\tTV Loss: 10.9943\tAttn Loss: 8126.8267\tTotal: 93212.0713\n"
     ]
    },
    {
     "name": "stderr",
     "output_type": "stream",
     "text": [
      " 71%|███████▏  | 57099/80000 [11:10:42<4:29:18,  1.42it/s]"
     ]
    },
    {
     "name": "stdout",
     "output_type": "stream",
     "text": [
      "Tue Jul  7 13:41:52 2020: Iteration: [57100/80000]\tRecon Loss: 444.7212\tPercept Loss: 39219.0070\tTV Loss: 10.7890\tAttn Loss: 7740.6878\tTotal: 90218.2364\n"
     ]
    },
    {
     "name": "stderr",
     "output_type": "stream",
     "text": [
      " 71%|███████▏  | 57199/80000 [11:11:52<4:27:23,  1.42it/s]"
     ]
    },
    {
     "name": "stdout",
     "output_type": "stream",
     "text": [
      "Tue Jul  7 13:43:03 2020: Iteration: [57200/80000]\tRecon Loss: 452.8299\tPercept Loss: 40240.0833\tTV Loss: 10.9648\tAttn Loss: 7761.6438\tTotal: 91447.8943\n"
     ]
    },
    {
     "name": "stderr",
     "output_type": "stream",
     "text": [
      " 72%|███████▏  | 57299/80000 [11:13:03<4:28:14,  1.41it/s]"
     ]
    },
    {
     "name": "stdout",
     "output_type": "stream",
     "text": [
      "Tue Jul  7 13:44:13 2020: Iteration: [57300/80000]\tRecon Loss: 455.5779\tPercept Loss: 40890.5775\tTV Loss: 11.0857\tAttn Loss: 9286.5205\tTotal: 101276.3366\n"
     ]
    },
    {
     "name": "stderr",
     "output_type": "stream",
     "text": [
      " 72%|███████▏  | 57399/80000 [11:14:13<4:24:46,  1.42it/s]"
     ]
    },
    {
     "name": "stdout",
     "output_type": "stream",
     "text": [
      "Tue Jul  7 13:45:24 2020: Iteration: [57400/80000]\tRecon Loss: 461.1141\tPercept Loss: 39722.4253\tTV Loss: 10.9348\tAttn Loss: 8452.4814\tTotal: 95157.8023\n"
     ]
    },
    {
     "name": "stderr",
     "output_type": "stream",
     "text": [
      " 72%|███████▏  | 57499/80000 [11:15:23<4:24:21,  1.42it/s]"
     ]
    },
    {
     "name": "stdout",
     "output_type": "stream",
     "text": [
      "Tue Jul  7 13:46:34 2020: Iteration: [57500/80000]\tRecon Loss: 468.5516\tPercept Loss: 39820.3046\tTV Loss: 10.9005\tAttn Loss: 7929.2568\tTotal: 92190.3663\n"
     ]
    },
    {
     "name": "stderr",
     "output_type": "stream",
     "text": [
      " 72%|███████▏  | 57599/80000 [11:16:34<4:24:25,  1.41it/s]"
     ]
    },
    {
     "name": "stdout",
     "output_type": "stream",
     "text": [
      "Tue Jul  7 13:47:44 2020: Iteration: [57600/80000]\tRecon Loss: 443.3600\tPercept Loss: 39278.4457\tTV Loss: 10.8151\tAttn Loss: 7620.6467\tTotal: 89544.0775\n"
     ]
    },
    {
     "name": "stderr",
     "output_type": "stream",
     "text": [
      " 72%|███████▏  | 57699/80000 [11:17:44<4:22:07,  1.42it/s]"
     ]
    },
    {
     "name": "stdout",
     "output_type": "stream",
     "text": [
      "Tue Jul  7 13:48:55 2020: Iteration: [57700/80000]\tRecon Loss: 455.7252\tPercept Loss: 40468.1774\tTV Loss: 10.9072\tAttn Loss: 7747.3571\tTotal: 91618.6451\n"
     ]
    },
    {
     "name": "stderr",
     "output_type": "stream",
     "text": [
      " 72%|███████▏  | 57799/80000 [11:18:55<4:21:15,  1.42it/s]"
     ]
    },
    {
     "name": "stdout",
     "output_type": "stream",
     "text": [
      "Tue Jul  7 13:50:05 2020: Iteration: [57800/80000]\tRecon Loss: 437.9510\tPercept Loss: 38684.0490\tTV Loss: 10.7227\tAttn Loss: 8287.7987\tTotal: 92897.5777\n"
     ]
    },
    {
     "name": "stderr",
     "output_type": "stream",
     "text": [
      " 72%|███████▏  | 57899/80000 [11:20:05<4:19:09,  1.42it/s]"
     ]
    },
    {
     "name": "stdout",
     "output_type": "stream",
     "text": [
      "Tue Jul  7 13:51:16 2020: Iteration: [57900/80000]\tRecon Loss: 473.3976\tPercept Loss: 41349.8387\tTV Loss: 11.3880\tAttn Loss: 7913.8826\tTotal: 93680.9907\n"
     ]
    },
    {
     "name": "stderr",
     "output_type": "stream",
     "text": [
      " 72%|███████▏  | 57999/80000 [11:21:16<4:18:32,  1.42it/s]"
     ]
    },
    {
     "name": "stdout",
     "output_type": "stream",
     "text": [
      "Tue Jul  7 13:52:26 2020: Iteration: [58000/80000]\tRecon Loss: 490.7232\tPercept Loss: 43529.6797\tTV Loss: 11.6058\tAttn Loss: 8176.8194\tTotal: 97613.8863\n"
     ]
    },
    {
     "name": "stderr",
     "output_type": "stream",
     "text": [
      " 73%|███████▎  | 58099/80000 [11:22:26<4:16:34,  1.42it/s]"
     ]
    },
    {
     "name": "stdout",
     "output_type": "stream",
     "text": [
      "Tue Jul  7 13:53:37 2020: Iteration: [58100/80000]\tRecon Loss: 467.8317\tPercept Loss: 41779.8264\tTV Loss: 11.2045\tAttn Loss: 8027.8258\tTotal: 94737.1432\n"
     ]
    },
    {
     "name": "stderr",
     "output_type": "stream",
     "text": [
      " 73%|███████▎  | 58199/80000 [11:23:37<4:17:25,  1.41it/s]"
     ]
    },
    {
     "name": "stdout",
     "output_type": "stream",
     "text": [
      "Tue Jul  7 13:54:47 2020: Iteration: [58200/80000]\tRecon Loss: 472.4225\tPercept Loss: 40961.6929\tTV Loss: 11.3242\tAttn Loss: 8033.6338\tTotal: 94000.9616\n"
     ]
    },
    {
     "name": "stderr",
     "output_type": "stream",
     "text": [
      " 73%|███████▎  | 58299/80000 [11:24:47<4:15:57,  1.41it/s]"
     ]
    },
    {
     "name": "stdout",
     "output_type": "stream",
     "text": [
      "Tue Jul  7 13:55:58 2020: Iteration: [58300/80000]\tRecon Loss: 452.9955\tPercept Loss: 40350.8689\tTV Loss: 10.9509\tAttn Loss: 7744.6748\tTotal: 91458.3816\n"
     ]
    },
    {
     "name": "stderr",
     "output_type": "stream",
     "text": [
      " 73%|███████▎  | 58399/80000 [11:25:58<4:13:58,  1.42it/s]"
     ]
    },
    {
     "name": "stdout",
     "output_type": "stream",
     "text": [
      "Tue Jul  7 13:57:09 2020: Iteration: [58400/80000]\tRecon Loss: 459.2731\tPercept Loss: 40153.4254\tTV Loss: 11.0880\tAttn Loss: 7695.9409\tTotal: 91032.6808\n"
     ]
    },
    {
     "name": "stderr",
     "output_type": "stream",
     "text": [
      " 73%|███████▎  | 58499/80000 [11:27:08<4:12:27,  1.42it/s]"
     ]
    },
    {
     "name": "stdout",
     "output_type": "stream",
     "text": [
      "Tue Jul  7 13:58:19 2020: Iteration: [58500/80000]\tRecon Loss: 473.9411\tPercept Loss: 40558.1917\tTV Loss: 11.1496\tAttn Loss: 7989.7732\tTotal: 93347.7378\n"
     ]
    },
    {
     "name": "stderr",
     "output_type": "stream",
     "text": [
      " 73%|███████▎  | 58599/80000 [11:28:19<4:10:42,  1.42it/s]"
     ]
    },
    {
     "name": "stdout",
     "output_type": "stream",
     "text": [
      "Tue Jul  7 13:59:29 2020: Iteration: [58600/80000]\tRecon Loss: 466.3635\tPercept Loss: 40596.2474\tTV Loss: 11.1102\tAttn Loss: 8089.4320\tTotal: 93907.5763\n"
     ]
    },
    {
     "name": "stderr",
     "output_type": "stream",
     "text": [
      " 73%|███████▎  | 58699/80000 [11:29:29<4:09:19,  1.42it/s]"
     ]
    },
    {
     "name": "stdout",
     "output_type": "stream",
     "text": [
      "Tue Jul  7 14:00:40 2020: Iteration: [58700/80000]\tRecon Loss: 439.4835\tPercept Loss: 39295.2075\tTV Loss: 10.9298\tAttn Loss: 8077.7516\tTotal: 92265.8502\n"
     ]
    },
    {
     "name": "stderr",
     "output_type": "stream",
     "text": [
      " 73%|███████▎  | 58799/80000 [11:30:40<4:09:34,  1.42it/s]"
     ]
    },
    {
     "name": "stdout",
     "output_type": "stream",
     "text": [
      "Tue Jul  7 14:01:50 2020: Iteration: [58800/80000]\tRecon Loss: 465.6786\tPercept Loss: 41189.7459\tTV Loss: 11.3140\tAttn Loss: 8945.6168\tTotal: 99633.3727\n"
     ]
    },
    {
     "name": "stderr",
     "output_type": "stream",
     "text": [
      " 74%|███████▎  | 58899/80000 [11:31:50<4:09:01,  1.41it/s]"
     ]
    },
    {
     "name": "stdout",
     "output_type": "stream",
     "text": [
      "Tue Jul  7 14:03:01 2020: Iteration: [58900/80000]\tRecon Loss: 460.1134\tPercept Loss: 39847.7257\tTV Loss: 10.8938\tAttn Loss: 7810.2783\tTotal: 91419.4675\n"
     ]
    },
    {
     "name": "stderr",
     "output_type": "stream",
     "text": [
      " 74%|███████▎  | 58999/80000 [11:33:01<4:05:54,  1.42it/s]"
     ]
    },
    {
     "name": "stdout",
     "output_type": "stream",
     "text": [
      "Tue Jul  7 14:04:12 2020: Iteration: [59000/80000]\tRecon Loss: 452.1627\tPercept Loss: 39938.7540\tTV Loss: 11.0284\tAttn Loss: 7657.2594\tTotal: 90514.2206\n"
     ]
    },
    {
     "name": "stderr",
     "output_type": "stream",
     "text": [
      " 74%|███████▍  | 59099/80000 [11:34:11<4:05:41,  1.42it/s]"
     ]
    },
    {
     "name": "stdout",
     "output_type": "stream",
     "text": [
      "Tue Jul  7 14:05:22 2020: Iteration: [59100/80000]\tRecon Loss: 450.2442\tPercept Loss: 39118.1504\tTV Loss: 10.7612\tAttn Loss: 7550.1888\tTotal: 89029.3372\n"
     ]
    },
    {
     "name": "stderr",
     "output_type": "stream",
     "text": [
      " 74%|███████▍  | 59199/80000 [11:35:22<4:04:15,  1.42it/s]"
     ]
    },
    {
     "name": "stdout",
     "output_type": "stream",
     "text": [
      "Tue Jul  7 14:06:33 2020: Iteration: [59200/80000]\tRecon Loss: 422.7866\tPercept Loss: 38275.5881\tTV Loss: 10.5492\tAttn Loss: 7786.3992\tTotal: 89327.3418\n"
     ]
    },
    {
     "name": "stderr",
     "output_type": "stream",
     "text": [
      " 74%|███████▍  | 59299/80000 [11:36:32<4:03:32,  1.42it/s]"
     ]
    },
    {
     "name": "stdout",
     "output_type": "stream",
     "text": [
      "Tue Jul  7 14:07:43 2020: Iteration: [59300/80000]\tRecon Loss: 444.7129\tPercept Loss: 38395.4991\tTV Loss: 10.6640\tAttn Loss: 8794.2238\tTotal: 95714.6120\n"
     ]
    },
    {
     "name": "stderr",
     "output_type": "stream",
     "text": [
      " 74%|███████▍  | 59399/80000 [11:37:43<4:02:31,  1.42it/s]"
     ]
    },
    {
     "name": "stdout",
     "output_type": "stream",
     "text": [
      "Tue Jul  7 14:08:54 2020: Iteration: [59400/80000]\tRecon Loss: 475.4075\tPercept Loss: 41273.7567\tTV Loss: 11.1867\tAttn Loss: 7543.7755\tTotal: 91402.3513\n"
     ]
    },
    {
     "name": "stderr",
     "output_type": "stream",
     "text": [
      " 74%|███████▍  | 59499/80000 [11:38:53<4:01:39,  1.41it/s]"
     ]
    },
    {
     "name": "stdout",
     "output_type": "stream",
     "text": [
      "Tue Jul  7 14:10:04 2020: Iteration: [59500/80000]\tRecon Loss: 476.0772\tPercept Loss: 40688.9483\tTV Loss: 11.1459\tAttn Loss: 7756.7051\tTotal: 92101.4098\n"
     ]
    },
    {
     "name": "stderr",
     "output_type": "stream",
     "text": [
      " 74%|███████▍  | 59599/80000 [11:40:04<3:59:35,  1.42it/s]"
     ]
    },
    {
     "name": "stdout",
     "output_type": "stream",
     "text": [
      "Tue Jul  7 14:11:15 2020: Iteration: [59600/80000]\tRecon Loss: 448.3220\tPercept Loss: 39072.9339\tTV Loss: 10.8192\tAttn Loss: 7549.3172\tTotal: 88960.2498\n"
     ]
    },
    {
     "name": "stderr",
     "output_type": "stream",
     "text": [
      " 75%|███████▍  | 59699/80000 [11:41:14<3:58:48,  1.42it/s]"
     ]
    },
    {
     "name": "stdout",
     "output_type": "stream",
     "text": [
      "Tue Jul  7 14:12:25 2020: Iteration: [59700/80000]\tRecon Loss: 435.5816\tPercept Loss: 39411.0704\tTV Loss: 10.8077\tAttn Loss: 7537.5897\tTotal: 89100.5012\n"
     ]
    },
    {
     "name": "stderr",
     "output_type": "stream",
     "text": [
      " 75%|███████▍  | 59799/80000 [11:42:25<3:57:13,  1.42it/s]"
     ]
    },
    {
     "name": "stdout",
     "output_type": "stream",
     "text": [
      "Tue Jul  7 14:13:35 2020: Iteration: [59800/80000]\tRecon Loss: 446.8946\tPercept Loss: 39722.1814\tTV Loss: 11.0063\tAttn Loss: 7452.6898\tTotal: 89017.3295\n"
     ]
    },
    {
     "name": "stderr",
     "output_type": "stream",
     "text": [
      " 75%|███████▍  | 59899/80000 [11:43:35<3:56:47,  1.41it/s]"
     ]
    },
    {
     "name": "stdout",
     "output_type": "stream",
     "text": [
      "Tue Jul  7 14:14:46 2020: Iteration: [59900/80000]\tRecon Loss: 450.5189\tPercept Loss: 39838.9613\tTV Loss: 11.0853\tAttn Loss: 7386.6151\tTotal: 88774.6941\n"
     ]
    },
    {
     "name": "stderr",
     "output_type": "stream",
     "text": [
      " 75%|███████▍  | 59999/80000 [11:44:46<3:55:57,  1.41it/s]"
     ]
    },
    {
     "name": "stdout",
     "output_type": "stream",
     "text": [
      "Tue Jul  7 14:15:56 2020: Iteration: [60000/80000]\tRecon Loss: 456.6444\tPercept Loss: 40109.9568\tTV Loss: 10.9827\tAttn Loss: 8396.6167\tTotal: 95165.9286\n"
     ]
    },
    {
     "name": "stderr",
     "output_type": "stream",
     "text": [
      " 75%|███████▌  | 60099/80000 [11:45:56<3:53:46,  1.42it/s]"
     ]
    },
    {
     "name": "stdout",
     "output_type": "stream",
     "text": [
      "Tue Jul  7 14:17:07 2020: Iteration: [60100/80000]\tRecon Loss: 464.6776\tPercept Loss: 40970.2209\tTV Loss: 11.2815\tAttn Loss: 9393.8204\tTotal: 102092.7353\n"
     ]
    },
    {
     "name": "stderr",
     "output_type": "stream",
     "text": [
      " 75%|███████▌  | 60199/80000 [11:47:07<3:52:00,  1.42it/s]"
     ]
    },
    {
     "name": "stdout",
     "output_type": "stream",
     "text": [
      "Tue Jul  7 14:18:17 2020: Iteration: [60200/80000]\tRecon Loss: 441.7431\tPercept Loss: 38510.3617\tTV Loss: 10.7342\tAttn Loss: 9206.6966\tTotal: 98275.3140\n"
     ]
    },
    {
     "name": "stderr",
     "output_type": "stream",
     "text": [
      " 75%|███████▌  | 60299/80000 [11:48:17<3:50:11,  1.43it/s]"
     ]
    },
    {
     "name": "stdout",
     "output_type": "stream",
     "text": [
      "Tue Jul  7 14:19:28 2020: Iteration: [60300/80000]\tRecon Loss: 455.2069\tPercept Loss: 39803.7182\tTV Loss: 10.9995\tAttn Loss: 7853.2775\tTotal: 91585.4480\n"
     ]
    },
    {
     "name": "stderr",
     "output_type": "stream",
     "text": [
      " 75%|███████▌  | 60399/80000 [11:49:28<3:49:32,  1.42it/s]"
     ]
    },
    {
     "name": "stdout",
     "output_type": "stream",
     "text": [
      "Tue Jul  7 14:20:38 2020: Iteration: [60400/80000]\tRecon Loss: 466.9333\tPercept Loss: 41466.4897\tTV Loss: 11.1821\tAttn Loss: 7478.4052\tTotal: 91118.0757\n"
     ]
    },
    {
     "name": "stderr",
     "output_type": "stream",
     "text": [
      " 76%|███████▌  | 60499/80000 [11:50:38<3:48:26,  1.42it/s]"
     ]
    },
    {
     "name": "stdout",
     "output_type": "stream",
     "text": [
      "Tue Jul  7 14:21:49 2020: Iteration: [60500/80000]\tRecon Loss: 475.6353\tPercept Loss: 41466.4469\tTV Loss: 11.3513\tAttn Loss: 8033.8468\tTotal: 94539.3940\n"
     ]
    },
    {
     "name": "stderr",
     "output_type": "stream",
     "text": [
      " 76%|███████▌  | 60599/80000 [11:51:49<3:46:28,  1.43it/s]"
     ]
    },
    {
     "name": "stdout",
     "output_type": "stream",
     "text": [
      "Tue Jul  7 14:22:59 2020: Iteration: [60600/80000]\tRecon Loss: 451.5663\tPercept Loss: 39858.4617\tTV Loss: 10.7861\tAttn Loss: 7910.5969\tTotal: 91945.5679\n"
     ]
    },
    {
     "name": "stderr",
     "output_type": "stream",
     "text": [
      " 76%|███████▌  | 60699/80000 [11:52:59<3:45:32,  1.43it/s]"
     ]
    },
    {
     "name": "stdout",
     "output_type": "stream",
     "text": [
      "Tue Jul  7 14:24:10 2020: Iteration: [60700/80000]\tRecon Loss: 437.5845\tPercept Loss: 39161.2055\tTV Loss: 10.9295\tAttn Loss: 7295.0006\tTotal: 87416.3491\n"
     ]
    },
    {
     "name": "stderr",
     "output_type": "stream",
     "text": [
      " 76%|███████▌  | 60799/80000 [11:54:10<3:45:40,  1.42it/s]"
     ]
    },
    {
     "name": "stdout",
     "output_type": "stream",
     "text": [
      "Tue Jul  7 14:25:20 2020: Iteration: [60800/80000]\tRecon Loss: 447.1868\tPercept Loss: 39262.4018\tTV Loss: 10.8636\tAttn Loss: 7493.9416\tTotal: 88806.5556\n"
     ]
    },
    {
     "name": "stderr",
     "output_type": "stream",
     "text": [
      " 76%|███████▌  | 60899/80000 [11:55:20<3:43:57,  1.42it/s]"
     ]
    },
    {
     "name": "stdout",
     "output_type": "stream",
     "text": [
      "Tue Jul  7 14:26:31 2020: Iteration: [60900/80000]\tRecon Loss: 444.7956\tPercept Loss: 39388.5895\tTV Loss: 10.9587\tAttn Loss: 7391.6677\tTotal: 88296.1394\n"
     ]
    },
    {
     "name": "stderr",
     "output_type": "stream",
     "text": [
      " 76%|███████▌  | 60999/80000 [11:56:31<3:43:00,  1.42it/s]"
     ]
    },
    {
     "name": "stdout",
     "output_type": "stream",
     "text": [
      "Tue Jul  7 14:27:41 2020: Iteration: [61000/80000]\tRecon Loss: 467.5392\tPercept Loss: 40397.1603\tTV Loss: 11.1200\tAttn Loss: 7571.4781\tTotal: 90612.6209\n"
     ]
    },
    {
     "name": "stderr",
     "output_type": "stream",
     "text": [
      " 76%|███████▋  | 61099/80000 [11:57:41<3:40:56,  1.43it/s]"
     ]
    },
    {
     "name": "stdout",
     "output_type": "stream",
     "text": [
      "Tue Jul  7 14:28:52 2020: Iteration: [61100/80000]\tRecon Loss: 465.2049\tPercept Loss: 40145.3019\tTV Loss: 11.0453\tAttn Loss: 8084.5635\tTotal: 93415.1851\n"
     ]
    },
    {
     "name": "stderr",
     "output_type": "stream",
     "text": [
      " 76%|███████▋  | 61199/80000 [11:58:51<3:40:16,  1.42it/s]"
     ]
    },
    {
     "name": "stdout",
     "output_type": "stream",
     "text": [
      "Tue Jul  7 14:30:02 2020: Iteration: [61200/80000]\tRecon Loss: 458.6789\tPercept Loss: 40173.2038\tTV Loss: 11.1230\tAttn Loss: 8388.3435\tTotal: 95201.2840\n"
     ]
    },
    {
     "name": "stderr",
     "output_type": "stream",
     "text": [
      " 77%|███████▋  | 61299/80000 [12:00:02<3:40:04,  1.42it/s]"
     ]
    },
    {
     "name": "stdout",
     "output_type": "stream",
     "text": [
      "Tue Jul  7 14:31:13 2020: Iteration: [61300/80000]\tRecon Loss: 450.2924\tPercept Loss: 39861.4201\tTV Loss: 10.9502\tAttn Loss: 7524.7780\tTotal: 89622.5149\n"
     ]
    },
    {
     "name": "stderr",
     "output_type": "stream",
     "text": [
      " 77%|███████▋  | 61399/80000 [12:01:13<3:39:48,  1.41it/s]"
     ]
    },
    {
     "name": "stdout",
     "output_type": "stream",
     "text": [
      "Tue Jul  7 14:32:23 2020: Iteration: [61400/80000]\tRecon Loss: 461.1930\tPercept Loss: 40462.4969\tTV Loss: 11.1423\tAttn Loss: 7390.3042\tTotal: 89527.6748\n"
     ]
    },
    {
     "name": "stderr",
     "output_type": "stream",
     "text": [
      " 77%|███████▋  | 61499/80000 [12:02:23<3:37:58,  1.41it/s]"
     ]
    },
    {
     "name": "stdout",
     "output_type": "stream",
     "text": [
      "Tue Jul  7 14:33:34 2020: Iteration: [61500/80000]\tRecon Loss: 457.3739\tPercept Loss: 40268.0509\tTV Loss: 11.0438\tAttn Loss: 7697.3781\tTotal: 91136.4961\n"
     ]
    },
    {
     "name": "stderr",
     "output_type": "stream",
     "text": [
      " 77%|███████▋  | 61599/80000 [12:03:33<3:36:03,  1.42it/s]"
     ]
    },
    {
     "name": "stdout",
     "output_type": "stream",
     "text": [
      "Tue Jul  7 14:34:44 2020: Iteration: [61600/80000]\tRecon Loss: 460.8856\tPercept Loss: 39916.6000\tTV Loss: 11.0349\tAttn Loss: 7849.0479\tTotal: 91730.0925\n"
     ]
    },
    {
     "name": "stderr",
     "output_type": "stream",
     "text": [
      " 77%|███████▋  | 61699/80000 [12:04:44<3:34:44,  1.42it/s]"
     ]
    },
    {
     "name": "stdout",
     "output_type": "stream",
     "text": [
      "Tue Jul  7 14:35:55 2020: Iteration: [61700/80000]\tRecon Loss: 436.7769\tPercept Loss: 38692.0837\tTV Loss: 10.9095\tAttn Loss: 7611.6648\tTotal: 88838.9366\n"
     ]
    },
    {
     "name": "stderr",
     "output_type": "stream",
     "text": [
      " 77%|███████▋  | 61799/80000 [12:05:55<3:35:53,  1.41it/s]"
     ]
    },
    {
     "name": "stdout",
     "output_type": "stream",
     "text": [
      "Tue Jul  7 14:37:05 2020: Iteration: [61800/80000]\tRecon Loss: 446.1377\tPercept Loss: 40009.9451\tTV Loss: 10.9988\tAttn Loss: 7300.6759\tTotal: 88385.3663\n"
     ]
    },
    {
     "name": "stderr",
     "output_type": "stream",
     "text": [
      " 77%|███████▋  | 61899/80000 [12:07:05<3:32:40,  1.42it/s]"
     ]
    },
    {
     "name": "stdout",
     "output_type": "stream",
     "text": [
      "Tue Jul  7 14:38:16 2020: Iteration: [61900/80000]\tRecon Loss: 456.0335\tPercept Loss: 40498.8104\tTV Loss: 11.0598\tAttn Loss: 7357.0230\tTotal: 89311.8817\n"
     ]
    },
    {
     "name": "stderr",
     "output_type": "stream",
     "text": [
      " 77%|███████▋  | 61999/80000 [12:08:16<3:31:01,  1.42it/s]"
     ]
    },
    {
     "name": "stdout",
     "output_type": "stream",
     "text": [
      "Tue Jul  7 14:39:26 2020: Iteration: [62000/80000]\tRecon Loss: 453.6716\tPercept Loss: 39435.6729\tTV Loss: 11.0081\tAttn Loss: 7675.1286\tTotal: 90133.2412\n"
     ]
    },
    {
     "name": "stderr",
     "output_type": "stream",
     "text": [
      " 78%|███████▊  | 62099/80000 [12:09:26<3:29:32,  1.42it/s]"
     ]
    },
    {
     "name": "stdout",
     "output_type": "stream",
     "text": [
      "Tue Jul  7 14:40:37 2020: Iteration: [62100/80000]\tRecon Loss: 471.9055\tPercept Loss: 40996.4297\tTV Loss: 11.2218\tAttn Loss: 8529.8504\tTotal: 97006.8058\n"
     ]
    },
    {
     "name": "stderr",
     "output_type": "stream",
     "text": [
      " 78%|███████▊  | 62199/80000 [12:10:36<3:28:04,  1.43it/s]"
     ]
    },
    {
     "name": "stdout",
     "output_type": "stream",
     "text": [
      "Tue Jul  7 14:41:47 2020: Iteration: [62200/80000]\tRecon Loss: 461.5108\tPercept Loss: 40434.5379\tTV Loss: 11.1209\tAttn Loss: 7270.4285\tTotal: 88783.4263\n"
     ]
    },
    {
     "name": "stderr",
     "output_type": "stream",
     "text": [
      " 78%|███████▊  | 62299/80000 [12:11:47<3:26:48,  1.43it/s]"
     ]
    },
    {
     "name": "stdout",
     "output_type": "stream",
     "text": [
      "Tue Jul  7 14:42:58 2020: Iteration: [62300/80000]\tRecon Loss: 458.4370\tPercept Loss: 39183.0355\tTV Loss: 10.8092\tAttn Loss: 7503.2010\tTotal: 88894.7030\n"
     ]
    },
    {
     "name": "stderr",
     "output_type": "stream",
     "text": [
      " 78%|███████▊  | 62399/80000 [12:12:57<3:26:48,  1.42it/s]"
     ]
    },
    {
     "name": "stdout",
     "output_type": "stream",
     "text": [
      "Tue Jul  7 14:44:08 2020: Iteration: [62400/80000]\tRecon Loss: 441.5805\tPercept Loss: 39019.8866\tTV Loss: 10.9068\tAttn Loss: 7261.2955\tTotal: 87112.5326\n"
     ]
    },
    {
     "name": "stderr",
     "output_type": "stream",
     "text": [
      " 78%|███████▊  | 62499/80000 [12:14:08<3:25:31,  1.42it/s]"
     ]
    },
    {
     "name": "stdout",
     "output_type": "stream",
     "text": [
      "Tue Jul  7 14:45:19 2020: Iteration: [62500/80000]\tRecon Loss: 434.1380\tPercept Loss: 39337.9802\tTV Loss: 10.8892\tAttn Loss: 7382.9548\tTotal: 88085.9812\n"
     ]
    },
    {
     "name": "stderr",
     "output_type": "stream",
     "text": [
      " 78%|███████▊  | 62599/80000 [12:15:18<3:24:17,  1.42it/s]"
     ]
    },
    {
     "name": "stdout",
     "output_type": "stream",
     "text": [
      "Tue Jul  7 14:46:29 2020: Iteration: [62600/80000]\tRecon Loss: 449.9933\tPercept Loss: 39585.7866\tTV Loss: 10.8517\tAttn Loss: 7445.6922\tTotal: 88868.3895\n"
     ]
    },
    {
     "name": "stderr",
     "output_type": "stream",
     "text": [
      " 78%|███████▊  | 62699/80000 [12:16:29<3:23:23,  1.42it/s]"
     ]
    },
    {
     "name": "stdout",
     "output_type": "stream",
     "text": [
      "Tue Jul  7 14:47:40 2020: Iteration: [62700/80000]\tRecon Loss: 504.3053\tPercept Loss: 43135.7225\tTV Loss: 11.6549\tAttn Loss: 8254.2538\tTotal: 97820.8466\n"
     ]
    },
    {
     "name": "stderr",
     "output_type": "stream",
     "text": [
      " 78%|███████▊  | 62799/80000 [12:17:40<3:21:27,  1.42it/s]"
     ]
    },
    {
     "name": "stdout",
     "output_type": "stream",
     "text": [
      "Tue Jul  7 14:48:50 2020: Iteration: [62800/80000]\tRecon Loss: 465.4025\tPercept Loss: 40710.5590\tTV Loss: 11.1265\tAttn Loss: 7559.4697\tTotal: 90832.6679\n"
     ]
    },
    {
     "name": "stderr",
     "output_type": "stream",
     "text": [
      " 79%|███████▊  | 62899/80000 [12:18:50<3:24:44,  1.39it/s]"
     ]
    },
    {
     "name": "stdout",
     "output_type": "stream",
     "text": [
      "Tue Jul  7 14:50:01 2020: Iteration: [62900/80000]\tRecon Loss: 446.9750\tPercept Loss: 39135.4445\tTV Loss: 10.7580\tAttn Loss: 7294.6187\tTotal: 87480.4863\n"
     ]
    },
    {
     "name": "stderr",
     "output_type": "stream",
     "text": [
      " 79%|███████▊  | 62999/80000 [12:20:01<3:19:05,  1.42it/s]"
     ]
    },
    {
     "name": "stdout",
     "output_type": "stream",
     "text": [
      "Tue Jul  7 14:51:11 2020: Iteration: [63000/80000]\tRecon Loss: 461.4030\tPercept Loss: 41724.8298\tTV Loss: 11.2890\tAttn Loss: 7424.0579\tTotal: 90996.0973\n"
     ]
    },
    {
     "name": "stderr",
     "output_type": "stream",
     "text": [
      " 79%|███████▉  | 63099/80000 [12:21:11<3:17:54,  1.42it/s]"
     ]
    },
    {
     "name": "stdout",
     "output_type": "stream",
     "text": [
      "Tue Jul  7 14:52:22 2020: Iteration: [63100/80000]\tRecon Loss: 464.2587\tPercept Loss: 40478.6831\tTV Loss: 11.0338\tAttn Loss: 7393.8814\tTotal: 89594.8967\n"
     ]
    },
    {
     "name": "stderr",
     "output_type": "stream",
     "text": [
      " 79%|███████▉  | 63199/80000 [12:22:22<3:17:49,  1.42it/s]"
     ]
    },
    {
     "name": "stdout",
     "output_type": "stream",
     "text": [
      "Tue Jul  7 14:53:32 2020: Iteration: [63200/80000]\tRecon Loss: 435.0522\tPercept Loss: 39047.2632\tTV Loss: 10.7797\tAttn Loss: 7331.8496\tTotal: 87496.6808\n"
     ]
    },
    {
     "name": "stderr",
     "output_type": "stream",
     "text": [
      " 79%|███████▉  | 63299/80000 [12:23:32<3:16:10,  1.42it/s]"
     ]
    },
    {
     "name": "stdout",
     "output_type": "stream",
     "text": [
      "Tue Jul  7 14:54:43 2020: Iteration: [63300/80000]\tRecon Loss: 436.6309\tPercept Loss: 39052.0193\tTV Loss: 10.7425\tAttn Loss: 7788.9958\tTotal: 90259.7280\n"
     ]
    },
    {
     "name": "stderr",
     "output_type": "stream",
     "text": [
      " 79%|███████▉  | 63399/80000 [12:24:43<3:14:30,  1.42it/s]"
     ]
    },
    {
     "name": "stdout",
     "output_type": "stream",
     "text": [
      "Tue Jul  7 14:55:53 2020: Iteration: [63400/80000]\tRecon Loss: 450.6184\tPercept Loss: 39818.3634\tTV Loss: 11.0097\tAttn Loss: 7117.1385\tTotal: 87137.4753\n"
     ]
    },
    {
     "name": "stderr",
     "output_type": "stream",
     "text": [
      " 79%|███████▉  | 63499/80000 [12:25:53<3:13:01,  1.42it/s]"
     ]
    },
    {
     "name": "stdout",
     "output_type": "stream",
     "text": [
      "Tue Jul  7 14:57:04 2020: Iteration: [63500/80000]\tRecon Loss: 440.6145\tPercept Loss: 39171.8217\tTV Loss: 10.9453\tAttn Loss: 7573.3371\tTotal: 89127.4415\n"
     ]
    },
    {
     "name": "stderr",
     "output_type": "stream",
     "text": [
      " 79%|███████▉  | 63599/80000 [12:27:04<3:11:57,  1.42it/s]"
     ]
    },
    {
     "name": "stdout",
     "output_type": "stream",
     "text": [
      "Tue Jul  7 14:58:14 2020: Iteration: [63600/80000]\tRecon Loss: 441.0045\tPercept Loss: 38949.3593\tTV Loss: 10.7625\tAttn Loss: 7366.3892\tTotal: 87665.3650\n"
     ]
    },
    {
     "name": "stderr",
     "output_type": "stream",
     "text": [
      " 80%|███████▉  | 63699/80000 [12:28:14<3:11:53,  1.42it/s]"
     ]
    },
    {
     "name": "stdout",
     "output_type": "stream",
     "text": [
      "Tue Jul  7 14:59:25 2020: Iteration: [63700/80000]\tRecon Loss: 470.2782\tPercept Loss: 40953.0088\tTV Loss: 11.1458\tAttn Loss: 7252.3727\tTotal: 89281.4854\n"
     ]
    },
    {
     "name": "stderr",
     "output_type": "stream",
     "text": [
      " 80%|███████▉  | 63799/80000 [12:29:25<3:10:15,  1.42it/s]"
     ]
    },
    {
     "name": "stdout",
     "output_type": "stream",
     "text": [
      "Tue Jul  7 15:00:35 2020: Iteration: [63800/80000]\tRecon Loss: 473.4744\tPercept Loss: 41267.1481\tTV Loss: 11.1539\tAttn Loss: 7664.1081\tTotal: 92098.0793\n"
     ]
    },
    {
     "name": "stderr",
     "output_type": "stream",
     "text": [
      " 80%|███████▉  | 63879/80000 [12:30:21<3:08:57,  1.42it/s]/home/dehezhang2/anaconda3/lib/python3.7/site-packages/PIL/Image.py:2766: DecompressionBombWarning: Image size (94435468 pixels) exceeds limit of 89478485 pixels, could be decompression bomb DOS attack.\n",
      "  DecompressionBombWarning,\n",
      " 80%|███████▉  | 63899/80000 [12:30:35<3:08:53,  1.42it/s]"
     ]
    },
    {
     "name": "stdout",
     "output_type": "stream",
     "text": [
      "Tue Jul  7 15:01:46 2020: Iteration: [63900/80000]\tRecon Loss: 447.4512\tPercept Loss: 39516.0407\tTV Loss: 11.0492\tAttn Loss: 7309.0723\tTotal: 87955.4781\n"
     ]
    },
    {
     "name": "stderr",
     "output_type": "stream",
     "text": [
      " 80%|███████▉  | 63999/80000 [12:31:46<3:08:28,  1.41it/s]"
     ]
    },
    {
     "name": "stdout",
     "output_type": "stream",
     "text": [
      "Tue Jul  7 15:02:56 2020: Iteration: [64000/80000]\tRecon Loss: 454.9487\tPercept Loss: 40246.8126\tTV Loss: 10.8514\tAttn Loss: 7317.9768\tTotal: 88812.6745\n"
     ]
    },
    {
     "name": "stderr",
     "output_type": "stream",
     "text": [
      " 80%|████████  | 64099/80000 [12:32:56<3:07:03,  1.42it/s]"
     ]
    },
    {
     "name": "stdout",
     "output_type": "stream",
     "text": [
      "Tue Jul  7 15:04:07 2020: Iteration: [64100/80000]\tRecon Loss: 452.1956\tPercept Loss: 39722.1640\tTV Loss: 10.9036\tAttn Loss: 7375.2596\tTotal: 88604.7125\n"
     ]
    },
    {
     "name": "stderr",
     "output_type": "stream",
     "text": [
      " 80%|████████  | 64187/80000 [12:33:58<3:05:51,  1.42it/s]/home/dehezhang2/anaconda3/lib/python3.7/site-packages/PIL/Image.py:2766: DecompressionBombWarning: Image size (131790400 pixels) exceeds limit of 89478485 pixels, could be decompression bomb DOS attack.\n",
      "  DecompressionBombWarning,\n",
      " 80%|████████  | 64199/80000 [12:34:07<3:05:40,  1.42it/s]"
     ]
    },
    {
     "name": "stdout",
     "output_type": "stream",
     "text": [
      "Tue Jul  7 15:05:17 2020: Iteration: [64200/80000]\tRecon Loss: 468.8193\tPercept Loss: 41517.0553\tTV Loss: 11.3979\tAttn Loss: 7193.3756\tTotal: 89479.4809\n"
     ]
    },
    {
     "name": "stderr",
     "output_type": "stream",
     "text": [
      " 80%|████████  | 64299/80000 [12:35:17<3:03:58,  1.42it/s]"
     ]
    },
    {
     "name": "stdout",
     "output_type": "stream",
     "text": [
      "Tue Jul  7 15:06:28 2020: Iteration: [64300/80000]\tRecon Loss: 447.1929\tPercept Loss: 39673.9611\tTV Loss: 11.0009\tAttn Loss: 7079.2934\tTotal: 86731.6602\n"
     ]
    },
    {
     "name": "stderr",
     "output_type": "stream",
     "text": [
      " 80%|████████  | 64399/80000 [12:36:28<3:02:33,  1.42it/s]"
     ]
    },
    {
     "name": "stdout",
     "output_type": "stream",
     "text": [
      "Tue Jul  7 15:07:38 2020: Iteration: [64400/80000]\tRecon Loss: 436.6081\tPercept Loss: 39138.5003\tTV Loss: 10.7249\tAttn Loss: 7094.9709\tTotal: 86181.6552\n"
     ]
    },
    {
     "name": "stderr",
     "output_type": "stream",
     "text": [
      " 81%|████████  | 64499/80000 [12:37:38<3:01:50,  1.42it/s]"
     ]
    },
    {
     "name": "stdout",
     "output_type": "stream",
     "text": [
      "Tue Jul  7 15:08:49 2020: Iteration: [64500/80000]\tRecon Loss: 454.6641\tPercept Loss: 40348.7581\tTV Loss: 11.1408\tAttn Loss: 7869.5888\tTotal: 92224.3397\n"
     ]
    },
    {
     "name": "stderr",
     "output_type": "stream",
     "text": [
      " 81%|████████  | 64599/80000 [12:38:49<3:00:11,  1.42it/s]"
     ]
    },
    {
     "name": "stdout",
     "output_type": "stream",
     "text": [
      "Tue Jul  7 15:09:59 2020: Iteration: [64600/80000]\tRecon Loss: 461.2059\tPercept Loss: 40430.2123\tTV Loss: 10.9472\tAttn Loss: 7329.5818\tTotal: 89129.2337\n"
     ]
    },
    {
     "name": "stderr",
     "output_type": "stream",
     "text": [
      " 81%|████████  | 64699/80000 [12:39:59<2:59:52,  1.42it/s]"
     ]
    },
    {
     "name": "stdout",
     "output_type": "stream",
     "text": [
      "Tue Jul  7 15:11:10 2020: Iteration: [64700/80000]\tRecon Loss: 443.1408\tPercept Loss: 39175.1013\tTV Loss: 10.7336\tAttn Loss: 7189.4330\tTotal: 86850.4426\n"
     ]
    },
    {
     "name": "stderr",
     "output_type": "stream",
     "text": [
      " 81%|████████  | 64799/80000 [12:41:10<2:57:55,  1.42it/s]"
     ]
    },
    {
     "name": "stdout",
     "output_type": "stream",
     "text": [
      "Tue Jul  7 15:12:20 2020: Iteration: [64800/80000]\tRecon Loss: 438.6149\tPercept Loss: 39619.9815\tTV Loss: 10.8430\tAttn Loss: 8514.4175\tTotal: 95201.0652\n"
     ]
    },
    {
     "name": "stderr",
     "output_type": "stream",
     "text": [
      " 81%|████████  | 64899/80000 [12:42:20<2:56:59,  1.42it/s]"
     ]
    },
    {
     "name": "stdout",
     "output_type": "stream",
     "text": [
      "Tue Jul  7 15:13:31 2020: Iteration: [64900/80000]\tRecon Loss: 448.2470\tPercept Loss: 39275.7776\tTV Loss: 10.8087\tAttn Loss: 7274.0255\tTotal: 87510.4883\n"
     ]
    },
    {
     "name": "stderr",
     "output_type": "stream",
     "text": [
      " 81%|████████  | 64999/80000 [12:43:31<2:55:48,  1.42it/s]"
     ]
    },
    {
     "name": "stdout",
     "output_type": "stream",
     "text": [
      "Tue Jul  7 15:14:41 2020: Iteration: [65000/80000]\tRecon Loss: 466.4170\tPercept Loss: 40800.5498\tTV Loss: 11.1579\tAttn Loss: 7142.6636\tTotal: 88432.2808\n"
     ]
    },
    {
     "name": "stderr",
     "output_type": "stream",
     "text": [
      " 81%|████████▏ | 65099/80000 [12:44:41<2:54:37,  1.42it/s]"
     ]
    },
    {
     "name": "stdout",
     "output_type": "stream",
     "text": [
      "Tue Jul  7 15:15:52 2020: Iteration: [65100/80000]\tRecon Loss: 446.4762\tPercept Loss: 39868.9091\tTV Loss: 10.8670\tAttn Loss: 8088.5696\tTotal: 92973.7586\n"
     ]
    },
    {
     "name": "stderr",
     "output_type": "stream",
     "text": [
      " 81%|████████▏ | 65199/80000 [12:45:52<2:54:27,  1.41it/s]"
     ]
    },
    {
     "name": "stdout",
     "output_type": "stream",
     "text": [
      "Tue Jul  7 15:17:02 2020: Iteration: [65200/80000]\tRecon Loss: 446.1238\tPercept Loss: 39296.5578\tTV Loss: 10.8685\tAttn Loss: 7271.2867\tTotal: 87494.2009\n"
     ]
    },
    {
     "name": "stderr",
     "output_type": "stream",
     "text": [
      " 82%|████████▏ | 65299/80000 [12:47:02<2:53:25,  1.41it/s]"
     ]
    },
    {
     "name": "stdout",
     "output_type": "stream",
     "text": [
      "Tue Jul  7 15:18:13 2020: Iteration: [65300/80000]\tRecon Loss: 479.4731\tPercept Loss: 41537.5639\tTV Loss: 11.3708\tAttn Loss: 7042.7986\tTotal: 88702.7944\n"
     ]
    },
    {
     "name": "stderr",
     "output_type": "stream",
     "text": [
      " 82%|████████▏ | 65399/80000 [12:48:13<2:51:56,  1.42it/s]"
     ]
    },
    {
     "name": "stdout",
     "output_type": "stream",
     "text": [
      "Tue Jul  7 15:19:23 2020: Iteration: [65400/80000]\tRecon Loss: 451.6291\tPercept Loss: 39318.8577\tTV Loss: 10.9999\tAttn Loss: 7611.7649\tTotal: 89615.7367\n"
     ]
    },
    {
     "name": "stderr",
     "output_type": "stream",
     "text": [
      " 82%|████████▏ | 65499/80000 [12:49:23<2:50:11,  1.42it/s]"
     ]
    },
    {
     "name": "stdout",
     "output_type": "stream",
     "text": [
      "Tue Jul  7 15:20:34 2020: Iteration: [65500/80000]\tRecon Loss: 440.5079\tPercept Loss: 38955.1354\tTV Loss: 10.8611\tAttn Loss: 7235.9753\tTotal: 86884.6773\n"
     ]
    },
    {
     "name": "stderr",
     "output_type": "stream",
     "text": [
      " 82%|████████▏ | 65525/80000 [12:49:42<2:50:24,  1.42it/s]/home/dehezhang2/anaconda3/lib/python3.7/site-packages/PIL/Image.py:2766: DecompressionBombWarning: Image size (145486286 pixels) exceeds limit of 89478485 pixels, could be decompression bomb DOS attack.\n",
      "  DecompressionBombWarning,\n",
      " 82%|████████▏ | 65599/80000 [12:50:34<2:48:41,  1.42it/s]"
     ]
    },
    {
     "name": "stdout",
     "output_type": "stream",
     "text": [
      "Tue Jul  7 15:21:45 2020: Iteration: [65600/80000]\tRecon Loss: 431.4656\tPercept Loss: 38949.5309\tTV Loss: 10.7884\tAttn Loss: 7048.2652\tTotal: 85661.6629\n"
     ]
    },
    {
     "name": "stderr",
     "output_type": "stream",
     "text": [
      " 82%|████████▏ | 65699/80000 [12:51:44<2:47:46,  1.42it/s]"
     ]
    },
    {
     "name": "stdout",
     "output_type": "stream",
     "text": [
      "Tue Jul  7 15:22:55 2020: Iteration: [65700/80000]\tRecon Loss: 456.5746\tPercept Loss: 40103.1908\tTV Loss: 11.0328\tAttn Loss: 7197.5484\tTotal: 87964.5556\n"
     ]
    },
    {
     "name": "stderr",
     "output_type": "stream",
     "text": [
      " 82%|████████▏ | 65799/80000 [12:52:55<2:46:57,  1.42it/s]"
     ]
    },
    {
     "name": "stdout",
     "output_type": "stream",
     "text": [
      "Tue Jul  7 15:24:06 2020: Iteration: [65800/80000]\tRecon Loss: 445.1864\tPercept Loss: 39537.9047\tTV Loss: 10.9335\tAttn Loss: 7317.8549\tTotal: 88006.2328\n"
     ]
    },
    {
     "name": "stderr",
     "output_type": "stream",
     "text": [
      " 82%|████████▏ | 65899/80000 [12:54:05<2:46:47,  1.41it/s]"
     ]
    },
    {
     "name": "stdout",
     "output_type": "stream",
     "text": [
      "Tue Jul  7 15:25:16 2020: Iteration: [65900/80000]\tRecon Loss: 430.3615\tPercept Loss: 38232.0740\tTV Loss: 10.9237\tAttn Loss: 6950.0873\tTotal: 84345.4490\n"
     ]
    },
    {
     "name": "stderr",
     "output_type": "stream",
     "text": [
      " 82%|████████▏ | 65999/80000 [12:55:16<2:44:12,  1.42it/s]"
     ]
    },
    {
     "name": "stdout",
     "output_type": "stream",
     "text": [
      "Tue Jul  7 15:26:27 2020: Iteration: [66000/80000]\tRecon Loss: 457.7460\tPercept Loss: 40485.2887\tTV Loss: 11.1052\tAttn Loss: 7139.0340\tTotal: 88008.0052\n"
     ]
    },
    {
     "name": "stderr",
     "output_type": "stream",
     "text": [
      " 83%|████████▎ | 66099/80000 [12:56:26<2:43:36,  1.42it/s]"
     ]
    },
    {
     "name": "stdout",
     "output_type": "stream",
     "text": [
      "Tue Jul  7 15:27:37 2020: Iteration: [66100/80000]\tRecon Loss: 461.3948\tPercept Loss: 40753.1457\tTV Loss: 11.0974\tAttn Loss: 7106.8196\tTotal: 88118.9852\n"
     ]
    },
    {
     "name": "stderr",
     "output_type": "stream",
     "text": [
      " 83%|████████▎ | 66199/80000 [12:57:37<2:41:28,  1.42it/s]"
     ]
    },
    {
     "name": "stdout",
     "output_type": "stream",
     "text": [
      "Tue Jul  7 15:28:48 2020: Iteration: [66200/80000]\tRecon Loss: 445.1264\tPercept Loss: 39018.5715\tTV Loss: 10.9140\tAttn Loss: 6986.9015\tTotal: 85500.3852\n"
     ]
    },
    {
     "name": "stderr",
     "output_type": "stream",
     "text": [
      " 83%|████████▎ | 66222/80000 [12:57:53<2:41:58,  1.42it/s]/home/dehezhang2/anaconda3/lib/python3.7/site-packages/PIL/Image.py:2766: DecompressionBombWarning: Image size (129086580 pixels) exceeds limit of 89478485 pixels, could be decompression bomb DOS attack.\n",
      "  DecompressionBombWarning,\n",
      " 83%|████████▎ | 66299/80000 [12:58:48<2:40:27,  1.42it/s]"
     ]
    },
    {
     "name": "stdout",
     "output_type": "stream",
     "text": [
      "Tue Jul  7 15:29:59 2020: Iteration: [66300/80000]\tRecon Loss: 460.2784\tPercept Loss: 40965.2766\tTV Loss: 11.1883\tAttn Loss: 7410.8907\tTotal: 90145.2875\n"
     ]
    },
    {
     "name": "stderr",
     "output_type": "stream",
     "text": [
      " 83%|████████▎ | 66399/80000 [12:59:59<2:40:02,  1.42it/s]"
     ]
    },
    {
     "name": "stdout",
     "output_type": "stream",
     "text": [
      "Tue Jul  7 15:31:09 2020: Iteration: [66400/80000]\tRecon Loss: 460.9921\tPercept Loss: 40535.9692\tTV Loss: 11.0288\tAttn Loss: 7691.8948\tTotal: 91407.5479\n"
     ]
    },
    {
     "name": "stderr",
     "output_type": "stream",
     "text": [
      " 83%|████████▎ | 66499/80000 [13:01:09<2:38:12,  1.42it/s]"
     ]
    },
    {
     "name": "stdout",
     "output_type": "stream",
     "text": [
      "Tue Jul  7 15:32:20 2020: Iteration: [66500/80000]\tRecon Loss: 438.5955\tPercept Loss: 39991.0982\tTV Loss: 11.0876\tAttn Loss: 7617.8216\tTotal: 90194.8587\n"
     ]
    },
    {
     "name": "stderr",
     "output_type": "stream",
     "text": [
      " 83%|████████▎ | 66599/80000 [13:02:20<2:37:49,  1.42it/s]"
     ]
    },
    {
     "name": "stdout",
     "output_type": "stream",
     "text": [
      "Tue Jul  7 15:33:30 2020: Iteration: [66600/80000]\tRecon Loss: 443.3919\tPercept Loss: 39372.3031\tTV Loss: 11.0265\tAttn Loss: 6899.8239\tTotal: 85315.4307\n"
     ]
    },
    {
     "name": "stderr",
     "output_type": "stream",
     "text": [
      " 83%|████████▎ | 66699/80000 [13:03:30<2:35:16,  1.43it/s]"
     ]
    },
    {
     "name": "stdout",
     "output_type": "stream",
     "text": [
      "Tue Jul  7 15:34:41 2020: Iteration: [66700/80000]\tRecon Loss: 438.8475\tPercept Loss: 39094.5194\tTV Loss: 10.7038\tAttn Loss: 6977.1665\tTotal: 85453.0312\n"
     ]
    },
    {
     "name": "stderr",
     "output_type": "stream",
     "text": [
      " 83%|████████▎ | 66799/80000 [13:04:41<2:34:47,  1.42it/s]"
     ]
    },
    {
     "name": "stdout",
     "output_type": "stream",
     "text": [
      "Tue Jul  7 15:35:51 2020: Iteration: [66800/80000]\tRecon Loss: 451.2701\tPercept Loss: 39773.4846\tTV Loss: 11.0594\tAttn Loss: 6851.5080\tTotal: 85505.8288\n"
     ]
    },
    {
     "name": "stderr",
     "output_type": "stream",
     "text": [
      " 84%|████████▎ | 66899/80000 [13:05:51<2:33:36,  1.42it/s]"
     ]
    },
    {
     "name": "stdout",
     "output_type": "stream",
     "text": [
      "Tue Jul  7 15:37:02 2020: Iteration: [66900/80000]\tRecon Loss: 442.9328\tPercept Loss: 38933.8298\tTV Loss: 11.0377\tAttn Loss: 6952.3594\tTotal: 85187.6908\n"
     ]
    },
    {
     "name": "stderr",
     "output_type": "stream",
     "text": [
      " 84%|████████▎ | 66999/80000 [13:07:01<2:32:05,  1.42it/s]"
     ]
    },
    {
     "name": "stdout",
     "output_type": "stream",
     "text": [
      "Tue Jul  7 15:38:12 2020: Iteration: [67000/80000]\tRecon Loss: 441.7708\tPercept Loss: 39591.8281\tTV Loss: 10.8440\tAttn Loss: 6861.1696\tTotal: 85284.9950\n"
     ]
    },
    {
     "name": "stderr",
     "output_type": "stream",
     "text": [
      " 84%|████████▍ | 67099/80000 [13:08:12<2:31:37,  1.42it/s]"
     ]
    },
    {
     "name": "stdout",
     "output_type": "stream",
     "text": [
      "Tue Jul  7 15:39:23 2020: Iteration: [67100/80000]\tRecon Loss: 457.2430\tPercept Loss: 39665.8109\tTV Loss: 11.0792\tAttn Loss: 6887.1862\tTotal: 85672.1498\n"
     ]
    },
    {
     "name": "stderr",
     "output_type": "stream",
     "text": [
      " 84%|████████▍ | 67199/80000 [13:09:22<2:31:00,  1.41it/s]"
     ]
    },
    {
     "name": "stdout",
     "output_type": "stream",
     "text": [
      "Tue Jul  7 15:40:33 2020: Iteration: [67200/80000]\tRecon Loss: 455.1091\tPercept Loss: 39794.9792\tTV Loss: 10.9706\tAttn Loss: 7523.8725\tTotal: 89599.0103\n"
     ]
    },
    {
     "name": "stderr",
     "output_type": "stream",
     "text": [
      " 84%|████████▍ | 67299/80000 [13:10:33<2:30:54,  1.40it/s]"
     ]
    },
    {
     "name": "stdout",
     "output_type": "stream",
     "text": [
      "Tue Jul  7 15:41:44 2020: Iteration: [67300/80000]\tRecon Loss: 448.4204\tPercept Loss: 39485.3206\tTV Loss: 11.0231\tAttn Loss: 7282.7467\tTotal: 87776.2362\n"
     ]
    },
    {
     "name": "stderr",
     "output_type": "stream",
     "text": [
      " 84%|████████▍ | 67399/80000 [13:11:44<2:27:59,  1.42it/s]"
     ]
    },
    {
     "name": "stdout",
     "output_type": "stream",
     "text": [
      "Tue Jul  7 15:42:54 2020: Iteration: [67400/80000]\tRecon Loss: 461.6323\tPercept Loss: 40393.4475\tTV Loss: 11.1183\tAttn Loss: 7534.3557\tTotal: 90327.0876\n"
     ]
    },
    {
     "name": "stderr",
     "output_type": "stream",
     "text": [
      " 84%|████████▍ | 67499/80000 [13:12:54<2:26:58,  1.42it/s]"
     ]
    },
    {
     "name": "stdout",
     "output_type": "stream",
     "text": [
      "Tue Jul  7 15:44:05 2020: Iteration: [67500/80000]\tRecon Loss: 443.6558\tPercept Loss: 39894.2333\tTV Loss: 11.0268\tAttn Loss: 6940.1675\tTotal: 86082.0647\n"
     ]
    },
    {
     "name": "stderr",
     "output_type": "stream",
     "text": [
      " 84%|████████▍ | 67599/80000 [13:14:04<2:25:48,  1.42it/s]"
     ]
    },
    {
     "name": "stdout",
     "output_type": "stream",
     "text": [
      "Tue Jul  7 15:45:15 2020: Iteration: [67600/80000]\tRecon Loss: 451.0372\tPercept Loss: 39958.7454\tTV Loss: 11.0469\tAttn Loss: 6887.7069\tTotal: 85905.8283\n"
     ]
    },
    {
     "name": "stderr",
     "output_type": "stream",
     "text": [
      " 85%|████████▍ | 67699/80000 [13:15:15<2:23:43,  1.43it/s]"
     ]
    },
    {
     "name": "stdout",
     "output_type": "stream",
     "text": [
      "Tue Jul  7 15:46:26 2020: Iteration: [67700/80000]\tRecon Loss: 456.8072\tPercept Loss: 39399.7961\tTV Loss: 10.9916\tAttn Loss: 6876.8280\tTotal: 85338.7533\n"
     ]
    },
    {
     "name": "stderr",
     "output_type": "stream",
     "text": [
      " 85%|████████▍ | 67799/80000 [13:16:26<2:22:44,  1.42it/s]"
     ]
    },
    {
     "name": "stdout",
     "output_type": "stream",
     "text": [
      "Tue Jul  7 15:47:36 2020: Iteration: [67800/80000]\tRecon Loss: 419.4710\tPercept Loss: 37752.8454\tTV Loss: 10.5365\tAttn Loss: 7450.4552\tTotal: 86755.6519\n"
     ]
    },
    {
     "name": "stderr",
     "output_type": "stream",
     "text": [
      " 85%|████████▍ | 67899/80000 [13:17:36<2:21:04,  1.43it/s]"
     ]
    },
    {
     "name": "stdout",
     "output_type": "stream",
     "text": [
      "Tue Jul  7 15:48:47 2020: Iteration: [67900/80000]\tRecon Loss: 452.0569\tPercept Loss: 41385.1071\tTV Loss: 11.0593\tAttn Loss: 6987.9331\tTotal: 87943.8686\n"
     ]
    },
    {
     "name": "stderr",
     "output_type": "stream",
     "text": [
      " 85%|████████▍ | 67999/80000 [13:18:47<2:21:33,  1.41it/s]"
     ]
    },
    {
     "name": "stdout",
     "output_type": "stream",
     "text": [
      "Tue Jul  7 15:49:57 2020: Iteration: [68000/80000]\tRecon Loss: 451.9120\tPercept Loss: 39012.9425\tTV Loss: 10.9946\tAttn Loss: 7068.6033\tTotal: 86053.6277\n"
     ]
    },
    {
     "name": "stderr",
     "output_type": "stream",
     "text": [
      " 85%|████████▌ | 68099/80000 [13:19:57<2:20:13,  1.41it/s]"
     ]
    },
    {
     "name": "stdout",
     "output_type": "stream",
     "text": [
      "Tue Jul  7 15:51:08 2020: Iteration: [68100/80000]\tRecon Loss: 454.7624\tPercept Loss: 40281.2763\tTV Loss: 11.1753\tAttn Loss: 7204.8354\tTotal: 88169.6659\n"
     ]
    },
    {
     "name": "stderr",
     "output_type": "stream",
     "text": [
      " 85%|████████▌ | 68199/80000 [13:21:07<2:17:49,  1.43it/s]"
     ]
    },
    {
     "name": "stdout",
     "output_type": "stream",
     "text": [
      "Tue Jul  7 15:52:18 2020: Iteration: [68200/80000]\tRecon Loss: 466.7255\tPercept Loss: 40723.2669\tTV Loss: 11.2037\tAttn Loss: 7004.2553\tTotal: 87528.0898\n"
     ]
    },
    {
     "name": "stderr",
     "output_type": "stream",
     "text": [
      " 85%|████████▌ | 68299/80000 [13:22:18<2:16:58,  1.42it/s]"
     ]
    },
    {
     "name": "stdout",
     "output_type": "stream",
     "text": [
      "Tue Jul  7 15:53:29 2020: Iteration: [68300/80000]\tRecon Loss: 474.0743\tPercept Loss: 40748.6623\tTV Loss: 11.3029\tAttn Loss: 6808.3878\tTotal: 86452.7613\n"
     ]
    },
    {
     "name": "stderr",
     "output_type": "stream",
     "text": [
      " 85%|████████▌ | 68399/80000 [13:23:29<2:17:05,  1.41it/s]"
     ]
    },
    {
     "name": "stdout",
     "output_type": "stream",
     "text": [
      "Tue Jul  7 15:54:39 2020: Iteration: [68400/80000]\tRecon Loss: 466.1795\tPercept Loss: 40073.3728\tTV Loss: 11.0736\tAttn Loss: 6870.9588\tTotal: 86071.6568\n"
     ]
    },
    {
     "name": "stderr",
     "output_type": "stream",
     "text": [
      " 86%|████████▌ | 68436/80000 [13:23:55<2:15:53,  1.42it/s]/home/dehezhang2/anaconda3/lib/python3.7/site-packages/PIL/Image.py:2766: DecompressionBombWarning: Image size (107327830 pixels) exceeds limit of 89478485 pixels, could be decompression bomb DOS attack.\n",
      "  DecompressionBombWarning,\n",
      " 86%|████████▌ | 68499/80000 [13:24:39<2:14:50,  1.42it/s]"
     ]
    },
    {
     "name": "stdout",
     "output_type": "stream",
     "text": [
      "Tue Jul  7 15:55:50 2020: Iteration: [68500/80000]\tRecon Loss: 446.6450\tPercept Loss: 40538.5292\tTV Loss: 11.1137\tAttn Loss: 7006.9784\tTotal: 87157.9863\n"
     ]
    },
    {
     "name": "stderr",
     "output_type": "stream",
     "text": [
      " 86%|████████▌ | 68599/80000 [13:25:50<2:14:38,  1.41it/s]"
     ]
    },
    {
     "name": "stdout",
     "output_type": "stream",
     "text": [
      "Tue Jul  7 15:57:00 2020: Iteration: [68600/80000]\tRecon Loss: 450.7547\tPercept Loss: 39975.3824\tTV Loss: 11.1574\tAttn Loss: 6824.3603\tTotal: 85540.6650\n"
     ]
    },
    {
     "name": "stderr",
     "output_type": "stream",
     "text": [
      " 86%|████████▌ | 68699/80000 [13:27:00<2:12:49,  1.42it/s]"
     ]
    },
    {
     "name": "stdout",
     "output_type": "stream",
     "text": [
      "Tue Jul  7 15:58:11 2020: Iteration: [68700/80000]\tRecon Loss: 459.6507\tPercept Loss: 40542.8424\tTV Loss: 11.1502\tAttn Loss: 7262.1178\tTotal: 88823.5588\n"
     ]
    },
    {
     "name": "stderr",
     "output_type": "stream",
     "text": [
      " 86%|████████▌ | 68799/80000 [13:28:11<2:11:35,  1.42it/s]"
     ]
    },
    {
     "name": "stdout",
     "output_type": "stream",
     "text": [
      "Tue Jul  7 15:59:21 2020: Iteration: [68800/80000]\tRecon Loss: 433.7829\tPercept Loss: 39334.8178\tTV Loss: 10.9708\tAttn Loss: 6852.4806\tTotal: 84897.2380\n"
     ]
    },
    {
     "name": "stderr",
     "output_type": "stream",
     "text": [
      " 86%|████████▌ | 68899/80000 [13:29:21<2:10:06,  1.42it/s]"
     ]
    },
    {
     "name": "stdout",
     "output_type": "stream",
     "text": [
      "Tue Jul  7 16:00:32 2020: Iteration: [68900/80000]\tRecon Loss: 464.0292\tPercept Loss: 40948.6328\tTV Loss: 11.3644\tAttn Loss: 6762.0769\tTotal: 86275.0305\n"
     ]
    },
    {
     "name": "stderr",
     "output_type": "stream",
     "text": [
      " 86%|████████▌ | 68999/80000 [13:30:32<2:08:46,  1.42it/s]"
     ]
    },
    {
     "name": "stdout",
     "output_type": "stream",
     "text": [
      "Tue Jul  7 16:01:43 2020: Iteration: [69000/80000]\tRecon Loss: 449.5588\tPercept Loss: 40544.4019\tTV Loss: 11.1581\tAttn Loss: 6787.6039\tTotal: 85877.1939\n"
     ]
    },
    {
     "name": "stderr",
     "output_type": "stream",
     "text": [
      " 86%|████████▋ | 69072/80000 [13:31:23<2:08:31,  1.42it/s]/home/dehezhang2/anaconda3/lib/python3.7/site-packages/PIL/Image.py:2766: DecompressionBombWarning: Image size (145486286 pixels) exceeds limit of 89478485 pixels, could be decompression bomb DOS attack.\n",
      "  DecompressionBombWarning,\n",
      " 86%|████████▋ | 69099/80000 [13:31:43<2:08:24,  1.41it/s]"
     ]
    },
    {
     "name": "stdout",
     "output_type": "stream",
     "text": [
      "Tue Jul  7 16:02:54 2020: Iteration: [69100/80000]\tRecon Loss: 459.8243\tPercept Loss: 40244.6951\tTV Loss: 11.1981\tAttn Loss: 6888.0837\tTotal: 86283.4210\n"
     ]
    },
    {
     "name": "stderr",
     "output_type": "stream",
     "text": [
      " 86%|████████▋ | 69199/80000 [13:32:53<2:06:41,  1.42it/s]"
     ]
    },
    {
     "name": "stdout",
     "output_type": "stream",
     "text": [
      "Tue Jul  7 16:04:04 2020: Iteration: [69200/80000]\tRecon Loss: 450.2146\tPercept Loss: 39577.6984\tTV Loss: 11.0087\tAttn Loss: 6783.0593\tTotal: 84888.2869\n"
     ]
    },
    {
     "name": "stderr",
     "output_type": "stream",
     "text": [
      " 87%|████████▋ | 69299/80000 [13:34:04<2:06:18,  1.41it/s]"
     ]
    },
    {
     "name": "stdout",
     "output_type": "stream",
     "text": [
      "Tue Jul  7 16:05:15 2020: Iteration: [69300/80000]\tRecon Loss: 448.0304\tPercept Loss: 40096.8499\tTV Loss: 11.0223\tAttn Loss: 6967.6859\tTotal: 86493.4916\n"
     ]
    },
    {
     "name": "stderr",
     "output_type": "stream",
     "text": [
      " 87%|████████▋ | 69399/80000 [13:35:14<2:04:12,  1.42it/s]"
     ]
    },
    {
     "name": "stdout",
     "output_type": "stream",
     "text": [
      "Tue Jul  7 16:06:25 2020: Iteration: [69400/80000]\tRecon Loss: 458.1958\tPercept Loss: 39784.2222\tTV Loss: 11.0365\tAttn Loss: 7734.8127\tTotal: 90885.4220\n"
     ]
    },
    {
     "name": "stderr",
     "output_type": "stream",
     "text": [
      " 87%|████████▋ | 69499/80000 [13:36:25<2:04:13,  1.41it/s]"
     ]
    },
    {
     "name": "stdout",
     "output_type": "stream",
     "text": [
      "Tue Jul  7 16:07:35 2020: Iteration: [69500/80000]\tRecon Loss: 441.4169\tPercept Loss: 38472.0083\tTV Loss: 10.8867\tAttn Loss: 6861.7071\tTotal: 84165.2874\n"
     ]
    },
    {
     "name": "stderr",
     "output_type": "stream",
     "text": [
      " 87%|████████▋ | 69599/80000 [13:37:35<2:00:56,  1.43it/s]"
     ]
    },
    {
     "name": "stdout",
     "output_type": "stream",
     "text": [
      "Tue Jul  7 16:08:46 2020: Iteration: [69600/80000]\tRecon Loss: 459.8125\tPercept Loss: 40213.6204\tTV Loss: 11.1699\tAttn Loss: 7052.9616\tTotal: 87241.2140\n"
     ]
    },
    {
     "name": "stderr",
     "output_type": "stream",
     "text": [
      " 87%|████████▋ | 69699/80000 [13:38:46<2:01:06,  1.42it/s]"
     ]
    },
    {
     "name": "stdout",
     "output_type": "stream",
     "text": [
      "Tue Jul  7 16:09:56 2020: Iteration: [69700/80000]\tRecon Loss: 427.1829\tPercept Loss: 38393.4447\tTV Loss: 10.6291\tAttn Loss: 7652.6827\tTotal: 88687.6620\n"
     ]
    },
    {
     "name": "stderr",
     "output_type": "stream",
     "text": [
      " 87%|████████▋ | 69799/80000 [13:39:56<1:59:20,  1.42it/s]"
     ]
    },
    {
     "name": "stdout",
     "output_type": "stream",
     "text": [
      "Tue Jul  7 16:11:07 2020: Iteration: [69800/80000]\tRecon Loss: 465.2588\tPercept Loss: 40921.8479\tTV Loss: 11.1248\tAttn Loss: 7329.5491\tTotal: 89662.9789\n"
     ]
    },
    {
     "name": "stderr",
     "output_type": "stream",
     "text": [
      " 87%|████████▋ | 69899/80000 [13:41:07<1:59:06,  1.41it/s]"
     ]
    },
    {
     "name": "stdout",
     "output_type": "stream",
     "text": [
      "Tue Jul  7 16:12:17 2020: Iteration: [69900/80000]\tRecon Loss: 484.4847\tPercept Loss: 42615.9109\tTV Loss: 11.6002\tAttn Loss: 6738.6418\tTotal: 88008.6099\n"
     ]
    },
    {
     "name": "stderr",
     "output_type": "stream",
     "text": [
      " 87%|████████▋ | 69999/80000 [13:42:17<1:58:02,  1.41it/s]"
     ]
    },
    {
     "name": "stdout",
     "output_type": "stream",
     "text": [
      "Tue Jul  7 16:13:28 2020: Iteration: [70000/80000]\tRecon Loss: 442.1693\tPercept Loss: 39127.5228\tTV Loss: 11.0086\tAttn Loss: 6589.2816\tTotal: 83194.9918\n"
     ]
    },
    {
     "name": "stderr",
     "output_type": "stream",
     "text": [
      " 88%|████████▊ | 70099/80000 [13:43:28<1:55:52,  1.42it/s]"
     ]
    },
    {
     "name": "stdout",
     "output_type": "stream",
     "text": [
      "Tue Jul  7 16:14:38 2020: Iteration: [70100/80000]\tRecon Loss: 450.2184\tPercept Loss: 39349.6428\tTV Loss: 10.9773\tAttn Loss: 6654.8067\tTotal: 83890.4402\n"
     ]
    },
    {
     "name": "stderr",
     "output_type": "stream",
     "text": [
      " 88%|████████▊ | 70199/80000 [13:44:38<1:55:23,  1.42it/s]"
     ]
    },
    {
     "name": "stdout",
     "output_type": "stream",
     "text": [
      "Tue Jul  7 16:15:49 2020: Iteration: [70200/80000]\tRecon Loss: 434.2303\tPercept Loss: 38833.7883\tTV Loss: 10.7936\tAttn Loss: 6951.6344\tTotal: 84993.8351\n"
     ]
    },
    {
     "name": "stderr",
     "output_type": "stream",
     "text": [
      " 88%|████████▊ | 70299/80000 [13:45:49<1:53:50,  1.42it/s]"
     ]
    },
    {
     "name": "stdout",
     "output_type": "stream",
     "text": [
      "Tue Jul  7 16:16:59 2020: Iteration: [70300/80000]\tRecon Loss: 437.9564\tPercept Loss: 39119.7275\tTV Loss: 10.9736\tAttn Loss: 6597.5484\tTotal: 83194.3180\n"
     ]
    },
    {
     "name": "stderr",
     "output_type": "stream",
     "text": [
      " 88%|████████▊ | 70399/80000 [13:46:59<1:53:05,  1.41it/s]"
     ]
    },
    {
     "name": "stdout",
     "output_type": "stream",
     "text": [
      "Tue Jul  7 16:18:10 2020: Iteration: [70400/80000]\tRecon Loss: 450.7974\tPercept Loss: 39040.7539\tTV Loss: 10.9446\tAttn Loss: 6688.3261\tTotal: 83788.1297\n"
     ]
    },
    {
     "name": "stderr",
     "output_type": "stream",
     "text": [
      " 88%|████████▊ | 70499/80000 [13:48:10<1:51:25,  1.42it/s]"
     ]
    },
    {
     "name": "stdout",
     "output_type": "stream",
     "text": [
      "Tue Jul  7 16:19:20 2020: Iteration: [70500/80000]\tRecon Loss: 463.3940\tPercept Loss: 40676.4188\tTV Loss: 11.1741\tAttn Loss: 7034.9485\tTotal: 87631.7906\n"
     ]
    },
    {
     "name": "stderr",
     "output_type": "stream",
     "text": [
      " 88%|████████▊ | 70599/80000 [13:49:20<1:50:32,  1.42it/s]"
     ]
    },
    {
     "name": "stdout",
     "output_type": "stream",
     "text": [
      "Tue Jul  7 16:20:31 2020: Iteration: [70600/80000]\tRecon Loss: 454.2377\tPercept Loss: 40070.6952\tTV Loss: 11.0249\tAttn Loss: 6560.5669\tTotal: 84086.7223\n"
     ]
    },
    {
     "name": "stderr",
     "output_type": "stream",
     "text": [
      " 88%|████████▊ | 70699/80000 [13:50:31<1:48:46,  1.43it/s]"
     ]
    },
    {
     "name": "stdout",
     "output_type": "stream",
     "text": [
      "Tue Jul  7 16:21:41 2020: Iteration: [70700/80000]\tRecon Loss: 453.7020\tPercept Loss: 39919.3901\tTV Loss: 11.1118\tAttn Loss: 6753.9821\tTotal: 85091.4208\n"
     ]
    },
    {
     "name": "stderr",
     "output_type": "stream",
     "text": [
      " 88%|████████▊ | 70799/80000 [13:51:41<1:47:57,  1.42it/s]"
     ]
    },
    {
     "name": "stdout",
     "output_type": "stream",
     "text": [
      "Tue Jul  7 16:22:52 2020: Iteration: [70800/80000]\tRecon Loss: 452.9252\tPercept Loss: 39992.2584\tTV Loss: 11.1234\tAttn Loss: 6685.5698\tTotal: 84746.1639\n"
     ]
    },
    {
     "name": "stderr",
     "output_type": "stream",
     "text": [
      " 89%|████████▊ | 70899/80000 [13:52:52<1:46:42,  1.42it/s]"
     ]
    },
    {
     "name": "stdout",
     "output_type": "stream",
     "text": [
      "Tue Jul  7 16:24:02 2020: Iteration: [70900/80000]\tRecon Loss: 455.2037\tPercept Loss: 39399.2568\tTV Loss: 11.0538\tAttn Loss: 6560.6209\tTotal: 83425.5571\n"
     ]
    },
    {
     "name": "stderr",
     "output_type": "stream",
     "text": [
      " 89%|████████▊ | 70999/80000 [13:54:02<1:45:52,  1.42it/s]"
     ]
    },
    {
     "name": "stdout",
     "output_type": "stream",
     "text": [
      "Tue Jul  7 16:25:13 2020: Iteration: [71000/80000]\tRecon Loss: 445.7865\tPercept Loss: 39368.3317\tTV Loss: 10.9650\tAttn Loss: 6807.2868\tTotal: 84779.5680\n"
     ]
    },
    {
     "name": "stderr",
     "output_type": "stream",
     "text": [
      " 89%|████████▉ | 71099/80000 [13:55:13<1:43:59,  1.43it/s]"
     ]
    },
    {
     "name": "stdout",
     "output_type": "stream",
     "text": [
      "Tue Jul  7 16:26:23 2020: Iteration: [71100/80000]\tRecon Loss: 458.0571\tPercept Loss: 39572.8374\tTV Loss: 11.0131\tAttn Loss: 6683.1815\tTotal: 84362.6284\n"
     ]
    },
    {
     "name": "stderr",
     "output_type": "stream",
     "text": [
      " 89%|████████▉ | 71199/80000 [13:56:23<1:42:42,  1.43it/s]"
     ]
    },
    {
     "name": "stdout",
     "output_type": "stream",
     "text": [
      "Tue Jul  7 16:27:34 2020: Iteration: [71200/80000]\tRecon Loss: 452.5903\tPercept Loss: 39966.4020\tTV Loss: 11.0385\tAttn Loss: 6486.6148\tTotal: 83522.3783\n"
     ]
    },
    {
     "name": "stderr",
     "output_type": "stream",
     "text": [
      " 89%|████████▉ | 71299/80000 [13:57:33<1:41:50,  1.42it/s]"
     ]
    },
    {
     "name": "stdout",
     "output_type": "stream",
     "text": [
      "Tue Jul  7 16:28:44 2020: Iteration: [71300/80000]\tRecon Loss: 453.1943\tPercept Loss: 40224.0965\tTV Loss: 11.0733\tAttn Loss: 7400.7890\tTotal: 89271.5070\n"
     ]
    },
    {
     "name": "stderr",
     "output_type": "stream",
     "text": [
      " 89%|████████▉ | 71399/80000 [13:58:44<1:40:30,  1.43it/s]"
     ]
    },
    {
     "name": "stdout",
     "output_type": "stream",
     "text": [
      "Tue Jul  7 16:29:54 2020: Iteration: [71400/80000]\tRecon Loss: 438.2215\tPercept Loss: 39020.9768\tTV Loss: 10.7910\tAttn Loss: 6994.9781\tTotal: 85480.9712\n"
     ]
    },
    {
     "name": "stderr",
     "output_type": "stream",
     "text": [
      " 89%|████████▉ | 71499/80000 [13:59:54<1:40:01,  1.42it/s]"
     ]
    },
    {
     "name": "stdout",
     "output_type": "stream",
     "text": [
      "Tue Jul  7 16:31:05 2020: Iteration: [71500/80000]\tRecon Loss: 434.5000\tPercept Loss: 38126.6344\tTV Loss: 10.6990\tAttn Loss: 6880.4820\tTotal: 83861.5155\n"
     ]
    },
    {
     "name": "stderr",
     "output_type": "stream",
     "text": [
      " 89%|████████▉ | 71599/80000 [14:01:05<1:37:45,  1.43it/s]"
     ]
    },
    {
     "name": "stdout",
     "output_type": "stream",
     "text": [
      "Tue Jul  7 16:32:15 2020: Iteration: [71600/80000]\tRecon Loss: 454.9089\tPercept Loss: 39817.5213\tTV Loss: 11.1856\tAttn Loss: 6706.3379\tTotal: 84716.4943\n"
     ]
    },
    {
     "name": "stderr",
     "output_type": "stream",
     "text": [
      " 90%|████████▉ | 71699/80000 [14:02:15<1:37:37,  1.42it/s]"
     ]
    },
    {
     "name": "stdout",
     "output_type": "stream",
     "text": [
      "Tue Jul  7 16:33:26 2020: Iteration: [71700/80000]\tRecon Loss: 453.9994\tPercept Loss: 40292.8882\tTV Loss: 11.1003\tAttn Loss: 7011.2296\tTotal: 87011.2631\n"
     ]
    },
    {
     "name": "stderr",
     "output_type": "stream",
     "text": [
      " 90%|████████▉ | 71799/80000 [14:03:26<1:36:25,  1.42it/s]"
     ]
    },
    {
     "name": "stdout",
     "output_type": "stream",
     "text": [
      "Tue Jul  7 16:34:36 2020: Iteration: [71800/80000]\tRecon Loss: 470.7168\tPercept Loss: 41478.6812\tTV Loss: 11.2464\tAttn Loss: 6648.7025\tTotal: 86190.5277\n"
     ]
    },
    {
     "name": "stderr",
     "output_type": "stream",
     "text": [
      " 90%|████████▉ | 71899/80000 [14:04:36<1:35:04,  1.42it/s]"
     ]
    },
    {
     "name": "stdout",
     "output_type": "stream",
     "text": [
      "Tue Jul  7 16:35:47 2020: Iteration: [71900/80000]\tRecon Loss: 451.4221\tPercept Loss: 39441.8054\tTV Loss: 10.9979\tAttn Loss: 6659.7408\tTotal: 84024.4510\n"
     ]
    },
    {
     "name": "stderr",
     "output_type": "stream",
     "text": [
      " 90%|████████▉ | 71999/80000 [14:05:46<1:34:43,  1.41it/s]"
     ]
    },
    {
     "name": "stdout",
     "output_type": "stream",
     "text": [
      "Tue Jul  7 16:36:57 2020: Iteration: [72000/80000]\tRecon Loss: 451.2074\tPercept Loss: 39545.1343\tTV Loss: 10.9295\tAttn Loss: 7631.7955\tTotal: 89957.2752\n"
     ]
    },
    {
     "name": "stderr",
     "output_type": "stream",
     "text": [
      " 90%|█████████ | 72099/80000 [14:06:57<1:32:24,  1.43it/s]"
     ]
    },
    {
     "name": "stdout",
     "output_type": "stream",
     "text": [
      "Tue Jul  7 16:38:08 2020: Iteration: [72100/80000]\tRecon Loss: 465.9651\tPercept Loss: 40591.8070\tTV Loss: 11.3037\tAttn Loss: 6694.3606\tTotal: 85530.6586\n"
     ]
    },
    {
     "name": "stderr",
     "output_type": "stream",
     "text": [
      " 90%|█████████ | 72199/80000 [14:08:07<1:31:13,  1.43it/s]"
     ]
    },
    {
     "name": "stdout",
     "output_type": "stream",
     "text": [
      "Tue Jul  7 16:39:18 2020: Iteration: [72200/80000]\tRecon Loss: 447.8909\tPercept Loss: 39390.8701\tTV Loss: 11.1008\tAttn Loss: 7078.7691\tTotal: 86453.4020\n"
     ]
    },
    {
     "name": "stderr",
     "output_type": "stream",
     "text": [
      " 90%|█████████ | 72299/80000 [14:09:18<1:29:52,  1.43it/s]"
     ]
    },
    {
     "name": "stdout",
     "output_type": "stream",
     "text": [
      "Tue Jul  7 16:40:29 2020: Iteration: [72300/80000]\tRecon Loss: 459.3203\tPercept Loss: 40239.6383\tTV Loss: 11.2002\tAttn Loss: 6491.7715\tTotal: 83895.4726\n"
     ]
    },
    {
     "name": "stderr",
     "output_type": "stream",
     "text": [
      " 90%|█████████ | 72399/80000 [14:10:28<1:29:19,  1.42it/s]"
     ]
    },
    {
     "name": "stdout",
     "output_type": "stream",
     "text": [
      "Tue Jul  7 16:41:39 2020: Iteration: [72400/80000]\tRecon Loss: 443.2598\tPercept Loss: 39865.4133\tTV Loss: 11.0309\tAttn Loss: 6422.4760\tTotal: 82943.1764\n"
     ]
    },
    {
     "name": "stderr",
     "output_type": "stream",
     "text": [
      " 91%|█████████ | 72417/80000 [14:10:41<1:29:02,  1.42it/s]/home/dehezhang2/anaconda3/lib/python3.7/site-packages/PIL/Image.py:2766: DecompressionBombWarning: Image size (94435468 pixels) exceeds limit of 89478485 pixels, could be decompression bomb DOS attack.\n",
      "  DecompressionBombWarning,\n",
      " 91%|█████████ | 72499/80000 [14:11:39<1:27:35,  1.43it/s]"
     ]
    },
    {
     "name": "stdout",
     "output_type": "stream",
     "text": [
      "Tue Jul  7 16:42:49 2020: Iteration: [72500/80000]\tRecon Loss: 423.5142\tPercept Loss: 38442.9395\tTV Loss: 10.8814\tAttn Loss: 6570.5663\tTotal: 82210.2931\n"
     ]
    },
    {
     "name": "stderr",
     "output_type": "stream",
     "text": [
      " 91%|█████████ | 72581/80000 [14:12:36<1:27:06,  1.42it/s]/home/dehezhang2/anaconda3/lib/python3.7/site-packages/PIL/Image.py:2766: DecompressionBombWarning: Image size (131790400 pixels) exceeds limit of 89478485 pixels, could be decompression bomb DOS attack.\n",
      "  DecompressionBombWarning,\n",
      " 91%|█████████ | 72599/80000 [14:12:49<1:26:37,  1.42it/s]"
     ]
    },
    {
     "name": "stdout",
     "output_type": "stream",
     "text": [
      "Tue Jul  7 16:44:00 2020: Iteration: [72600/80000]\tRecon Loss: 437.2829\tPercept Loss: 38591.4485\tTV Loss: 10.9130\tAttn Loss: 6688.0292\tTotal: 83201.5823\n"
     ]
    },
    {
     "name": "stderr",
     "output_type": "stream",
     "text": [
      " 91%|█████████ | 72699/80000 [14:13:59<1:25:22,  1.43it/s]"
     ]
    },
    {
     "name": "stdout",
     "output_type": "stream",
     "text": [
      "Tue Jul  7 16:45:10 2020: Iteration: [72700/80000]\tRecon Loss: 431.8933\tPercept Loss: 38169.5396\tTV Loss: 10.6507\tAttn Loss: 6523.7672\tTotal: 81737.5836\n"
     ]
    },
    {
     "name": "stderr",
     "output_type": "stream",
     "text": [
      " 91%|█████████ | 72799/80000 [14:15:10<1:24:35,  1.42it/s]"
     ]
    },
    {
     "name": "stdout",
     "output_type": "stream",
     "text": [
      "Tue Jul  7 16:46:21 2020: Iteration: [72800/80000]\tRecon Loss: 475.2359\tPercept Loss: 41542.9020\tTV Loss: 11.3868\tAttn Loss: 6657.6633\tTotal: 86355.1086\n"
     ]
    },
    {
     "name": "stderr",
     "output_type": "stream",
     "text": [
      " 91%|█████████ | 72899/80000 [14:16:20<1:23:24,  1.42it/s]"
     ]
    },
    {
     "name": "stdout",
     "output_type": "stream",
     "text": [
      "Tue Jul  7 16:47:31 2020: Iteration: [72900/80000]\tRecon Loss: 452.7293\tPercept Loss: 40248.4516\tTV Loss: 10.9710\tAttn Loss: 7285.6926\tTotal: 88599.6097\n"
     ]
    },
    {
     "name": "stderr",
     "output_type": "stream",
     "text": [
      " 91%|█████████ | 72999/80000 [14:17:31<1:21:48,  1.43it/s]"
     ]
    },
    {
     "name": "stdout",
     "output_type": "stream",
     "text": [
      "Tue Jul  7 16:48:41 2020: Iteration: [73000/80000]\tRecon Loss: 474.3076\tPercept Loss: 40986.2591\tTV Loss: 11.2251\tAttn Loss: 7095.8974\tTotal: 88416.9697\n"
     ]
    },
    {
     "name": "stderr",
     "output_type": "stream",
     "text": [
      " 91%|█████████▏| 73099/80000 [14:18:41<1:20:22,  1.43it/s]"
     ]
    },
    {
     "name": "stdout",
     "output_type": "stream",
     "text": [
      "Tue Jul  7 16:49:52 2020: Iteration: [73100/80000]\tRecon Loss: 438.0449\tPercept Loss: 38489.1166\tTV Loss: 10.7962\tAttn Loss: 6793.3633\tTotal: 83737.7078\n"
     ]
    },
    {
     "name": "stderr",
     "output_type": "stream",
     "text": [
      " 91%|█████████▏| 73199/80000 [14:19:51<1:19:44,  1.42it/s]"
     ]
    },
    {
     "name": "stdout",
     "output_type": "stream",
     "text": [
      "Tue Jul  7 16:51:02 2020: Iteration: [73200/80000]\tRecon Loss: 464.6783\tPercept Loss: 40519.3703\tTV Loss: 11.1984\tAttn Loss: 6461.2925\tTotal: 84045.8923\n"
     ]
    },
    {
     "name": "stderr",
     "output_type": "stream",
     "text": [
      " 92%|█████████▏| 73237/80000 [14:20:18<1:19:39,  1.42it/s]/home/dehezhang2/anaconda3/lib/python3.7/site-packages/PIL/Image.py:2766: DecompressionBombWarning: Image size (129086580 pixels) exceeds limit of 89478485 pixels, could be decompression bomb DOS attack.\n",
      "  DecompressionBombWarning,\n",
      " 92%|█████████▏| 73299/80000 [14:21:02<1:18:31,  1.42it/s]"
     ]
    },
    {
     "name": "stdout",
     "output_type": "stream",
     "text": [
      "Tue Jul  7 16:52:13 2020: Iteration: [73300/80000]\tRecon Loss: 436.0998\tPercept Loss: 38561.6016\tTV Loss: 10.9300\tAttn Loss: 6623.3528\tTotal: 82772.0168\n"
     ]
    },
    {
     "name": "stderr",
     "output_type": "stream",
     "text": [
      " 92%|█████████▏| 73332/80000 [14:21:25<1:17:58,  1.43it/s]/home/dehezhang2/anaconda3/lib/python3.7/site-packages/PIL/Image.py:2766: DecompressionBombWarning: Image size (107327830 pixels) exceeds limit of 89478485 pixels, could be decompression bomb DOS attack.\n",
      "  DecompressionBombWarning,\n",
      " 92%|█████████▏| 73399/80000 [14:22:12<1:17:37,  1.42it/s]"
     ]
    },
    {
     "name": "stdout",
     "output_type": "stream",
     "text": [
      "Tue Jul  7 16:53:23 2020: Iteration: [73400/80000]\tRecon Loss: 455.5644\tPercept Loss: 39852.0460\tTV Loss: 11.1973\tAttn Loss: 6639.0253\tTotal: 84353.8152\n"
     ]
    },
    {
     "name": "stderr",
     "output_type": "stream",
     "text": [
      " 92%|█████████▏| 73499/80000 [14:23:23<1:16:20,  1.42it/s]"
     ]
    },
    {
     "name": "stdout",
     "output_type": "stream",
     "text": [
      "Tue Jul  7 16:54:33 2020: Iteration: [73500/80000]\tRecon Loss: 451.5572\tPercept Loss: 39794.4114\tTV Loss: 10.9555\tAttn Loss: 6469.1335\tTotal: 83234.3395\n"
     ]
    },
    {
     "name": "stderr",
     "output_type": "stream",
     "text": [
      " 92%|█████████▏| 73599/80000 [14:24:33<1:15:05,  1.42it/s]"
     ]
    },
    {
     "name": "stdout",
     "output_type": "stream",
     "text": [
      "Tue Jul  7 16:55:44 2020: Iteration: [73600/80000]\tRecon Loss: 433.0431\tPercept Loss: 38025.1972\tTV Loss: 10.8744\tAttn Loss: 6879.8903\tTotal: 83743.7141\n"
     ]
    },
    {
     "name": "stderr",
     "output_type": "stream",
     "text": [
      " 92%|█████████▏| 73699/80000 [14:25:44<1:14:03,  1.42it/s]"
     ]
    },
    {
     "name": "stdout",
     "output_type": "stream",
     "text": [
      "Tue Jul  7 16:56:54 2020: Iteration: [73700/80000]\tRecon Loss: 459.1065\tPercept Loss: 38984.9965\tTV Loss: 10.9861\tAttn Loss: 6656.1010\tTotal: 83622.5277\n"
     ]
    },
    {
     "name": "stderr",
     "output_type": "stream",
     "text": [
      " 92%|█████████▏| 73799/80000 [14:26:54<1:12:39,  1.42it/s]"
     ]
    },
    {
     "name": "stdout",
     "output_type": "stream",
     "text": [
      "Tue Jul  7 16:58:05 2020: Iteration: [73800/80000]\tRecon Loss: 445.7721\tPercept Loss: 39257.3312\tTV Loss: 10.9050\tAttn Loss: 6383.8677\tTotal: 82127.3086\n"
     ]
    },
    {
     "name": "stderr",
     "output_type": "stream",
     "text": [
      " 92%|█████████▏| 73899/80000 [14:28:05<1:11:43,  1.42it/s]"
     ]
    },
    {
     "name": "stdout",
     "output_type": "stream",
     "text": [
      "Tue Jul  7 16:59:15 2020: Iteration: [73900/80000]\tRecon Loss: 436.8751\tPercept Loss: 37912.8329\tTV Loss: 10.7280\tAttn Loss: 6441.3205\tTotal: 81036.7866\n"
     ]
    },
    {
     "name": "stderr",
     "output_type": "stream",
     "text": [
      " 92%|█████████▏| 73999/80000 [14:29:15<1:10:22,  1.42it/s]"
     ]
    },
    {
     "name": "stdout",
     "output_type": "stream",
     "text": [
      "Tue Jul  7 17:00:26 2020: Iteration: [74000/80000]\tRecon Loss: 437.5857\tPercept Loss: 39425.2820\tTV Loss: 10.8578\tAttn Loss: 6558.5025\tTotal: 83260.7306\n"
     ]
    },
    {
     "name": "stderr",
     "output_type": "stream",
     "text": [
      " 93%|█████████▎| 74099/80000 [14:30:25<1:08:55,  1.43it/s]"
     ]
    },
    {
     "name": "stdout",
     "output_type": "stream",
     "text": [
      "Tue Jul  7 17:01:36 2020: Iteration: [74100/80000]\tRecon Loss: 468.0686\tPercept Loss: 40132.2168\tTV Loss: 11.1314\tAttn Loss: 6551.7465\tTotal: 84234.6962\n"
     ]
    },
    {
     "name": "stderr",
     "output_type": "stream",
     "text": [
      " 93%|█████████▎| 74199/80000 [14:31:36<1:07:55,  1.42it/s]"
     ]
    },
    {
     "name": "stdout",
     "output_type": "stream",
     "text": [
      "Tue Jul  7 17:02:47 2020: Iteration: [74200/80000]\tRecon Loss: 465.1070\tPercept Loss: 41178.0078\tTV Loss: 11.3444\tAttn Loss: 6638.0009\tTotal: 85770.5263\n"
     ]
    },
    {
     "name": "stderr",
     "output_type": "stream",
     "text": [
      " 93%|█████████▎| 74299/80000 [14:32:46<1:07:20,  1.41it/s]"
     ]
    },
    {
     "name": "stdout",
     "output_type": "stream",
     "text": [
      "Tue Jul  7 17:03:57 2020: Iteration: [74300/80000]\tRecon Loss: 435.4203\tPercept Loss: 39475.2760\tTV Loss: 10.8808\tAttn Loss: 6780.5152\tTotal: 84621.3773\n"
     ]
    },
    {
     "name": "stderr",
     "output_type": "stream",
     "text": [
      " 93%|█████████▎| 74399/80000 [14:33:57<1:05:35,  1.42it/s]"
     ]
    },
    {
     "name": "stdout",
     "output_type": "stream",
     "text": [
      "Tue Jul  7 17:05:07 2020: Iteration: [74400/80000]\tRecon Loss: 462.5915\tPercept Loss: 40889.1628\tTV Loss: 11.3091\tAttn Loss: 6369.9073\tTotal: 83847.6125\n"
     ]
    },
    {
     "name": "stderr",
     "output_type": "stream",
     "text": [
      " 93%|█████████▎| 74499/80000 [14:35:07<1:04:26,  1.42it/s]"
     ]
    },
    {
     "name": "stdout",
     "output_type": "stream",
     "text": [
      "Tue Jul  7 17:06:18 2020: Iteration: [74500/80000]\tRecon Loss: 469.9016\tPercept Loss: 41195.1306\tTV Loss: 11.3949\tAttn Loss: 6290.4539\tTotal: 83750.8191\n"
     ]
    },
    {
     "name": "stderr",
     "output_type": "stream",
     "text": [
      " 93%|█████████▎| 74599/80000 [14:36:18<1:03:26,  1.42it/s]"
     ]
    },
    {
     "name": "stdout",
     "output_type": "stream",
     "text": [
      "Tue Jul  7 17:07:28 2020: Iteration: [74600/80000]\tRecon Loss: 427.3570\tPercept Loss: 38275.6756\tTV Loss: 10.8189\tAttn Loss: 6809.1545\tTotal: 83512.3616\n"
     ]
    },
    {
     "name": "stderr",
     "output_type": "stream",
     "text": [
      " 93%|█████████▎| 74699/80000 [14:37:28<1:02:08,  1.42it/s]"
     ]
    },
    {
     "name": "stdout",
     "output_type": "stream",
     "text": [
      "Tue Jul  7 17:08:39 2020: Iteration: [74700/80000]\tRecon Loss: 425.8889\tPercept Loss: 38351.6485\tTV Loss: 10.6422\tAttn Loss: 7566.5963\tTotal: 88116.5375\n"
     ]
    },
    {
     "name": "stderr",
     "output_type": "stream",
     "text": [
      " 93%|█████████▎| 74799/80000 [14:38:39<1:00:49,  1.43it/s]"
     ]
    },
    {
     "name": "stdout",
     "output_type": "stream",
     "text": [
      "Tue Jul  7 17:09:49 2020: Iteration: [74800/80000]\tRecon Loss: 459.0921\tPercept Loss: 40021.6628\tTV Loss: 11.1769\tAttn Loss: 6524.6479\tTotal: 83872.2401\n"
     ]
    },
    {
     "name": "stderr",
     "output_type": "stream",
     "text": [
      " 94%|█████████▎| 74899/80000 [14:39:49<59:35,  1.43it/s]  "
     ]
    },
    {
     "name": "stdout",
     "output_type": "stream",
     "text": [
      "Tue Jul  7 17:11:00 2020: Iteration: [74900/80000]\tRecon Loss: 434.4977\tPercept Loss: 38550.0144\tTV Loss: 10.7692\tAttn Loss: 6615.1531\tTotal: 82693.6014\n"
     ]
    },
    {
     "name": "stderr",
     "output_type": "stream",
     "text": [
      " 94%|█████████▎| 74999/80000 [14:41:00<58:22,  1.43it/s]  "
     ]
    },
    {
     "name": "stdout",
     "output_type": "stream",
     "text": [
      "Tue Jul  7 17:12:10 2020: Iteration: [75000/80000]\tRecon Loss: 451.6118\tPercept Loss: 39804.2195\tTV Loss: 11.0833\tAttn Loss: 6252.5816\tTotal: 81946.6598\n"
     ]
    },
    {
     "name": "stderr",
     "output_type": "stream",
     "text": [
      " 94%|█████████▍| 75099/80000 [14:42:10<57:23,  1.42it/s]  "
     ]
    },
    {
     "name": "stdout",
     "output_type": "stream",
     "text": [
      "Tue Jul  7 17:13:21 2020: Iteration: [75100/80000]\tRecon Loss: 447.3850\tPercept Loss: 39383.0089\tTV Loss: 11.0090\tAttn Loss: 6172.7771\tTotal: 81003.6124\n"
     ]
    },
    {
     "name": "stderr",
     "output_type": "stream",
     "text": [
      " 94%|█████████▍| 75199/80000 [14:43:20<56:15,  1.42it/s]  "
     ]
    },
    {
     "name": "stdout",
     "output_type": "stream",
     "text": [
      "Tue Jul  7 17:14:31 2020: Iteration: [75200/80000]\tRecon Loss: 444.2208\tPercept Loss: 39142.6819\tTV Loss: 10.9805\tAttn Loss: 6458.5395\tTotal: 82445.9320\n"
     ]
    },
    {
     "name": "stderr",
     "output_type": "stream",
     "text": [
      " 94%|█████████▍| 75299/80000 [14:44:31<55:11,  1.42it/s]  "
     ]
    },
    {
     "name": "stdout",
     "output_type": "stream",
     "text": [
      "Tue Jul  7 17:15:42 2020: Iteration: [75300/80000]\tRecon Loss: 459.4950\tPercept Loss: 40994.6398\tTV Loss: 11.1881\tAttn Loss: 6688.4342\tTotal: 85832.0763\n"
     ]
    },
    {
     "name": "stderr",
     "output_type": "stream",
     "text": [
      " 94%|█████████▍| 75399/80000 [14:45:41<54:00,  1.42it/s]  "
     ]
    },
    {
     "name": "stdout",
     "output_type": "stream",
     "text": [
      "Tue Jul  7 17:16:52 2020: Iteration: [75400/80000]\tRecon Loss: 445.0441\tPercept Loss: 39811.5916\tTV Loss: 11.0039\tAttn Loss: 6345.5417\tTotal: 82445.3217\n"
     ]
    },
    {
     "name": "stderr",
     "output_type": "stream",
     "text": [
      " 94%|█████████▍| 75499/80000 [14:46:52<52:31,  1.43it/s]  "
     ]
    },
    {
     "name": "stdout",
     "output_type": "stream",
     "text": [
      "Tue Jul  7 17:18:02 2020: Iteration: [75500/80000]\tRecon Loss: 457.0718\tPercept Loss: 39512.3847\tTV Loss: 11.1381\tAttn Loss: 6370.7932\tTotal: 82419.2430\n"
     ]
    },
    {
     "name": "stderr",
     "output_type": "stream",
     "text": [
      " 94%|█████████▍| 75599/80000 [14:48:02<51:48,  1.42it/s]"
     ]
    },
    {
     "name": "stdout",
     "output_type": "stream",
     "text": [
      "Tue Jul  7 17:19:13 2020: Iteration: [75600/80000]\tRecon Loss: 426.0462\tPercept Loss: 38485.8911\tTV Loss: 10.7771\tAttn Loss: 6406.3828\tTotal: 81292.4215\n"
     ]
    },
    {
     "name": "stderr",
     "output_type": "stream",
     "text": [
      " 95%|█████████▍| 75699/80000 [14:49:13<50:34,  1.42it/s]"
     ]
    },
    {
     "name": "stdout",
     "output_type": "stream",
     "text": [
      "Tue Jul  7 17:20:23 2020: Iteration: [75700/80000]\tRecon Loss: 437.8691\tPercept Loss: 38597.4794\tTV Loss: 10.9282\tAttn Loss: 6356.8741\tTotal: 81226.6976\n"
     ]
    },
    {
     "name": "stderr",
     "output_type": "stream",
     "text": [
      " 95%|█████████▍| 75799/80000 [14:50:23<49:25,  1.42it/s]"
     ]
    },
    {
     "name": "stdout",
     "output_type": "stream",
     "text": [
      "Tue Jul  7 17:21:34 2020: Iteration: [75800/80000]\tRecon Loss: 446.4133\tPercept Loss: 39062.4239\tTV Loss: 10.9807\tAttn Loss: 6420.8693\tTotal: 82161.5794\n"
     ]
    },
    {
     "name": "stderr",
     "output_type": "stream",
     "text": [
      " 95%|█████████▍| 75899/80000 [14:51:34<47:56,  1.43it/s]"
     ]
    },
    {
     "name": "stdout",
     "output_type": "stream",
     "text": [
      "Tue Jul  7 17:22:44 2020: Iteration: [75900/80000]\tRecon Loss: 450.7775\tPercept Loss: 38689.0979\tTV Loss: 11.0869\tAttn Loss: 6232.4457\tTotal: 80702.4154\n"
     ]
    },
    {
     "name": "stderr",
     "output_type": "stream",
     "text": [
      " 95%|█████████▍| 75999/80000 [14:52:44<47:20,  1.41it/s]"
     ]
    },
    {
     "name": "stdout",
     "output_type": "stream",
     "text": [
      "Tue Jul  7 17:23:55 2020: Iteration: [76000/80000]\tRecon Loss: 458.6259\tPercept Loss: 39690.2141\tTV Loss: 11.0961\tAttn Loss: 6292.8589\tTotal: 82144.5877\n"
     ]
    },
    {
     "name": "stderr",
     "output_type": "stream",
     "text": [
      " 95%|█████████▌| 76099/80000 [14:53:55<45:55,  1.42it/s]"
     ]
    },
    {
     "name": "stdout",
     "output_type": "stream",
     "text": [
      "Tue Jul  7 17:25:05 2020: Iteration: [76100/80000]\tRecon Loss: 426.8356\tPercept Loss: 37964.0536\tTV Loss: 10.7438\tAttn Loss: 6335.7584\tTotal: 80354.3991\n"
     ]
    },
    {
     "name": "stderr",
     "output_type": "stream",
     "text": [
      " 95%|█████████▌| 76199/80000 [14:55:05<44:22,  1.43it/s]"
     ]
    },
    {
     "name": "stdout",
     "output_type": "stream",
     "text": [
      "Tue Jul  7 17:26:16 2020: Iteration: [76200/80000]\tRecon Loss: 442.1236\tPercept Loss: 38526.6947\tTV Loss: 10.8655\tAttn Loss: 6583.4611\tTotal: 82557.3524\n"
     ]
    },
    {
     "name": "stderr",
     "output_type": "stream",
     "text": [
      " 95%|█████████▌| 76299/80000 [14:56:16<43:26,  1.42it/s]"
     ]
    },
    {
     "name": "stdout",
     "output_type": "stream",
     "text": [
      "Tue Jul  7 17:27:26 2020: Iteration: [76300/80000]\tRecon Loss: 443.7447\tPercept Loss: 39118.8749\tTV Loss: 10.9493\tAttn Loss: 6407.3244\tTotal: 82109.7613\n"
     ]
    },
    {
     "name": "stderr",
     "output_type": "stream",
     "text": [
      " 95%|█████████▌| 76399/80000 [14:57:26<42:03,  1.43it/s]"
     ]
    },
    {
     "name": "stdout",
     "output_type": "stream",
     "text": [
      "Tue Jul  7 17:28:37 2020: Iteration: [76400/80000]\tRecon Loss: 461.9864\tPercept Loss: 40900.7400\tTV Loss: 11.3706\tAttn Loss: 6220.2862\tTotal: 82956.0271\n"
     ]
    },
    {
     "name": "stderr",
     "output_type": "stream",
     "text": [
      " 96%|█████████▌| 76499/80000 [14:58:36<40:55,  1.43it/s]"
     ]
    },
    {
     "name": "stdout",
     "output_type": "stream",
     "text": [
      "Tue Jul  7 17:29:47 2020: Iteration: [76500/80000]\tRecon Loss: 443.3504\tPercept Loss: 38938.8833\tTV Loss: 10.9277\tAttn Loss: 6971.2892\tTotal: 85309.3997\n"
     ]
    },
    {
     "name": "stderr",
     "output_type": "stream",
     "text": [
      " 96%|█████████▌| 76599/80000 [14:59:47<39:59,  1.42it/s]"
     ]
    },
    {
     "name": "stdout",
     "output_type": "stream",
     "text": [
      "Tue Jul  7 17:30:57 2020: Iteration: [76600/80000]\tRecon Loss: 448.6176\tPercept Loss: 39137.0528\tTV Loss: 11.0234\tAttn Loss: 6494.6172\tTotal: 82701.1652\n"
     ]
    },
    {
     "name": "stderr",
     "output_type": "stream",
     "text": [
      " 96%|█████████▌| 76699/80000 [15:00:57<38:43,  1.42it/s]"
     ]
    },
    {
     "name": "stdout",
     "output_type": "stream",
     "text": [
      "Tue Jul  7 17:32:08 2020: Iteration: [76700/80000]\tRecon Loss: 435.8848\tPercept Loss: 39348.4697\tTV Loss: 11.0301\tAttn Loss: 6449.7983\tTotal: 82516.4090\n"
     ]
    },
    {
     "name": "stderr",
     "output_type": "stream",
     "text": [
      " 96%|█████████▌| 76799/80000 [15:02:08<37:29,  1.42it/s]"
     ]
    },
    {
     "name": "stdout",
     "output_type": "stream",
     "text": [
      "Tue Jul  7 17:33:18 2020: Iteration: [76800/80000]\tRecon Loss: 438.8067\tPercept Loss: 38868.0388\tTV Loss: 10.8116\tAttn Loss: 6680.5260\tTotal: 83447.3782\n"
     ]
    },
    {
     "name": "stderr",
     "output_type": "stream",
     "text": [
      " 96%|█████████▌| 76899/80000 [15:03:18<36:12,  1.43it/s]"
     ]
    },
    {
     "name": "stdout",
     "output_type": "stream",
     "text": [
      "Tue Jul  7 17:34:29 2020: Iteration: [76900/80000]\tRecon Loss: 449.2021\tPercept Loss: 39966.2492\tTV Loss: 11.0460\tAttn Loss: 6272.5350\tTotal: 82203.9394\n"
     ]
    },
    {
     "name": "stderr",
     "output_type": "stream",
     "text": [
      " 96%|█████████▌| 76999/80000 [15:04:29<35:16,  1.42it/s]"
     ]
    },
    {
     "name": "stdout",
     "output_type": "stream",
     "text": [
      "Tue Jul  7 17:35:39 2020: Iteration: [77000/80000]\tRecon Loss: 471.7337\tPercept Loss: 40758.7553\tTV Loss: 11.1070\tAttn Loss: 6527.8036\tTotal: 84753.9836\n"
     ]
    },
    {
     "name": "stderr",
     "output_type": "stream",
     "text": [
      " 96%|█████████▋| 77099/80000 [15:05:39<34:06,  1.42it/s]"
     ]
    },
    {
     "name": "stdout",
     "output_type": "stream",
     "text": [
      "Tue Jul  7 17:36:50 2020: Iteration: [77100/80000]\tRecon Loss: 450.2725\tPercept Loss: 39510.2684\tTV Loss: 11.0642\tAttn Loss: 6388.6656\tTotal: 82455.6287\n"
     ]
    },
    {
     "name": "stderr",
     "output_type": "stream",
     "text": [
      " 96%|█████████▋| 77199/80000 [15:06:50<32:48,  1.42it/s]"
     ]
    },
    {
     "name": "stdout",
     "output_type": "stream",
     "text": [
      "Tue Jul  7 17:38:00 2020: Iteration: [77200/80000]\tRecon Loss: 447.9723\tPercept Loss: 39343.2332\tTV Loss: 10.8763\tAttn Loss: 6266.3346\tTotal: 81529.7264\n"
     ]
    },
    {
     "name": "stderr",
     "output_type": "stream",
     "text": [
      " 97%|█████████▋| 77299/80000 [15:08:00<31:51,  1.41it/s]"
     ]
    },
    {
     "name": "stdout",
     "output_type": "stream",
     "text": [
      "Tue Jul  7 17:39:11 2020: Iteration: [77300/80000]\tRecon Loss: 467.8641\tPercept Loss: 41053.9987\tTV Loss: 11.3492\tAttn Loss: 6274.1267\tTotal: 83490.8922\n"
     ]
    },
    {
     "name": "stderr",
     "output_type": "stream",
     "text": [
      " 97%|█████████▋| 77399/80000 [15:09:11<30:23,  1.43it/s]"
     ]
    },
    {
     "name": "stdout",
     "output_type": "stream",
     "text": [
      "Tue Jul  7 17:40:21 2020: Iteration: [77400/80000]\tRecon Loss: 430.8805\tPercept Loss: 37705.0816\tTV Loss: 10.6929\tAttn Loss: 7039.0048\tTotal: 84354.8452\n"
     ]
    },
    {
     "name": "stderr",
     "output_type": "stream",
     "text": [
      " 97%|█████████▋| 77499/80000 [15:10:21<29:31,  1.41it/s]"
     ]
    },
    {
     "name": "stdout",
     "output_type": "stream",
     "text": [
      "Tue Jul  7 17:41:32 2020: Iteration: [77500/80000]\tRecon Loss: 474.2385\tPercept Loss: 41973.6755\tTV Loss: 11.4309\tAttn Loss: 6620.6544\tTotal: 86554.2955\n"
     ]
    },
    {
     "name": "stderr",
     "output_type": "stream",
     "text": [
      " 97%|█████████▋| 77599/80000 [15:11:32<28:02,  1.43it/s]"
     ]
    },
    {
     "name": "stdout",
     "output_type": "stream",
     "text": [
      "Tue Jul  7 17:42:42 2020: Iteration: [77600/80000]\tRecon Loss: 448.6377\tPercept Loss: 39243.1994\tTV Loss: 10.9733\tAttn Loss: 6242.0497\tTotal: 81291.6064\n"
     ]
    },
    {
     "name": "stderr",
     "output_type": "stream",
     "text": [
      " 97%|█████████▋| 77699/80000 [15:12:42<26:54,  1.43it/s]"
     ]
    },
    {
     "name": "stdout",
     "output_type": "stream",
     "text": [
      "Tue Jul  7 17:43:53 2020: Iteration: [77700/80000]\tRecon Loss: 452.4596\tPercept Loss: 40166.1898\tTV Loss: 11.1369\tAttn Loss: 6590.1201\tTotal: 84342.8752\n"
     ]
    },
    {
     "name": "stderr",
     "output_type": "stream",
     "text": [
      " 97%|█████████▋| 77799/80000 [15:13:53<25:53,  1.42it/s]"
     ]
    },
    {
     "name": "stdout",
     "output_type": "stream",
     "text": [
      "Tue Jul  7 17:45:03 2020: Iteration: [77800/80000]\tRecon Loss: 441.0828\tPercept Loss: 39867.3622\tTV Loss: 11.1770\tAttn Loss: 6228.4693\tTotal: 81760.7759\n"
     ]
    },
    {
     "name": "stderr",
     "output_type": "stream",
     "text": [
      " 97%|█████████▋| 77899/80000 [15:15:03<24:29,  1.43it/s]"
     ]
    },
    {
     "name": "stdout",
     "output_type": "stream",
     "text": [
      "Tue Jul  7 17:46:14 2020: Iteration: [77900/80000]\tRecon Loss: 451.5888\tPercept Loss: 39905.3139\tTV Loss: 11.0750\tAttn Loss: 6154.2892\tTotal: 81457.6873\n"
     ]
    },
    {
     "name": "stderr",
     "output_type": "stream",
     "text": [
      " 97%|█████████▋| 77999/80000 [15:16:13<23:27,  1.42it/s]"
     ]
    },
    {
     "name": "stdout",
     "output_type": "stream",
     "text": [
      "Tue Jul  7 17:47:24 2020: Iteration: [78000/80000]\tRecon Loss: 444.2390\tPercept Loss: 39064.9861\tTV Loss: 11.1305\tAttn Loss: 6195.0443\tTotal: 80788.9475\n"
     ]
    },
    {
     "name": "stderr",
     "output_type": "stream",
     "text": [
      " 98%|█████████▊| 78099/80000 [15:17:24<22:19,  1.42it/s]"
     ]
    },
    {
     "name": "stdout",
     "output_type": "stream",
     "text": [
      "Tue Jul  7 17:48:35 2020: Iteration: [78100/80000]\tRecon Loss: 448.0743\tPercept Loss: 39782.5234\tTV Loss: 11.0434\tAttn Loss: 6095.0507\tTotal: 80944.0046\n"
     ]
    },
    {
     "name": "stderr",
     "output_type": "stream",
     "text": [
      " 98%|█████████▊| 78199/80000 [15:18:34<21:12,  1.42it/s]"
     ]
    },
    {
     "name": "stdout",
     "output_type": "stream",
     "text": [
      "Tue Jul  7 17:49:45 2020: Iteration: [78200/80000]\tRecon Loss: 455.5337\tPercept Loss: 39843.2026\tTV Loss: 11.1707\tAttn Loss: 6136.3508\tTotal: 81328.3505\n"
     ]
    },
    {
     "name": "stderr",
     "output_type": "stream",
     "text": [
      " 98%|█████████▊| 78299/80000 [15:19:45<19:57,  1.42it/s]"
     ]
    },
    {
     "name": "stdout",
     "output_type": "stream",
     "text": [
      "Tue Jul  7 17:50:55 2020: Iteration: [78300/80000]\tRecon Loss: 418.5886\tPercept Loss: 37901.6196\tTV Loss: 10.7023\tAttn Loss: 6854.3840\tTotal: 83320.8316\n"
     ]
    },
    {
     "name": "stderr",
     "output_type": "stream",
     "text": [
      " 98%|█████████▊| 78399/80000 [15:20:55<18:43,  1.43it/s]"
     ]
    },
    {
     "name": "stdout",
     "output_type": "stream",
     "text": [
      "Tue Jul  7 17:52:06 2020: Iteration: [78400/80000]\tRecon Loss: 448.5112\tPercept Loss: 39985.3199\tTV Loss: 11.1202\tAttn Loss: 6423.3503\tTotal: 83121.7370\n"
     ]
    },
    {
     "name": "stderr",
     "output_type": "stream",
     "text": [
      " 98%|█████████▊| 78499/80000 [15:22:06<17:32,  1.43it/s]"
     ]
    },
    {
     "name": "stdout",
     "output_type": "stream",
     "text": [
      "Tue Jul  7 17:53:16 2020: Iteration: [78500/80000]\tRecon Loss: 448.8758\tPercept Loss: 39401.8936\tTV Loss: 10.9897\tAttn Loss: 6179.0926\tTotal: 81075.1041\n"
     ]
    },
    {
     "name": "stderr",
     "output_type": "stream",
     "text": [
      " 98%|█████████▊| 78599/80000 [15:23:16<16:27,  1.42it/s]"
     ]
    },
    {
     "name": "stdout",
     "output_type": "stream",
     "text": [
      "Tue Jul  7 17:54:27 2020: Iteration: [78600/80000]\tRecon Loss: 443.1259\tPercept Loss: 40222.7844\tTV Loss: 11.2137\tAttn Loss: 6366.4312\tTotal: 82964.7674\n"
     ]
    },
    {
     "name": "stderr",
     "output_type": "stream",
     "text": [
      " 98%|█████████▊| 78699/80000 [15:24:27<15:18,  1.42it/s]"
     ]
    },
    {
     "name": "stdout",
     "output_type": "stream",
     "text": [
      "Tue Jul  7 17:55:37 2020: Iteration: [78700/80000]\tRecon Loss: 463.2465\tPercept Loss: 40140.6376\tTV Loss: 11.2173\tAttn Loss: 6136.0379\tTotal: 81701.5025\n"
     ]
    },
    {
     "name": "stderr",
     "output_type": "stream",
     "text": [
      " 98%|█████████▊| 78799/80000 [15:25:37<14:02,  1.43it/s]"
     ]
    },
    {
     "name": "stdout",
     "output_type": "stream",
     "text": [
      "Tue Jul  7 17:56:48 2020: Iteration: [78800/80000]\tRecon Loss: 461.6125\tPercept Loss: 41123.1991\tTV Loss: 11.3993\tAttn Loss: 5997.5021\tTotal: 81838.3293\n"
     ]
    },
    {
     "name": "stderr",
     "output_type": "stream",
     "text": [
      " 99%|█████████▊| 78899/80000 [15:26:47<12:55,  1.42it/s]"
     ]
    },
    {
     "name": "stdout",
     "output_type": "stream",
     "text": [
      "Tue Jul  7 17:57:58 2020: Iteration: [78900/80000]\tRecon Loss: 454.9184\tPercept Loss: 39786.6494\tTV Loss: 11.2369\tAttn Loss: 6252.3492\tTotal: 81962.2971\n"
     ]
    },
    {
     "name": "stderr",
     "output_type": "stream",
     "text": [
      " 99%|█████████▊| 78999/80000 [15:27:58<11:46,  1.42it/s]"
     ]
    },
    {
     "name": "stdout",
     "output_type": "stream",
     "text": [
      "Tue Jul  7 17:59:09 2020: Iteration: [79000/80000]\tRecon Loss: 450.3511\tPercept Loss: 39742.5508\tTV Loss: 11.1564\tAttn Loss: 5867.0998\tTotal: 79560.2233\n"
     ]
    },
    {
     "name": "stderr",
     "output_type": "stream",
     "text": [
      " 99%|█████████▉| 79099/80000 [15:29:08<10:32,  1.42it/s]"
     ]
    },
    {
     "name": "stdout",
     "output_type": "stream",
     "text": [
      "Tue Jul  7 18:00:19 2020: Iteration: [79100/80000]\tRecon Loss: 442.4476\tPercept Loss: 38905.6585\tTV Loss: 11.0023\tAttn Loss: 6020.8545\tTotal: 79565.2835\n"
     ]
    },
    {
     "name": "stderr",
     "output_type": "stream",
     "text": [
      " 99%|█████████▉| 79199/80000 [15:30:19<09:23,  1.42it/s]"
     ]
    },
    {
     "name": "stdout",
     "output_type": "stream",
     "text": [
      "Tue Jul  7 18:01:30 2020: Iteration: [79200/80000]\tRecon Loss: 444.5752\tPercept Loss: 39141.8571\tTV Loss: 10.8570\tAttn Loss: 6163.0613\tTotal: 80674.5471\n"
     ]
    },
    {
     "name": "stderr",
     "output_type": "stream",
     "text": [
      " 99%|█████████▉| 79299/80000 [15:31:29<08:12,  1.42it/s]"
     ]
    },
    {
     "name": "stdout",
     "output_type": "stream",
     "text": [
      "Tue Jul  7 18:02:40 2020: Iteration: [79300/80000]\tRecon Loss: 460.3745\tPercept Loss: 39858.3563\tTV Loss: 11.1461\tAttn Loss: 6633.1835\tTotal: 84372.6630\n"
     ]
    },
    {
     "name": "stderr",
     "output_type": "stream",
     "text": [
      " 99%|█████████▉| 79339/80000 [15:31:58<07:46,  1.42it/s]/home/dehezhang2/anaconda3/lib/python3.7/site-packages/PIL/Image.py:2766: DecompressionBombWarning: Image size (129086580 pixels) exceeds limit of 89478485 pixels, could be decompression bomb DOS attack.\n",
      "  DecompressionBombWarning,\n",
      " 99%|█████████▉| 79399/80000 [15:32:40<07:02,  1.42it/s]"
     ]
    },
    {
     "name": "stdout",
     "output_type": "stream",
     "text": [
      "Tue Jul  7 18:03:50 2020: Iteration: [79400/80000]\tRecon Loss: 446.3666\tPercept Loss: 39297.6450\tTV Loss: 11.0642\tAttn Loss: 6321.3123\tTotal: 81799.8271\n"
     ]
    },
    {
     "name": "stderr",
     "output_type": "stream",
     "text": [
      " 99%|█████████▉| 79499/80000 [15:33:50<05:50,  1.43it/s]"
     ]
    },
    {
     "name": "stdout",
     "output_type": "stream",
     "text": [
      "Tue Jul  7 18:05:01 2020: Iteration: [79500/80000]\tRecon Loss: 461.8782\tPercept Loss: 40046.3585\tTV Loss: 11.2532\tAttn Loss: 6445.1510\tTotal: 83448.5792\n"
     ]
    },
    {
     "name": "stderr",
     "output_type": "stream",
     "text": [
      " 99%|█████████▉| 79599/80000 [15:35:01<04:42,  1.42it/s]"
     ]
    },
    {
     "name": "stdout",
     "output_type": "stream",
     "text": [
      "Tue Jul  7 18:06:11 2020: Iteration: [79600/80000]\tRecon Loss: 439.2787\tPercept Loss: 39142.1629\tTV Loss: 10.9608\tAttn Loss: 6050.7858\tTotal: 79949.2719\n"
     ]
    },
    {
     "name": "stderr",
     "output_type": "stream",
     "text": [
      "100%|█████████▉| 79699/80000 [15:36:11<03:31,  1.42it/s]"
     ]
    },
    {
     "name": "stdout",
     "output_type": "stream",
     "text": [
      "Tue Jul  7 18:07:22 2020: Iteration: [79700/80000]\tRecon Loss: 436.7193\tPercept Loss: 39340.2560\tTV Loss: 11.0992\tAttn Loss: 5966.9913\tTotal: 79620.3894\n"
     ]
    },
    {
     "name": "stderr",
     "output_type": "stream",
     "text": [
      "100%|█████████▉| 79799/80000 [15:37:22<02:21,  1.42it/s]"
     ]
    },
    {
     "name": "stdout",
     "output_type": "stream",
     "text": [
      "Tue Jul  7 18:08:33 2020: Iteration: [79800/80000]\tRecon Loss: 459.7854\tPercept Loss: 40841.5326\tTV Loss: 11.3615\tAttn Loss: 7612.6584\tTotal: 91228.9520\n"
     ]
    },
    {
     "name": "stderr",
     "output_type": "stream",
     "text": [
      "100%|█████████▉| 79899/80000 [15:38:33<01:11,  1.42it/s]"
     ]
    },
    {
     "name": "stdout",
     "output_type": "stream",
     "text": [
      "Tue Jul  7 18:09:43 2020: Iteration: [79900/80000]\tRecon Loss: 459.6613\tPercept Loss: 39949.7816\tTV Loss: 11.0546\tAttn Loss: 6083.1856\tTotal: 81156.0541\n"
     ]
    },
    {
     "name": "stderr",
     "output_type": "stream",
     "text": [
      "100%|█████████▉| 79991/80000 [15:39:37<00:06,  1.41it/s]/home/dehezhang2/anaconda3/lib/python3.7/site-packages/PIL/Image.py:2766: DecompressionBombWarning: Image size (145486286 pixels) exceeds limit of 89478485 pixels, could be decompression bomb DOS attack.\n",
      "  DecompressionBombWarning,\n",
      "100%|█████████▉| 79999/80000 [15:39:43<00:00,  1.38it/s]"
     ]
    },
    {
     "name": "stdout",
     "output_type": "stream",
     "text": [
      "Tue Jul  7 18:10:54 2020: Iteration: [80000/80000]\tRecon Loss: 431.0973\tPercept Loss: 38248.3288\tTV Loss: 10.6576\tAttn Loss: 6390.9012\tTotal: 81011.2859\n"
     ]
    },
    {
     "name": "stderr",
     "output_type": "stream",
     "text": [
      "100%|██████████| 80000/80000 [15:39:44<00:00,  1.42it/s]\n"
     ]
    }
   ],
   "source": [
    "reload_period = len(train_loader.dataset) / args.batch_size\n",
    "reload_period = math.floor(reload_period)\n",
    "for i in tqdm(range(args.start_iter, args.max_iter)):\n",
    "    adjust_learning_rate(optimizer, iteration_count=i)\n",
    "    \n",
    "    if (i - args.start_iter)%reload_period == 0:\n",
    "        train_loader = torch.utils.data.DataLoader(\n",
    "            train_set, batch_size=args.batch_size,\n",
    "            shuffle=True, num_workers=args.n_threads)\n",
    "        train_iter = iter(train_loader)\n",
    "        \n",
    "    if args.seperate == False:\n",
    "        content_images = next(train_iter).to(device)\n",
    "        losses, _, _ = model(content_images)\n",
    "        \n",
    "    total_loss = losses['total']\n",
    "    \n",
    "    for name, vals in loss_seq.items():\n",
    "        loss_seq[name].append(losses[name].item())\n",
    "        \n",
    "    optimizer.zero_grad()\n",
    "    total_loss.backward()\n",
    "    optimizer.step()\n",
    "    \n",
    "    if (i + 1) % args.save_model_interval == 0 or (i + 1) == args.max_iter:\n",
    "        print(\"%s: Iteration: [%d/%d]\\tRecon Loss: %2.4f\\tPercept Loss: %2.4f\\tTV Loss: %2.4f\\tAttn Loss: %2.4f\\tTotal: %2.4f\"%(time.ctime(),i+1, \n",
    "                args.max_iter, lastest_arverage_value(loss_seq['construct']), lastest_arverage_value(loss_seq['percept']), \n",
    "                lastest_arverage_value(loss_seq['tv']), lastest_arverage_value(loss_seq['attn']), lastest_arverage_value(loss_seq['total'])))\n",
    "        if args.seperate == False:\n",
    "            state_dict = model.decode.state_dict()\n",
    "            for key in state_dict.keys():\n",
    "                state_dict[key] = state_dict[key].to(torch.device('cpu'))\n",
    "            torch.save(state_dict,\n",
    "                       '{:s}/decoder_iter_{:d}.pth'.format(args.save_dir,\n",
    "                                                               i + 1))\n",
    "            state_dict = model.self_attn.state_dict()\n",
    "            for key in state_dict.keys():\n",
    "                state_dict[key] = state_dict[key].to(torch.device('cpu'))\n",
    "            torch.save(state_dict,\n",
    "                       '{:s}/attention_kernel_iter_{:d}.pth'.format(args.save_dir,\n",
    "                                                               i + 1))\n",
    "            state_dict = optimizer.state_dict()\n",
    "            torch.save(state_dict,\n",
    "                       '{:s}/optimizer_iter_{:d}.pth'.format(args.save_dir,\n",
    "                                                               i + 1))\n",
    "        else:\n",
    "            pass\n",
    "    \n",
    "    "
   ]
  },
  {
   "cell_type": "code",
   "execution_count": 9,
   "metadata": {},
   "outputs": [
    {
     "name": "stdout",
     "output_type": "stream",
     "text": [
      "torch.Size([8, 3, 256, 256])\n",
      "torch.Size([8, 512, 32, 32])\n"
     ]
    }
   ],
   "source": [
    "train_iter = iter(train_loader)\n",
    "content_images = next(train_iter).to(device)\n",
    "losses, recon_images, attn_map = model(content_images)\n",
    "print(recon_images.size())\n",
    "print(attn_map.size())"
   ]
  },
  {
   "cell_type": "code",
   "execution_count": 10,
   "metadata": {},
   "outputs": [
    {
     "name": "stderr",
     "output_type": "stream",
     "text": [
      "Clipping input data to the valid range for imshow with RGB data ([0..1] for floats or [0..255] for integers).\n"
     ]
    },
    {
     "data": {
      "image/png": "[encoded data removed]",
      "text/plain": [
       "<Figure size 432x288 with 1 Axes>"
      ]
     },
     "metadata": {
      "needs_background": "light"
     },
     "output_type": "display_data"
    }
   ],
   "source": [
    "imshow(torchvision.utils.make_grid(content_images.cpu()[2]))"
   ]
  },
  {
   "cell_type": "code",
   "execution_count": 11,
   "metadata": {},
   "outputs": [
    {
     "name": "stderr",
     "output_type": "stream",
     "text": [
      "Clipping input data to the valid range for imshow with RGB data ([0..1] for floats or [0..255] for integers).\n"
     ]
    },
    {
     "data": {
      "image/png": "[encoded data removed]",
      "text/plain": [
       "<Figure size 432x288 with 1 Axes>"
      ]
     },
     "metadata": {
      "needs_background": "light"
     },
     "output_type": "display_data"
    }
   ],
   "source": [
    "def imshow_recon(img):\n",
    "    npimg = img.detach().numpy()\n",
    "    plt.imshow(np.transpose(npimg, (1, 2, 0)))\n",
    "imshow_recon(torchvision.utils.make_grid(recon_images.cpu()[2]))"
   ]
  },
  {
   "cell_type": "code",
   "execution_count": 12,
   "metadata": {},
   "outputs": [
    {
     "name": "stdout",
     "output_type": "stream",
     "text": [
      "torch.Size([8, 32, 32])\n"
     ]
    },
    {
     "data": {
      "text/plain": [
       "(-0.5, 31.5, 31.5, -0.5)"
      ]
     },
     "execution_count": 12,
     "metadata": {},
     "output_type": "execute_result"
    },
    {
     "data": {
      "image/png": "[encoded data removed]",
      "text/plain": [
       "<Figure size 432x288 with 2 Axes>"
      ]
     },
     "metadata": {
      "needs_background": "light"
     },
     "output_type": "display_data"
    }
   ],
   "source": [
    "channel_num = attn_map.size()[1]\n",
    "mean_sal = torch.mean(attn_map, 1, False)\n",
    "mean_sal_np = mean_sal.cpu().detach().numpy()\n",
    "mean_sal_np = mean_sal_np - np.min(mean_sal_np)\n",
    "mean_sal_np = mean_sal_np * 1.0 / np.max(mean_sal_np)\n",
    "print(mean_sal.size())\n",
    "plt.imshow(mean_sal_np[2], cmap=cm.get_cmap('rainbow', 1000))\n",
    "plt.colorbar()\n",
    "plt.axis('off')"
   ]
  }
 ],
 "metadata": {
  "kernelspec": {
   "display_name": "Python 3",
   "language": "python",
   "name": "python3"
  },
  "language_info": {
   "codemirror_mode": {
    "name": "ipython",
    "version": 3
   },
   "file_extension": ".py",
   "mimetype": "text/x-python",
   "name": "python",
   "nbconvert_exporter": "python",
   "pygments_lexer": "ipython3",
   "version": "3.7.6"
  }
 },
 "nbformat": 4,
 "nbformat_minor": 4
}
