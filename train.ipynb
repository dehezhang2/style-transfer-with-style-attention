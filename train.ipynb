{
 "cells": [
  {
   "cell_type": "code",
   "execution_count": 1,
   "metadata": {},
   "outputs": [],
   "source": [
    "from __future__ import print_function\n",
    "\n",
    "import torch\n",
    "import torch.nn as nn\n",
    "import torch.nn.functional as F\n",
    "import torch.optim as optim\n",
    "\n",
    "from PIL import Image\n",
    "import matplotlib.pyplot as plt\n",
    "from matplotlib import cm\n",
    "\n",
    "import torchvision\n",
    "import torchvision.transforms as transforms\n",
    "import torchvision.datasets as datasets\n",
    "import torchvision.models as models\n",
    "\n",
    "import argparse\n",
    "import os\n",
    "from tqdm import tqdm\n",
    "import time\n",
    "import math\n",
    "\n",
    "from net.network import AttentionNet, Encoder, Decoder, SelfAttention\n",
    "%load_ext autoreload\n",
    "%autoreload 2"
   ]
  },
  {
   "cell_type": "code",
   "execution_count": 2,
   "metadata": {},
   "outputs": [],
   "source": [
    "parser = argparse.ArgumentParser()\n",
    "# Basic options\n",
    "parser.add_argument('--dataset_dir', type=str, default='./datasets/content_set/val2014',\n",
    "                    help='Directory path to a batch of content images')\n",
    "# parser.add_argument('--dataset_dir', type=str, default='./datasets/style_set/val2014',\n",
    "#                     help='Directory path to a batch of style images')\n",
    "# parser.add_argument('--dataset_dir', type=str, default='./datasets/content_style_mix_set/val2014',\n",
    "#                     help='Directory path to a batch of mixed images')\n",
    "\n",
    "\n",
    "# training options\n",
    "parser.add_argument('--save_dir', default='./models/content_wct',\n",
    "                    help='Directory to save the model')\n",
    "parser.add_argument('--log_dir', default='./logs',\n",
    "                    help='Directory to save the log')\n",
    "parser.add_argument('--lr', type=float, default=1e-4)\n",
    "parser.add_argument('--lr_decay', type=float, default=5e-5)\n",
    "parser.add_argument('--max_iter', type=int, default=80000)\n",
    "parser.add_argument('--batch_size', type=int, default=8)\n",
    "parser.add_argument('--n_threads', type=int, default=2)\n",
    "parser.add_argument('--save_model_interval', type=int, default=100)\n",
    "parser.add_argument('--start_iter', type=float, default=15700)\n",
    "parser.add_argument('--seperate', type=bool, default=False)\n",
    "args = parser.parse_args('')"
   ]
  },
  {
   "cell_type": "code",
   "execution_count": 3,
   "metadata": {},
   "outputs": [],
   "source": [
    "device = torch.device(\"cuda\" if torch.cuda.is_available() else \"cpu\")\n",
    "device\n",
    "\n",
    "_R_MEAN = 123.68\n",
    "_G_MEAN = 116.78\n",
    "_B_MEAN = 103.94"
   ]
  },
  {
   "cell_type": "code",
   "execution_count": 4,
   "metadata": {},
   "outputs": [],
   "source": [
    "# transforms.Normalize((0, 0, 0), (1/255.0, 1/255.0, 1/255.0))\n",
    "data_transforms = {\n",
    "    'train': transforms.Compose([\n",
    "        transforms.Resize(size=(512, 512)),\n",
    "        transforms.RandomCrop(256),\n",
    "        transforms.ToTensor(),\n",
    "        transforms.Normalize((_R_MEAN/255.0, _G_MEAN/255.0, _B_MEAN/255.0), (0.5, 0.5, 0.5))\n",
    "    ]),\n",
    "    'test': transforms.Compose([\n",
    "        transforms.Resize(size=(512, 512)),\n",
    "        transforms.CenterCrop(256),\n",
    "        transforms.ToTensor(),\n",
    "        transforms.Normalize((_R_MEAN/255.0, _G_MEAN/255.0, _B_MEAN/255.0), (0.5, 0.5, 0.5))\n",
    "    ]),\n",
    "}\n",
    "\n",
    "class FlatFolderDataset(torch.utils.data.Dataset):\n",
    "    def __init__(self, root, transform):\n",
    "        super(FlatFolderDataset, self).__init__()\n",
    "        self.root = root\n",
    "        self.paths = os.listdir(self.root)\n",
    "        self.transform = transform\n",
    "\n",
    "    def __getitem__(self, index):\n",
    "        path = self.paths[index]\n",
    "        img = Image.open(os.path.join(self.root, path)).convert('RGB')\n",
    "        img = self.transform(img)\n",
    "        return img\n",
    "\n",
    "    def __len__(self):\n",
    "        return len(self.paths)\n",
    "\n",
    "    def name(self):\n",
    "        return 'FlatFolderDataset'\n",
    "\n",
    "train_set = FlatFolderDataset(args.dataset_dir, data_transforms['train'])\n",
    "train_loader = torch.utils.data.DataLoader(\n",
    "    train_set, batch_size=args.batch_size,\n",
    "    shuffle=True, num_workers=args.n_threads)\n",
    "train_iter = iter(train_loader)"
   ]
  },
  {
   "cell_type": "code",
   "execution_count": 5,
   "metadata": {},
   "outputs": [
    {
     "name": "stderr",
     "output_type": "stream",
     "text": [
      "Clipping input data to the valid range for imshow with RGB data ([0..1] for floats or [0..255] for integers).\n"
     ]
    },
    {
     "name": "stdout",
     "output_type": "stream",
     "text": [
      "torch.Size([3, 256, 256])\n"
     ]
    },
    {
     "data": {
      "image/png": "[encoded data removed]",
      "text/plain": [
       "<Figure size 432x288 with 1 Axes>"
      ]
     },
     "metadata": {
      "needs_background": "light"
     },
     "output_type": "display_data"
    }
   ],
   "source": [
    "\n",
    "import matplotlib.pyplot as plt\n",
    "import numpy as np\n",
    "\n",
    "# functions to show an image\n",
    "\n",
    "\n",
    "def imshow(img):\n",
    "    npimg = img.numpy()\n",
    "    plt.imshow(np.transpose(npimg, (1, 2, 0)))\n",
    "\n",
    "\n",
    "# get some random training images\n",
    "dataiter = iter(train_loader)\n",
    "images = dataiter.next()\n",
    "print(images[0].size())\n",
    "# show images\n",
    "imshow(torchvision.utils.make_grid(images))\n"
   ]
  },
  {
   "cell_type": "code",
   "execution_count": 6,
   "metadata": {},
   "outputs": [],
   "source": [
    "def get_optimizer(model, seperate):\n",
    "    for param in model.encode.parameters():\n",
    "        param.requires_grad = False\n",
    "    if seperate == True:\n",
    "        optimizer = torch.optim.Adam([\n",
    "            {'params': model.self_attn_content.parameters()},\n",
    "            {'params': model.self_attn_style.parameters()},\n",
    "            {'params': model.content_decode.parameters()},\n",
    "            {'params': model.style_decode.parameters()},\n",
    "        ], lr=args.lr)\n",
    "    else:\n",
    "        optimizer = torch.optim.Adam([\n",
    "            {'params': model.decode.parameters()},\n",
    "            {'params': model.self_attn.parameters()},\n",
    "        ], lr=args.lr)\n",
    "    return optimizer\n",
    "\n",
    "if(args.start_iter > 0):\n",
    "    decoder = Decoder()\n",
    "    decoder.load_state_dict(torch.load(args.save_dir + '/decoder_iter_' + str(args.start_iter) + '.pth'))\n",
    "    attn = SelfAttention()\n",
    "    attn.load_state_dict(torch.load(args.save_dir + '/attention_kernel_iter_' + str(args.start_iter) + '.pth'))\n",
    "    \n",
    "    state_dict = decoder.state_dict()\n",
    "    for key in state_dict.keys():\n",
    "        state_dict[key] = state_dict[key].to(device)\n",
    "    state_dict = attn.state_dict()\n",
    "    for key in state_dict.keys():\n",
    "        state_dict[key] = state_dict[key].to(device)\n",
    "    \n",
    "    model = AttentionNet(seperate=args.seperate, attn=attn, decoder = decoder)\n",
    "    optimizer = get_optimizer(model, args.seperate)\n",
    "    optimizer.load_state_dict(torch.load(args.save_dir + '/optimizer_iter_' + str(args.start_iter) + '.pth'))\n",
    "    for state in optimizer.state.values():\n",
    "        for k, v in state.items():\n",
    "            if isinstance(v, torch.Tensor):\n",
    "                state[k] = v.cuda()\n",
    "else:\n",
    "    model = AttentionNet(seperate=args.seperate)\n",
    "    optimizer = get_optimizer(model, args.seperate)\n",
    "\n",
    "model.to(device)   \n",
    "loss_seq = {'total': [], 'construct': [], 'percept': [], 'tv': [], 'attn': []}"
   ]
  },
  {
   "cell_type": "code",
   "execution_count": 7,
   "metadata": {},
   "outputs": [],
   "source": [
    "def lastest_arverage_value(values, length=100):\n",
    "    if len(values) < length:\n",
    "        length = len(values)\n",
    "    return sum(values[-length:])/length\n",
    "\n",
    "def adjust_learning_rate(optimizer, iteration_count):\n",
    "    \"\"\"Imitating the original implementation\"\"\"\n",
    "    lr = args.lr / (1.0 + args.lr_decay * iteration_count)\n",
    "    for param_group in optimizer.param_groups:\n",
    "        param_group['lr'] = lr"
   ]
  },
  {
   "cell_type": "code",
   "execution_count": null,
   "metadata": {},
   "outputs": [
    {
     "name": "stderr",
     "output_type": "stream",
     "text": [
      "  0%|          | 99/64300 [01:10<12:38:28,  1.41it/s]"
     ]
    },
    {
     "name": "stdout",
     "output_type": "stream",
     "text": [
      "Mon Jul  6 00:44:18 2020: Iteration: [15800/80000]\tRecon Loss: 615.3623\tPercept Loss: 49980.0384\tTV Loss: 11.0619\tAttn Loss: 19298.2142\tTotal: 172033.5661\n"
     ]
    },
    {
     "name": "stderr",
     "output_type": "stream",
     "text": [
      "  0%|          | 110/64300 [01:18<12:38:54,  1.41it/s]"
     ]
    }
   ],
   "source": [
    "reload_period = len(train_loader.dataset) / args.batch_size\n",
    "reload_period = math.floor(reload_period)\n",
    "for i in tqdm(range(args.start_iter, args.max_iter)):\n",
    "    adjust_learning_rate(optimizer, iteration_count=i)\n",
    "    \n",
    "    if (i - args.start_iter)%reload_period == 0:\n",
    "        train_loader = torch.utils.data.DataLoader(\n",
    "            train_set, batch_size=args.batch_size,\n",
    "            shuffle=True, num_workers=args.n_threads)\n",
    "        train_iter = iter(train_loader)\n",
    "        \n",
    "    if args.seperate == False:\n",
    "        content_images = next(train_iter).to(device)\n",
    "        losses, _, _ = model(content_images)\n",
    "        \n",
    "    total_loss = losses['total']\n",
    "    \n",
    "    for name, vals in loss_seq.items():\n",
    "        loss_seq[name].append(losses[name].item())\n",
    "        \n",
    "    optimizer.zero_grad()\n",
    "    total_loss.backward()\n",
    "    optimizer.step()\n",
    "    \n",
    "    if (i + 1) % args.save_model_interval == 0 or (i + 1) == args.max_iter:\n",
    "        print(\"%s: Iteration: [%d/%d]\\tRecon Loss: %2.4f\\tPercept Loss: %2.4f\\tTV Loss: %2.4f\\tAttn Loss: %2.4f\\tTotal: %2.4f\"%(time.ctime(),i+1, \n",
    "                args.max_iter, lastest_arverage_value(loss_seq['construct']), lastest_arverage_value(loss_seq['percept']), \n",
    "                lastest_arverage_value(loss_seq['tv']), lastest_arverage_value(loss_seq['attn']), lastest_arverage_value(loss_seq['total'])))\n",
    "        if args.seperate == False:\n",
    "            state_dict = model.decode.state_dict()\n",
    "            for key in state_dict.keys():\n",
    "                state_dict[key] = state_dict[key].to(torch.device('cpu'))\n",
    "            torch.save(state_dict,\n",
    "                       '{:s}/decoder_iter_{:d}.pth'.format(args.save_dir,\n",
    "                                                               i + 1))\n",
    "            state_dict = model.self_attn.state_dict()\n",
    "            for key in state_dict.keys():\n",
    "                state_dict[key] = state_dict[key].to(torch.device('cpu'))\n",
    "            torch.save(state_dict,\n",
    "                       '{:s}/attention_kernel_iter_{:d}.pth'.format(args.save_dir,\n",
    "                                                               i + 1))\n",
    "            state_dict = optimizer.state_dict()\n",
    "            torch.save(state_dict,\n",
    "                       '{:s}/optimizer_iter_{:d}.pth'.format(args.save_dir,\n",
    "                                                               i + 1))\n",
    "        else:\n",
    "            pass\n",
    "    \n",
    "    "
   ]
  },
  {
   "cell_type": "code",
   "execution_count": null,
   "metadata": {},
   "outputs": [],
   "source": [
    "train_iter = iter(train_loader)\n",
    "content_images = next(train_iter).to(device)\n",
    "losses, recon_images, attn_map = model(content_images)\n",
    "print(recon_images.size())\n",
    "print(attn_map.size())"
   ]
  },
  {
   "cell_type": "code",
   "execution_count": null,
   "metadata": {},
   "outputs": [],
   "source": [
    "imshow(torchvision.utils.make_grid(content_images.cpu()[2]))"
   ]
  },
  {
   "cell_type": "code",
   "execution_count": null,
   "metadata": {},
   "outputs": [],
   "source": [
    "def imshow_recon(img):\n",
    "    npimg = img.detach().numpy()\n",
    "    plt.imshow(np.transpose(npimg, (1, 2, 0)))\n",
    "imshow_recon(torchvision.utils.make_grid(recon_images.cpu()[2]))"
   ]
  },
  {
   "cell_type": "code",
   "execution_count": null,
   "metadata": {},
   "outputs": [],
   "source": [
    "channel_num = attn_map.size()[1]\n",
    "mean_sal = torch.mean(attn_map, 1, False)\n",
    "mean_sal_np = mean_sal.cpu().detach().numpy()\n",
    "mean_sal_np = mean_sal_np - np.min(mean_sal_np)\n",
    "mean_sal_np = mean_sal_np * 1.0 / np.max(mean_sal_np)\n",
    "print(mean_sal.size())\n",
    "plt.imshow(mean_sal_np[2], cmap=cm.get_cmap('rainbow', 1000))\n",
    "plt.colorbar()\n",
    "plt.axis('off')"
   ]
  }
 ],
 "metadata": {
  "kernelspec": {
   "display_name": "Python 3",
   "language": "python",
   "name": "python3"
  },
  "language_info": {
   "codemirror_mode": {
    "name": "ipython",
    "version": 3
   },
   "file_extension": ".py",
   "mimetype": "text/x-python",
   "name": "python",
   "nbconvert_exporter": "python",
   "pygments_lexer": "ipython3",
   "version": "3.7.6"
  }
 },
 "nbformat": 4,
 "nbformat_minor": 4
}
