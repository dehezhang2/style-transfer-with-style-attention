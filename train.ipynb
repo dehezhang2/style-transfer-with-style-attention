{
 "cells": [
  {
   "cell_type": "code",
   "execution_count": 1,
   "metadata": {},
   "outputs": [],
   "source": [
    "from __future__ import print_function\n",
    "\n",
    "import torch\n",
    "import torch.nn as nn\n",
    "import torch.nn.functional as F\n",
    "import torch.optim as optim\n",
    "\n",
    "from PIL import Image\n",
    "import matplotlib.pyplot as plt\n",
    "from matplotlib import cm\n",
    "\n",
    "import torchvision\n",
    "import torchvision.transforms as transforms\n",
    "import torchvision.datasets as datasets\n",
    "import torchvision.models as models\n",
    "\n",
    "import argparse\n",
    "import os\n",
    "from tqdm import tqdm\n",
    "import time\n",
    "\n",
    "from net.aams import AttentionNet, Encoder, Decoder, SelfAttention\n",
    "%load_ext autoreload\n",
    "%autoreload 2"
   ]
  },
  {
   "cell_type": "code",
   "execution_count": 2,
   "metadata": {},
   "outputs": [],
   "source": [
    "parser = argparse.ArgumentParser()\n",
    "# Basic options\n",
    "# parser.add_argument('--dataset_dir', type=str, default='./datasets/content_set/val2014',\n",
    "#                     help='Directory path to a batch of content images')\n",
    "# parser.add_argument('--dataset_dir', type=str, default='./datasets/style_set/val2014',\n",
    "#                     help='Directory path to a batch of style images')\n",
    "parser.add_argument('--dataset_dir', type=str, default='./datasets/content_style_mix_set/val2014',\n",
    "                    help='Directory path to a batch of style images')\n",
    "\n",
    "\n",
    "# training options\n",
    "parser.add_argument('--save_dir', default='./models/content_style_mix',\n",
    "                    help='Directory to save the model')\n",
    "parser.add_argument('--log_dir', default='./logs',\n",
    "                    help='Directory to save the log')\n",
    "parser.add_argument('--lr', type=float, default=1e-4)\n",
    "parser.add_argument('--lr_decay', type=float, default=5e-5)\n",
    "parser.add_argument('--max_iter', type=int, default=80000)\n",
    "parser.add_argument('--batch_size', type=int, default=8)\n",
    "parser.add_argument('--n_threads', type=int, default=2)\n",
    "parser.add_argument('--save_model_interval', type=int, default=100)\n",
    "parser.add_argument('--start_iter', type=float, default=0)\n",
    "parser.add_argument('--seperate', type=bool, default=False)\n",
    "args = parser.parse_args('')"
   ]
  },
  {
   "cell_type": "code",
   "execution_count": 3,
   "metadata": {},
   "outputs": [],
   "source": [
    "device = torch.device(\"cuda\" if torch.cuda.is_available() else \"cpu\")\n",
    "device\n",
    "\n",
    "_R_MEAN = 123.68\n",
    "_G_MEAN = 116.78\n",
    "_B_MEAN = 103.94"
   ]
  },
  {
   "cell_type": "code",
   "execution_count": 4,
   "metadata": {},
   "outputs": [],
   "source": [
    "data_transforms = {\n",
    "    'train': transforms.Compose([\n",
    "        transforms.Resize(size=(512, 512)),\n",
    "        transforms.RandomCrop(256),\n",
    "        transforms.ToTensor(),\n",
    "        transforms.Normalize((_R_MEAN/255.0, _G_MEAN/255.0, _B_MEAN/255.0), (0.5, 0.5, 0.5))\n",
    "    ]),\n",
    "    'test': transforms.Compose([\n",
    "        transforms.Resize(size=(512, 512)),\n",
    "        transforms.CenterCrop(256),\n",
    "        transforms.ToTensor(),\n",
    "        transforms.Normalize((_R_MEAN/255.0, _G_MEAN/255.0, _B_MEAN/255.0), (0.5, 0.5, 0.5))\n",
    "    ]),\n",
    "}\n",
    "\n",
    "class FlatFolderDataset(torch.utils.data.Dataset):\n",
    "    def __init__(self, root, transform):\n",
    "        super(FlatFolderDataset, self).__init__()\n",
    "        self.root = root\n",
    "        self.paths = os.listdir(self.root)\n",
    "        self.transform = transform\n",
    "\n",
    "    def __getitem__(self, index):\n",
    "        path = self.paths[index]\n",
    "        img = Image.open(os.path.join(self.root, path)).convert('RGB')\n",
    "        img = self.transform(img)\n",
    "        return img\n",
    "\n",
    "    def __len__(self):\n",
    "        return len(self.paths)\n",
    "\n",
    "    def name(self):\n",
    "        return 'FlatFolderDataset'\n",
    "\n",
    "train_set = FlatFolderDataset(args.dataset_dir, data_transforms['train'])\n",
    "train_loader = torch.utils.data.DataLoader(\n",
    "    train_set, batch_size=args.batch_size,\n",
    "    shuffle=True, num_workers=args.n_threads)\n",
    "train_iter = iter(train_loader)"
   ]
  },
  {
   "cell_type": "code",
   "execution_count": 5,
   "metadata": {},
   "outputs": [
    {
     "name": "stderr",
     "output_type": "stream",
     "text": [
      "Clipping input data to the valid range for imshow with RGB data ([0..1] for floats or [0..255] for integers).\n"
     ]
    },
    {
     "name": "stdout",
     "output_type": "stream",
     "text": [
      "torch.Size([3, 256, 256])\n"
     ]
    },
    {
     "data": {
      "image/png": "[encoded data removed]",
      "text/plain": [
       "<Figure size 432x288 with 1 Axes>"
      ]
     },
     "metadata": {
      "needs_background": "light"
     },
     "output_type": "display_data"
    }
   ],
   "source": [
    "\n",
    "import matplotlib.pyplot as plt\n",
    "import numpy as np\n",
    "\n",
    "# functions to show an image\n",
    "\n",
    "\n",
    "def imshow(img):\n",
    "    npimg = img.numpy()\n",
    "    plt.imshow(np.transpose(npimg, (1, 2, 0)))\n",
    "\n",
    "\n",
    "# get some random training images\n",
    "dataiter = iter(train_loader)\n",
    "images = dataiter.next()\n",
    "print(images[0].size())\n",
    "# show images\n",
    "imshow(torchvision.utils.make_grid(images))\n"
   ]
  },
  {
   "cell_type": "code",
   "execution_count": 6,
   "metadata": {},
   "outputs": [],
   "source": [
    "def get_optimizer(model, seperate):\n",
    "    for param in model.encode.parameters():\n",
    "        param.requires_grad = False\n",
    "    if seperate == True:\n",
    "        optimizer = torch.optim.Adam([\n",
    "            {'params': model.self_attn_content.parameters()},\n",
    "            {'params': model.self_attn_style.parameters()},\n",
    "            {'params': model.content_decode.parameters()},\n",
    "            {'params': model.style_decode.parameters()},\n",
    "        ], lr=args.lr)\n",
    "    else:\n",
    "        optimizer = torch.optim.Adam([\n",
    "            {'params': model.decode.parameters()},\n",
    "            {'params': model.self_attn.parameters()},\n",
    "        ], lr=args.lr)\n",
    "    return optimizer\n",
    "\n",
    "if(args.start_iter > 0):\n",
    "    decoder = Decoder()\n",
    "    decoder.load_state_dict(torch.load(args.save_dir + '/decoder_iter_' + str(args.start_iter) + '.pth'))\n",
    "    attn = SelfAttention()\n",
    "    attn.load_state_dict(torch.load(args.save_dir + '/attention_kernel_iter_' + str(args.start_iter) + '.pth'))\n",
    "    \n",
    "    state_dict = decoder.state_dict()\n",
    "    for key in state_dict.keys():\n",
    "        state_dict[key] = state_dict[key].to(device)\n",
    "    state_dict = attn.state_dict()\n",
    "    for key in state_dict.keys():\n",
    "        state_dict[key] = state_dict[key].to(device)\n",
    "    \n",
    "    model = AttentionNet(seperate=args.seperate, attn=attn, decoder = decoder)\n",
    "    optimizer = get_optimizer(model, args.seperate)\n",
    "    optimizer.load_state_dict(torch.load(args.save_dir + '/optimizer_iter_' + str(args.start_iter) + '.pth'))\n",
    "    for state in optimizer.state.values():\n",
    "        for k, v in state.items():\n",
    "            if isinstance(v, torch.Tensor):\n",
    "                state[k] = v.cuda()\n",
    "else:\n",
    "    model = AttentionNet(seperate=args.seperate)\n",
    "    optimizer = get_optimizer(model, args.seperate)\n",
    "\n",
    "model.to(device)   \n",
    "loss_seq = {'total': [], 'construct': [], 'percept': [], 'tv': [], 'attn': []}"
   ]
  },
  {
   "cell_type": "code",
   "execution_count": 7,
   "metadata": {},
   "outputs": [],
   "source": [
    "def lastest_arverage_value(values, length=100):\n",
    "    if len(values) < length:\n",
    "        length = len(values)\n",
    "    return sum(values[-length:])/length\n",
    "\n",
    "def adjust_learning_rate(optimizer, iteration_count):\n",
    "    \"\"\"Imitating the original implementation\"\"\"\n",
    "    lr = args.lr / (1.0 + args.lr_decay * iteration_count)\n",
    "    for param_group in optimizer.param_groups:\n",
    "        param_group['lr'] = lr"
   ]
  },
  {
   "cell_type": "code",
   "execution_count": null,
   "metadata": {},
   "outputs": [
    {
     "name": "stderr",
     "output_type": "stream",
     "text": [
      "  0%|          | 99/80000 [00:34<7:42:13,  2.88it/s]"
     ]
    },
    {
     "name": "stdout",
     "output_type": "stream",
     "text": [
      "Sun Jun 28 06:09:34 2020: Iteration: [100/80000]\tRecon Loss: 4482.5308\tPercept Loss: 175140.1208\tTV Loss: 4.6605\tAttn Loss: 1806423.1087\tTotal: 11058550.7200\n"
     ]
    },
    {
     "name": "stderr",
     "output_type": "stream",
     "text": [
      "  0%|          | 199/80000 [01:08<7:43:40,  2.87it/s]"
     ]
    },
    {
     "name": "stdout",
     "output_type": "stream",
     "text": [
      "Sun Jun 28 06:10:08 2020: Iteration: [200/80000]\tRecon Loss: 3137.0917\tPercept Loss: 135987.4241\tTV Loss: 5.2339\tAttn Loss: 1017830.1038\tTotal: 6274391.2950\n"
     ]
    },
    {
     "name": "stderr",
     "output_type": "stream",
     "text": [
      "  0%|          | 299/80000 [01:44<7:50:48,  2.82it/s]"
     ]
    },
    {
     "name": "stdout",
     "output_type": "stream",
     "text": [
      "Sun Jun 28 06:10:44 2020: Iteration: [300/80000]\tRecon Loss: 2666.7212\tPercept Loss: 116119.1171\tTV Loss: 6.3338\tAttn Loss: 586787.7750\tTotal: 3663576.3025\n"
     ]
    },
    {
     "name": "stderr",
     "output_type": "stream",
     "text": [
      "  0%|          | 399/80000 [02:19<7:50:07,  2.82it/s]"
     ]
    },
    {
     "name": "stdout",
     "output_type": "stream",
     "text": [
      "Sun Jun 28 06:11:19 2020: Iteration: [400/80000]\tRecon Loss: 2388.9928\tPercept Loss: 100490.9039\tTV Loss: 6.9129\tAttn Loss: 270131.6566\tTotal: 1745239.9000\n"
     ]
    },
    {
     "name": "stderr",
     "output_type": "stream",
     "text": [
      "  1%|          | 499/80000 [02:55<7:50:39,  2.82it/s]"
     ]
    },
    {
     "name": "stdout",
     "output_type": "stream",
     "text": [
      "Sun Jun 28 06:11:55 2020: Iteration: [500/80000]\tRecon Loss: 2301.2266\tPercept Loss: 93559.8736\tTV Loss: 7.2729\tAttn Loss: 163403.7454\tTotal: 1097067.3350\n"
     ]
    },
    {
     "name": "stderr",
     "output_type": "stream",
     "text": [
      "  1%|          | 599/80000 [03:31<7:50:05,  2.82it/s]"
     ]
    },
    {
     "name": "stdout",
     "output_type": "stream",
     "text": [
      "Sun Jun 28 06:12:31 2020: Iteration: [600/80000]\tRecon Loss: 1959.6229\tPercept Loss: 91834.4225\tTV Loss: 8.0038\tAttn Loss: 141463.7641\tTotal: 960293.2756\n"
     ]
    },
    {
     "name": "stderr",
     "output_type": "stream",
     "text": [
      "  1%|          | 699/80000 [04:06<7:47:29,  2.83it/s]"
     ]
    },
    {
     "name": "stdout",
     "output_type": "stream",
     "text": [
      "Sun Jun 28 06:13:06 2020: Iteration: [700/80000]\tRecon Loss: 1869.7291\tPercept Loss: 88598.6321\tTV Loss: 8.0559\tAttn Loss: 120452.8684\tTotal: 830093.6875\n"
     ]
    },
    {
     "name": "stderr",
     "output_type": "stream",
     "text": [
      "  1%|          | 799/80000 [04:42<7:49:30,  2.81it/s]"
     ]
    },
    {
     "name": "stdout",
     "output_type": "stream",
     "text": [
      "Sun Jun 28 06:13:42 2020: Iteration: [800/80000]\tRecon Loss: 1757.9207\tPercept Loss: 87996.9243\tTV Loss: 8.3260\tAttn Loss: 114426.2314\tTotal: 792216.7738\n"
     ]
    },
    {
     "name": "stderr",
     "output_type": "stream",
     "text": [
      "  1%|          | 899/80000 [05:17<7:47:09,  2.82it/s]"
     ]
    },
    {
     "name": "stdout",
     "output_type": "stream",
     "text": [
      "Sun Jun 28 06:14:17 2020: Iteration: [900/80000]\tRecon Loss: 1629.0679\tPercept Loss: 80883.8643\tTV Loss: 8.4370\tAttn Loss: 100425.0988\tTotal: 699809.5044\n"
     ]
    },
    {
     "name": "stderr",
     "output_type": "stream",
     "text": [
      "  1%|          | 999/80000 [05:53<7:45:24,  2.83it/s]"
     ]
    },
    {
     "name": "stdout",
     "output_type": "stream",
     "text": [
      "Sun Jun 28 06:14:53 2020: Iteration: [1000/80000]\tRecon Loss: 1515.1684\tPercept Loss: 79548.0747\tTV Loss: 8.5285\tAttn Loss: 95957.1126\tTotal: 670527.7231\n"
     ]
    },
    {
     "name": "stderr",
     "output_type": "stream",
     "text": [
      "  1%|▏         | 1099/80000 [06:29<7:46:31,  2.82it/s]"
     ]
    },
    {
     "name": "stdout",
     "output_type": "stream",
     "text": [
      "Sun Jun 28 06:15:29 2020: Iteration: [1100/80000]\tRecon Loss: 1425.4876\tPercept Loss: 78575.0597\tTV Loss: 8.7870\tAttn Loss: 89491.9687\tTotal: 629869.6184\n"
     ]
    },
    {
     "name": "stderr",
     "output_type": "stream",
     "text": [
      "  1%|▏         | 1199/80000 [07:04<7:52:52,  2.78it/s]"
     ]
    },
    {
     "name": "stdout",
     "output_type": "stream",
     "text": [
      "Sun Jun 28 06:16:04 2020: Iteration: [1200/80000]\tRecon Loss: 1335.3093\tPercept Loss: 78963.2546\tTV Loss: 9.0302\tAttn Loss: 83979.6082\tTotal: 596284.3034\n"
     ]
    },
    {
     "name": "stderr",
     "output_type": "stream",
     "text": [
      "  2%|▏         | 1299/80000 [07:40<7:44:35,  2.82it/s]"
     ]
    },
    {
     "name": "stdout",
     "output_type": "stream",
     "text": [
      "Sun Jun 28 06:16:40 2020: Iteration: [1300/80000]\tRecon Loss: 1301.0312\tPercept Loss: 73654.5946\tTV Loss: 8.9050\tAttn Loss: 77807.2548\tTotal: 553597.4834\n"
     ]
    },
    {
     "name": "stderr",
     "output_type": "stream",
     "text": [
      "  2%|▏         | 1399/80000 [08:16<7:42:41,  2.83it/s]"
     ]
    },
    {
     "name": "stdout",
     "output_type": "stream",
     "text": [
      "Sun Jun 28 06:17:16 2020: Iteration: [1400/80000]\tRecon Loss: 1249.7828\tPercept Loss: 73825.4713\tTV Loss: 9.0035\tAttn Loss: 74323.1001\tTotal: 532351.9359\n"
     ]
    },
    {
     "name": "stderr",
     "output_type": "stream",
     "text": [
      "  2%|▏         | 1499/80000 [08:51<7:53:35,  2.76it/s]"
     ]
    },
    {
     "name": "stdout",
     "output_type": "stream",
     "text": [
      "Sun Jun 28 06:17:51 2020: Iteration: [1500/80000]\tRecon Loss: 1201.3441\tPercept Loss: 73202.3016\tTV Loss: 9.0706\tAttn Loss: 70226.3773\tTotal: 506664.7125\n"
     ]
    },
    {
     "name": "stderr",
     "output_type": "stream",
     "text": [
      "  2%|▏         | 1599/80000 [09:27<7:42:38,  2.82it/s]"
     ]
    },
    {
     "name": "stdout",
     "output_type": "stream",
     "text": [
      "Sun Jun 28 06:18:27 2020: Iteration: [1600/80000]\tRecon Loss: 1128.4774\tPercept Loss: 69247.9266\tTV Loss: 8.8781\tAttn Loss: 66038.6514\tTotal: 476853.3897\n"
     ]
    },
    {
     "name": "stderr",
     "output_type": "stream",
     "text": [
      "  2%|▏         | 1699/80000 [10:03<7:41:47,  2.83it/s]"
     ]
    },
    {
     "name": "stdout",
     "output_type": "stream",
     "text": [
      "Sun Jun 28 06:19:03 2020: Iteration: [1700/80000]\tRecon Loss: 1061.5150\tPercept Loss: 69092.4994\tTV Loss: 9.1203\tAttn Loss: 62555.4764\tTotal: 455131.7106\n"
     ]
    },
    {
     "name": "stderr",
     "output_type": "stream",
     "text": [
      "  2%|▏         | 1799/80000 [10:39<7:46:19,  2.79it/s]"
     ]
    },
    {
     "name": "stdout",
     "output_type": "stream",
     "text": [
      "Sun Jun 28 06:19:39 2020: Iteration: [1800/80000]\tRecon Loss: 1065.1709\tPercept Loss: 71805.5455\tTV Loss: 9.5277\tAttn Loss: 59875.8360\tTotal: 441807.5475\n"
     ]
    },
    {
     "name": "stderr",
     "output_type": "stream",
     "text": [
      "  2%|▏         | 1899/80000 [11:15<7:39:47,  2.83it/s]"
     ]
    },
    {
     "name": "stdout",
     "output_type": "stream",
     "text": [
      "Sun Jun 28 06:20:15 2020: Iteration: [1900/80000]\tRecon Loss: 1023.3996\tPercept Loss: 69976.1913\tTV Loss: 9.5469\tAttn Loss: 57133.8364\tTotal: 423108.6750\n"
     ]
    },
    {
     "name": "stderr",
     "output_type": "stream",
     "text": [
      "  2%|▏         | 1999/80000 [11:50<7:43:24,  2.81it/s]"
     ]
    },
    {
     "name": "stdout",
     "output_type": "stream",
     "text": [
      "Sun Jun 28 06:20:50 2020: Iteration: [2000/80000]\tRecon Loss: 975.3037\tPercept Loss: 68534.4368\tTV Loss: 9.4103\tAttn Loss: 54204.9271\tTotal: 403611.1397\n"
     ]
    },
    {
     "name": "stderr",
     "output_type": "stream",
     "text": [
      "  3%|▎         | 2099/80000 [12:26<7:45:18,  2.79it/s]"
     ]
    },
    {
     "name": "stdout",
     "output_type": "stream",
     "text": [
      "Sun Jun 28 06:21:26 2020: Iteration: [2100/80000]\tRecon Loss: 953.6059\tPercept Loss: 67040.8017\tTV Loss: 9.3208\tAttn Loss: 52648.4584\tTotal: 392560.8209\n"
     ]
    },
    {
     "name": "stderr",
     "output_type": "stream",
     "text": [
      "  3%|▎         | 2199/80000 [13:02<7:44:01,  2.79it/s]"
     ]
    },
    {
     "name": "stdout",
     "output_type": "stream",
     "text": [
      "Sun Jun 28 06:22:02 2020: Iteration: [2200/80000]\tRecon Loss: 949.1426\tPercept Loss: 68235.1465\tTV Loss: 9.7157\tAttn Loss: 49468.8586\tTotal: 374636.8787\n"
     ]
    },
    {
     "name": "stderr",
     "output_type": "stream",
     "text": [
      "  3%|▎         | 2234/80000 [13:15<7:42:55,  2.80it/s]/home/dehezhang2/anaconda3/lib/python3.7/site-packages/PIL/Image.py:2766: DecompressionBombWarning: Image size (131790400 pixels) exceeds limit of 89478485 pixels, could be decompression bomb DOS attack.\n",
      "  DecompressionBombWarning,\n",
      "  3%|▎         | 2299/80000 [13:39<7:37:17,  2.83it/s] "
     ]
    },
    {
     "name": "stdout",
     "output_type": "stream",
     "text": [
      "Sun Jun 28 06:22:39 2020: Iteration: [2300/80000]\tRecon Loss: 905.9228\tPercept Loss: 65615.4962\tTV Loss: 9.5045\tAttn Loss: 47628.9354\tTotal: 360543.3808\n"
     ]
    },
    {
     "name": "stderr",
     "output_type": "stream",
     "text": [
      "  3%|▎         | 2399/80000 [14:15<7:40:48,  2.81it/s]"
     ]
    },
    {
     "name": "stdout",
     "output_type": "stream",
     "text": [
      "Sun Jun 28 06:23:15 2020: Iteration: [2400/80000]\tRecon Loss: 896.9389\tPercept Loss: 67463.4582\tTV Loss: 9.6911\tAttn Loss: 45284.7087\tTotal: 348238.0106\n"
     ]
    },
    {
     "name": "stderr",
     "output_type": "stream",
     "text": [
      "  3%|▎         | 2499/80000 [14:51<7:45:38,  2.77it/s]"
     ]
    },
    {
     "name": "stdout",
     "output_type": "stream",
     "text": [
      "Sun Jun 28 06:23:51 2020: Iteration: [2500/80000]\tRecon Loss: 879.0520\tPercept Loss: 66999.8371\tTV Loss: 9.8794\tAttn Loss: 43597.4464\tTotal: 337473.8302\n"
     ]
    },
    {
     "name": "stderr",
     "output_type": "stream",
     "text": [
      "  3%|▎         | 2599/80000 [15:26<7:37:37,  2.82it/s]"
     ]
    },
    {
     "name": "stdout",
     "output_type": "stream",
     "text": [
      "Sun Jun 28 06:24:26 2020: Iteration: [2600/80000]\tRecon Loss: 862.4663\tPercept Loss: 64370.8795\tTV Loss: 9.7239\tAttn Loss: 40884.8411\tTotal: 318401.8284\n"
     ]
    },
    {
     "name": "stderr",
     "output_type": "stream",
     "text": [
      "  3%|▎         | 2699/80000 [16:02<7:51:00,  2.74it/s]"
     ]
    },
    {
     "name": "stdout",
     "output_type": "stream",
     "text": [
      "Sun Jun 28 06:25:02 2020: Iteration: [2700/80000]\tRecon Loss: 838.0813\tPercept Loss: 63761.2500\tTV Loss: 9.6072\tAttn Loss: 39381.2166\tTotal: 308525.4350\n"
     ]
    },
    {
     "name": "stderr",
     "output_type": "stream",
     "text": [
      "  3%|▎         | 2799/80000 [16:38<8:03:58,  2.66it/s]"
     ]
    },
    {
     "name": "stdout",
     "output_type": "stream",
     "text": [
      "Sun Jun 28 06:25:38 2020: Iteration: [2800/80000]\tRecon Loss: 818.2728\tPercept Loss: 62996.2142\tTV Loss: 9.6679\tAttn Loss: 38126.7127\tTotal: 300035.8970\n"
     ]
    },
    {
     "name": "stderr",
     "output_type": "stream",
     "text": [
      "  4%|▎         | 2899/80000 [17:14<7:36:20,  2.82it/s]"
     ]
    },
    {
     "name": "stdout",
     "output_type": "stream",
     "text": [
      "Sun Jun 28 06:26:14 2020: Iteration: [2900/80000]\tRecon Loss: 832.7735\tPercept Loss: 65623.8609\tTV Loss: 9.9927\tAttn Loss: 37033.1028\tTotal: 296250.1402\n"
     ]
    },
    {
     "name": "stderr",
     "output_type": "stream",
     "text": [
      "  4%|▎         | 2999/80000 [17:50<7:33:52,  2.83it/s]"
     ]
    },
    {
     "name": "stdout",
     "output_type": "stream",
     "text": [
      "Sun Jun 28 06:26:50 2020: Iteration: [3000/80000]\tRecon Loss: 813.9074\tPercept Loss: 62561.8990\tTV Loss: 9.7483\tAttn Loss: 34878.2009\tTotal: 280067.6616\n"
     ]
    },
    {
     "name": "stderr",
     "output_type": "stream",
     "text": [
      "  4%|▍         | 3099/80000 [18:26<7:36:30,  2.81it/s]"
     ]
    },
    {
     "name": "stdout",
     "output_type": "stream",
     "text": [
      "Sun Jun 28 06:27:26 2020: Iteration: [3100/80000]\tRecon Loss: 815.4030\tPercept Loss: 64897.5586\tTV Loss: 10.0620\tAttn Loss: 34198.8332\tTotal: 278345.2073\n"
     ]
    },
    {
     "name": "stderr",
     "output_type": "stream",
     "text": [
      "  4%|▍         | 3199/80000 [19:02<7:35:56,  2.81it/s]"
     ]
    },
    {
     "name": "stdout",
     "output_type": "stream",
     "text": [
      "Sun Jun 28 06:28:02 2020: Iteration: [3200/80000]\tRecon Loss: 803.4332\tPercept Loss: 64076.0886\tTV Loss: 10.1275\tAttn Loss: 32208.0641\tTotal: 265460.0794\n"
     ]
    },
    {
     "name": "stderr",
     "output_type": "stream",
     "text": [
      "  4%|▍         | 3299/80000 [19:37<7:35:26,  2.81it/s]"
     ]
    },
    {
     "name": "stdout",
     "output_type": "stream",
     "text": [
      "Sun Jun 28 06:28:37 2020: Iteration: [3300/80000]\tRecon Loss: 769.5929\tPercept Loss: 61002.3625\tTV Loss: 9.8271\tAttn Loss: 30931.2071\tTotal: 254383.8048\n"
     ]
    },
    {
     "name": "stderr",
     "output_type": "stream",
     "text": [
      "  4%|▍         | 3399/80000 [20:13<7:40:25,  2.77it/s]"
     ]
    },
    {
     "name": "stdout",
     "output_type": "stream",
     "text": [
      "Sun Jun 28 06:29:13 2020: Iteration: [3400/80000]\tRecon Loss: 762.9917\tPercept Loss: 59855.6452\tTV Loss: 9.8041\tAttn Loss: 29145.3001\tTotal: 242455.4045\n"
     ]
    },
    {
     "name": "stderr",
     "output_type": "stream",
     "text": [
      "  4%|▍         | 3499/80000 [20:49<7:33:46,  2.81it/s]"
     ]
    },
    {
     "name": "stdout",
     "output_type": "stream",
     "text": [
      "Sun Jun 28 06:29:49 2020: Iteration: [3500/80000]\tRecon Loss: 773.0853\tPercept Loss: 60193.3180\tTV Loss: 9.8134\tAttn Loss: 28328.5296\tTotal: 237993.4825\n"
     ]
    },
    {
     "name": "stderr",
     "output_type": "stream",
     "text": [
      "  4%|▍         | 3599/80000 [21:25<7:41:58,  2.76it/s]"
     ]
    },
    {
     "name": "stdout",
     "output_type": "stream",
     "text": [
      "Sun Jun 28 06:30:25 2020: Iteration: [3600/80000]\tRecon Loss: 741.0362\tPercept Loss: 60212.6020\tTV Loss: 9.9064\tAttn Loss: 27227.9323\tTotal: 231089.6217\n"
     ]
    },
    {
     "name": "stderr",
     "output_type": "stream",
     "text": [
      "  5%|▍         | 3699/80000 [22:01<7:29:02,  2.83it/s]"
     ]
    },
    {
     "name": "stdout",
     "output_type": "stream",
     "text": [
      "Sun Jun 28 06:31:01 2020: Iteration: [3700/80000]\tRecon Loss: 743.7252\tPercept Loss: 60654.0881\tTV Loss: 9.9903\tAttn Loss: 26475.1164\tTotal: 227041.9433\n"
     ]
    },
    {
     "name": "stderr",
     "output_type": "stream",
     "text": [
      "  5%|▍         | 3799/80000 [22:36<7:37:15,  2.78it/s]"
     ]
    },
    {
     "name": "stdout",
     "output_type": "stream",
     "text": [
      "Sun Jun 28 06:31:36 2020: Iteration: [3800/80000]\tRecon Loss: 774.0706\tPercept Loss: 61488.6584\tTV Loss: 10.1491\tAttn Loss: 25181.5449\tTotal: 220420.1241\n"
     ]
    },
    {
     "name": "stderr",
     "output_type": "stream",
     "text": [
      "  5%|▍         | 3899/80000 [23:12<7:57:46,  2.65it/s]"
     ]
    },
    {
     "name": "stdout",
     "output_type": "stream",
     "text": [
      "Sun Jun 28 06:32:12 2020: Iteration: [3900/80000]\tRecon Loss: 750.8908\tPercept Loss: 61552.7088\tTV Loss: 10.2323\tAttn Loss: 24266.1073\tTotal: 214760.5833\n"
     ]
    },
    {
     "name": "stderr",
     "output_type": "stream",
     "text": [
      "  5%|▍         | 3913/80000 [23:17<7:45:17,  2.73it/s]/home/dehezhang2/anaconda3/lib/python3.7/site-packages/PIL/Image.py:2766: DecompressionBombWarning: Image size (107327830 pixels) exceeds limit of 89478485 pixels, could be decompression bomb DOS attack.\n",
      "  DecompressionBombWarning,\n",
      "  5%|▍         | 3999/80000 [23:48<7:35:18,  2.78it/s]"
     ]
    },
    {
     "name": "stdout",
     "output_type": "stream",
     "text": [
      "Sun Jun 28 06:32:48 2020: Iteration: [4000/80000]\tRecon Loss: 730.6677\tPercept Loss: 58845.9378\tTV Loss: 10.0640\tAttn Loss: 22992.2034\tTotal: 204206.4764\n"
     ]
    },
    {
     "name": "stderr",
     "output_type": "stream",
     "text": [
      "  5%|▌         | 4099/80000 [24:24<7:29:11,  2.82it/s]"
     ]
    },
    {
     "name": "stdout",
     "output_type": "stream",
     "text": [
      "Sun Jun 28 06:33:24 2020: Iteration: [4100/80000]\tRecon Loss: 706.1237\tPercept Loss: 58370.1385\tTV Loss: 9.9415\tAttn Loss: 22050.5897\tTotal: 197834.3292\n"
     ]
    },
    {
     "name": "stderr",
     "output_type": "stream",
     "text": [
      "  5%|▌         | 4199/80000 [25:00<7:31:57,  2.80it/s]"
     ]
    },
    {
     "name": "stdout",
     "output_type": "stream",
     "text": [
      "Sun Jun 28 06:34:00 2020: Iteration: [4200/80000]\tRecon Loss: 729.5798\tPercept Loss: 58667.7139\tTV Loss: 10.2087\tAttn Loss: 20944.5265\tTotal: 191732.7569\n"
     ]
    },
    {
     "name": "stderr",
     "output_type": "stream",
     "text": [
      "  5%|▌         | 4299/80000 [25:36<7:36:39,  2.76it/s]"
     ]
    },
    {
     "name": "stdout",
     "output_type": "stream",
     "text": [
      "Sun Jun 28 06:34:36 2020: Iteration: [4300/80000]\tRecon Loss: 719.4855\tPercept Loss: 57464.2537\tTV Loss: 10.0503\tAttn Loss: 20236.3303\tTotal: 186177.5923\n"
     ]
    },
    {
     "name": "stderr",
     "output_type": "stream",
     "text": [
      "  5%|▌         | 4399/80000 [26:12<7:44:17,  2.71it/s]"
     ]
    },
    {
     "name": "stdout",
     "output_type": "stream",
     "text": [
      "Sun Jun 28 06:35:12 2020: Iteration: [4400/80000]\tRecon Loss: 717.7779\tPercept Loss: 58066.4009\tTV Loss: 10.0034\tAttn Loss: 19539.2150\tTotal: 182579.5045\n"
     ]
    },
    {
     "name": "stderr",
     "output_type": "stream",
     "text": [
      "  6%|▌         | 4499/80000 [26:48<7:34:23,  2.77it/s]"
     ]
    },
    {
     "name": "stdout",
     "output_type": "stream",
     "text": [
      "Sun Jun 28 06:35:48 2020: Iteration: [4500/80000]\tRecon Loss: 697.6138\tPercept Loss: 57937.7893\tTV Loss: 10.2880\tAttn Loss: 18550.3949\tTotal: 176319.1769\n"
     ]
    },
    {
     "name": "stderr",
     "output_type": "stream",
     "text": [
      "  6%|▌         | 4599/80000 [27:24<7:40:01,  2.73it/s]"
     ]
    },
    {
     "name": "stdout",
     "output_type": "stream",
     "text": [
      "Sun Jun 28 06:36:24 2020: Iteration: [4600/80000]\tRecon Loss: 715.4095\tPercept Loss: 57265.0318\tTV Loss: 10.1661\tAttn Loss: 17713.7177\tTotal: 170803.0944\n"
     ]
    },
    {
     "name": "stderr",
     "output_type": "stream",
     "text": [
      "  6%|▌         | 4699/80000 [28:00<7:34:56,  2.76it/s]"
     ]
    },
    {
     "name": "stdout",
     "output_type": "stream",
     "text": [
      "Sun Jun 28 06:37:00 2020: Iteration: [4700/80000]\tRecon Loss: 722.5551\tPercept Loss: 58470.2075\tTV Loss: 10.3017\tAttn Loss: 16900.0438\tTotal: 167199.0389\n"
     ]
    },
    {
     "name": "stderr",
     "output_type": "stream",
     "text": [
      "  6%|▌         | 4799/80000 [28:36<7:29:40,  2.79it/s]"
     ]
    },
    {
     "name": "stdout",
     "output_type": "stream",
     "text": [
      "Sun Jun 28 06:37:36 2020: Iteration: [4800/80000]\tRecon Loss: 711.7656\tPercept Loss: 57414.4819\tTV Loss: 10.0642\tAttn Loss: 15910.5548\tTotal: 160096.1082\n"
     ]
    },
    {
     "name": "stderr",
     "output_type": "stream",
     "text": [
      "  6%|▌         | 4899/80000 [29:12<7:28:05,  2.79it/s]"
     ]
    },
    {
     "name": "stdout",
     "output_type": "stream",
     "text": [
      "Sun Jun 28 06:38:12 2020: Iteration: [4900/80000]\tRecon Loss: 699.9587\tPercept Loss: 56779.8834\tTV Loss: 10.2057\tAttn Loss: 14959.4062\tTotal: 153637.9652\n"
     ]
    },
    {
     "name": "stderr",
     "output_type": "stream",
     "text": [
      "  6%|▌         | 4999/80000 [29:48<7:28:44,  2.79it/s]"
     ]
    },
    {
     "name": "stdout",
     "output_type": "stream",
     "text": [
      "Sun Jun 28 06:38:48 2020: Iteration: [5000/80000]\tRecon Loss: 671.9193\tPercept Loss: 55972.1659\tTV Loss: 10.0208\tAttn Loss: 14309.4040\tTotal: 148647.9918\n"
     ]
    },
    {
     "name": "stderr",
     "output_type": "stream",
     "text": [
      "  6%|▋         | 5013/80000 [29:53<7:25:43,  2.80it/s]/home/dehezhang2/anaconda3/lib/python3.7/site-packages/PIL/Image.py:2766: DecompressionBombWarning: Image size (107327830 pixels) exceeds limit of 89478485 pixels, could be decompression bomb DOS attack.\n",
      "  DecompressionBombWarning,\n",
      "  6%|▋         | 5099/80000 [30:24<7:22:24,  2.82it/s]"
     ]
    },
    {
     "name": "stdout",
     "output_type": "stream",
     "text": [
      "Sun Jun 28 06:39:24 2020: Iteration: [5100/80000]\tRecon Loss: 680.7435\tPercept Loss: 55318.3579\tTV Loss: 9.9728\tAttn Loss: 13280.5747\tTotal: 141908.9691\n"
     ]
    },
    {
     "name": "stderr",
     "output_type": "stream",
     "text": [
      "  6%|▋         | 5199/80000 [31:00<7:40:58,  2.70it/s]"
     ]
    },
    {
     "name": "stdout",
     "output_type": "stream",
     "text": [
      "Sun Jun 28 06:40:00 2020: Iteration: [5200/80000]\tRecon Loss: 684.9217\tPercept Loss: 56491.5133\tTV Loss: 10.2250\tAttn Loss: 12658.0775\tTotal: 139391.4449\n"
     ]
    },
    {
     "name": "stderr",
     "output_type": "stream",
     "text": [
      "  7%|▋         | 5299/80000 [31:36<7:22:42,  2.81it/s]"
     ]
    },
    {
     "name": "stdout",
     "output_type": "stream",
     "text": [
      "Sun Jun 28 06:40:36 2020: Iteration: [5300/80000]\tRecon Loss: 680.2756\tPercept Loss: 55315.8239\tTV Loss: 10.0899\tAttn Loss: 11868.3278\tTotal: 133429.4463\n"
     ]
    },
    {
     "name": "stderr",
     "output_type": "stream",
     "text": [
      "  7%|▋         | 5399/80000 [32:11<7:20:27,  2.82it/s]"
     ]
    },
    {
     "name": "stdout",
     "output_type": "stream",
     "text": [
      "Sun Jun 28 06:41:11 2020: Iteration: [5400/80000]\tRecon Loss: 671.5966\tPercept Loss: 53688.2976\tTV Loss: 9.9330\tAttn Loss: 10814.1073\tTotal: 125388.2382\n"
     ]
    },
    {
     "name": "stderr",
     "output_type": "stream",
     "text": [
      "  7%|▋         | 5499/80000 [32:47<7:23:32,  2.80it/s]"
     ]
    },
    {
     "name": "stdout",
     "output_type": "stream",
     "text": [
      "Sun Jun 28 06:41:47 2020: Iteration: [5500/80000]\tRecon Loss: 688.3645\tPercept Loss: 56685.6300\tTV Loss: 10.3195\tAttn Loss: 10137.1226\tTotal: 124495.2066\n"
     ]
    },
    {
     "name": "stderr",
     "output_type": "stream",
     "text": [
      "  7%|▋         | 5599/80000 [33:23<7:22:43,  2.80it/s]"
     ]
    },
    {
     "name": "stdout",
     "output_type": "stream",
     "text": [
      "Sun Jun 28 06:42:23 2020: Iteration: [5600/80000]\tRecon Loss: 683.0078\tPercept Loss: 54581.2219\tTV Loss: 10.1707\tAttn Loss: 9282.2467\tTotal: 117206.4869\n"
     ]
    },
    {
     "name": "stderr",
     "output_type": "stream",
     "text": [
      "  7%|▋         | 5699/80000 [33:59<7:23:45,  2.79it/s]"
     ]
    },
    {
     "name": "stdout",
     "output_type": "stream",
     "text": [
      "Sun Jun 28 06:42:59 2020: Iteration: [5700/80000]\tRecon Loss: 705.1278\tPercept Loss: 57160.1548\tTV Loss: 10.4817\tAttn Loss: 8466.7808\tTotal: 115116.9345\n"
     ]
    },
    {
     "name": "stderr",
     "output_type": "stream",
     "text": [
      "  7%|▋         | 5799/80000 [34:35<7:20:16,  2.81it/s]"
     ]
    },
    {
     "name": "stdout",
     "output_type": "stream",
     "text": [
      "Sun Jun 28 06:43:35 2020: Iteration: [5800/80000]\tRecon Loss: 681.5306\tPercept Loss: 56113.7116\tTV Loss: 10.2989\tAttn Loss: 7608.4324\tTotal: 108682.6016\n"
     ]
    },
    {
     "name": "stderr",
     "output_type": "stream",
     "text": [
      "  7%|▋         | 5899/80000 [35:11<7:21:08,  2.80it/s]"
     ]
    },
    {
     "name": "stdout",
     "output_type": "stream",
     "text": [
      "Sun Jun 28 06:44:11 2020: Iteration: [5900/80000]\tRecon Loss: 671.2654\tPercept Loss: 54823.7201\tTV Loss: 10.3142\tAttn Loss: 6789.5118\tTotal: 102376.5866\n"
     ]
    },
    {
     "name": "stderr",
     "output_type": "stream",
     "text": [
      "  7%|▋         | 5999/80000 [35:47<7:21:25,  2.79it/s]"
     ]
    },
    {
     "name": "stdout",
     "output_type": "stream",
     "text": [
      "Sun Jun 28 06:44:47 2020: Iteration: [6000/80000]\tRecon Loss: 681.6746\tPercept Loss: 56019.1544\tTV Loss: 10.4872\tAttn Loss: 5958.3117\tTotal: 98690.6417\n"
     ]
    },
    {
     "name": "stderr",
     "output_type": "stream",
     "text": [
      "  8%|▊         | 6099/80000 [36:23<7:20:13,  2.80it/s]"
     ]
    },
    {
     "name": "stdout",
     "output_type": "stream",
     "text": [
      "Sun Jun 28 06:45:23 2020: Iteration: [6100/80000]\tRecon Loss: 686.2669\tPercept Loss: 55038.7925\tTV Loss: 10.2488\tAttn Loss: 5215.6491\tTotal: 93297.8439\n"
     ]
    },
    {
     "name": "stderr",
     "output_type": "stream",
     "text": [
      "  8%|▊         | 6199/80000 [36:59<7:24:06,  2.77it/s]"
     ]
    },
    {
     "name": "stdout",
     "output_type": "stream",
     "text": [
      "Sun Jun 28 06:45:59 2020: Iteration: [6200/80000]\tRecon Loss: 664.7902\tPercept Loss: 55158.5351\tTV Loss: 10.4597\tAttn Loss: 4385.5825\tTotal: 88224.5295\n"
     ]
    },
    {
     "name": "stderr",
     "output_type": "stream",
     "text": [
      "  8%|▊         | 6299/80000 [37:35<7:24:02,  2.77it/s]"
     ]
    },
    {
     "name": "stdout",
     "output_type": "stream",
     "text": [
      "Sun Jun 28 06:46:35 2020: Iteration: [6300/80000]\tRecon Loss: 657.9714\tPercept Loss: 55542.0544\tTV Loss: 10.5228\tAttn Loss: 3722.9708\tTotal: 84564.8220\n"
     ]
    },
    {
     "name": "stderr",
     "output_type": "stream",
     "text": [
      "  8%|▊         | 6399/80000 [38:11<7:16:36,  2.81it/s]"
     ]
    },
    {
     "name": "stdout",
     "output_type": "stream",
     "text": [
      "Sun Jun 28 06:47:11 2020: Iteration: [6400/80000]\tRecon Loss: 667.8932\tPercept Loss: 55732.3307\tTV Loss: 10.3750\tAttn Loss: 3218.5999\tTotal: 81826.6120\n"
     ]
    },
    {
     "name": "stderr",
     "output_type": "stream",
     "text": [
      "  8%|▊         | 6499/80000 [38:47<7:18:50,  2.79it/s]"
     ]
    },
    {
     "name": "stdout",
     "output_type": "stream",
     "text": [
      "Sun Jun 28 06:47:47 2020: Iteration: [6500/80000]\tRecon Loss: 662.5420\tPercept Loss: 54974.9851\tTV Loss: 10.3705\tAttn Loss: 2570.4102\tTotal: 77126.5715\n"
     ]
    },
    {
     "name": "stderr",
     "output_type": "stream",
     "text": [
      "  8%|▊         | 6599/80000 [39:23<7:15:46,  2.81it/s]"
     ]
    },
    {
     "name": "stdout",
     "output_type": "stream",
     "text": [
      "Sun Jun 28 06:48:23 2020: Iteration: [6600/80000]\tRecon Loss: 681.2850\tPercept Loss: 55310.5562\tTV Loss: 10.6149\tAttn Loss: 2079.7002\tTotal: 74707.7563\n"
     ]
    },
    {
     "name": "stderr",
     "output_type": "stream",
     "text": [
      "  8%|▊         | 6699/80000 [39:59<7:31:04,  2.71it/s]"
     ]
    },
    {
     "name": "stdout",
     "output_type": "stream",
     "text": [
      "Sun Jun 28 06:48:59 2020: Iteration: [6700/80000]\tRecon Loss: 646.9715\tPercept Loss: 53907.0495\tTV Loss: 10.3328\tAttn Loss: 1618.1328\tTotal: 70188.8900\n"
     ]
    },
    {
     "name": "stderr",
     "output_type": "stream",
     "text": [
      "  8%|▊         | 6799/80000 [40:35<7:15:07,  2.80it/s]"
     ]
    },
    {
     "name": "stdout",
     "output_type": "stream",
     "text": [
      "Sun Jun 28 06:49:35 2020: Iteration: [6800/80000]\tRecon Loss: 660.2768\tPercept Loss: 54589.9362\tTV Loss: 10.4474\tAttn Loss: 1250.6449\tTotal: 68801.0484\n"
     ]
    },
    {
     "name": "stderr",
     "output_type": "stream",
     "text": [
      "  9%|▊         | 6899/80000 [41:11<7:12:22,  2.82it/s]"
     ]
    },
    {
     "name": "stdout",
     "output_type": "stream",
     "text": [
      "Sun Jun 28 06:50:11 2020: Iteration: [6900/80000]\tRecon Loss: 646.5627\tPercept Loss: 52083.3059\tTV Loss: 10.1298\tAttn Loss: 1031.4233\tTotal: 64838.7716\n"
     ]
    },
    {
     "name": "stderr",
     "output_type": "stream",
     "text": [
      "  9%|▊         | 6999/80000 [41:47<7:14:46,  2.80it/s]"
     ]
    },
    {
     "name": "stdout",
     "output_type": "stream",
     "text": [
      "Sun Jun 28 06:50:47 2020: Iteration: [7000/80000]\tRecon Loss: 649.7873\tPercept Loss: 54109.5204\tTV Loss: 10.4745\tAttn Loss: 980.3870\tTotal: 66594.4597\n"
     ]
    },
    {
     "name": "stderr",
     "output_type": "stream",
     "text": [
      "  9%|▉         | 7099/80000 [42:23<7:08:12,  2.84it/s]"
     ]
    },
    {
     "name": "stdout",
     "output_type": "stream",
     "text": [
      "Sun Jun 28 06:51:23 2020: Iteration: [7100/80000]\tRecon Loss: 662.4881\tPercept Loss: 54995.4612\tTV Loss: 10.4757\tAttn Loss: 734.4665\tTotal: 66131.8977\n"
     ]
    },
    {
     "name": "stderr",
     "output_type": "stream",
     "text": [
      "  9%|▉         | 7199/80000 [42:58<7:08:29,  2.83it/s]"
     ]
    },
    {
     "name": "stdout",
     "output_type": "stream",
     "text": [
      "Sun Jun 28 06:51:58 2020: Iteration: [7200/80000]\tRecon Loss: 645.9455\tPercept Loss: 52194.3342\tTV Loss: 10.3053\tAttn Loss: 530.8528\tTotal: 61941.9579\n"
     ]
    },
    {
     "name": "stderr",
     "output_type": "stream",
     "text": [
      "  9%|▉         | 7299/80000 [43:34<7:34:39,  2.67it/s]"
     ]
    },
    {
     "name": "stdout",
     "output_type": "stream",
     "text": [
      "Sun Jun 28 06:52:34 2020: Iteration: [7300/80000]\tRecon Loss: 657.2119\tPercept Loss: 53478.0235\tTV Loss: 10.5326\tAttn Loss: 567.2850\tTotal: 63559.1780\n"
     ]
    },
    {
     "name": "stderr",
     "output_type": "stream",
     "text": [
      "  9%|▉         | 7399/80000 [44:10<7:15:40,  2.78it/s]"
     ]
    },
    {
     "name": "stdout",
     "output_type": "stream",
     "text": [
      "Sun Jun 28 06:53:10 2020: Iteration: [7400/80000]\tRecon Loss: 641.1346\tPercept Loss: 51785.0815\tTV Loss: 10.2190\tAttn Loss: 598.1078\tTotal: 61887.2639\n"
     ]
    },
    {
     "name": "stderr",
     "output_type": "stream",
     "text": [
      "  9%|▉         | 7499/80000 [44:46<7:13:31,  2.79it/s]"
     ]
    },
    {
     "name": "stdout",
     "output_type": "stream",
     "text": [
      "Sun Jun 28 06:53:46 2020: Iteration: [7500/80000]\tRecon Loss: 624.9432\tPercept Loss: 51451.0745\tTV Loss: 10.2102\tAttn Loss: 394.4118\tTotal: 60169.0788\n"
     ]
    },
    {
     "name": "stderr",
     "output_type": "stream",
     "text": [
      "  9%|▉         | 7599/80000 [45:21<7:10:50,  2.80it/s]"
     ]
    },
    {
     "name": "stdout",
     "output_type": "stream",
     "text": [
      "Sun Jun 28 06:54:22 2020: Iteration: [7600/80000]\tRecon Loss: 660.6389\tPercept Loss: 54974.1501\tTV Loss: 10.6312\tAttn Loss: 403.3583\tTotal: 64107.0019\n"
     ]
    },
    {
     "name": "stderr",
     "output_type": "stream",
     "text": [
      " 10%|▉         | 7699/80000 [45:57<7:11:23,  2.79it/s]"
     ]
    },
    {
     "name": "stdout",
     "output_type": "stream",
     "text": [
      "Sun Jun 28 06:54:57 2020: Iteration: [7700/80000]\tRecon Loss: 660.6745\tPercept Loss: 53098.3746\tTV Loss: 10.4810\tAttn Loss: 444.9432\tTotal: 62479.5895\n"
     ]
    },
    {
     "name": "stderr",
     "output_type": "stream",
     "text": [
      " 10%|▉         | 7799/80000 [46:33<7:10:23,  2.80it/s]"
     ]
    },
    {
     "name": "stdout",
     "output_type": "stream",
     "text": [
      "Sun Jun 28 06:55:33 2020: Iteration: [7800/80000]\tRecon Loss: 629.1545\tPercept Loss: 51257.6820\tTV Loss: 10.1588\tAttn Loss: 330.6723\tTotal: 59634.8489\n"
     ]
    },
    {
     "name": "stderr",
     "output_type": "stream",
     "text": [
      " 10%|▉         | 7899/80000 [47:09<7:14:38,  2.76it/s]"
     ]
    },
    {
     "name": "stdout",
     "output_type": "stream",
     "text": [
      "Sun Jun 28 06:56:09 2020: Iteration: [7900/80000]\tRecon Loss: 652.9865\tPercept Loss: 53635.5416\tTV Loss: 10.5813\tAttn Loss: 346.5779\tTotal: 62350.6864\n"
     ]
    },
    {
     "name": "stderr",
     "output_type": "stream",
     "text": [
      " 10%|▉         | 7999/80000 [47:45<7:08:16,  2.80it/s]"
     ]
    },
    {
     "name": "stdout",
     "output_type": "stream",
     "text": [
      "Sun Jun 28 06:56:45 2020: Iteration: [8000/80000]\tRecon Loss: 655.3556\tPercept Loss: 53518.3177\tTV Loss: 10.5589\tAttn Loss: 351.9525\tTotal: 62289.1778\n"
     ]
    },
    {
     "name": "stderr",
     "output_type": "stream",
     "text": [
      " 10%|█         | 8099/80000 [48:21<7:12:30,  2.77it/s]"
     ]
    },
    {
     "name": "stdout",
     "output_type": "stream",
     "text": [
      "Sun Jun 28 06:57:21 2020: Iteration: [8100/80000]\tRecon Loss: 615.5272\tPercept Loss: 49952.4939\tTV Loss: 10.1110\tAttn Loss: 363.8827\tTotal: 58392.1723\n"
     ]
    },
    {
     "name": "stderr",
     "output_type": "stream",
     "text": [
      " 10%|█         | 8199/80000 [48:57<7:10:03,  2.78it/s]"
     ]
    },
    {
     "name": "stdout",
     "output_type": "stream",
     "text": [
      "Sun Jun 28 06:57:57 2020: Iteration: [8200/80000]\tRecon Loss: 640.1239\tPercept Loss: 52568.2819\tTV Loss: 10.4419\tAttn Loss: 310.2166\tTotal: 60935.2397\n"
     ]
    },
    {
     "name": "stderr",
     "output_type": "stream",
     "text": [
      " 10%|█         | 8299/80000 [49:33<7:10:32,  2.78it/s]"
     ]
    },
    {
     "name": "stdout",
     "output_type": "stream",
     "text": [
      "Sun Jun 28 06:58:33 2020: Iteration: [8300/80000]\tRecon Loss: 610.6480\tPercept Loss: 51504.5223\tTV Loss: 10.2797\tAttn Loss: 287.6496\tTotal: 59439.6972\n"
     ]
    },
    {
     "name": "stderr",
     "output_type": "stream",
     "text": [
      " 10%|█         | 8399/80000 [50:09<7:05:16,  2.81it/s]"
     ]
    },
    {
     "name": "stdout",
     "output_type": "stream",
     "text": [
      "Sun Jun 28 06:59:09 2020: Iteration: [8400/80000]\tRecon Loss: 621.0975\tPercept Loss: 49751.5249\tTV Loss: 10.1819\tAttn Loss: 294.6216\tTotal: 57832.0480\n"
     ]
    },
    {
     "name": "stderr",
     "output_type": "stream",
     "text": [
      " 11%|█         | 8419/80000 [50:16<7:05:16,  2.81it/s]/home/dehezhang2/anaconda3/lib/python3.7/site-packages/PIL/Image.py:2766: DecompressionBombWarning: Image size (131790400 pixels) exceeds limit of 89478485 pixels, could be decompression bomb DOS attack.\n",
      "  DecompressionBombWarning,\n",
      " 11%|█         | 8499/80000 [50:45<7:04:23,  2.81it/s] "
     ]
    },
    {
     "name": "stdout",
     "output_type": "stream",
     "text": [
      "Sun Jun 28 06:59:45 2020: Iteration: [8500/80000]\tRecon Loss: 648.7390\tPercept Loss: 52232.1526\tTV Loss: 10.5684\tAttn Loss: 276.8025\tTotal: 60486.0425\n"
     ]
    },
    {
     "name": "stderr",
     "output_type": "stream",
     "text": [
      " 11%|█         | 8599/80000 [51:21<7:03:04,  2.81it/s]"
     ]
    },
    {
     "name": "stdout",
     "output_type": "stream",
     "text": [
      "Sun Jun 28 07:00:21 2020: Iteration: [8600/80000]\tRecon Loss: 639.8880\tPercept Loss: 52428.6831\tTV Loss: 10.3965\tAttn Loss: 277.6389\tTotal: 60597.3604\n"
     ]
    },
    {
     "name": "stderr",
     "output_type": "stream",
     "text": [
      " 11%|█         | 8699/80000 [51:57<7:00:55,  2.82it/s]"
     ]
    },
    {
     "name": "stdout",
     "output_type": "stream",
     "text": [
      "Sun Jun 28 07:00:57 2020: Iteration: [8700/80000]\tRecon Loss: 632.7454\tPercept Loss: 52416.3535\tTV Loss: 10.4976\tAttn Loss: 260.0218\tTotal: 60408.9153\n"
     ]
    },
    {
     "name": "stderr",
     "output_type": "stream",
     "text": [
      " 11%|█         | 8799/80000 [52:32<7:00:20,  2.82it/s]"
     ]
    },
    {
     "name": "stdout",
     "output_type": "stream",
     "text": [
      "Sun Jun 28 07:01:32 2020: Iteration: [8800/80000]\tRecon Loss: 659.5229\tPercept Loss: 53531.5740\tTV Loss: 10.7119\tAttn Loss: 264.0531\tTotal: 61818.2400\n"
     ]
    },
    {
     "name": "stderr",
     "output_type": "stream",
     "text": [
      " 11%|█         | 8899/80000 [53:08<6:59:23,  2.83it/s]"
     ]
    },
    {
     "name": "stdout",
     "output_type": "stream",
     "text": [
      "Sun Jun 28 07:02:08 2020: Iteration: [8900/80000]\tRecon Loss: 639.0852\tPercept Loss: 51583.9330\tTV Loss: 10.4992\tAttn Loss: 307.1954\tTotal: 59922.9490\n"
     ]
    },
    {
     "name": "stderr",
     "output_type": "stream",
     "text": [
      " 11%|█         | 8999/80000 [53:44<7:00:58,  2.81it/s]"
     ]
    },
    {
     "name": "stdout",
     "output_type": "stream",
     "text": [
      "Sun Jun 28 07:02:44 2020: Iteration: [9000/80000]\tRecon Loss: 643.4417\tPercept Loss: 52545.2730\tTV Loss: 10.6129\tAttn Loss: 295.9865\tTotal: 60861.7379\n"
     ]
    },
    {
     "name": "stderr",
     "output_type": "stream",
     "text": [
      " 11%|█▏        | 9099/80000 [54:20<7:17:20,  2.70it/s]"
     ]
    },
    {
     "name": "stdout",
     "output_type": "stream",
     "text": [
      "Sun Jun 28 07:03:20 2020: Iteration: [9100/80000]\tRecon Loss: 642.0244\tPercept Loss: 52591.0621\tTV Loss: 10.6817\tAttn Loss: 270.1343\tTotal: 60738.9286\n"
     ]
    },
    {
     "name": "stderr",
     "output_type": "stream",
     "text": [
      " 11%|█▏        | 9199/80000 [54:56<7:02:24,  2.79it/s]"
     ]
    },
    {
     "name": "stdout",
     "output_type": "stream",
     "text": [
      "Sun Jun 28 07:03:56 2020: Iteration: [9200/80000]\tRecon Loss: 626.9797\tPercept Loss: 50643.8417\tTV Loss: 10.3123\tAttn Loss: 287.3115\tTotal: 58740.6301\n"
     ]
    },
    {
     "name": "stderr",
     "output_type": "stream",
     "text": [
      " 12%|█▏        | 9299/80000 [55:31<6:55:17,  2.84it/s]"
     ]
    },
    {
     "name": "stdout",
     "output_type": "stream",
     "text": [
      "Sun Jun 28 07:04:31 2020: Iteration: [9300/80000]\tRecon Loss: 633.0732\tPercept Loss: 51304.4988\tTV Loss: 10.6145\tAttn Loss: 236.8236\tTotal: 59162.3180\n"
     ]
    },
    {
     "name": "stderr",
     "output_type": "stream",
     "text": [
      " 12%|█▏        | 9399/80000 [56:07<7:01:20,  2.79it/s]"
     ]
    },
    {
     "name": "stdout",
     "output_type": "stream",
     "text": [
      "Sun Jun 28 07:05:07 2020: Iteration: [9400/80000]\tRecon Loss: 640.0546\tPercept Loss: 52291.4791\tTV Loss: 10.6798\tAttn Loss: 273.2628\tTotal: 60438.3994\n"
     ]
    },
    {
     "name": "stderr",
     "output_type": "stream",
     "text": [
      " 12%|█▏        | 9499/80000 [56:43<6:58:43,  2.81it/s]"
     ]
    },
    {
     "name": "stdout",
     "output_type": "stream",
     "text": [
      "Sun Jun 28 07:05:43 2020: Iteration: [9500/80000]\tRecon Loss: 653.5893\tPercept Loss: 52568.8973\tTV Loss: 10.7605\tAttn Loss: 241.8332\tTotal: 60663.3938\n"
     ]
    },
    {
     "name": "stderr",
     "output_type": "stream",
     "text": [
      " 12%|█▏        | 9599/80000 [57:19<7:03:01,  2.77it/s]"
     ]
    },
    {
     "name": "stdout",
     "output_type": "stream",
     "text": [
      "Sun Jun 28 07:06:19 2020: Iteration: [9600/80000]\tRecon Loss: 640.7282\tPercept Loss: 52980.0929\tTV Loss: 10.7853\tAttn Loss: 254.2087\tTotal: 61020.4807\n"
     ]
    },
    {
     "name": "stderr",
     "output_type": "stream",
     "text": [
      " 12%|█▏        | 9699/80000 [57:55<6:58:38,  2.80it/s]"
     ]
    },
    {
     "name": "stdout",
     "output_type": "stream",
     "text": [
      "Sun Jun 28 07:06:55 2020: Iteration: [9700/80000]\tRecon Loss: 603.0904\tPercept Loss: 49275.1495\tTV Loss: 10.1877\tAttn Loss: 259.7517\tTotal: 56966.4410\n"
     ]
    },
    {
     "name": "stderr",
     "output_type": "stream",
     "text": [
      " 12%|█▏        | 9799/80000 [58:31<7:01:35,  2.78it/s]"
     ]
    },
    {
     "name": "stdout",
     "output_type": "stream",
     "text": [
      "Sun Jun 28 07:07:31 2020: Iteration: [9800/80000]\tRecon Loss: 645.4262\tPercept Loss: 52886.8514\tTV Loss: 10.7840\tAttn Loss: 230.6721\tTotal: 60832.9852\n"
     ]
    },
    {
     "name": "stderr",
     "output_type": "stream",
     "text": [
      " 12%|█▏        | 9899/80000 [59:07<6:56:41,  2.80it/s]"
     ]
    },
    {
     "name": "stdout",
     "output_type": "stream",
     "text": [
      "Sun Jun 28 07:08:07 2020: Iteration: [9900/80000]\tRecon Loss: 594.0332\tPercept Loss: 48936.6630\tTV Loss: 10.3576\tAttn Loss: 251.8766\tTotal: 56491.8310\n"
     ]
    },
    {
     "name": "stderr",
     "output_type": "stream",
     "text": [
      " 12%|█▏        | 9999/80000 [59:43<7:11:37,  2.70it/s]"
     ]
    },
    {
     "name": "stdout",
     "output_type": "stream",
     "text": [
      "Sun Jun 28 07:08:43 2020: Iteration: [10000/80000]\tRecon Loss: 624.6269\tPercept Loss: 50582.9818\tTV Loss: 10.4319\tAttn Loss: 218.3897\tTotal: 58243.9068\n"
     ]
    },
    {
     "name": "stderr",
     "output_type": "stream",
     "text": [
      " 13%|█▎        | 10099/80000 [1:00:19<6:53:52,  2.81it/s]"
     ]
    },
    {
     "name": "stdout",
     "output_type": "stream",
     "text": [
      "Sun Jun 28 07:09:19 2020: Iteration: [10100/80000]\tRecon Loss: 589.5855\tPercept Loss: 49335.7254\tTV Loss: 10.3593\tAttn Loss: 212.0908\tTotal: 56607.7183\n"
     ]
    },
    {
     "name": "stderr",
     "output_type": "stream",
     "text": [
      " 13%|█▎        | 10199/80000 [1:00:55<7:03:32,  2.75it/s]"
     ]
    },
    {
     "name": "stdout",
     "output_type": "stream",
     "text": [
      "Sun Jun 28 07:09:55 2020: Iteration: [10200/80000]\tRecon Loss: 609.5345\tPercept Loss: 50417.5112\tTV Loss: 10.5380\tAttn Loss: 215.6261\tTotal: 57911.9922\n"
     ]
    },
    {
     "name": "stderr",
     "output_type": "stream",
     "text": [
      " 13%|█▎        | 10299/80000 [1:01:30<6:50:52,  2.83it/s]"
     ]
    },
    {
     "name": "stdout",
     "output_type": "stream",
     "text": [
      "Sun Jun 28 07:10:30 2020: Iteration: [10300/80000]\tRecon Loss: 600.4687\tPercept Loss: 48509.5987\tTV Loss: 10.3155\tAttn Loss: 249.6960\tTotal: 56115.6162\n"
     ]
    },
    {
     "name": "stderr",
     "output_type": "stream",
     "text": [
      " 13%|█▎        | 10399/80000 [1:02:06<6:50:39,  2.82it/s]"
     ]
    },
    {
     "name": "stdout",
     "output_type": "stream",
     "text": [
      "Sun Jun 28 07:11:06 2020: Iteration: [10400/80000]\tRecon Loss: 629.7880\tPercept Loss: 51564.7361\tTV Loss: 10.7743\tAttn Loss: 212.4274\tTotal: 59244.9236\n"
     ]
    },
    {
     "name": "stderr",
     "output_type": "stream",
     "text": [
      " 13%|█▎        | 10499/80000 [1:02:42<6:52:19,  2.81it/s]"
     ]
    },
    {
     "name": "stdout",
     "output_type": "stream",
     "text": [
      "Sun Jun 28 07:11:42 2020: Iteration: [10500/80000]\tRecon Loss: 618.8753\tPercept Loss: 50938.0276\tTV Loss: 10.6044\tAttn Loss: 216.1306\tTotal: 58529.6082\n"
     ]
    },
    {
     "name": "stderr",
     "output_type": "stream",
     "text": [
      " 13%|█▎        | 10599/80000 [1:03:17<6:55:32,  2.78it/s]"
     ]
    },
    {
     "name": "stdout",
     "output_type": "stream",
     "text": [
      "Sun Jun 28 07:12:17 2020: Iteration: [10600/80000]\tRecon Loss: 606.7825\tPercept Loss: 50219.3801\tTV Loss: 10.4373\tAttn Loss: 206.5113\tTotal: 57630.6458\n"
     ]
    },
    {
     "name": "stderr",
     "output_type": "stream",
     "text": [
      " 13%|█▎        | 10699/80000 [1:03:53<6:51:51,  2.80it/s]"
     ]
    },
    {
     "name": "stdout",
     "output_type": "stream",
     "text": [
      "Sun Jun 28 07:12:53 2020: Iteration: [10700/80000]\tRecon Loss: 625.0765\tPercept Loss: 51849.3221\tTV Loss: 10.8040\tAttn Loss: 196.3212\tTotal: 59386.0546\n"
     ]
    },
    {
     "name": "stderr",
     "output_type": "stream",
     "text": [
      " 13%|█▎        | 10799/80000 [1:04:29<6:51:00,  2.81it/s]"
     ]
    },
    {
     "name": "stdout",
     "output_type": "stream",
     "text": [
      "Sun Jun 28 07:13:29 2020: Iteration: [10800/80000]\tRecon Loss: 653.7100\tPercept Loss: 52522.1385\tTV Loss: 10.8872\tAttn Loss: 225.8430\tTotal: 60523.1684\n"
     ]
    },
    {
     "name": "stderr",
     "output_type": "stream",
     "text": [
      " 14%|█▎        | 10899/80000 [1:05:05<6:46:18,  2.83it/s]"
     ]
    },
    {
     "name": "stdout",
     "output_type": "stream",
     "text": [
      "Sun Jun 28 07:14:05 2020: Iteration: [10900/80000]\tRecon Loss: 606.8498\tPercept Loss: 49900.9113\tTV Loss: 10.4836\tAttn Loss: 197.4317\tTotal: 57258.8355\n"
     ]
    },
    {
     "name": "stderr",
     "output_type": "stream",
     "text": [
      " 14%|█▎        | 10999/80000 [1:05:41<6:53:31,  2.78it/s]"
     ]
    },
    {
     "name": "stdout",
     "output_type": "stream",
     "text": [
      "Sun Jun 28 07:14:41 2020: Iteration: [11000/80000]\tRecon Loss: 619.7398\tPercept Loss: 49925.1668\tTV Loss: 10.5109\tAttn Loss: 208.7559\tTotal: 57480.2089\n"
     ]
    },
    {
     "name": "stderr",
     "output_type": "stream",
     "text": [
      " 14%|█▍        | 11099/80000 [1:06:17<6:51:23,  2.79it/s]"
     ]
    },
    {
     "name": "stdout",
     "output_type": "stream",
     "text": [
      "Sun Jun 28 07:15:17 2020: Iteration: [11100/80000]\tRecon Loss: 610.9695\tPercept Loss: 49997.6020\tTV Loss: 10.5140\tAttn Loss: 194.4911\tTotal: 57379.3840\n"
     ]
    },
    {
     "name": "stderr",
     "output_type": "stream",
     "text": [
      " 14%|█▍        | 11199/80000 [1:06:52<6:49:34,  2.80it/s]"
     ]
    },
    {
     "name": "stdout",
     "output_type": "stream",
     "text": [
      "Sun Jun 28 07:15:53 2020: Iteration: [11200/80000]\tRecon Loss: 596.7278\tPercept Loss: 49757.7049\tTV Loss: 10.5033\tAttn Loss: 210.9308\tTotal: 57095.6004\n"
     ]
    },
    {
     "name": "stderr",
     "output_type": "stream",
     "text": [
      " 14%|█▍        | 11299/80000 [1:07:28<6:57:45,  2.74it/s]"
     ]
    },
    {
     "name": "stdout",
     "output_type": "stream",
     "text": [
      "Sun Jun 28 07:16:28 2020: Iteration: [11300/80000]\tRecon Loss: 625.5121\tPercept Loss: 50368.6859\tTV Loss: 10.8113\tAttn Loss: 192.0986\tTotal: 57884.5110\n"
     ]
    },
    {
     "name": "stderr",
     "output_type": "stream",
     "text": [
      " 14%|█▍        | 11399/80000 [1:08:04<6:51:31,  2.78it/s]"
     ]
    },
    {
     "name": "stdout",
     "output_type": "stream",
     "text": [
      "Sun Jun 28 07:17:04 2020: Iteration: [11400/80000]\tRecon Loss: 606.9123\tPercept Loss: 49207.9911\tTV Loss: 10.4500\tAttn Loss: 209.6513\tTotal: 56639.5213\n"
     ]
    },
    {
     "name": "stderr",
     "output_type": "stream",
     "text": [
      " 14%|█▍        | 11499/80000 [1:08:40<6:50:51,  2.78it/s]"
     ]
    },
    {
     "name": "stdout",
     "output_type": "stream",
     "text": [
      "Sun Jun 28 07:17:40 2020: Iteration: [11500/80000]\tRecon Loss: 599.9554\tPercept Loss: 50108.1688\tTV Loss: 10.6646\tAttn Loss: 178.1947\tTotal: 57283.5375\n"
     ]
    },
    {
     "name": "stderr",
     "output_type": "stream",
     "text": [
      " 14%|█▍        | 11599/80000 [1:09:16<7:03:00,  2.69it/s]"
     ]
    },
    {
     "name": "stdout",
     "output_type": "stream",
     "text": [
      "Sun Jun 28 07:18:16 2020: Iteration: [11600/80000]\tRecon Loss: 632.1379\tPercept Loss: 51193.3816\tTV Loss: 10.8767\tAttn Loss: 191.9950\tTotal: 58775.4973\n"
     ]
    },
    {
     "name": "stderr",
     "output_type": "stream",
     "text": [
      " 15%|█▍        | 11699/80000 [1:09:52<6:44:56,  2.81it/s]"
     ]
    },
    {
     "name": "stdout",
     "output_type": "stream",
     "text": [
      "Sun Jun 28 07:18:52 2020: Iteration: [11700/80000]\tRecon Loss: 612.9956\tPercept Loss: 49903.6347\tTV Loss: 10.6949\tAttn Loss: 168.7432\tTotal: 57152.9993\n"
     ]
    },
    {
     "name": "stderr",
     "output_type": "stream",
     "text": [
      " 15%|█▍        | 11799/80000 [1:10:28<6:45:57,  2.80it/s]"
     ]
    },
    {
     "name": "stdout",
     "output_type": "stream",
     "text": [
      "Sun Jun 28 07:19:28 2020: Iteration: [11800/80000]\tRecon Loss: 599.3597\tPercept Loss: 48560.4172\tTV Loss: 10.4763\tAttn Loss: 241.3265\tTotal: 56106.7373\n"
     ]
    },
    {
     "name": "stderr",
     "output_type": "stream",
     "text": [
      " 15%|█▍        | 11899/80000 [1:11:04<6:43:09,  2.82it/s]"
     ]
    },
    {
     "name": "stdout",
     "output_type": "stream",
     "text": [
      "Sun Jun 28 07:20:04 2020: Iteration: [11900/80000]\tRecon Loss: 624.1285\tPercept Loss: 50432.9321\tTV Loss: 10.7649\tAttn Loss: 221.8086\tTotal: 58112.7179\n"
     ]
    },
    {
     "name": "stderr",
     "output_type": "stream",
     "text": [
      " 15%|█▍        | 11999/80000 [1:11:40<6:39:32,  2.84it/s]"
     ]
    },
    {
     "name": "stdout",
     "output_type": "stream",
     "text": [
      "Sun Jun 28 07:20:40 2020: Iteration: [12000/80000]\tRecon Loss: 604.8274\tPercept Loss: 49774.9384\tTV Loss: 10.6653\tAttn Loss: 170.0467\tTotal: 56950.1460\n"
     ]
    },
    {
     "name": "stderr",
     "output_type": "stream",
     "text": [
      " 15%|█▌        | 12099/80000 [1:12:15<6:40:17,  2.83it/s]"
     ]
    },
    {
     "name": "stdout",
     "output_type": "stream",
     "text": [
      "Sun Jun 28 07:21:15 2020: Iteration: [12100/80000]\tRecon Loss: 596.7957\tPercept Loss: 48595.3577\tTV Loss: 10.3841\tAttn Loss: 182.8475\tTotal: 55764.2414\n"
     ]
    },
    {
     "name": "stderr",
     "output_type": "stream",
     "text": [
      " 15%|█▌        | 12199/80000 [1:12:51<6:38:42,  2.83it/s]"
     ]
    },
    {
     "name": "stdout",
     "output_type": "stream",
     "text": [
      "Sun Jun 28 07:21:51 2020: Iteration: [12200/80000]\tRecon Loss: 595.0050\tPercept Loss: 48399.9645\tTV Loss: 10.4609\tAttn Loss: 155.0529\tTotal: 55384.9405\n"
     ]
    },
    {
     "name": "stderr",
     "output_type": "stream",
     "text": [
      " 15%|█▌        | 12299/80000 [1:13:27<6:42:34,  2.80it/s]"
     ]
    },
    {
     "name": "stdout",
     "output_type": "stream",
     "text": [
      "Sun Jun 28 07:22:27 2020: Iteration: [12300/80000]\tRecon Loss: 580.2829\tPercept Loss: 47845.8296\tTV Loss: 10.3668\tAttn Loss: 152.7069\tTotal: 54668.5675\n"
     ]
    },
    {
     "name": "stderr",
     "output_type": "stream",
     "text": [
      " 15%|█▌        | 12399/80000 [1:14:02<7:01:20,  2.67it/s]"
     ]
    },
    {
     "name": "stdout",
     "output_type": "stream",
     "text": [
      "Sun Jun 28 07:23:02 2020: Iteration: [12400/80000]\tRecon Loss: 587.6427\tPercept Loss: 49015.5321\tTV Loss: 10.4741\tAttn Loss: 151.3621\tTotal: 55904.8730\n"
     ]
    },
    {
     "name": "stderr",
     "output_type": "stream",
     "text": [
      " 16%|█▌        | 12499/80000 [1:14:38<6:38:59,  2.82it/s]"
     ]
    },
    {
     "name": "stdout",
     "output_type": "stream",
     "text": [
      "Sun Jun 28 07:23:38 2020: Iteration: [12500/80000]\tRecon Loss: 576.4873\tPercept Loss: 48379.6246\tTV Loss: 10.5351\tAttn Loss: 149.4828\tTotal: 55146.7451\n"
     ]
    },
    {
     "name": "stderr",
     "output_type": "stream",
     "text": [
      " 16%|█▌        | 12599/80000 [1:15:14<6:41:11,  2.80it/s]"
     ]
    },
    {
     "name": "stdout",
     "output_type": "stream",
     "text": [
      "Sun Jun 28 07:24:14 2020: Iteration: [12600/80000]\tRecon Loss: 604.7026\tPercept Loss: 49138.0580\tTV Loss: 10.5247\tAttn Loss: 140.0727\tTotal: 56130.7678\n"
     ]
    },
    {
     "name": "stderr",
     "output_type": "stream",
     "text": [
      " 16%|█▌        | 12699/80000 [1:15:50<6:40:21,  2.80it/s]"
     ]
    },
    {
     "name": "stdout",
     "output_type": "stream",
     "text": [
      "Sun Jun 28 07:24:50 2020: Iteration: [12700/80000]\tRecon Loss: 582.6239\tPercept Loss: 48504.4617\tTV Loss: 10.5558\tAttn Loss: 129.4951\tTotal: 55213.2291\n"
     ]
    },
    {
     "name": "stderr",
     "output_type": "stream",
     "text": [
      " 16%|█▌        | 12799/80000 [1:16:26<6:36:31,  2.82it/s]"
     ]
    },
    {
     "name": "stdout",
     "output_type": "stream",
     "text": [
      "Sun Jun 28 07:25:26 2020: Iteration: [12800/80000]\tRecon Loss: 597.6778\tPercept Loss: 49180.7289\tTV Loss: 10.5848\tAttn Loss: 183.9639\tTotal: 56367.1375\n"
     ]
    },
    {
     "name": "stderr",
     "output_type": "stream",
     "text": [
      " 16%|█▌        | 12899/80000 [1:17:01<6:44:08,  2.77it/s]"
     ]
    },
    {
     "name": "stdout",
     "output_type": "stream",
     "text": [
      "Sun Jun 28 07:26:01 2020: Iteration: [12900/80000]\tRecon Loss: 586.5649\tPercept Loss: 48660.0456\tTV Loss: 10.6690\tAttn Loss: 127.8685\tTotal: 55399.5954\n"
     ]
    },
    {
     "name": "stderr",
     "output_type": "stream",
     "text": [
      " 16%|█▌        | 12999/80000 [1:17:37<6:36:48,  2.81it/s]"
     ]
    },
    {
     "name": "stdout",
     "output_type": "stream",
     "text": [
      "Sun Jun 28 07:26:37 2020: Iteration: [13000/80000]\tRecon Loss: 591.8291\tPercept Loss: 48370.4961\tTV Loss: 10.4519\tAttn Loss: 128.8869\tTotal: 55166.6280\n"
     ]
    },
    {
     "name": "stderr",
     "output_type": "stream",
     "text": [
      " 16%|█▋        | 13099/80000 [1:18:13<6:38:22,  2.80it/s]"
     ]
    },
    {
     "name": "stdout",
     "output_type": "stream",
     "text": [
      "Sun Jun 28 07:27:13 2020: Iteration: [13100/80000]\tRecon Loss: 606.8844\tPercept Loss: 48825.7956\tTV Loss: 10.5821\tAttn Loss: 111.9370\tTotal: 55672.0819\n"
     ]
    },
    {
     "name": "stderr",
     "output_type": "stream",
     "text": [
      " 16%|█▋        | 13199/80000 [1:18:49<6:34:58,  2.82it/s]"
     ]
    },
    {
     "name": "stdout",
     "output_type": "stream",
     "text": [
      "Sun Jun 28 07:27:49 2020: Iteration: [13200/80000]\tRecon Loss: 601.9710\tPercept Loss: 49482.3270\tTV Loss: 10.7084\tAttn Loss: 129.9000\tTotal: 56388.5208\n"
     ]
    },
    {
     "name": "stderr",
     "output_type": "stream",
     "text": [
      " 17%|█▋        | 13299/80000 [1:19:25<6:51:09,  2.70it/s]"
     ]
    },
    {
     "name": "stdout",
     "output_type": "stream",
     "text": [
      "Sun Jun 28 07:28:25 2020: Iteration: [13300/80000]\tRecon Loss: 595.0376\tPercept Loss: 48202.8617\tTV Loss: 10.6151\tAttn Loss: 137.9701\tTotal: 55087.2090\n"
     ]
    },
    {
     "name": "stderr",
     "output_type": "stream",
     "text": [
      " 17%|█▋        | 13399/80000 [1:20:01<6:34:14,  2.82it/s]"
     ]
    },
    {
     "name": "stdout",
     "output_type": "stream",
     "text": [
      "Sun Jun 28 07:29:01 2020: Iteration: [13400/80000]\tRecon Loss: 589.7139\tPercept Loss: 48317.4757\tTV Loss: 10.5334\tAttn Loss: 98.0041\tTotal: 54907.9734\n"
     ]
    },
    {
     "name": "stderr",
     "output_type": "stream",
     "text": [
      " 17%|█▋        | 13499/80000 [1:20:37<6:39:47,  2.77it/s]"
     ]
    },
    {
     "name": "stdout",
     "output_type": "stream",
     "text": [
      "Sun Jun 28 07:29:37 2020: Iteration: [13500/80000]\tRecon Loss: 594.9901\tPercept Loss: 48868.8340\tTV Loss: 10.6670\tAttn Loss: 103.0336\tTotal: 55543.6073\n"
     ]
    },
    {
     "name": "stderr",
     "output_type": "stream",
     "text": [
      " 17%|█▋        | 13599/80000 [1:21:12<6:33:13,  2.81it/s]"
     ]
    },
    {
     "name": "stdout",
     "output_type": "stream",
     "text": [
      "Sun Jun 28 07:30:12 2020: Iteration: [13600/80000]\tRecon Loss: 603.7161\tPercept Loss: 50785.1867\tTV Loss: 10.8942\tAttn Loss: 89.2372\tTotal: 57466.7132\n"
     ]
    },
    {
     "name": "stderr",
     "output_type": "stream",
     "text": [
      " 17%|█▋        | 13699/80000 [1:21:48<6:30:10,  2.83it/s]"
     ]
    },
    {
     "name": "stdout",
     "output_type": "stream",
     "text": [
      "Sun Jun 28 07:30:48 2020: Iteration: [13700/80000]\tRecon Loss: 594.6016\tPercept Loss: 48628.3498\tTV Loss: 10.5718\tAttn Loss: 92.3148\tTotal: 55233.9725\n"
     ]
    },
    {
     "name": "stderr",
     "output_type": "stream",
     "text": [
      " 17%|█▋        | 13799/80000 [1:22:24<6:45:42,  2.72it/s]"
     ]
    },
    {
     "name": "stdout",
     "output_type": "stream",
     "text": [
      "Sun Jun 28 07:31:24 2020: Iteration: [13800/80000]\tRecon Loss: 580.4108\tPercept Loss: 47852.3891\tTV Loss: 10.4530\tAttn Loss: 83.3354\tTotal: 54261.0395\n"
     ]
    },
    {
     "name": "stderr",
     "output_type": "stream",
     "text": [
      " 17%|█▋        | 13898/80000 [1:22:59<6:33:21,  2.80it/s]/home/dehezhang2/anaconda3/lib/python3.7/site-packages/PIL/Image.py:2766: DecompressionBombWarning: Image size (107327830 pixels) exceeds limit of 89478485 pixels, could be decompression bomb DOS attack.\n",
      "  DecompressionBombWarning,\n",
      " 17%|█▋        | 13899/80000 [1:23:00<6:32:25,  2.81it/s]"
     ]
    },
    {
     "name": "stdout",
     "output_type": "stream",
     "text": [
      "Sun Jun 28 07:32:00 2020: Iteration: [13900/80000]\tRecon Loss: 627.7551\tPercept Loss: 50461.1992\tTV Loss: 11.0207\tAttn Loss: 71.6186\tTotal: 57278.6688\n"
     ]
    },
    {
     "name": "stderr",
     "output_type": "stream",
     "text": [
      " 17%|█▋        | 13999/80000 [1:23:35<6:30:48,  2.81it/s]"
     ]
    },
    {
     "name": "stdout",
     "output_type": "stream",
     "text": [
      "Sun Jun 28 07:32:35 2020: Iteration: [14000/80000]\tRecon Loss: 597.9444\tPercept Loss: 49584.5453\tTV Loss: 10.7038\tAttn Loss: 77.4406\tTotal: 56135.6709\n"
     ]
    },
    {
     "name": "stderr",
     "output_type": "stream",
     "text": [
      " 18%|█▊        | 14099/80000 [1:24:11<6:32:41,  2.80it/s]"
     ]
    },
    {
     "name": "stdout",
     "output_type": "stream",
     "text": [
      "Sun Jun 28 07:33:11 2020: Iteration: [14100/80000]\tRecon Loss: 615.1411\tPercept Loss: 49404.0097\tTV Loss: 10.8650\tAttn Loss: 73.3369\tTotal: 56104.0917\n"
     ]
    },
    {
     "name": "stderr",
     "output_type": "stream",
     "text": [
      " 18%|█▊        | 14199/80000 [1:24:47<6:39:57,  2.74it/s]"
     ]
    },
    {
     "name": "stdout",
     "output_type": "stream",
     "text": [
      "Sun Jun 28 07:33:47 2020: Iteration: [14200/80000]\tRecon Loss: 584.1512\tPercept Loss: 48290.1912\tTV Loss: 10.6286\tAttn Loss: 73.1739\tTotal: 54677.0340\n"
     ]
    },
    {
     "name": "stderr",
     "output_type": "stream",
     "text": [
      " 18%|█▊        | 14299/80000 [1:25:23<6:27:09,  2.83it/s]"
     ]
    },
    {
     "name": "stdout",
     "output_type": "stream",
     "text": [
      "Sun Jun 28 07:34:23 2020: Iteration: [14300/80000]\tRecon Loss: 594.9593\tPercept Loss: 49383.3528\tTV Loss: 10.8206\tAttn Loss: 59.3893\tTotal: 55797.4870\n"
     ]
    },
    {
     "name": "stderr",
     "output_type": "stream",
     "text": [
      " 18%|█▊        | 14399/80000 [1:25:59<6:32:33,  2.79it/s]"
     ]
    },
    {
     "name": "stdout",
     "output_type": "stream",
     "text": [
      "Sun Jun 28 07:34:59 2020: Iteration: [14400/80000]\tRecon Loss: 592.6548\tPercept Loss: 48879.7557\tTV Loss: 10.7452\tAttn Loss: 55.6347\tTotal: 55247.5636\n"
     ]
    },
    {
     "name": "stderr",
     "output_type": "stream",
     "text": [
      " 18%|█▊        | 14499/80000 [1:26:34<6:30:34,  2.80it/s]"
     ]
    },
    {
     "name": "stdout",
     "output_type": "stream",
     "text": [
      "Sun Jun 28 07:35:34 2020: Iteration: [14500/80000]\tRecon Loss: 610.2649\tPercept Loss: 49391.1069\tTV Loss: 10.8849\tAttn Loss: 51.4277\tTotal: 55911.1711\n"
     ]
    },
    {
     "name": "stderr",
     "output_type": "stream",
     "text": [
      " 18%|█▊        | 14599/80000 [1:27:10<6:36:21,  2.75it/s]"
     ]
    },
    {
     "name": "stdout",
     "output_type": "stream",
     "text": [
      "Sun Jun 28 07:36:11 2020: Iteration: [14600/80000]\tRecon Loss: 616.0037\tPercept Loss: 50932.1737\tTV Loss: 11.0196\tAttn Loss: 46.8513\tTotal: 57483.5137\n"
     ]
    },
    {
     "name": "stderr",
     "output_type": "stream",
     "text": [
      " 18%|█▊        | 14699/80000 [1:27:46<6:28:18,  2.80it/s]"
     ]
    },
    {
     "name": "stdout",
     "output_type": "stream",
     "text": [
      "Sun Jun 28 07:36:46 2020: Iteration: [14700/80000]\tRecon Loss: 597.2770\tPercept Loss: 49171.5324\tTV Loss: 10.7577\tAttn Loss: 44.4000\tTotal: 55518.2802\n"
     ]
    },
    {
     "name": "stderr",
     "output_type": "stream",
     "text": [
      " 18%|█▊        | 14799/80000 [1:28:23<6:43:14,  2.69it/s]"
     ]
    },
    {
     "name": "stdout",
     "output_type": "stream",
     "text": [
      "Sun Jun 28 07:37:23 2020: Iteration: [14800/80000]\tRecon Loss: 590.9426\tPercept Loss: 46522.7372\tTV Loss: 10.4656\tAttn Loss: 42.7040\tTotal: 52793.0429\n"
     ]
    },
    {
     "name": "stderr",
     "output_type": "stream",
     "text": [
      " 19%|█▊        | 14890/80000 [1:28:55<6:31:12,  2.77it/s]/home/dehezhang2/anaconda3/lib/python3.7/site-packages/PIL/Image.py:2766: DecompressionBombWarning: Image size (131790400 pixels) exceeds limit of 89478485 pixels, could be decompression bomb DOS attack.\n",
      "  DecompressionBombWarning,\n",
      " 19%|█▊        | 14899/80000 [1:28:59<7:41:08,  2.35it/s] "
     ]
    },
    {
     "name": "stdout",
     "output_type": "stream",
     "text": [
      "Sun Jun 28 07:38:00 2020: Iteration: [14900/80000]\tRecon Loss: 581.5441\tPercept Loss: 47119.3029\tTV Loss: 10.5675\tAttn Loss: 37.7118\tTotal: 53266.6895\n"
     ]
    },
    {
     "name": "stderr",
     "output_type": "stream",
     "text": [
      " 19%|█▊        | 14999/80000 [1:29:35<6:24:23,  2.82it/s]"
     ]
    },
    {
     "name": "stdout",
     "output_type": "stream",
     "text": [
      "Sun Jun 28 07:38:35 2020: Iteration: [15000/80000]\tRecon Loss: 583.9361\tPercept Loss: 48109.3028\tTV Loss: 10.5974\tAttn Loss: 34.9746\tTotal: 54264.4857\n"
     ]
    },
    {
     "name": "stderr",
     "output_type": "stream",
     "text": [
      " 19%|█▉        | 15099/80000 [1:30:11<6:24:37,  2.81it/s]"
     ]
    },
    {
     "name": "stdout",
     "output_type": "stream",
     "text": [
      "Sun Jun 28 07:39:11 2020: Iteration: [15100/80000]\tRecon Loss: 568.9572\tPercept Loss: 47718.0026\tTV Loss: 10.5963\tAttn Loss: 28.7893\tTotal: 53686.2738\n"
     ]
    },
    {
     "name": "stderr",
     "output_type": "stream",
     "text": [
      " 19%|█▉        | 15199/80000 [1:30:47<6:24:43,  2.81it/s]"
     ]
    },
    {
     "name": "stdout",
     "output_type": "stream",
     "text": [
      "Sun Jun 28 07:39:47 2020: Iteration: [15200/80000]\tRecon Loss: 568.3217\tPercept Loss: 46744.3138\tTV Loss: 10.4720\tAttn Loss: 27.5313\tTotal: 52697.4391\n"
     ]
    },
    {
     "name": "stderr",
     "output_type": "stream",
     "text": [
      " 19%|█▉        | 15299/80000 [1:31:22<6:22:33,  2.82it/s]"
     ]
    },
    {
     "name": "stdout",
     "output_type": "stream",
     "text": [
      "Sun Jun 28 07:40:22 2020: Iteration: [15300/80000]\tRecon Loss: 585.6295\tPercept Loss: 47698.9169\tTV Loss: 10.6165\tAttn Loss: 24.4100\tTotal: 53807.8365\n"
     ]
    },
    {
     "name": "stderr",
     "output_type": "stream",
     "text": [
      " 19%|█▉        | 15399/80000 [1:31:58<6:22:29,  2.81it/s]"
     ]
    },
    {
     "name": "stdout",
     "output_type": "stream",
     "text": [
      "Sun Jun 28 07:40:58 2020: Iteration: [15400/80000]\tRecon Loss: 591.1272\tPercept Loss: 47089.7597\tTV Loss: 10.5973\tAttn Loss: 27.1567\tTotal: 53269.9451\n"
     ]
    },
    {
     "name": "stderr",
     "output_type": "stream",
     "text": [
      " 19%|█▉        | 15499/80000 [1:32:34<6:23:07,  2.81it/s]"
     ]
    },
    {
     "name": "stdout",
     "output_type": "stream",
     "text": [
      "Sun Jun 28 07:41:34 2020: Iteration: [15500/80000]\tRecon Loss: 563.2097\tPercept Loss: 46119.8000\tTV Loss: 10.5173\tAttn Loss: 25.5068\tTotal: 52010.1107\n"
     ]
    },
    {
     "name": "stderr",
     "output_type": "stream",
     "text": [
      " 19%|█▉        | 15599/80000 [1:33:10<6:24:09,  2.79it/s]"
     ]
    },
    {
     "name": "stdout",
     "output_type": "stream",
     "text": [
      "Sun Jun 28 07:42:10 2020: Iteration: [15600/80000]\tRecon Loss: 591.5468\tPercept Loss: 47950.8491\tTV Loss: 10.6539\tAttn Loss: 25.9187\tTotal: 54128.3689\n"
     ]
    },
    {
     "name": "stderr",
     "output_type": "stream",
     "text": [
      " 20%|█▉        | 15699/80000 [1:33:45<6:22:20,  2.80it/s]"
     ]
    },
    {
     "name": "stdout",
     "output_type": "stream",
     "text": [
      "Sun Jun 28 07:42:45 2020: Iteration: [15700/80000]\tRecon Loss: 593.4515\tPercept Loss: 48524.5204\tTV Loss: 10.8597\tAttn Loss: 20.9037\tTotal: 54693.0544\n"
     ]
    },
    {
     "name": "stderr",
     "output_type": "stream",
     "text": [
      " 20%|█▉        | 15799/80000 [1:34:21<6:24:39,  2.78it/s]"
     ]
    },
    {
     "name": "stdout",
     "output_type": "stream",
     "text": [
      "Sun Jun 28 07:43:21 2020: Iteration: [15800/80000]\tRecon Loss: 574.2830\tPercept Loss: 48416.0655\tTV Loss: 10.8070\tAttn Loss: 23.1251\tTotal: 54405.7167\n"
     ]
    },
    {
     "name": "stderr",
     "output_type": "stream",
     "text": [
      " 20%|█▉        | 15899/80000 [1:34:57<6:22:48,  2.79it/s]"
     ]
    },
    {
     "name": "stdout",
     "output_type": "stream",
     "text": [
      "Sun Jun 28 07:43:57 2020: Iteration: [15900/80000]\tRecon Loss: 598.0207\tPercept Loss: 49415.5827\tTV Loss: 11.1340\tAttn Loss: 20.6192\tTotal: 55630.8455\n"
     ]
    },
    {
     "name": "stderr",
     "output_type": "stream",
     "text": [
      " 20%|█▉        | 15999/80000 [1:35:33<6:24:37,  2.77it/s]"
     ]
    },
    {
     "name": "stdout",
     "output_type": "stream",
     "text": [
      "Sun Jun 28 07:44:33 2020: Iteration: [16000/80000]\tRecon Loss: 582.1487\tPercept Loss: 47211.1180\tTV Loss: 10.6704\tAttn Loss: 20.1991\tTotal: 53260.5027\n"
     ]
    },
    {
     "name": "stderr",
     "output_type": "stream",
     "text": [
      " 20%|██        | 16099/80000 [1:36:08<6:20:08,  2.80it/s]"
     ]
    },
    {
     "name": "stdout",
     "output_type": "stream",
     "text": [
      "Sun Jun 28 07:45:08 2020: Iteration: [16100/80000]\tRecon Loss: 572.5979\tPercept Loss: 46973.2316\tTV Loss: 10.5035\tAttn Loss: 19.1621\tTotal: 52919.2173\n"
     ]
    },
    {
     "name": "stderr",
     "output_type": "stream",
     "text": [
      " 20%|██        | 16199/80000 [1:36:44<6:21:54,  2.78it/s]"
     ]
    },
    {
     "name": "stdout",
     "output_type": "stream",
     "text": [
      "Sun Jun 28 07:45:44 2020: Iteration: [16200/80000]\tRecon Loss: 560.3381\tPercept Loss: 46249.0616\tTV Loss: 10.4817\tAttn Loss: 19.1366\tTotal: 52072.0795\n"
     ]
    },
    {
     "name": "stderr",
     "output_type": "stream",
     "text": [
      " 20%|██        | 16299/80000 [1:37:20<6:27:05,  2.74it/s]"
     ]
    },
    {
     "name": "stdout",
     "output_type": "stream",
     "text": [
      "Sun Jun 28 07:46:20 2020: Iteration: [16300/80000]\tRecon Loss: 591.3474\tPercept Loss: 48227.3025\tTV Loss: 10.6755\tAttn Loss: 17.4196\tTotal: 54352.0478\n"
     ]
    },
    {
     "name": "stderr",
     "output_type": "stream",
     "text": [
      " 20%|██        | 16399/80000 [1:37:56<6:15:41,  2.82it/s]"
     ]
    },
    {
     "name": "stdout",
     "output_type": "stream",
     "text": [
      "Sun Jun 28 07:46:56 2020: Iteration: [16400/80000]\tRecon Loss: 577.4641\tPercept Loss: 46114.0229\tTV Loss: 10.5108\tAttn Loss: 16.4761\tTotal: 52092.6283\n"
     ]
    },
    {
     "name": "stderr",
     "output_type": "stream",
     "text": [
      " 21%|██        | 16499/80000 [1:38:32<6:22:17,  2.77it/s]"
     ]
    },
    {
     "name": "stdout",
     "output_type": "stream",
     "text": [
      "Sun Jun 28 07:47:32 2020: Iteration: [16500/80000]\tRecon Loss: 579.8079\tPercept Loss: 48150.7000\tTV Loss: 10.8404\tAttn Loss: 18.8180\tTotal: 54170.0912\n"
     ]
    },
    {
     "name": "stderr",
     "output_type": "stream",
     "text": [
      " 21%|██        | 16599/80000 [1:39:08<6:28:46,  2.72it/s]"
     ]
    },
    {
     "name": "stdout",
     "output_type": "stream",
     "text": [
      "Sun Jun 28 07:48:08 2020: Iteration: [16600/80000]\tRecon Loss: 580.5076\tPercept Loss: 46909.3540\tTV Loss: 10.6411\tAttn Loss: 18.1604\tTotal: 52929.8032\n"
     ]
    },
    {
     "name": "stderr",
     "output_type": "stream",
     "text": [
      " 21%|██        | 16699/80000 [1:39:44<6:15:12,  2.81it/s]"
     ]
    },
    {
     "name": "stdout",
     "output_type": "stream",
     "text": [
      "Sun Jun 28 07:48:44 2020: Iteration: [16700/80000]\tRecon Loss: 576.5419\tPercept Loss: 47027.7408\tTV Loss: 10.6635\tAttn Loss: 139.5826\tTotal: 53737.2908\n"
     ]
    },
    {
     "name": "stderr",
     "output_type": "stream",
     "text": [
      " 21%|██        | 16799/80000 [1:40:20<6:21:51,  2.76it/s]"
     ]
    },
    {
     "name": "stdout",
     "output_type": "stream",
     "text": [
      "Sun Jun 28 07:49:20 2020: Iteration: [16800/80000]\tRecon Loss: 595.8381\tPercept Loss: 48389.9534\tTV Loss: 10.9814\tAttn Loss: 19.0413\tTotal: 54572.3962\n"
     ]
    },
    {
     "name": "stderr",
     "output_type": "stream",
     "text": [
      " 21%|██        | 16899/80000 [1:40:55<6:19:43,  2.77it/s]"
     ]
    },
    {
     "name": "stdout",
     "output_type": "stream",
     "text": [
      "Sun Jun 28 07:49:55 2020: Iteration: [16900/80000]\tRecon Loss: 582.1083\tPercept Loss: 47326.8684\tTV Loss: 10.6476\tAttn Loss: 21.5390\tTotal: 53383.6604\n"
     ]
    },
    {
     "name": "stderr",
     "output_type": "stream",
     "text": [
      " 21%|██        | 16999/80000 [1:41:31<6:13:48,  2.81it/s]"
     ]
    },
    {
     "name": "stdout",
     "output_type": "stream",
     "text": [
      "Sun Jun 28 07:50:31 2020: Iteration: [17000/80000]\tRecon Loss: 582.6883\tPercept Loss: 47569.8584\tTV Loss: 10.7846\tAttn Loss: 19.4433\tTotal: 53621.2469\n"
     ]
    },
    {
     "name": "stderr",
     "output_type": "stream",
     "text": [
      " 21%|██▏       | 17099/80000 [1:42:07<6:13:43,  2.81it/s]"
     ]
    },
    {
     "name": "stdout",
     "output_type": "stream",
     "text": [
      "Sun Jun 28 07:51:07 2020: Iteration: [17100/80000]\tRecon Loss: 594.5701\tPercept Loss: 47823.2036\tTV Loss: 10.7526\tAttn Loss: 18.9808\tTotal: 53990.3156\n"
     ]
    },
    {
     "name": "stderr",
     "output_type": "stream",
     "text": [
      " 21%|██▏       | 17199/80000 [1:42:43<6:12:30,  2.81it/s]"
     ]
    },
    {
     "name": "stdout",
     "output_type": "stream",
     "text": [
      "Sun Jun 28 07:51:43 2020: Iteration: [17200/80000]\tRecon Loss: 581.2573\tPercept Loss: 48213.6795\tTV Loss: 10.6915\tAttn Loss: 17.7708\tTotal: 54239.7912\n"
     ]
    },
    {
     "name": "stderr",
     "output_type": "stream",
     "text": [
      " 22%|██▏       | 17299/80000 [1:43:18<6:11:14,  2.81it/s]"
     ]
    },
    {
     "name": "stdout",
     "output_type": "stream",
     "text": [
      "Sun Jun 28 07:52:18 2020: Iteration: [17300/80000]\tRecon Loss: 556.4600\tPercept Loss: 46308.7908\tTV Loss: 10.5976\tAttn Loss: 16.2290\tTotal: 52076.7406\n"
     ]
    },
    {
     "name": "stderr",
     "output_type": "stream",
     "text": [
      " 22%|██▏       | 17399/80000 [1:43:54<6:10:02,  2.82it/s]"
     ]
    },
    {
     "name": "stdout",
     "output_type": "stream",
     "text": [
      "Sun Jun 28 07:52:54 2020: Iteration: [17400/80000]\tRecon Loss: 576.6149\tPercept Loss: 47527.9265\tTV Loss: 10.8065\tAttn Loss: 17.4633\tTotal: 53506.9198\n"
     ]
    },
    {
     "name": "stderr",
     "output_type": "stream",
     "text": [
      " 22%|██▏       | 17499/80000 [1:44:30<6:10:54,  2.81it/s]"
     ]
    },
    {
     "name": "stdout",
     "output_type": "stream",
     "text": [
      "Sun Jun 28 07:53:30 2020: Iteration: [17500/80000]\tRecon Loss: 585.0872\tPercept Loss: 48268.4202\tTV Loss: 10.9330\tAttn Loss: 16.3014\tTotal: 54326.4304\n"
     ]
    },
    {
     "name": "stderr",
     "output_type": "stream",
     "text": [
      " 22%|██▏       | 17599/80000 [1:45:06<6:14:31,  2.78it/s]"
     ]
    },
    {
     "name": "stdout",
     "output_type": "stream",
     "text": [
      "Sun Jun 28 07:54:06 2020: Iteration: [17600/80000]\tRecon Loss: 581.2225\tPercept Loss: 46867.1550\tTV Loss: 10.7064\tAttn Loss: 16.4164\tTotal: 52884.9421\n"
     ]
    },
    {
     "name": "stderr",
     "output_type": "stream",
     "text": [
      " 22%|██▏       | 17699/80000 [1:45:41<6:09:24,  2.81it/s]"
     ]
    },
    {
     "name": "stdout",
     "output_type": "stream",
     "text": [
      "Sun Jun 28 07:54:41 2020: Iteration: [17700/80000]\tRecon Loss: 587.4877\tPercept Loss: 47084.5645\tTV Loss: 10.6554\tAttn Loss: 16.1256\tTotal: 53162.7489\n"
     ]
    },
    {
     "name": "stderr",
     "output_type": "stream",
     "text": [
      " 22%|██▏       | 17799/80000 [1:46:17<6:08:58,  2.81it/s]"
     ]
    },
    {
     "name": "stdout",
     "output_type": "stream",
     "text": [
      "Sun Jun 28 07:55:17 2020: Iteration: [17800/80000]\tRecon Loss: 574.6033\tPercept Loss: 46033.1831\tTV Loss: 10.6054\tAttn Loss: 16.2552\tTotal: 51982.8012\n"
     ]
    },
    {
     "name": "stderr",
     "output_type": "stream",
     "text": [
      " 22%|██▏       | 17899/80000 [1:46:53<6:11:25,  2.79it/s]"
     ]
    },
    {
     "name": "stdout",
     "output_type": "stream",
     "text": [
      "Sun Jun 28 07:55:53 2020: Iteration: [17900/80000]\tRecon Loss: 578.6362\tPercept Loss: 47764.6134\tTV Loss: 10.8585\tAttn Loss: 14.3016\tTotal: 53745.3699\n"
     ]
    },
    {
     "name": "stderr",
     "output_type": "stream",
     "text": [
      " 22%|██▏       | 17999/80000 [1:47:29<6:12:42,  2.77it/s]"
     ]
    },
    {
     "name": "stdout",
     "output_type": "stream",
     "text": [
      "Sun Jun 28 07:56:29 2020: Iteration: [18000/80000]\tRecon Loss: 579.2271\tPercept Loss: 47060.0796\tTV Loss: 10.8088\tAttn Loss: 16.3930\tTotal: 53058.7960\n"
     ]
    },
    {
     "name": "stderr",
     "output_type": "stream",
     "text": [
      " 23%|██▎       | 18099/80000 [1:48:05<6:12:34,  2.77it/s]"
     ]
    },
    {
     "name": "stdout",
     "output_type": "stream",
     "text": [
      "Sun Jun 28 07:57:05 2020: Iteration: [18100/80000]\tRecon Loss: 585.3176\tPercept Loss: 47142.0897\tTV Loss: 10.7654\tAttn Loss: 20.8595\tTotal: 53228.0763\n"
     ]
    },
    {
     "name": "stderr",
     "output_type": "stream",
     "text": [
      " 23%|██▎       | 18199/80000 [1:48:41<6:13:34,  2.76it/s]"
     ]
    },
    {
     "name": "stdout",
     "output_type": "stream",
     "text": [
      "Sun Jun 28 07:57:41 2020: Iteration: [18200/80000]\tRecon Loss: 571.3566\tPercept Loss: 47231.6371\tTV Loss: 10.6558\tAttn Loss: 13.6827\tTotal: 53133.8576\n"
     ]
    },
    {
     "name": "stderr",
     "output_type": "stream",
     "text": [
      " 23%|██▎       | 18299/80000 [1:49:17<6:06:14,  2.81it/s]"
     ]
    },
    {
     "name": "stdout",
     "output_type": "stream",
     "text": [
      "Sun Jun 28 07:58:17 2020: Iteration: [18300/80000]\tRecon Loss: 584.4602\tPercept Loss: 46341.5965\tTV Loss: 10.7028\tAttn Loss: 14.9722\tTotal: 52383.0599\n"
     ]
    },
    {
     "name": "stderr",
     "output_type": "stream",
     "text": [
      " 23%|██▎       | 18378/80000 [1:49:45<6:05:34,  2.81it/s]/home/dehezhang2/anaconda3/lib/python3.7/site-packages/PIL/Image.py:2766: DecompressionBombWarning: Image size (107327830 pixels) exceeds limit of 89478485 pixels, could be decompression bomb DOS attack.\n",
      "  DecompressionBombWarning,\n",
      " 23%|██▎       | 18399/80000 [1:49:53<6:04:10,  2.82it/s]"
     ]
    },
    {
     "name": "stdout",
     "output_type": "stream",
     "text": [
      "Sun Jun 28 07:58:53 2020: Iteration: [18400/80000]\tRecon Loss: 583.9299\tPercept Loss: 48452.0764\tTV Loss: 11.0707\tAttn Loss: 14.9590\tTotal: 54491.8359\n"
     ]
    },
    {
     "name": "stderr",
     "output_type": "stream",
     "text": [
      " 23%|██▎       | 18499/80000 [1:50:28<6:02:16,  2.83it/s]"
     ]
    },
    {
     "name": "stdout",
     "output_type": "stream",
     "text": [
      "Sun Jun 28 07:59:29 2020: Iteration: [18500/80000]\tRecon Loss: 576.9778\tPercept Loss: 47268.0709\tTV Loss: 10.7008\tAttn Loss: 15.2475\tTotal: 53236.3417\n"
     ]
    },
    {
     "name": "stderr",
     "output_type": "stream",
     "text": [
      " 23%|██▎       | 18599/80000 [1:51:04<6:04:10,  2.81it/s]"
     ]
    },
    {
     "name": "stdout",
     "output_type": "stream",
     "text": [
      "Sun Jun 28 08:00:04 2020: Iteration: [18600/80000]\tRecon Loss: 559.6431\tPercept Loss: 45738.9850\tTV Loss: 10.4550\tAttn Loss: 13.7732\tTotal: 51522.6051\n"
     ]
    },
    {
     "name": "stderr",
     "output_type": "stream",
     "text": [
      " 23%|██▎       | 18699/80000 [1:51:40<6:03:48,  2.81it/s]"
     ]
    },
    {
     "name": "stdout",
     "output_type": "stream",
     "text": [
      "Sun Jun 28 08:00:40 2020: Iteration: [18700/80000]\tRecon Loss: 588.9022\tPercept Loss: 48119.9789\tTV Loss: 10.9362\tAttn Loss: 14.5132\tTotal: 54205.4419\n"
     ]
    },
    {
     "name": "stderr",
     "output_type": "stream",
     "text": [
      " 23%|██▎       | 18797/80000 [1:52:15<6:03:04,  2.81it/s]/home/dehezhang2/anaconda3/lib/python3.7/site-packages/PIL/Image.py:2766: DecompressionBombWarning: Image size (131790400 pixels) exceeds limit of 89478485 pixels, could be decompression bomb DOS attack.\n",
      "  DecompressionBombWarning,\n",
      " 23%|██▎       | 18799/80000 [1:52:16<6:02:17,  2.82it/s]"
     ]
    },
    {
     "name": "stdout",
     "output_type": "stream",
     "text": [
      "Sun Jun 28 08:01:16 2020: Iteration: [18800/80000]\tRecon Loss: 566.0036\tPercept Loss: 46702.2229\tTV Loss: 10.6916\tAttn Loss: 14.4586\tTotal: 52555.9263\n"
     ]
    },
    {
     "name": "stderr",
     "output_type": "stream",
     "text": [
      " 24%|██▎       | 18899/80000 [1:52:53<6:01:10,  2.82it/s] "
     ]
    },
    {
     "name": "stdout",
     "output_type": "stream",
     "text": [
      "Sun Jun 28 08:01:53 2020: Iteration: [18900/80000]\tRecon Loss: 581.5594\tPercept Loss: 46777.9164\tTV Loss: 10.8024\tAttn Loss: 15.7827\tTotal: 52796.2301\n"
     ]
    },
    {
     "name": "stderr",
     "output_type": "stream",
     "text": [
      " 24%|██▎       | 18999/80000 [1:53:29<6:00:52,  2.82it/s]"
     ]
    },
    {
     "name": "stdout",
     "output_type": "stream",
     "text": [
      "Sun Jun 28 08:02:29 2020: Iteration: [19000/80000]\tRecon Loss: 572.1217\tPercept Loss: 47140.0028\tTV Loss: 10.7745\tAttn Loss: 16.0320\tTotal: 53065.1570\n"
     ]
    },
    {
     "name": "stderr",
     "output_type": "stream",
     "text": [
      " 24%|██▍       | 19099/80000 [1:54:05<6:01:15,  2.81it/s]"
     ]
    },
    {
     "name": "stdout",
     "output_type": "stream",
     "text": [
      "Sun Jun 28 08:03:05 2020: Iteration: [19100/80000]\tRecon Loss: 574.3877\tPercept Loss: 47398.6333\tTV Loss: 10.8383\tAttn Loss: 13.6504\tTotal: 53332.7964\n"
     ]
    },
    {
     "name": "stderr",
     "output_type": "stream",
     "text": [
      " 24%|██▍       | 19199/80000 [1:54:41<5:58:23,  2.83it/s]"
     ]
    },
    {
     "name": "stdout",
     "output_type": "stream",
     "text": [
      "Sun Jun 28 08:03:41 2020: Iteration: [19200/80000]\tRecon Loss: 565.5216\tPercept Loss: 46166.0488\tTV Loss: 10.6555\tAttn Loss: 14.1483\tTotal: 52012.7097\n"
     ]
    },
    {
     "name": "stderr",
     "output_type": "stream",
     "text": [
      " 24%|██▍       | 19299/80000 [1:55:17<5:59:05,  2.82it/s]"
     ]
    },
    {
     "name": "stdout",
     "output_type": "stream",
     "text": [
      "Sun Jun 28 08:04:17 2020: Iteration: [19300/80000]\tRecon Loss: 577.9234\tPercept Loss: 47773.9535\tTV Loss: 10.8535\tAttn Loss: 15.0438\tTotal: 53751.9852\n"
     ]
    },
    {
     "name": "stderr",
     "output_type": "stream",
     "text": [
      " 24%|██▍       | 19399/80000 [1:55:52<5:59:08,  2.81it/s]"
     ]
    },
    {
     "name": "stdout",
     "output_type": "stream",
     "text": [
      "Sun Jun 28 08:04:52 2020: Iteration: [19400/80000]\tRecon Loss: 568.2187\tPercept Loss: 46465.1474\tTV Loss: 10.8322\tAttn Loss: 13.3753\tTotal: 52335.9089\n"
     ]
    },
    {
     "name": "stderr",
     "output_type": "stream",
     "text": [
      " 24%|██▍       | 19499/80000 [1:56:28<5:58:09,  2.82it/s]"
     ]
    },
    {
     "name": "stdout",
     "output_type": "stream",
     "text": [
      "Sun Jun 28 08:05:28 2020: Iteration: [19500/80000]\tRecon Loss: 572.9718\tPercept Loss: 46923.9669\tTV Loss: 10.7249\tAttn Loss: 14.8169\tTotal: 52849.8354\n"
     ]
    },
    {
     "name": "stderr",
     "output_type": "stream",
     "text": [
      " 24%|██▍       | 19599/80000 [1:57:04<5:56:39,  2.82it/s]"
     ]
    },
    {
     "name": "stdout",
     "output_type": "stream",
     "text": [
      "Sun Jun 28 08:06:04 2020: Iteration: [19600/80000]\tRecon Loss: 584.1270\tPercept Loss: 47769.2496\tTV Loss: 10.8465\tAttn Loss: 14.5852\tTotal: 53806.4955\n"
     ]
    },
    {
     "name": "stderr",
     "output_type": "stream",
     "text": [
      " 25%|██▍       | 19699/80000 [1:57:40<6:02:00,  2.78it/s]"
     ]
    },
    {
     "name": "stdout",
     "output_type": "stream",
     "text": [
      "Sun Jun 28 08:06:40 2020: Iteration: [19700/80000]\tRecon Loss: 577.9606\tPercept Loss: 47193.6253\tTV Loss: 10.8758\tAttn Loss: 13.5459\tTotal: 53163.2641\n"
     ]
    },
    {
     "name": "stderr",
     "output_type": "stream",
     "text": [
      " 25%|██▍       | 19799/80000 [1:58:16<5:56:55,  2.81it/s]"
     ]
    },
    {
     "name": "stdout",
     "output_type": "stream",
     "text": [
      "Sun Jun 28 08:07:16 2020: Iteration: [19800/80000]\tRecon Loss: 556.2436\tPercept Loss: 47289.7881\tTV Loss: 10.7748\tAttn Loss: 13.5868\tTotal: 53041.4926\n"
     ]
    },
    {
     "name": "stderr",
     "output_type": "stream",
     "text": [
      " 25%|██▍       | 19899/80000 [1:58:51<6:01:21,  2.77it/s]"
     ]
    },
    {
     "name": "stdout",
     "output_type": "stream",
     "text": [
      "Sun Jun 28 08:07:51 2020: Iteration: [19900/80000]\tRecon Loss: 571.9418\tPercept Loss: 46474.2555\tTV Loss: 10.7590\tAttn Loss: 12.6683\tTotal: 52377.2725\n"
     ]
    },
    {
     "name": "stderr",
     "output_type": "stream",
     "text": [
      " 25%|██▍       | 19999/80000 [1:59:27<5:55:52,  2.81it/s]"
     ]
    },
    {
     "name": "stdout",
     "output_type": "stream",
     "text": [
      "Sun Jun 28 08:08:27 2020: Iteration: [20000/80000]\tRecon Loss: 557.9171\tPercept Loss: 46839.4989\tTV Loss: 10.7917\tAttn Loss: 13.2988\tTotal: 52606.3797\n"
     ]
    },
    {
     "name": "stderr",
     "output_type": "stream",
     "text": [
      " 25%|██▌       | 20099/80000 [2:00:03<5:52:04,  2.84it/s]"
     ]
    },
    {
     "name": "stdout",
     "output_type": "stream",
     "text": [
      "Sun Jun 28 08:09:03 2020: Iteration: [20100/80000]\tRecon Loss: 563.4134\tPercept Loss: 47309.2273\tTV Loss: 10.8845\tAttn Loss: 13.2967\tTotal: 53131.9869\n"
     ]
    },
    {
     "name": "stderr",
     "output_type": "stream",
     "text": [
      " 25%|██▌       | 20199/80000 [2:00:39<6:01:47,  2.75it/s]"
     ]
    },
    {
     "name": "stdout",
     "output_type": "stream",
     "text": [
      "Sun Jun 28 08:09:39 2020: Iteration: [20200/80000]\tRecon Loss: 576.6470\tPercept Loss: 46921.9367\tTV Loss: 10.7446\tAttn Loss: 13.7704\tTotal: 52878.4746\n"
     ]
    },
    {
     "name": "stderr",
     "output_type": "stream",
     "text": [
      " 25%|██▌       | 20299/80000 [2:01:15<5:52:32,  2.82it/s]"
     ]
    },
    {
     "name": "stdout",
     "output_type": "stream",
     "text": [
      "Sun Jun 28 08:10:15 2020: Iteration: [20300/80000]\tRecon Loss: 580.7021\tPercept Loss: 47665.7006\tTV Loss: 10.9190\tAttn Loss: 13.5404\tTotal: 53663.1537\n"
     ]
    },
    {
     "name": "stderr",
     "output_type": "stream",
     "text": [
      " 25%|██▌       | 20399/80000 [2:01:51<5:54:00,  2.81it/s]"
     ]
    },
    {
     "name": "stdout",
     "output_type": "stream",
     "text": [
      "Sun Jun 28 08:10:51 2020: Iteration: [20400/80000]\tRecon Loss: 559.8227\tPercept Loss: 46047.5322\tTV Loss: 10.7577\tAttn Loss: 25.6401\tTotal: 51907.1772\n"
     ]
    },
    {
     "name": "stderr",
     "output_type": "stream",
     "text": [
      " 26%|██▌       | 20499/80000 [2:02:27<5:58:42,  2.76it/s]"
     ]
    },
    {
     "name": "stdout",
     "output_type": "stream",
     "text": [
      "Sun Jun 28 08:11:27 2020: Iteration: [20500/80000]\tRecon Loss: 548.6531\tPercept Loss: 43983.8867\tTV Loss: 10.3654\tAttn Loss: 30.8428\tTotal: 49759.1287\n"
     ]
    },
    {
     "name": "stderr",
     "output_type": "stream",
     "text": [
      " 26%|██▌       | 20599/80000 [2:03:02<5:50:18,  2.83it/s]"
     ]
    },
    {
     "name": "stdout",
     "output_type": "stream",
     "text": [
      "Sun Jun 28 08:12:03 2020: Iteration: [20600/80000]\tRecon Loss: 572.5728\tPercept Loss: 46724.8741\tTV Loss: 10.8594\tAttn Loss: 13.7514\tTotal: 52641.7042\n"
     ]
    },
    {
     "name": "stderr",
     "output_type": "stream",
     "text": [
      " 26%|██▌       | 20699/80000 [2:03:38<5:53:51,  2.79it/s]"
     ]
    },
    {
     "name": "stdout",
     "output_type": "stream",
     "text": [
      "Sun Jun 28 08:12:38 2020: Iteration: [20700/80000]\tRecon Loss: 554.7599\tPercept Loss: 45760.6477\tTV Loss: 10.6743\tAttn Loss: 20.2372\tTotal: 51536.4133\n"
     ]
    },
    {
     "name": "stderr",
     "output_type": "stream",
     "text": [
      " 26%|██▌       | 20799/80000 [2:04:14<5:50:36,  2.81it/s]"
     ]
    },
    {
     "name": "stdout",
     "output_type": "stream",
     "text": [
      "Sun Jun 28 08:13:14 2020: Iteration: [20800/80000]\tRecon Loss: 578.2565\tPercept Loss: 47203.6584\tTV Loss: 10.9446\tAttn Loss: 13.3240\tTotal: 53175.6139\n"
     ]
    },
    {
     "name": "stderr",
     "output_type": "stream",
     "text": [
      " 26%|██▌       | 20899/80000 [2:04:50<5:48:32,  2.83it/s]"
     ]
    },
    {
     "name": "stdout",
     "output_type": "stream",
     "text": [
      "Sun Jun 28 08:13:50 2020: Iteration: [20900/80000]\tRecon Loss: 575.2731\tPercept Loss: 47039.8356\tTV Loss: 10.8507\tAttn Loss: 15.4737\tTotal: 52993.9157\n"
     ]
    },
    {
     "name": "stderr",
     "output_type": "stream",
     "text": [
      " 26%|██▌       | 20999/80000 [2:05:25<5:48:08,  2.82it/s]"
     ]
    },
    {
     "name": "stdout",
     "output_type": "stream",
     "text": [
      "Sun Jun 28 08:14:25 2020: Iteration: [21000/80000]\tRecon Loss: 565.6230\tPercept Loss: 46121.4645\tTV Loss: 10.8256\tAttn Loss: 16.0012\tTotal: 51981.9577\n"
     ]
    },
    {
     "name": "stderr",
     "output_type": "stream",
     "text": [
      " 26%|██▋       | 21099/80000 [2:06:01<5:48:53,  2.81it/s]"
     ]
    },
    {
     "name": "stdout",
     "output_type": "stream",
     "text": [
      "Sun Jun 28 08:15:01 2020: Iteration: [21100/80000]\tRecon Loss: 577.3326\tPercept Loss: 46570.9664\tTV Loss: 10.8245\tAttn Loss: 16.0623\tTotal: 52548.9111\n"
     ]
    },
    {
     "name": "stderr",
     "output_type": "stream",
     "text": [
      " 26%|██▋       | 21199/80000 [2:06:37<5:47:01,  2.82it/s]"
     ]
    },
    {
     "name": "stdout",
     "output_type": "stream",
     "text": [
      "Sun Jun 28 08:15:37 2020: Iteration: [21200/80000]\tRecon Loss: 562.3262\tPercept Loss: 45501.2357\tTV Loss: 10.6741\tAttn Loss: 14.9462\tTotal: 51320.9164\n"
     ]
    },
    {
     "name": "stderr",
     "output_type": "stream",
     "text": [
      " 27%|██▋       | 21299/80000 [2:07:13<5:48:37,  2.81it/s]"
     ]
    },
    {
     "name": "stdout",
     "output_type": "stream",
     "text": [
      "Sun Jun 28 08:16:13 2020: Iteration: [21300/80000]\tRecon Loss: 549.4183\tPercept Loss: 45227.6488\tTV Loss: 10.5878\tAttn Loss: 14.7290\tTotal: 50916.0836\n"
     ]
    },
    {
     "name": "stderr",
     "output_type": "stream",
     "text": [
      " 27%|██▋       | 21399/80000 [2:07:49<5:51:52,  2.78it/s]"
     ]
    },
    {
     "name": "stdout",
     "output_type": "stream",
     "text": [
      "Sun Jun 28 08:16:49 2020: Iteration: [21400/80000]\tRecon Loss: 555.3825\tPercept Loss: 45688.9614\tTV Loss: 10.6868\tAttn Loss: 14.8405\tTotal: 51438.6973\n"
     ]
    },
    {
     "name": "stderr",
     "output_type": "stream",
     "text": [
      " 27%|██▋       | 21499/80000 [2:08:25<5:48:41,  2.80it/s]"
     ]
    },
    {
     "name": "stdout",
     "output_type": "stream",
     "text": [
      "Sun Jun 28 08:17:25 2020: Iteration: [21500/80000]\tRecon Loss: 563.1047\tPercept Loss: 45910.5927\tTV Loss: 10.7632\tAttn Loss: 16.6842\tTotal: 51749.3768\n"
     ]
    },
    {
     "name": "stderr",
     "output_type": "stream",
     "text": [
      " 27%|██▋       | 21599/80000 [2:09:00<5:49:52,  2.78it/s]"
     ]
    },
    {
     "name": "stdout",
     "output_type": "stream",
     "text": [
      "Sun Jun 28 08:18:00 2020: Iteration: [21600/80000]\tRecon Loss: 555.2706\tPercept Loss: 46249.0019\tTV Loss: 10.8399\tAttn Loss: 14.6992\tTotal: 51998.3023\n"
     ]
    },
    {
     "name": "stderr",
     "output_type": "stream",
     "text": [
      " 27%|██▋       | 21699/80000 [2:09:36<5:47:12,  2.80it/s]"
     ]
    },
    {
     "name": "stdout",
     "output_type": "stream",
     "text": [
      "Sun Jun 28 08:18:36 2020: Iteration: [21700/80000]\tRecon Loss: 546.6107\tPercept Loss: 45573.3941\tTV Loss: 10.7169\tAttn Loss: 14.6249\tTotal: 51234.4193\n"
     ]
    },
    {
     "name": "stderr",
     "output_type": "stream",
     "text": [
      " 27%|██▋       | 21799/80000 [2:10:12<5:45:56,  2.80it/s]"
     ]
    },
    {
     "name": "stdout",
     "output_type": "stream",
     "text": [
      "Sun Jun 28 08:19:12 2020: Iteration: [21800/80000]\tRecon Loss: 564.9781\tPercept Loss: 45895.5674\tTV Loss: 10.7119\tAttn Loss: 16.0860\tTotal: 51748.9838\n"
     ]
    },
    {
     "name": "stderr",
     "output_type": "stream",
     "text": [
      " 27%|██▋       | 21899/80000 [2:10:48<5:46:49,  2.79it/s]"
     ]
    },
    {
     "name": "stdout",
     "output_type": "stream",
     "text": [
      "Sun Jun 28 08:19:48 2020: Iteration: [21900/80000]\tRecon Loss: 553.7109\tPercept Loss: 46469.5389\tTV Loss: 10.8604\tAttn Loss: 15.2039\tTotal: 52206.4757\n"
     ]
    },
    {
     "name": "stderr",
     "output_type": "stream",
     "text": [
      " 27%|██▋       | 21999/80000 [2:11:23<5:44:42,  2.80it/s]"
     ]
    },
    {
     "name": "stdout",
     "output_type": "stream",
     "text": [
      "Sun Jun 28 08:20:23 2020: Iteration: [22000/80000]\tRecon Loss: 557.9444\tPercept Loss: 47037.9395\tTV Loss: 10.8599\tAttn Loss: 12.4973\tTotal: 52800.9655\n"
     ]
    },
    {
     "name": "stderr",
     "output_type": "stream",
     "text": [
      " 28%|██▊       | 22099/80000 [2:11:59<5:44:47,  2.80it/s]"
     ]
    },
    {
     "name": "stdout",
     "output_type": "stream",
     "text": [
      "Sun Jun 28 08:20:59 2020: Iteration: [22100/80000]\tRecon Loss: 552.5981\tPercept Loss: 45017.6528\tTV Loss: 10.7013\tAttn Loss: 15.5241\tTotal: 50743.7913\n"
     ]
    },
    {
     "name": "stderr",
     "output_type": "stream",
     "text": [
      " 28%|██▊       | 22199/80000 [2:12:35<5:48:10,  2.77it/s]"
     ]
    },
    {
     "name": "stdout",
     "output_type": "stream",
     "text": [
      "Sun Jun 28 08:21:35 2020: Iteration: [22200/80000]\tRecon Loss: 559.0835\tPercept Loss: 46515.8319\tTV Loss: 10.7656\tAttn Loss: 14.2758\tTotal: 52299.9777\n"
     ]
    },
    {
     "name": "stderr",
     "output_type": "stream",
     "text": [
      " 28%|██▊       | 22299/80000 [2:13:10<5:41:32,  2.82it/s]"
     ]
    },
    {
     "name": "stdout",
     "output_type": "stream",
     "text": [
      "Sun Jun 28 08:22:10 2020: Iteration: [22300/80000]\tRecon Loss: 577.5879\tPercept Loss: 45084.6052\tTV Loss: 10.5238\tAttn Loss: 12.8652\tTotal: 51042.9126\n"
     ]
    },
    {
     "name": "stderr",
     "output_type": "stream",
     "text": [
      " 28%|██▊       | 22399/80000 [2:13:46<5:44:29,  2.79it/s]"
     ]
    },
    {
     "name": "stdout",
     "output_type": "stream",
     "text": [
      "Sun Jun 28 08:22:46 2020: Iteration: [22400/80000]\tRecon Loss: 587.4049\tPercept Loss: 48143.7063\tTV Loss: 11.2607\tAttn Loss: 15.0180\tTotal: 54220.4696\n"
     ]
    },
    {
     "name": "stderr",
     "output_type": "stream",
     "text": [
      " 28%|██▊       | 22499/80000 [2:14:22<5:42:21,  2.80it/s]"
     ]
    },
    {
     "name": "stdout",
     "output_type": "stream",
     "text": [
      "Sun Jun 28 08:23:22 2020: Iteration: [22500/80000]\tRecon Loss: 557.7035\tPercept Loss: 46764.0676\tTV Loss: 10.9331\tAttn Loss: 28.1792\tTotal: 52619.5089\n"
     ]
    },
    {
     "name": "stderr",
     "output_type": "stream",
     "text": [
      " 28%|██▊       | 22599/80000 [2:14:58<5:39:04,  2.82it/s]"
     ]
    },
    {
     "name": "stdout",
     "output_type": "stream",
     "text": [
      "Sun Jun 28 08:23:58 2020: Iteration: [22600/80000]\tRecon Loss: 571.3520\tPercept Loss: 47262.1318\tTV Loss: 11.0119\tAttn Loss: 14.0800\tTotal: 53170.2503\n"
     ]
    },
    {
     "name": "stderr",
     "output_type": "stream",
     "text": [
      " 28%|██▊       | 22699/80000 [2:15:33<5:40:59,  2.80it/s]"
     ]
    },
    {
     "name": "stdout",
     "output_type": "stream",
     "text": [
      "Sun Jun 28 08:24:33 2020: Iteration: [22700/80000]\tRecon Loss: 573.3776\tPercept Loss: 46417.8900\tTV Loss: 10.9034\tAttn Loss: 14.7269\tTotal: 52349.0622\n"
     ]
    },
    {
     "name": "stderr",
     "output_type": "stream",
     "text": [
      " 28%|██▊       | 22799/80000 [2:16:09<5:40:58,  2.80it/s]"
     ]
    },
    {
     "name": "stdout",
     "output_type": "stream",
     "text": [
      "Sun Jun 28 08:25:09 2020: Iteration: [22800/80000]\tRecon Loss: 553.5440\tPercept Loss: 45398.0324\tTV Loss: 10.6145\tAttn Loss: 14.1475\tTotal: 51124.5021\n"
     ]
    },
    {
     "name": "stderr",
     "output_type": "stream",
     "text": [
      " 29%|██▊       | 22899/80000 [2:16:45<5:41:59,  2.78it/s]"
     ]
    },
    {
     "name": "stdout",
     "output_type": "stream",
     "text": [
      "Sun Jun 28 08:25:45 2020: Iteration: [22900/80000]\tRecon Loss: 560.2716\tPercept Loss: 46519.4165\tTV Loss: 10.8109\tAttn Loss: 11.2198\tTotal: 52297.5604\n"
     ]
    },
    {
     "name": "stderr",
     "output_type": "stream",
     "text": [
      " 29%|██▊       | 22999/80000 [2:17:21<5:47:23,  2.73it/s]"
     ]
    },
    {
     "name": "stdout",
     "output_type": "stream",
     "text": [
      "Sun Jun 28 08:26:21 2020: Iteration: [23000/80000]\tRecon Loss: 559.9395\tPercept Loss: 45775.3913\tTV Loss: 10.8475\tAttn Loss: 14.1196\tTotal: 51567.9784\n"
     ]
    },
    {
     "name": "stderr",
     "output_type": "stream",
     "text": [
      " 29%|██▉       | 23099/80000 [2:17:57<5:39:58,  2.79it/s]"
     ]
    },
    {
     "name": "stdout",
     "output_type": "stream",
     "text": [
      "Sun Jun 28 08:26:57 2020: Iteration: [23100/80000]\tRecon Loss: 580.7292\tPercept Loss: 46781.5844\tTV Loss: 11.0312\tAttn Loss: 75.6273\tTotal: 53152.9518\n"
     ]
    },
    {
     "name": "stderr",
     "output_type": "stream",
     "text": [
      " 29%|██▉       | 23199/80000 [2:18:33<5:45:37,  2.74it/s]"
     ]
    },
    {
     "name": "stdout",
     "output_type": "stream",
     "text": [
      "Sun Jun 28 08:27:33 2020: Iteration: [23200/80000]\tRecon Loss: 545.3207\tPercept Loss: 45557.5157\tTV Loss: 10.8702\tAttn Loss: 28.5783\tTotal: 51290.8944\n"
     ]
    },
    {
     "name": "stderr",
     "output_type": "stream",
     "text": [
      " 29%|██▉       | 23299/80000 [2:19:09<5:48:37,  2.71it/s]"
     ]
    },
    {
     "name": "stdout",
     "output_type": "stream",
     "text": [
      "Sun Jun 28 08:28:09 2020: Iteration: [23300/80000]\tRecon Loss: 561.0705\tPercept Loss: 47036.9568\tTV Loss: 11.0517\tAttn Loss: 15.8692\tTotal: 52853.3939\n"
     ]
    },
    {
     "name": "stderr",
     "output_type": "stream",
     "text": [
      " 29%|██▉       | 23399/80000 [2:19:45<5:36:21,  2.80it/s]"
     ]
    },
    {
     "name": "stdout",
     "output_type": "stream",
     "text": [
      "Sun Jun 28 08:28:45 2020: Iteration: [23400/80000]\tRecon Loss: 552.2145\tPercept Loss: 46072.3334\tTV Loss: 10.8272\tAttn Loss: 15.3959\tTotal: 51795.1260\n"
     ]
    },
    {
     "name": "stderr",
     "output_type": "stream",
     "text": [
      " 29%|██▉       | 23499/80000 [2:20:21<5:37:22,  2.79it/s]"
     ]
    },
    {
     "name": "stdout",
     "output_type": "stream",
     "text": [
      "Sun Jun 28 08:29:21 2020: Iteration: [23500/80000]\tRecon Loss: 565.4768\tPercept Loss: 46290.8920\tTV Loss: 10.9176\tAttn Loss: 12.1875\tTotal: 52127.9608\n"
     ]
    },
    {
     "name": "stderr",
     "output_type": "stream",
     "text": [
      " 29%|██▉       | 23599/80000 [2:20:57<5:38:13,  2.78it/s]"
     ]
    },
    {
     "name": "stdout",
     "output_type": "stream",
     "text": [
      "Sun Jun 28 08:29:57 2020: Iteration: [23600/80000]\tRecon Loss: 562.7961\tPercept Loss: 46218.5112\tTV Loss: 10.9632\tAttn Loss: 15.7743\tTotal: 52050.7505\n"
     ]
    },
    {
     "name": "stderr",
     "output_type": "stream",
     "text": [
      " 30%|██▉       | 23699/80000 [2:21:32<5:32:18,  2.82it/s]"
     ]
    },
    {
     "name": "stdout",
     "output_type": "stream",
     "text": [
      "Sun Jun 28 08:30:32 2020: Iteration: [23700/80000]\tRecon Loss: 564.4667\tPercept Loss: 46980.9171\tTV Loss: 10.9302\tAttn Loss: 14.0505\tTotal: 52819.1896\n"
     ]
    },
    {
     "name": "stderr",
     "output_type": "stream",
     "text": [
      " 30%|██▉       | 23799/80000 [2:22:08<5:42:07,  2.74it/s]"
     ]
    },
    {
     "name": "stdout",
     "output_type": "stream",
     "text": [
      "Sun Jun 28 08:31:08 2020: Iteration: [23800/80000]\tRecon Loss: 560.9768\tPercept Loss: 46688.2037\tTV Loss: 11.0303\tAttn Loss: 15.5081\tTotal: 52501.3232\n"
     ]
    },
    {
     "name": "stderr",
     "output_type": "stream",
     "text": [
      " 30%|██▉       | 23899/80000 [2:22:44<5:33:33,  2.80it/s]"
     ]
    },
    {
     "name": "stdout",
     "output_type": "stream",
     "text": [
      "Sun Jun 28 08:31:44 2020: Iteration: [23900/80000]\tRecon Loss: 549.6625\tPercept Loss: 45310.0153\tTV Loss: 10.7197\tAttn Loss: 18.9647\tTotal: 51027.6252\n"
     ]
    },
    {
     "name": "stderr",
     "output_type": "stream",
     "text": [
      " 30%|██▉       | 23999/80000 [2:23:20<5:38:49,  2.75it/s]"
     ]
    },
    {
     "name": "stdout",
     "output_type": "stream",
     "text": [
      "Sun Jun 28 08:32:20 2020: Iteration: [24000/80000]\tRecon Loss: 549.0568\tPercept Loss: 46420.7441\tTV Loss: 10.8384\tAttn Loss: 14.4199\tTotal: 52106.2152\n"
     ]
    },
    {
     "name": "stderr",
     "output_type": "stream",
     "text": [
      " 30%|███       | 24099/80000 [2:23:55<5:33:59,  2.79it/s]"
     ]
    },
    {
     "name": "stdout",
     "output_type": "stream",
     "text": [
      "Sun Jun 28 08:32:55 2020: Iteration: [24100/80000]\tRecon Loss: 560.1784\tPercept Loss: 45348.7813\tTV Loss: 10.8450\tAttn Loss: 14.5644\tTotal: 51146.4017\n"
     ]
    },
    {
     "name": "stderr",
     "output_type": "stream",
     "text": [
      " 30%|███       | 24112/80000 [2:24:00<5:43:01,  2.72it/s]/home/dehezhang2/anaconda3/lib/python3.7/site-packages/PIL/Image.py:2766: DecompressionBombWarning: Image size (131790400 pixels) exceeds limit of 89478485 pixels, could be decompression bomb DOS attack.\n",
      "  DecompressionBombWarning,\n",
      " 30%|███       | 24199/80000 [2:24:32<5:31:02,  2.81it/s]"
     ]
    },
    {
     "name": "stdout",
     "output_type": "stream",
     "text": [
      "Sun Jun 28 08:33:32 2020: Iteration: [24200/80000]\tRecon Loss: 545.4541\tPercept Loss: 44563.9761\tTV Loss: 10.6427\tAttn Loss: 13.8213\tTotal: 50207.8720\n"
     ]
    },
    {
     "name": "stderr",
     "output_type": "stream",
     "text": [
      " 30%|███       | 24299/80000 [2:25:08<5:30:40,  2.81it/s]"
     ]
    },
    {
     "name": "stdout",
     "output_type": "stream",
     "text": [
      "Sun Jun 28 08:34:08 2020: Iteration: [24300/80000]\tRecon Loss: 526.3200\tPercept Loss: 44560.9341\tTV Loss: 10.5288\tAttn Loss: 15.3765\tTotal: 50021.6810\n"
     ]
    },
    {
     "name": "stderr",
     "output_type": "stream",
     "text": [
      " 30%|███       | 24399/80000 [2:25:43<5:29:24,  2.81it/s]"
     ]
    },
    {
     "name": "stdout",
     "output_type": "stream",
     "text": [
      "Sun Jun 28 08:34:43 2020: Iteration: [24400/80000]\tRecon Loss: 573.4127\tPercept Loss: 46772.2070\tTV Loss: 11.1404\tAttn Loss: 12.6183\tTotal: 52693.4472\n"
     ]
    },
    {
     "name": "stderr",
     "output_type": "stream",
     "text": [
      " 31%|███       | 24452/80000 [2:26:02<5:31:52,  2.79it/s]/home/dehezhang2/anaconda3/lib/python3.7/site-packages/PIL/Image.py:2766: DecompressionBombWarning: Image size (107327830 pixels) exceeds limit of 89478485 pixels, could be decompression bomb DOS attack.\n",
      "  DecompressionBombWarning,\n",
      " 31%|███       | 24499/80000 [2:26:19<5:27:59,  2.82it/s]"
     ]
    },
    {
     "name": "stdout",
     "output_type": "stream",
     "text": [
      "Sun Jun 28 08:35:19 2020: Iteration: [24500/80000]\tRecon Loss: 576.8124\tPercept Loss: 46166.1312\tTV Loss: 10.9977\tAttn Loss: 14.7129\tTotal: 52132.5093\n"
     ]
    },
    {
     "name": "stderr",
     "output_type": "stream",
     "text": [
      " 31%|███       | 24599/80000 [2:26:55<5:31:47,  2.78it/s]"
     ]
    },
    {
     "name": "stdout",
     "output_type": "stream",
     "text": [
      "Sun Jun 28 08:35:55 2020: Iteration: [24600/80000]\tRecon Loss: 576.5013\tPercept Loss: 46677.2021\tTV Loss: 10.9308\tAttn Loss: 37.1305\tTotal: 52774.3063\n"
     ]
    },
    {
     "name": "stderr",
     "output_type": "stream",
     "text": [
      " 31%|███       | 24699/80000 [2:27:31<5:28:00,  2.81it/s]"
     ]
    },
    {
     "name": "stdout",
     "output_type": "stream",
     "text": [
      "Sun Jun 28 08:36:31 2020: Iteration: [24700/80000]\tRecon Loss: 555.0195\tPercept Loss: 46667.5270\tTV Loss: 10.9228\tAttn Loss: 13.7902\tTotal: 52409.6915\n"
     ]
    },
    {
     "name": "stderr",
     "output_type": "stream",
     "text": [
      " 31%|███       | 24799/80000 [2:28:07<5:27:51,  2.81it/s]"
     ]
    },
    {
     "name": "stdout",
     "output_type": "stream",
     "text": [
      "Sun Jun 28 08:37:07 2020: Iteration: [24800/80000]\tRecon Loss: 563.4245\tPercept Loss: 45851.9255\tTV Loss: 10.8119\tAttn Loss: 13.4642\tTotal: 51675.0740\n"
     ]
    },
    {
     "name": "stderr",
     "output_type": "stream",
     "text": [
      " 31%|███       | 24899/80000 [2:28:42<5:27:34,  2.80it/s]"
     ]
    },
    {
     "name": "stdout",
     "output_type": "stream",
     "text": [
      "Sun Jun 28 08:37:42 2020: Iteration: [24900/80000]\tRecon Loss: 553.7976\tPercept Loss: 46197.3318\tTV Loss: 10.9214\tAttn Loss: 13.4414\tTotal: 51925.1705\n"
     ]
    },
    {
     "name": "stderr",
     "output_type": "stream",
     "text": [
      " 31%|███       | 24999/80000 [2:29:18<5:27:40,  2.80it/s]"
     ]
    },
    {
     "name": "stdout",
     "output_type": "stream",
     "text": [
      "Sun Jun 28 08:38:18 2020: Iteration: [25000/80000]\tRecon Loss: 555.6696\tPercept Loss: 45066.1909\tTV Loss: 10.7492\tAttn Loss: 13.6844\tTotal: 50812.4856\n"
     ]
    },
    {
     "name": "stderr",
     "output_type": "stream",
     "text": [
      " 31%|███▏      | 25099/80000 [2:29:55<5:28:30,  2.79it/s]"
     ]
    },
    {
     "name": "stdout",
     "output_type": "stream",
     "text": [
      "Sun Jun 28 08:38:55 2020: Iteration: [25100/80000]\tRecon Loss: 566.0754\tPercept Loss: 46341.0246\tTV Loss: 10.8856\tAttn Loss: 12.4239\tTotal: 52185.1774\n"
     ]
    },
    {
     "name": "stderr",
     "output_type": "stream",
     "text": [
      " 31%|███▏      | 25199/80000 [2:30:31<5:24:16,  2.82it/s]"
     ]
    },
    {
     "name": "stdout",
     "output_type": "stream",
     "text": [
      "Sun Jun 28 08:39:31 2020: Iteration: [25200/80000]\tRecon Loss: 557.8221\tPercept Loss: 45656.5842\tTV Loss: 10.7852\tAttn Loss: 61.5562\tTotal: 51711.9947\n"
     ]
    },
    {
     "name": "stderr",
     "output_type": "stream",
     "text": [
      " 32%|███▏      | 25299/80000 [2:31:07<5:27:18,  2.79it/s]"
     ]
    },
    {
     "name": "stdout",
     "output_type": "stream",
     "text": [
      "Sun Jun 28 08:40:07 2020: Iteration: [25300/80000]\tRecon Loss: 529.8432\tPercept Loss: 42164.3269\tTV Loss: 10.2521\tAttn Loss: 16.0342\tTotal: 47661.4850\n"
     ]
    },
    {
     "name": "stderr",
     "output_type": "stream",
     "text": [
      " 32%|███▏      | 25399/80000 [2:31:42<5:25:49,  2.79it/s]"
     ]
    },
    {
     "name": "stdout",
     "output_type": "stream",
     "text": [
      "Sun Jun 28 08:40:43 2020: Iteration: [25400/80000]\tRecon Loss: 546.7599\tPercept Loss: 44472.7669\tTV Loss: 10.6774\tAttn Loss: 12.1516\tTotal: 50120.0492\n"
     ]
    },
    {
     "name": "stderr",
     "output_type": "stream",
     "text": [
      " 32%|███▏      | 25499/80000 [2:32:18<5:24:33,  2.80it/s]"
     ]
    },
    {
     "name": "stdout",
     "output_type": "stream",
     "text": [
      "Sun Jun 28 08:41:18 2020: Iteration: [25500/80000]\tRecon Loss: 547.7493\tPercept Loss: 44191.0467\tTV Loss: 10.7339\tAttn Loss: 15.8477\tTotal: 49870.9651\n"
     ]
    },
    {
     "name": "stderr",
     "output_type": "stream",
     "text": [
      " 32%|███▏      | 25599/80000 [2:32:54<5:20:32,  2.83it/s]"
     ]
    },
    {
     "name": "stdout",
     "output_type": "stream",
     "text": [
      "Sun Jun 28 08:41:54 2020: Iteration: [25600/80000]\tRecon Loss: 536.7374\tPercept Loss: 44670.8421\tTV Loss: 10.6769\tAttn Loss: 14.0033\tTotal: 50229.0044\n"
     ]
    },
    {
     "name": "stderr",
     "output_type": "stream",
     "text": [
      " 32%|███▏      | 25699/80000 [2:33:30<5:20:55,  2.82it/s]"
     ]
    },
    {
     "name": "stdout",
     "output_type": "stream",
     "text": [
      "Sun Jun 28 08:42:30 2020: Iteration: [25700/80000]\tRecon Loss: 531.8818\tPercept Loss: 44296.9870\tTV Loss: 10.6231\tAttn Loss: 12.5943\tTotal: 49797.6018\n"
     ]
    },
    {
     "name": "stderr",
     "output_type": "stream",
     "text": [
      " 32%|███▏      | 25799/80000 [2:34:06<5:24:57,  2.78it/s]"
     ]
    },
    {
     "name": "stdout",
     "output_type": "stream",
     "text": [
      "Sun Jun 28 08:43:06 2020: Iteration: [25800/80000]\tRecon Loss: 534.0572\tPercept Loss: 44390.4147\tTV Loss: 10.7776\tAttn Loss: 12.3445\tTotal: 49912.8301\n"
     ]
    },
    {
     "name": "stderr",
     "output_type": "stream",
     "text": [
      " 32%|███▏      | 25899/80000 [2:34:41<5:18:31,  2.83it/s]"
     ]
    },
    {
     "name": "stdout",
     "output_type": "stream",
     "text": [
      "Sun Jun 28 08:43:41 2020: Iteration: [25900/80000]\tRecon Loss: 565.9996\tPercept Loss: 46757.4914\tTV Loss: 11.1281\tAttn Loss: 12.8234\tTotal: 52605.7088\n"
     ]
    },
    {
     "name": "stderr",
     "output_type": "stream",
     "text": [
      " 32%|███▏      | 25933/80000 [2:34:53<5:22:55,  2.79it/s]/home/dehezhang2/anaconda3/lib/python3.7/site-packages/PIL/Image.py:2766: DecompressionBombWarning: Image size (131790400 pixels) exceeds limit of 89478485 pixels, could be decompression bomb DOS attack.\n",
      "  DecompressionBombWarning,\n",
      " 32%|███▏      | 25999/80000 [2:35:18<5:20:42,  2.81it/s] "
     ]
    },
    {
     "name": "stdout",
     "output_type": "stream",
     "text": [
      "Sun Jun 28 08:44:18 2020: Iteration: [26000/80000]\tRecon Loss: 569.3577\tPercept Loss: 46007.7769\tTV Loss: 10.8930\tAttn Loss: 14.3091\tTotal: 51896.1389\n"
     ]
    },
    {
     "name": "stderr",
     "output_type": "stream",
     "text": [
      " 33%|███▎      | 26099/80000 [2:35:54<5:17:20,  2.83it/s]"
     ]
    },
    {
     "name": "stdout",
     "output_type": "stream",
     "text": [
      "Sun Jun 28 08:44:54 2020: Iteration: [26100/80000]\tRecon Loss: 550.3616\tPercept Loss: 45390.9213\tTV Loss: 10.8513\tAttn Loss: 13.0401\tTotal: 51081.2912\n"
     ]
    },
    {
     "name": "stderr",
     "output_type": "stream",
     "text": [
      " 33%|███▎      | 26199/80000 [2:36:29<5:18:15,  2.82it/s]"
     ]
    },
    {
     "name": "stdout",
     "output_type": "stream",
     "text": [
      "Sun Jun 28 08:45:29 2020: Iteration: [26200/80000]\tRecon Loss: 546.9070\tPercept Loss: 46015.4264\tTV Loss: 10.8270\tAttn Loss: 42.7988\tTotal: 51849.5588\n"
     ]
    },
    {
     "name": "stderr",
     "output_type": "stream",
     "text": [
      " 33%|███▎      | 26299/80000 [2:37:05<5:17:47,  2.82it/s]"
     ]
    },
    {
     "name": "stdout",
     "output_type": "stream",
     "text": [
      "Sun Jun 28 08:46:05 2020: Iteration: [26300/80000]\tRecon Loss: 535.7888\tPercept Loss: 44546.8049\tTV Loss: 10.6172\tAttn Loss: 9.7321\tTotal: 50069.2584\n"
     ]
    },
    {
     "name": "stderr",
     "output_type": "stream",
     "text": [
      " 33%|███▎      | 26399/80000 [2:37:41<5:20:59,  2.78it/s]"
     ]
    },
    {
     "name": "stdout",
     "output_type": "stream",
     "text": [
      "Sun Jun 28 08:46:41 2020: Iteration: [26400/80000]\tRecon Loss: 578.7831\tPercept Loss: 47440.7761\tTV Loss: 11.1459\tAttn Loss: 12.9155\tTotal: 53417.5588\n"
     ]
    },
    {
     "name": "stderr",
     "output_type": "stream",
     "text": [
      " 33%|███▎      | 26403/80000 [2:37:43<5:12:43,  2.86it/s]/home/dehezhang2/anaconda3/lib/python3.7/site-packages/PIL/Image.py:2766: DecompressionBombWarning: Image size (107327830 pixels) exceeds limit of 89478485 pixels, could be decompression bomb DOS attack.\n",
      "  DecompressionBombWarning,\n",
      " 33%|███▎      | 26499/80000 [2:38:17<5:19:45,  2.79it/s]"
     ]
    },
    {
     "name": "stdout",
     "output_type": "stream",
     "text": [
      "Sun Jun 28 08:47:17 2020: Iteration: [26500/80000]\tRecon Loss: 555.3264\tPercept Loss: 45983.9707\tTV Loss: 10.8037\tAttn Loss: 13.5940\tTotal: 51726.8349\n"
     ]
    },
    {
     "name": "stderr",
     "output_type": "stream",
     "text": [
      " 33%|███▎      | 26599/80000 [2:38:53<5:21:22,  2.77it/s]"
     ]
    },
    {
     "name": "stdout",
     "output_type": "stream",
     "text": [
      "Sun Jun 28 08:47:53 2020: Iteration: [26600/80000]\tRecon Loss: 532.4234\tPercept Loss: 43088.4764\tTV Loss: 10.3974\tAttn Loss: 12.3941\tTotal: 48591.0494\n"
     ]
    },
    {
     "name": "stderr",
     "output_type": "stream",
     "text": [
      " 33%|███▎      | 26699/80000 [2:39:29<5:16:10,  2.81it/s]"
     ]
    },
    {
     "name": "stdout",
     "output_type": "stream",
     "text": [
      "Sun Jun 28 08:48:29 2020: Iteration: [26700/80000]\tRecon Loss: 556.6470\tPercept Loss: 45429.1925\tTV Loss: 10.8558\tAttn Loss: 13.3718\tTotal: 51184.4514\n"
     ]
    },
    {
     "name": "stderr",
     "output_type": "stream",
     "text": [
      " 33%|███▎      | 26799/80000 [2:40:05<5:14:05,  2.82it/s]"
     ]
    },
    {
     "name": "stdout",
     "output_type": "stream",
     "text": [
      "Sun Jun 28 08:49:05 2020: Iteration: [26800/80000]\tRecon Loss: 556.0231\tPercept Loss: 46175.4057\tTV Loss: 10.9230\tAttn Loss: 11.1994\tTotal: 51912.0638\n"
     ]
    },
    {
     "name": "stderr",
     "output_type": "stream",
     "text": [
      " 34%|███▎      | 26899/80000 [2:40:41<5:26:22,  2.71it/s]"
     ]
    },
    {
     "name": "stdout",
     "output_type": "stream",
     "text": [
      "Sun Jun 28 08:49:41 2020: Iteration: [26900/80000]\tRecon Loss: 542.7405\tPercept Loss: 45146.0287\tTV Loss: 10.9256\tAttn Loss: 13.4838\tTotal: 50763.5923\n"
     ]
    },
    {
     "name": "stderr",
     "output_type": "stream",
     "text": [
      " 34%|███▎      | 26999/80000 [2:41:17<5:13:47,  2.82it/s]"
     ]
    },
    {
     "name": "stdout",
     "output_type": "stream",
     "text": [
      "Sun Jun 28 08:50:17 2020: Iteration: [27000/80000]\tRecon Loss: 552.8605\tPercept Loss: 45210.7430\tTV Loss: 10.8682\tAttn Loss: 13.7881\tTotal: 50930.7592\n"
     ]
    },
    {
     "name": "stderr",
     "output_type": "stream",
     "text": [
      " 34%|███▍      | 27099/80000 [2:41:53<5:12:21,  2.82it/s]"
     ]
    },
    {
     "name": "stdout",
     "output_type": "stream",
     "text": [
      "Sun Jun 28 08:50:53 2020: Iteration: [27100/80000]\tRecon Loss: 564.7715\tPercept Loss: 46588.6964\tTV Loss: 11.0656\tAttn Loss: 12.3450\tTotal: 52421.1382\n"
     ]
    },
    {
     "name": "stderr",
     "output_type": "stream",
     "text": [
      " 34%|███▍      | 27199/80000 [2:42:29<5:11:07,  2.83it/s]"
     ]
    },
    {
     "name": "stdout",
     "output_type": "stream",
     "text": [
      "Sun Jun 28 08:51:29 2020: Iteration: [27200/80000]\tRecon Loss: 556.9210\tPercept Loss: 45679.5108\tTV Loss: 11.0105\tAttn Loss: 13.1777\tTotal: 51437.8923\n"
     ]
    },
    {
     "name": "stderr",
     "output_type": "stream",
     "text": [
      " 34%|███▍      | 27299/80000 [2:43:05<5:13:39,  2.80it/s]"
     ]
    },
    {
     "name": "stdout",
     "output_type": "stream",
     "text": [
      "Sun Jun 28 08:52:05 2020: Iteration: [27300/80000]\tRecon Loss: 532.7912\tPercept Loss: 43722.2615\tTV Loss: 10.6410\tAttn Loss: 11.6991\tTotal: 49226.7782\n"
     ]
    },
    {
     "name": "stderr",
     "output_type": "stream",
     "text": [
      " 34%|███▍      | 27399/80000 [2:43:40<5:21:55,  2.72it/s]"
     ]
    },
    {
     "name": "stdout",
     "output_type": "stream",
     "text": [
      "Sun Jun 28 08:52:40 2020: Iteration: [27400/80000]\tRecon Loss: 560.9696\tPercept Loss: 45839.0619\tTV Loss: 11.0913\tAttn Loss: 11.7830\tTotal: 51630.3684\n"
     ]
    },
    {
     "name": "stderr",
     "output_type": "stream",
     "text": [
      " 34%|███▍      | 27499/80000 [2:44:16<5:08:57,  2.83it/s]"
     ]
    },
    {
     "name": "stdout",
     "output_type": "stream",
     "text": [
      "Sun Jun 28 08:53:16 2020: Iteration: [27500/80000]\tRecon Loss: 550.9044\tPercept Loss: 45644.8494\tTV Loss: 10.8551\tAttn Loss: 12.1477\tTotal: 51335.3308\n"
     ]
    },
    {
     "name": "stderr",
     "output_type": "stream",
     "text": [
      " 34%|███▍      | 27599/80000 [2:44:52<5:10:22,  2.81it/s]"
     ]
    },
    {
     "name": "stdout",
     "output_type": "stream",
     "text": [
      "Sun Jun 28 08:53:52 2020: Iteration: [27600/80000]\tRecon Loss: 544.2263\tPercept Loss: 45063.1673\tTV Loss: 10.9467\tAttn Loss: 12.5466\tTotal: 50690.1767\n"
     ]
    },
    {
     "name": "stderr",
     "output_type": "stream",
     "text": [
      " 35%|███▍      | 27699/80000 [2:45:27<5:10:17,  2.81it/s]"
     ]
    },
    {
     "name": "stdout",
     "output_type": "stream",
     "text": [
      "Sun Jun 28 08:54:27 2020: Iteration: [27700/80000]\tRecon Loss: 552.6878\tPercept Loss: 45741.8183\tTV Loss: 10.8875\tAttn Loss: 12.0310\tTotal: 51449.7582\n"
     ]
    },
    {
     "name": "stderr",
     "output_type": "stream",
     "text": [
      " 35%|███▍      | 27799/80000 [2:46:03<5:09:25,  2.81it/s]"
     ]
    },
    {
     "name": "stdout",
     "output_type": "stream",
     "text": [
      "Sun Jun 28 08:55:03 2020: Iteration: [27800/80000]\tRecon Loss: 560.8526\tPercept Loss: 46466.5788\tTV Loss: 11.0652\tAttn Loss: 10.4501\tTotal: 52248.4575\n"
     ]
    },
    {
     "name": "stderr",
     "output_type": "stream",
     "text": [
      " 35%|███▍      | 27899/80000 [2:46:39<5:16:36,  2.74it/s]"
     ]
    },
    {
     "name": "stdout",
     "output_type": "stream",
     "text": [
      "Sun Jun 28 08:55:39 2020: Iteration: [27900/80000]\tRecon Loss: 547.0638\tPercept Loss: 44664.3785\tTV Loss: 10.7874\tAttn Loss: 11.9538\tTotal: 50314.6127\n"
     ]
    },
    {
     "name": "stderr",
     "output_type": "stream",
     "text": [
      " 35%|███▍      | 27999/80000 [2:47:14<5:11:20,  2.78it/s]"
     ]
    },
    {
     "name": "stdout",
     "output_type": "stream",
     "text": [
      "Sun Jun 28 08:56:15 2020: Iteration: [28000/80000]\tRecon Loss: 550.8931\tPercept Loss: 45800.3405\tTV Loss: 10.9778\tAttn Loss: 13.0800\tTotal: 51497.5294\n"
     ]
    },
    {
     "name": "stderr",
     "output_type": "stream",
     "text": [
      " 35%|███▌      | 28099/80000 [2:47:50<5:09:03,  2.80it/s]"
     ]
    },
    {
     "name": "stdout",
     "output_type": "stream",
     "text": [
      "Sun Jun 28 08:56:50 2020: Iteration: [28100/80000]\tRecon Loss: 537.8101\tPercept Loss: 44205.3554\tTV Loss: 10.6749\tAttn Loss: 10.5696\tTotal: 49753.6226\n"
     ]
    },
    {
     "name": "stderr",
     "output_type": "stream",
     "text": [
      " 35%|███▌      | 28199/80000 [2:48:26<5:09:31,  2.79it/s]"
     ]
    },
    {
     "name": "stdout",
     "output_type": "stream",
     "text": [
      "Sun Jun 28 08:57:26 2020: Iteration: [28200/80000]\tRecon Loss: 552.9589\tPercept Loss: 44525.5947\tTV Loss: 10.8093\tAttn Loss: 11.8212\tTotal: 50234.2038\n"
     ]
    },
    {
     "name": "stderr",
     "output_type": "stream",
     "text": [
      " 35%|███▌      | 28299/80000 [2:49:02<5:04:42,  2.83it/s]"
     ]
    },
    {
     "name": "stdout",
     "output_type": "stream",
     "text": [
      "Sun Jun 28 08:58:02 2020: Iteration: [28300/80000]\tRecon Loss: 539.6345\tPercept Loss: 44002.6365\tTV Loss: 10.6916\tAttn Loss: 12.1493\tTotal: 49578.7926\n"
     ]
    },
    {
     "name": "stderr",
     "output_type": "stream",
     "text": [
      " 35%|███▌      | 28399/80000 [2:49:38<5:08:02,  2.79it/s]"
     ]
    },
    {
     "name": "stdout",
     "output_type": "stream",
     "text": [
      "Sun Jun 28 08:58:38 2020: Iteration: [28400/80000]\tRecon Loss: 552.3593\tPercept Loss: 45939.8495\tTV Loss: 11.0100\tAttn Loss: 10.7483\tTotal: 51638.0318\n"
     ]
    },
    {
     "name": "stderr",
     "output_type": "stream",
     "text": [
      " 36%|███▌      | 28499/80000 [2:50:14<5:12:22,  2.75it/s]"
     ]
    },
    {
     "name": "stdout",
     "output_type": "stream",
     "text": [
      "Sun Jun 28 08:59:14 2020: Iteration: [28500/80000]\tRecon Loss: 546.1955\tPercept Loss: 45118.3490\tTV Loss: 11.0086\tAttn Loss: 11.7920\tTotal: 50761.1423\n"
     ]
    },
    {
     "name": "stderr",
     "output_type": "stream",
     "text": [
      " 36%|███▌      | 28599/80000 [2:50:50<5:06:08,  2.80it/s]"
     ]
    },
    {
     "name": "stdout",
     "output_type": "stream",
     "text": [
      "Sun Jun 28 08:59:50 2020: Iteration: [28600/80000]\tRecon Loss: 549.5859\tPercept Loss: 45408.2901\tTV Loss: 10.9746\tAttn Loss: 10.4339\tTotal: 51076.4979\n"
     ]
    },
    {
     "name": "stderr",
     "output_type": "stream",
     "text": [
      " 36%|███▌      | 28699/80000 [2:51:26<5:04:54,  2.80it/s]"
     ]
    },
    {
     "name": "stdout",
     "output_type": "stream",
     "text": [
      "Sun Jun 28 09:00:26 2020: Iteration: [28700/80000]\tRecon Loss: 564.1274\tPercept Loss: 45757.7036\tTV Loss: 11.1623\tAttn Loss: 12.2152\tTotal: 51583.8909\n"
     ]
    },
    {
     "name": "stderr",
     "output_type": "stream",
     "text": [
      " 36%|███▌      | 28799/80000 [2:52:02<5:03:24,  2.81it/s]"
     ]
    },
    {
     "name": "stdout",
     "output_type": "stream",
     "text": [
      "Sun Jun 28 09:01:02 2020: Iteration: [28800/80000]\tRecon Loss: 561.4537\tPercept Loss: 45255.4448\tTV Loss: 10.9323\tAttn Loss: 11.9184\tTotal: 51050.8153\n"
     ]
    },
    {
     "name": "stderr",
     "output_type": "stream",
     "text": [
      " 36%|███▌      | 28899/80000 [2:52:37<5:02:44,  2.81it/s]"
     ]
    },
    {
     "name": "stdout",
     "output_type": "stream",
     "text": [
      "Sun Jun 28 09:01:37 2020: Iteration: [28900/80000]\tRecon Loss: 553.0126\tPercept Loss: 45754.7575\tTV Loss: 11.1185\tAttn Loss: 11.6688\tTotal: 51466.0813\n"
     ]
    },
    {
     "name": "stderr",
     "output_type": "stream",
     "text": [
      " 36%|███▌      | 28999/80000 [2:53:13<5:03:27,  2.80it/s]"
     ]
    },
    {
     "name": "stdout",
     "output_type": "stream",
     "text": [
      "Sun Jun 28 09:02:13 2020: Iteration: [29000/80000]\tRecon Loss: 537.0384\tPercept Loss: 44680.0781\tTV Loss: 10.7527\tAttn Loss: 11.2521\tTotal: 50225.5012\n"
     ]
    },
    {
     "name": "stderr",
     "output_type": "stream",
     "text": [
      " 36%|███▋      | 29099/80000 [2:53:49<5:03:22,  2.80it/s]"
     ]
    },
    {
     "name": "stdout",
     "output_type": "stream",
     "text": [
      "Sun Jun 28 09:02:49 2020: Iteration: [29100/80000]\tRecon Loss: 524.3921\tPercept Loss: 43571.4289\tTV Loss: 10.6309\tAttn Loss: 10.5406\tTotal: 48984.9021\n"
     ]
    },
    {
     "name": "stderr",
     "output_type": "stream",
     "text": [
      " 36%|███▋      | 29143/80000 [2:54:05<5:03:34,  2.79it/s]"
     ]
    }
   ],
   "source": [
    "reload_period = len(train_loader.dataset) / args.batch_size\n",
    "for i in tqdm(range(args.start_iter, args.max_iter)):\n",
    "    adjust_learning_rate(optimizer, iteration_count=i)\n",
    "    \n",
    "    if (i - args.start_iter)%reload_period == 0:\n",
    "        train_loader = torch.utils.data.DataLoader(\n",
    "            train_set, batch_size=args.batch_size,\n",
    "            shuffle=True, num_workers=args.n_threads)\n",
    "        train_iter = iter(train_loader)\n",
    "        \n",
    "    if args.seperate == False:\n",
    "        content_images = next(train_iter).to(device)\n",
    "        losses, _, _ = model(content_images)\n",
    "        \n",
    "    total_loss = losses['total']\n",
    "    \n",
    "    for name, vals in loss_seq.items():\n",
    "        loss_seq[name].append(losses[name].item())\n",
    "        \n",
    "    optimizer.zero_grad()\n",
    "    total_loss.backward()\n",
    "    optimizer.step()\n",
    "    \n",
    "    if (i + 1) % args.save_model_interval == 0 or (i + 1) == args.max_iter:\n",
    "        print(\"%s: Iteration: [%d/%d]\\tRecon Loss: %2.4f\\tPercept Loss: %2.4f\\tTV Loss: %2.4f\\tAttn Loss: %2.4f\\tTotal: %2.4f\"%(time.ctime(),i+1, \n",
    "                args.max_iter, lastest_arverage_value(loss_seq['construct']), lastest_arverage_value(loss_seq['percept']), \n",
    "                lastest_arverage_value(loss_seq['tv']), lastest_arverage_value(loss_seq['attn']), lastest_arverage_value(loss_seq['total'])))\n",
    "        if args.seperate == False:\n",
    "            state_dict = model.decode.state_dict()\n",
    "            for key in state_dict.keys():\n",
    "                state_dict[key] = state_dict[key].to(torch.device('cpu'))\n",
    "            torch.save(state_dict,\n",
    "                       '{:s}/decoder_iter_{:d}.pth'.format(args.save_dir,\n",
    "                                                               i + 1))\n",
    "            state_dict = model.self_attn.state_dict()\n",
    "            for key in state_dict.keys():\n",
    "                state_dict[key] = state_dict[key].to(torch.device('cpu'))\n",
    "            torch.save(state_dict,\n",
    "                       '{:s}/attention_kernel_iter_{:d}.pth'.format(args.save_dir,\n",
    "                                                               i + 1))\n",
    "            state_dict = optimizer.state_dict()\n",
    "            torch.save(state_dict,\n",
    "                       '{:s}/optimizer_iter_{:d}.pth'.format(args.save_dir,\n",
    "                                                               i + 1))\n",
    "        else:\n",
    "            pass\n",
    "    \n",
    "    "
   ]
  },
  {
   "cell_type": "code",
   "execution_count": null,
   "metadata": {},
   "outputs": [],
   "source": [
    "train_iter = iter(train_loader)\n",
    "content_images = next(train_iter).to(device)\n",
    "losses, recon_images, attn_map = model(content_images)\n",
    "print(recon_images.size())\n",
    "print(attn_map.size())"
   ]
  },
  {
   "cell_type": "code",
   "execution_count": null,
   "metadata": {},
   "outputs": [],
   "source": [
    "imshow(torchvision.utils.make_grid(content_images.cpu()[2]))"
   ]
  },
  {
   "cell_type": "code",
   "execution_count": null,
   "metadata": {},
   "outputs": [],
   "source": [
    "def imshow_recon(img):\n",
    "    npimg = img.detach().numpy()\n",
    "    plt.imshow(np.transpose(npimg, (1, 2, 0)))\n",
    "imshow_recon(torchvision.utils.make_grid(recon_images.cpu()[2]))"
   ]
  },
  {
   "cell_type": "code",
   "execution_count": null,
   "metadata": {},
   "outputs": [],
   "source": [
    "channel_num = attn_map.size()[1]\n",
    "mean_sal = torch.mean(attn_map, 1, False)\n",
    "mean_sal_np = mean_sal.cpu().detach().numpy()\n",
    "mean_sal_np = mean_sal_np - np.min(mean_sal_np)\n",
    "mean_sal_np = mean_sal_np * 1.0 / np.max(mean_sal_np)\n",
    "print(mean_sal.size())\n",
    "plt.imshow(mean_sal_np[2], cmap=cm.get_cmap('rainbow', 1000))\n",
    "plt.colorbar()\n",
    "plt.axis('off')"
   ]
  }
 ],
 "metadata": {
  "kernelspec": {
   "display_name": "Python 3",
   "language": "python",
   "name": "python3"
  },
  "language_info": {
   "codemirror_mode": {
    "name": "ipython",
    "version": 3
   },
   "file_extension": ".py",
   "mimetype": "text/x-python",
   "name": "python",
   "nbconvert_exporter": "python",
   "pygments_lexer": "ipython3",
   "version": "3.7.6"
  }
 },
 "nbformat": 4,
 "nbformat_minor": 4
}
