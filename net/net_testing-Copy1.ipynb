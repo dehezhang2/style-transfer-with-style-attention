{
 "cells": [
  {
   "cell_type": "code",
   "execution_count": 12,
   "metadata": {},
   "outputs": [
    {
     "name": "stdout",
     "output_type": "stream",
     "text": [
      "The autoreload extension is already loaded. To reload it, use:\n",
      "  %reload_ext autoreload\n"
     ]
    },
    {
     "name": "stderr",
     "output_type": "stream",
     "text": [
      "[autoreload of aams failed: Traceback (most recent call last):\n",
      "  File \"/home/dehezhang2/anaconda3/lib/python3.7/site-packages/IPython/extensions/autoreload.py\", line 245, in check\n",
      "    superreload(m, reload, self.old_objects)\n",
      "  File \"/home/dehezhang2/anaconda3/lib/python3.7/site-packages/IPython/extensions/autoreload.py\", line 394, in superreload\n",
      "    module = reload(module)\n",
      "  File \"/home/dehezhang2/anaconda3/lib/python3.7/imp.py\", line 314, in reload\n",
      "    return importlib.reload(module)\n",
      "  File \"/home/dehezhang2/anaconda3/lib/python3.7/importlib/__init__.py\", line 169, in reload\n",
      "    _bootstrap._exec(spec, module)\n",
      "  File \"<frozen importlib._bootstrap>\", line 630, in _exec\n",
      "  File \"<frozen importlib._bootstrap_external>\", line 728, in exec_module\n",
      "  File \"<frozen importlib._bootstrap>\", line 219, in _call_with_frames_removed\n",
      "  File \"/home/dehezhang2/Desktop/github/style-transfer-with-style-attention/net/aams.py\", line 4, in <module>\n",
      "    import net.utils as utils\n",
      "ModuleNotFoundError: No module named 'net'\n",
      "]\n"
     ]
    }
   ],
   "source": [
    "from __future__ import print_function\n",
    "\n",
    "import torch\n",
    "import torch.nn as nn\n",
    "import torch.nn.functional as F\n",
    "import torch.optim as optim\n",
    "\n",
    "from PIL import Image\n",
    "import matplotlib.pyplot as plt\n",
    "\n",
    "import torchvision\n",
    "import torchvision.transforms as transforms\n",
    "import torchvision.datasets as datasets\n",
    "import torchvision.models as models\n",
    "\n",
    "import copy\n",
    "import os\n",
    "\n",
    "import net.utils as utils\n",
    "from net.aams import SelfAttention\n",
    "from net.aams import Encoder, Decoder\n",
    "\n",
    "%load_ext autoreload\n",
    "%autoreload 2"
   ]
  },
  {
   "cell_type": "code",
   "execution_count": 5,
   "metadata": {},
   "outputs": [
    {
     "data": {
      "text/plain": [
       "device(type='cuda')"
      ]
     },
     "execution_count": 5,
     "metadata": {},
     "output_type": "execute_result"
    }
   ],
   "source": [
    "device = torch.device(\"cuda\" if torch.cuda.is_available() else \"cpu\")\n",
    "device"
   ]
  },
  {
   "cell_type": "code",
   "execution_count": 26,
   "metadata": {},
   "outputs": [
    {
     "data": {
      "text/plain": [
       "tensor([[[[ -0.4850,   0.5150,   1.5150,   2.5150,   3.5150],\n",
       "          [  4.5150,   5.5150,   6.5150,   7.5150,   8.5150],\n",
       "          [  9.5150,  10.5150,  11.5150,  12.5150,  13.5150],\n",
       "          [ 14.5150,  15.5150,  16.5150,  17.5150,  18.5150]],\n",
       "\n",
       "         [[ 19.5420,  20.5420,  21.5420,  22.5420,  23.5420],\n",
       "          [ 24.5420,  25.5420,  26.5420,  27.5420,  28.5420],\n",
       "          [ 29.5420,  30.5420,  31.5420,  32.5420,  33.5420],\n",
       "          [ 34.5420,  35.5420,  36.5420,  37.5420,  38.5420]],\n",
       "\n",
       "         [[ 39.5924,  40.5924,  41.5924,  42.5924,  43.5924],\n",
       "          [ 44.5924,  45.5924,  46.5924,  47.5924,  48.5924],\n",
       "          [ 49.5924,  50.5924,  51.5924,  52.5924,  53.5924],\n",
       "          [ 54.5924,  55.5924,  56.5924,  57.5924,  58.5924]]],\n",
       "\n",
       "\n",
       "        [[[ 59.5150,  60.5150,  61.5150,  62.5150,  63.5150],\n",
       "          [ 64.5150,  65.5150,  66.5150,  67.5150,  68.5150],\n",
       "          [ 69.5150,  70.5150,  71.5150,  72.5150,  73.5150],\n",
       "          [ 74.5150,  75.5150,  76.5150,  77.5150,  78.5150]],\n",
       "\n",
       "         [[ 79.5420,  80.5420,  81.5420,  82.5420,  83.5420],\n",
       "          [ 84.5420,  85.5420,  86.5420,  87.5420,  88.5420],\n",
       "          [ 89.5420,  90.5420,  91.5420,  92.5420,  93.5420],\n",
       "          [ 94.5420,  95.5420,  96.5420,  97.5420,  98.5420]],\n",
       "\n",
       "         [[ 99.5924, 100.5924, 101.5924, 102.5924, 103.5924],\n",
       "          [104.5924, 105.5924, 106.5924, 107.5924, 108.5924],\n",
       "          [109.5924, 110.5924, 111.5924, 112.5924, 113.5924],\n",
       "          [114.5924, 115.5924, 116.5924, 117.5924, 118.5924]]]])"
      ]
     },
     "execution_count": 26,
     "metadata": {},
     "output_type": "execute_result"
    }
   ],
   "source": [
    "a = torch.arange(120).view(2, 3, 4, 5)\n",
    "utils.batch_mean_image_subtraction(a)"
   ]
  },
  {
   "cell_type": "code",
   "execution_count": 7,
   "metadata": {},
   "outputs": [],
   "source": [
    "data_transforms = {\n",
    "    'train': transforms.Compose([\n",
    "        transforms.Resize(size=(512, 512)),\n",
    "        transforms.RandomCrop(256),\n",
    "        transforms.ToTensor(),\n",
    "    ])\n",
    "}\n",
    "\n",
    "class FlatFolderDataset(torch.utils.data.Dataset):\n",
    "    def __init__(self, root, transform):\n",
    "        super(FlatFolderDataset, self).__init__()\n",
    "        self.root = root\n",
    "        self.paths = os.listdir(self.root)\n",
    "        self.transform = transform\n",
    "\n",
    "    def __getitem__(self, index):\n",
    "        path = self.paths[index]\n",
    "        img = Image.open(os.path.join(self.root, path)).convert('RGB')\n",
    "        img = self.transform(img)\n",
    "        return img\n",
    "\n",
    "    def __len__(self):\n",
    "        return len(self.paths)\n",
    "\n",
    "    def name(self):\n",
    "        return 'FlatFolderDataset'\n",
    "\n",
    "train_set = FlatFolderDataset('../datasets/content_set/val2014', data_transforms['train'])\n",
    "train_loader = torch.utils.data.DataLoader(\n",
    "    train_set, batch_size=8,\n",
    "    num_workers=2)\n",
    "train_iter = iter(train_loader)"
   ]
  },
  {
   "cell_type": "code",
   "execution_count": 8,
   "metadata": {},
   "outputs": [
    {
     "name": "stdout",
     "output_type": "stream",
     "text": [
      "torch.Size([3, 256, 256])\n"
     ]
    },
    {
     "data": {
      "image/png": "[encoded data removed]",
      "text/plain": [
       "<Figure size 432x288 with 1 Axes>"
      ]
     },
     "metadata": {
      "needs_background": "light"
     },
     "output_type": "display_data"
    }
   ],
   "source": [
    "\n",
    "import matplotlib.pyplot as plt\n",
    "import numpy as np\n",
    "\n",
    "# functions to show an image\n",
    "\n",
    "\n",
    "def imshow(img):\n",
    "    npimg = img.numpy()\n",
    "    plt.imshow(np.transpose(npimg, (1, 2, 0)))\n",
    "\n",
    "\n",
    "# get some random training images\n",
    "dataiter = iter(train_loader)\n",
    "images = dataiter.next()\n",
    "print(images[0].size())\n",
    "# show images\n",
    "imshow(torchvision.utils.make_grid(images))\n"
   ]
  },
  {
   "cell_type": "code",
   "execution_count": 5,
   "metadata": {},
   "outputs": [
    {
     "name": "stdout",
     "output_type": "stream",
     "text": [
      "Sequential(\n",
      "  (0): Conv2d(3, 64, kernel_size=(3, 3), stride=(1, 1), padding=(1, 1))\n",
      "  (1): ReLU(inplace=True)\n",
      ")\n",
      "Sequential(\n",
      "  (0): Conv2d(64, 64, kernel_size=(3, 3), stride=(1, 1), padding=(1, 1))\n",
      "  (1): ReLU(inplace=True)\n",
      "  (2): MaxPool2d(kernel_size=2, stride=2, padding=0, dilation=1, ceil_mode=False)\n",
      "  (3): Conv2d(64, 128, kernel_size=(3, 3), stride=(1, 1), padding=(1, 1))\n",
      "  (4): ReLU(inplace=True)\n",
      ")\n",
      "Sequential(\n",
      "  (0): Conv2d(128, 128, kernel_size=(3, 3), stride=(1, 1), padding=(1, 1))\n",
      "  (1): ReLU(inplace=True)\n",
      "  (2): MaxPool2d(kernel_size=2, stride=2, padding=0, dilation=1, ceil_mode=False)\n",
      "  (3): Conv2d(128, 256, kernel_size=(3, 3), stride=(1, 1), padding=(1, 1))\n",
      "  (4): ReLU(inplace=True)\n",
      ")\n",
      "Sequential(\n",
      "  (0): Conv2d(256, 256, kernel_size=(3, 3), stride=(1, 1), padding=(1, 1))\n",
      "  (1): ReLU(inplace=True)\n",
      "  (2): Conv2d(256, 256, kernel_size=(3, 3), stride=(1, 1), padding=(1, 1))\n",
      "  (3): ReLU(inplace=True)\n",
      "  (4): Conv2d(256, 256, kernel_size=(3, 3), stride=(1, 1), padding=(1, 1))\n",
      "  (5): ReLU(inplace=True)\n",
      "  (6): MaxPool2d(kernel_size=2, stride=2, padding=0, dilation=1, ceil_mode=False)\n",
      "  (7): Conv2d(256, 512, kernel_size=(3, 3), stride=(1, 1), padding=(1, 1))\n",
      "  (8): ReLU(inplace=True)\n",
      ")\n",
      "\n"
     ]
    }
   ],
   "source": [
    "vgg19 = models.vgg19(pretrained=True).features.to(device).eval()\n",
    "encoder= Encoder(vgg19)\n",
    "print(encoder)\n",
    "decoder= Decoder().cuda()"
   ]
  },
  {
   "cell_type": "code",
   "execution_count": 6,
   "metadata": {},
   "outputs": [
    {
     "name": "stdout",
     "output_type": "stream",
     "text": [
      "torch.Size([8, 3, 256, 256])\n",
      "torch.Size([8, 512, 32, 32])\n",
      "torch.Size([8, 3, 256, 256])\n"
     ]
    }
   ],
   "source": [
    "for input_batch in train_loader:\n",
    "    input_batch = input_batch.to(device)\n",
    "    print(input_batch.size())\n",
    "    out = encoder(input_batch)\n",
    "    print(out['conv4'].size())\n",
    "    recon = decoder(out['conv4'], out)\n",
    "    print(recon.size())\n",
    "    break"
   ]
  },
  {
   "cell_type": "code",
   "execution_count": 8,
   "metadata": {},
   "outputs": [
    {
     "name": "stdout",
     "output_type": "stream",
     "text": [
      "[0, 1, 2, 3, 4, 5]\n"
     ]
    }
   ],
   "source": [
    "arr = [0,1,2,3,4,5]\n",
    "print(arr)"
   ]
  }
 ],
 "metadata": {
  "kernelspec": {
   "display_name": "Python 3",
   "language": "python",
   "name": "python3"
  },
  "language_info": {
   "codemirror_mode": {
    "name": "ipython",
    "version": 3
   },
   "file_extension": ".py",
   "mimetype": "text/x-python",
   "name": "python",
   "nbconvert_exporter": "python",
   "pygments_lexer": "ipython3",
   "version": "3.7.6"
  }
 },
 "nbformat": 4,
 "nbformat_minor": 4
}
